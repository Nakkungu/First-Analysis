import pandas as pd
import matplotlib.pyplot as plt
import seaborn as sns
pip install plotly
import plotly.graph_objects as go
df = pd.read_excel('Assessedsites_Fully_Assessed_Woredas_Trail_Bridges_Only_TableToExcel.xlsx')
df.head()
df.describe()
# Describe statistics for the three variables
statistics = df[['NEAR_DIST', 'metric', 'POPULATION']].describe()

print("Statistics for NEAR_DIST, metric, and POPULATION:")
print(statistics)

import plotly.graph_objects as go

# Histogram for NEAR_DIST
fig1 = go.Figure(go.Histogram(
    x=df['NEAR_DIST'],
    nbinsx=100,  # Adjust the number of bins as needed
    marker_color='blue',  # Use marker_color for bar area color
    opacity=0.7,
    name='NEAR_DIST'
))
fig1.update_layout(
    title='Distribution of NEAR_DIST',
    xaxis_title='NEAR_DIST',
    yaxis_title='Frequency'
)

# Histogram for metric
fig2 = go.Figure(go.Histogram(
    x=df['metric'],
    nbinsx=100,  # Adjust the number of bins as needed
    marker_color='green',
    opacity=0.7,
    name='metric'
))
fig2.update_layout(
    title='Distribution of metric',
    xaxis_title='metric',
    yaxis_title='Frequency'
)

# Histogram for POPULATION
fig3 = go.Figure(go.Histogram(
    x=df['POPULATION'],
    nbinsx=100,  # Adjust the number of bins as needed
    marker_color='orange',
    opacity=0.7,
    name='POPULATION'
))
fig3.update_layout(
    title='Distribution of POPULATION',
    xaxis_title='POPULATION',
    yaxis_title='Frequency'
)

# Show plots
fig1.show()
fig2.show()
fig3.show()

import plotly.express as px

# Assuming you already have the 'df' DataFrame loaded with data

# Plot histogram for 'Woreda' column
fig = px.histogram(df, x='Woreda', title='Histogram of Woreda')
fig.show()

from plotly.subplots import make_subplots
import plotly.graph_objects as go

# Create subplots
fig = make_subplots(rows=1, cols=3)

# Add box plots for NEAR_DIST
fig.add_trace(go.Box(y=df['NEAR_DIST'], name='NEAR_DIST', marker_color='blue'), row=1, col=1)

# Add box plots for metric
fig.add_trace(go.Box(y=df['metric'], name='metric', marker_color='green'), row=1, col=2)

# Add box plots for POPULATION
fig.add_trace(go.Box(y=df['POPULATION'], name='POPULATION', marker_color='orange'), row=1, col=3)

# Update layout
fig.update_layout(
    title='Box Plot of Numeric Variables',
    yaxis_title='Value',
)

# Show plot
fig.show()

# Calculate correlation matrix
correlation_matrix = df[['NEAR_DIST', 'metric', 'POPULATION']].corr()

# Create heatmap
plt.figure(figsize=(8, 6))
sns.heatmap(correlation_matrix, annot=True, cmap='coolwarm', fmt=".2f", annot_kws={"size": 10})
plt.title('Correlation Matrix of NEAR_DIST, metric, and POPULATION')
plt.show()

import plotly.graph_objects as go
import pandas as pd
import seaborn as sns
import matplotlib.pyplot as plt

Q1 = df[['NEAR_DIST', 'metric', 'POPULATION']].quantile(0.25)
Q3 = df[['NEAR_DIST', 'metric', 'POPULATION']].quantile(0.75)
IQR = Q3 - Q1

# Define upper and lower bounds for outliers
lower_bound = Q1 - 1.5 * IQR
upper_bound = Q3 + 1.5 * IQR

# Identify outliers for each variable
outliers_near_dist = df[(df['NEAR_DIST'] < lower_bound['NEAR_DIST']) | (df['NEAR_DIST'] > upper_bound['NEAR_DIST'])]
outliers_metric = df[(df['metric'] < lower_bound['metric']) | (df['metric'] > upper_bound['metric'])]
outliers_population = df[(df['POPULATION'] < lower_bound['POPULATION']) | (df['POPULATION'] > upper_bound['POPULATION'])]

# Create the scatter plot with outliers
fig_map_outliers_names = go.Figure()

# Add scatter plot traces for data points and outliers
fig_map_outliers_names.add_trace(go.Scatter(
    x=df['GPS__Longi'],
    y=df['GPS__Latit'],
    mode='markers',
    marker=dict(color='blue'),
    name='Data Points',
    text=df['Opportunit'],  # Use the 'Name' column for text annotations
    hoverinfo='text'  # Show text on hover
))

fig_map_outliers_names.add_trace(go.Scatter(
    x=outliers_near_dist['GPS__Longi'],
    y=outliers_near_dist['GPS__Latit'],
    mode='markers',
    marker=dict(color='red'),
    name='Outliers (NEAR_DIST)',
    text=outliers_near_dist['Opportunit'],  # Use the 'Name' column for text annotations
    hoverinfo='text'  # Show text on hover
))

fig_map_outliers_names.add_trace(go.Scatter(
    x=outliers_metric['GPS__Longi'],
    y=outliers_metric['GPS__Latit'],
    mode='markers',
    marker=dict(color='green'),
    name='Outliers (metric)',
    text=outliers_metric['Opportunit'],  # Use the 'Name' column for text annotations
    hoverinfo='text'  # Show text on hover
))

fig_map_outliers_names.add_trace(go.Scatter(
    x=outliers_population['GPS__Longi'],
    y=outliers_population['GPS__Latit'],
    mode='markers',
    marker=dict(color='orange'),
    name='Outliers (POPULATION)',
    text=outliers_population['Opportunit'],  # Use the 'Name' column for text annotations
    hoverinfo='text'  # Show text on hover
))

# Layout for scatter plot
fig_map_outliers_names.update_layout(
    title='Locations of Outliers with Names',
    xaxis_title='Longitude',
    yaxis_title='Latitude'
)

# Define the outlier data as a table
outlier_table = pd.concat([outliers_near_dist, outliers_metric, outliers_population])

# Create a table trace
table_trace = go.Table(
    header=dict(values=['Opportunit', 'NEAR_DIST', 'metric', 'POPULATION'],
                fill_color='paleturquoise',
                align='left'),
    cells=dict(values=[outlier_table['Opportunit'], outlier_table['NEAR_DIST'], outlier_table['metric'], outlier_table['POPULATION']],
               fill=dict(color=[outlier_table['metric'].apply(lambda x: 'green' if x in outliers_metric['metric'].values else 'orange' if x in outliers_population['metric'].values else 'red')]),
               align='left')
)

# Layout for the table
table_layout = go.Layout(
    title='Outlier Data Table'
)

# Add the table trace to the figure
fig_with_table = go.Figure(data=[table_trace], layout=table_layout)

# Display the scatter plot and table together
fig_map_outliers_names.show()


import plotly.graph_objects as go
import pandas as pd

# Assuming you already defined the DataFrame 'df' and calculated outliers

# Concatenate outliers from different variables into one DataFrame
outlier_table = pd.concat([outliers_near_dist, outliers_metric, outliers_population])

# Add the 'Woreda' column from the original DataFrame 'df' to the outlier table
outlier_table['Woreda'] = df.loc[outlier_table.index, 'Woreda']

# Create a table trace
table_trace = go.Table(
    header=dict(values=['Woreda', 'Opportunit', 'NEAR_DIST', 'metric', 'POPULATION'],
                fill_color='paleturquoise',
                align='left'),
    cells=dict(values=[outlier_table['Woreda'], outlier_table['Opportunit'], outlier_table['NEAR_DIST'], outlier_table['metric'], outlier_table['POPULATION']],
               fill=dict(color=[outlier_table['metric'].apply(lambda x: 'green' if x in outliers_metric['metric'].values else 'orange' if x in outliers_population['metric'].values else 'red')]),
               align='left')
)

# Layout for the table
table_layout = go.Layout(
    title='Outlier Data Table'
)

# Add the table trace to the figure
fig_with_table = go.Figure(data=[table_trace], layout=table_layout)

# Display the table
fig_with_table.show()

pip install geopandas --user
import plotly.graph_objects as go
import pandas as pd
import geopandas as gpd

# Load shapefile
woredas_shapefile = gpd.read_file('Woredas_Fully_Assessed.shp')

# Load data
df = pd.read_excel('Assessedsites_Fully_Assessed_Woredas_Trail_Bridges_Only_TableToExcel.xlsx')

# Identify outliers
# (Assuming you've already identified outliers as you did in your previous code)

# Create the scatter plot for outliers
fig = go.Figure()

# Add shapefile polygons
for idx, polygon in woredas_shapefile.iterrows():
    fig.add_trace(
        go.Scattergeo(
            lon=list(polygon['geometry'].exterior.xy[0]),
            lat=list(polygon['geometry'].exterior.xy[1]),
            mode='lines',
            line=dict(color='black', width=2),
            name=polygon['ADM3_EN']
        )
    )

# Add outliers as markers
fig.add_trace(go.Scattergeo(
    lon=outliers['GPS__Longi'],
    lat=outliers['GPS__Latit'],
    mode='markers',
    marker=dict(color='red', size=8),
    name='Outliers'
))

# Define layout for the scatter plot
fig.update_layout(
    title='Outliers within Woreda Shapes',
    geo=dict(
        showland=True,
        landcolor='rgb(229, 229, 229)',
        countrycolor='rgb(255, 255, 255)',
        coastlinecolor='rgb(255, 255, 255)',
        showcountries=True,
        projection_type='equirectangular'
    )
)

# Adjust the bounding box to focus on the extent of the shapefile
# You can get the bounding box from the shapefile's geometry
minx, miny, maxx, maxy = woredas_shapefile.total_bounds
fig.update_geos(fitbounds="locations", visible=False, lonaxis_range=[minx, maxx], lataxis_range=[miny, maxy])

# Display the scatter plot
fig.show()

import pandas as pd
import plotly.graph_objects as go
import scipy.stats as stats
import numpy as np

# Assuming you have already read the DataFrame 'df'

# Function to plot histogram with PDF curve
def plot_histogram_with_pdf(data, title, x_label):
    fig = go.Figure()

    # Create histogram
    fig.add_trace(go.Histogram(
        x=data,
        nbinsx=100,  # Adjust the number of bins as needed
        marker_color='blue',  # Use marker_color for bar area color
        opacity=0.7,
        name='Histogram'
    ))

    # Fit a distribution to the data
    dist = getattr(stats, 'norm')  # You can change 'norm' to other distributions like 'gamma', 'beta', etc.
    params = dist.fit(data)
    arg = params[:-2]
    loc = params[-2]
    scale = params[-1]

    # Create the PDF curve
    x_values = np.linspace(data.min(), data.max(), 1000)
    y_values = dist.pdf(x_values, loc=loc, scale=scale, *arg)
    fig.add_trace(go.Scatter(
        x=x_values,
        y=y_values * len(data) * np.diff(data.value_counts().index)[0],  # Scaling the PDF to match the histogram
        mode='lines',
        name='PDF',
        line=dict(color='red', width=2)
    ))

    # Update layout
    fig.update_layout(
        title=title,
        xaxis_title=x_label,
        yaxis_title='Frequency / Probability Density',
    )

    return fig

# Plot histogram with PDF for NEAR_DIST
fig1 = plot_histogram_with_pdf(df['NEAR_DIST'], 'Distribution of NEAR_DIST', 'NEAR_DIST')

# Plot histogram with PDF for metric
fig2 = plot_histogram_with_pdf(df['metric'], 'Distribution of metric', 'metric')

# Display the plots
fig1.show()
fig2.show()

