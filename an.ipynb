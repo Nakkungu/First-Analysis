{
 "cells": [
  {
   "cell_type": "code",
   "execution_count": 1,
   "metadata": {},
   "outputs": [],
   "source": [
    "import pandas as pd\n",
    "import matplotlib.pyplot as plt\n",
    "import seaborn as sns"
   ]
  },
  {
   "cell_type": "code",
   "execution_count": 2,
   "metadata": {},
   "outputs": [
    {
     "name": "stdout",
     "output_type": "stream",
     "text": [
<<<<<<< HEAD
      "Requirement already satisfied: plotly in c:\\program files\\arcgis\\pro\\bin\\python\\envs\\arcgispro-py3\\lib\\site-packages (5.20.0)\n",
      "Requirement already satisfied: tenacity>=6.2.0 in c:\\program files\\arcgis\\pro\\bin\\python\\envs\\arcgispro-py3\\lib\\site-packages (from plotly) (8.2.3)\n",
      "Requirement already satisfied: packaging in c:\\program files\\arcgis\\pro\\bin\\python\\envs\\arcgispro-py3\\lib\\site-packages (from plotly) (21.3)\n",
      "Requirement already satisfied: pyparsing!=3.0.5,>=2.0.2 in c:\\program files\\arcgis\\pro\\bin\\python\\envs\\arcgispro-py3\\lib\\site-packages (from packaging->plotly) (3.0.9)\n",
      "Note: you may need to restart the kernel to use updated packages.\n"
=======
      "Requirement already satisfied: plotly in c:\\program files\\arcgis\\pro\\bin\\python\\envs\\arcgispro-py3\\lib\\site-packages (5.20.0)Note: you may need to restart the kernel to use updated packages.\n",
      "\n",
      "Requirement already satisfied: tenacity>=6.2.0 in c:\\program files\\arcgis\\pro\\bin\\python\\envs\\arcgispro-py3\\lib\\site-packages (from plotly) (8.2.3)\n",
      "Requirement already satisfied: packaging in c:\\program files\\arcgis\\pro\\bin\\python\\envs\\arcgispro-py3\\lib\\site-packages (from plotly) (21.3)\n",
      "Requirement already satisfied: pyparsing!=3.0.5,>=2.0.2 in c:\\program files\\arcgis\\pro\\bin\\python\\envs\\arcgispro-py3\\lib\\site-packages (from packaging->plotly) (3.0.9)\n"
>>>>>>> a16ff69eb4bf00c4cec6e82e5833cb2de4639149
     ]
    }
   ],
   "source": [
    "pip install plotly"
   ]
  },
  {
   "cell_type": "code",
   "execution_count": 3,
   "metadata": {},
   "outputs": [],
   "source": [
    "import plotly.graph_objects as go"
   ]
  },
  {
   "cell_type": "code",
   "execution_count": 4,
   "metadata": {},
   "outputs": [],
   "source": [
    "df = pd.read_excel('Assessedsites_Fully_Assessed_Woredas_Trail_Bridges_Only_TableToExcel.xlsx')"
   ]
  },
  {
   "cell_type": "code",
   "execution_count": 5,
   "metadata": {},
   "outputs": [
    {
     "data": {
      "text/html": [
       "<div>\n",
       "<style scoped>\n",
       "    .dataframe tbody tr th:only-of-type {\n",
       "        vertical-align: middle;\n",
       "    }\n",
       "\n",
       "    .dataframe tbody tr th {\n",
       "        vertical-align: top;\n",
       "    }\n",
       "\n",
       "    .dataframe thead th {\n",
       "        text-align: right;\n",
       "    }\n",
       "</style>\n",
       "<table border=\"1\" class=\"dataframe\">\n",
       "  <thead>\n",
       "    <tr style=\"text-align: right;\">\n",
       "      <th></th>\n",
       "      <th>OBJECTID_1</th>\n",
       "      <th>GPS__Latit</th>\n",
       "      <th>GPS__Longi</th>\n",
       "      <th>Opportunit</th>\n",
       "      <th>Level_1_Go</th>\n",
       "      <th>Level_2_Go</th>\n",
       "      <th>Health_acc</th>\n",
       "      <th>Education_</th>\n",
       "      <th>Market_acc</th>\n",
       "      <th>Width_of_R</th>\n",
       "      <th>...</th>\n",
       "      <th>ADM2_EN</th>\n",
       "      <th>ADM1_EN</th>\n",
       "      <th>ADM0_EN</th>\n",
       "      <th>NEAR_DIST</th>\n",
       "      <th>time_delta</th>\n",
       "      <th>RemoteSite_ID</th>\n",
       "      <th>metric</th>\n",
       "      <th>type</th>\n",
       "      <th>COUNT</th>\n",
       "      <th>POPULATION</th>\n",
       "    </tr>\n",
       "  </thead>\n",
       "  <tbody>\n",
       "    <tr>\n",
       "      <th>0</th>\n",
       "      <td>1</td>\n",
       "      <td>8.370314</td>\n",
       "      <td>36.389334</td>\n",
       "      <td>- Dangawaj - 1049769</td>\n",
       "      <td>Oromia Region</td>\n",
       "      <td>Bunno Beddele Zone</td>\n",
       "      <td>Clinic or Health Center;Hospital;Pharmacy</td>\n",
       "      <td>Secondary school;Primary school;University;TVE...</td>\n",
       "      <td>Market (daily);Market (weekly);Farms</td>\n",
       "      <td>33</td>\n",
       "      <td>...</td>\n",
       "      <td>Buno Bedele</td>\n",
       "      <td>Oromia</td>\n",
       "      <td>Ethiopia</td>\n",
       "      <td>96.636471</td>\n",
       "      <td>42788</td>\n",
       "      <td>13239</td>\n",
       "      <td>253459.236719</td>\n",
       "      <td>bridge_group_3</td>\n",
       "      <td>62.0</td>\n",
       "      <td>485.790324</td>\n",
       "    </tr>\n",
       "    <tr>\n",
       "      <th>1</th>\n",
       "      <td>2</td>\n",
       "      <td>8.337878</td>\n",
       "      <td>36.412284</td>\n",
       "      <td>- Leencha - 1049728</td>\n",
       "      <td>Oromia Region</td>\n",
       "      <td>Bunno Beddele Zone</td>\n",
       "      <td>Clinic or Health Center;Hospital;Pharmacy</td>\n",
       "      <td>Secondary school;Primary school;University;TVE...</td>\n",
       "      <td>Market (daily);Market (weekly);Employment oppo...</td>\n",
       "      <td>31</td>\n",
       "      <td>...</td>\n",
       "      <td>Buno Bedele</td>\n",
       "      <td>Oromia</td>\n",
       "      <td>Ethiopia</td>\n",
       "      <td>691.608046</td>\n",
       "      <td>178706</td>\n",
       "      <td>23958</td>\n",
       "      <td>160009.577383</td>\n",
       "      <td>bridge_group_0</td>\n",
       "      <td>138.0</td>\n",
       "      <td>4963.214629</td>\n",
       "    </tr>\n",
       "    <tr>\n",
       "      <th>2</th>\n",
       "      <td>3</td>\n",
       "      <td>8.405700</td>\n",
       "      <td>36.426262</td>\n",
       "      <td>- Marti - 1049727</td>\n",
       "      <td>Oromia Region</td>\n",
       "      <td>Bunno Beddele Zone</td>\n",
       "      <td>Clinic or Health Center;Hospital;Pharmacy</td>\n",
       "      <td>Secondary school;Primary school;University;TVE...</td>\n",
       "      <td>Market (daily);Market (weekly);Farms</td>\n",
       "      <td>29</td>\n",
       "      <td>...</td>\n",
       "      <td>Buno Bedele</td>\n",
       "      <td>Oromia</td>\n",
       "      <td>Ethiopia</td>\n",
       "      <td>217.562445</td>\n",
       "      <td>280844</td>\n",
       "      <td>16288</td>\n",
       "      <td>217699.926057</td>\n",
       "      <td>bridge_group_2</td>\n",
       "      <td>83.0</td>\n",
       "      <td>611.321530</td>\n",
       "    </tr>\n",
       "    <tr>\n",
       "      <th>3</th>\n",
       "      <td>4</td>\n",
       "      <td>8.329205</td>\n",
       "      <td>36.417575</td>\n",
       "      <td>- Dangawaj Qalaa - 1049726</td>\n",
       "      <td>Oromia Region</td>\n",
       "      <td>Bunno Beddele Zone</td>\n",
       "      <td>Clinic or Health Center;Hospital;Pharmacy</td>\n",
       "      <td>Secondary school;Primary school;University;TVE...</td>\n",
       "      <td>Market (weekly);Employment opportunities</td>\n",
       "      <td>48</td>\n",
       "      <td>...</td>\n",
       "      <td>Buno Bedele</td>\n",
       "      <td>Oromia</td>\n",
       "      <td>Ethiopia</td>\n",
       "      <td>30.318150</td>\n",
       "      <td>102863</td>\n",
       "      <td>28729</td>\n",
       "      <td>136891.521272</td>\n",
       "      <td>bridge_group_1</td>\n",
       "      <td>151.0</td>\n",
       "      <td>6052.921846</td>\n",
       "    </tr>\n",
       "    <tr>\n",
       "      <th>4</th>\n",
       "      <td>5</td>\n",
       "      <td>8.299745</td>\n",
       "      <td>36.415112</td>\n",
       "      <td>- Beeroo - 1049725</td>\n",
       "      <td>Oromia Region</td>\n",
       "      <td>Bunno Beddele Zone</td>\n",
       "      <td>Clinic or Health Center;Hospital;Pharmacy</td>\n",
       "      <td>Primary school</td>\n",
       "      <td>Market (weekly);Farms;Employment opportunities</td>\n",
       "      <td>56</td>\n",
       "      <td>...</td>\n",
       "      <td>Buno Bedele</td>\n",
       "      <td>Oromia</td>\n",
       "      <td>Ethiopia</td>\n",
       "      <td>214.908386</td>\n",
       "      <td>292731</td>\n",
       "      <td>31800</td>\n",
       "      <td>124815.225385</td>\n",
       "      <td>bridge_group_3</td>\n",
       "      <td>65.0</td>\n",
       "      <td>474.057478</td>\n",
       "    </tr>\n",
       "  </tbody>\n",
       "</table>\n",
       "<p>5 rows × 26 columns</p>\n",
       "</div>"
      ],
      "text/plain": [
       "   OBJECTID_1  GPS__Latit  GPS__Longi                  Opportunit  \\\n",
       "0           1    8.370314   36.389334        - Dangawaj - 1049769   \n",
       "1           2    8.337878   36.412284         - Leencha - 1049728   \n",
       "2           3    8.405700   36.426262           - Marti - 1049727   \n",
       "3           4    8.329205   36.417575  - Dangawaj Qalaa - 1049726   \n",
       "4           5    8.299745   36.415112          - Beeroo - 1049725   \n",
       "\n",
       "      Level_1_Go          Level_2_Go  \\\n",
       "0  Oromia Region  Bunno Beddele Zone   \n",
       "1  Oromia Region  Bunno Beddele Zone   \n",
       "2  Oromia Region  Bunno Beddele Zone   \n",
       "3  Oromia Region  Bunno Beddele Zone   \n",
       "4  Oromia Region  Bunno Beddele Zone   \n",
       "\n",
       "                                  Health_acc  \\\n",
       "0  Clinic or Health Center;Hospital;Pharmacy   \n",
       "1  Clinic or Health Center;Hospital;Pharmacy   \n",
       "2  Clinic or Health Center;Hospital;Pharmacy   \n",
       "3  Clinic or Health Center;Hospital;Pharmacy   \n",
       "4  Clinic or Health Center;Hospital;Pharmacy   \n",
       "\n",
       "                                          Education_  \\\n",
       "0  Secondary school;Primary school;University;TVE...   \n",
       "1  Secondary school;Primary school;University;TVE...   \n",
       "2  Secondary school;Primary school;University;TVE...   \n",
       "3  Secondary school;Primary school;University;TVE...   \n",
       "4                                     Primary school   \n",
       "\n",
       "                                          Market_acc  Width_of_R  ...  \\\n",
       "0               Market (daily);Market (weekly);Farms          33  ...   \n",
       "1  Market (daily);Market (weekly);Employment oppo...          31  ...   \n",
       "2               Market (daily);Market (weekly);Farms          29  ...   \n",
       "3           Market (weekly);Employment opportunities          48  ...   \n",
       "4     Market (weekly);Farms;Employment opportunities          56  ...   \n",
       "\n",
       "       ADM2_EN ADM1_EN   ADM0_EN   NEAR_DIST time_delta RemoteSite_ID  \\\n",
       "0  Buno Bedele  Oromia  Ethiopia   96.636471      42788         13239   \n",
       "1  Buno Bedele  Oromia  Ethiopia  691.608046     178706         23958   \n",
       "2  Buno Bedele  Oromia  Ethiopia  217.562445     280844         16288   \n",
       "3  Buno Bedele  Oromia  Ethiopia   30.318150     102863         28729   \n",
       "4  Buno Bedele  Oromia  Ethiopia  214.908386     292731         31800   \n",
       "\n",
       "          metric            type  COUNT   POPULATION  \n",
       "0  253459.236719  bridge_group_3   62.0   485.790324  \n",
       "1  160009.577383  bridge_group_0  138.0  4963.214629  \n",
       "2  217699.926057  bridge_group_2   83.0   611.321530  \n",
       "3  136891.521272  bridge_group_1  151.0  6052.921846  \n",
       "4  124815.225385  bridge_group_3   65.0   474.057478  \n",
       "\n",
       "[5 rows x 26 columns]"
      ]
     },
     "execution_count": 5,
     "metadata": {},
     "output_type": "execute_result"
    }
   ],
   "source": [
    "df.head()"
   ]
  },
  {
   "cell_type": "code",
   "execution_count": 6,
   "metadata": {},
   "outputs": [
    {
     "data": {
      "text/html": [
       "<div>\n",
       "<style scoped>\n",
       "    .dataframe tbody tr th:only-of-type {\n",
       "        vertical-align: middle;\n",
       "    }\n",
       "\n",
       "    .dataframe tbody tr th {\n",
       "        vertical-align: top;\n",
       "    }\n",
       "\n",
       "    .dataframe thead th {\n",
       "        text-align: right;\n",
       "    }\n",
       "</style>\n",
       "<table border=\"1\" class=\"dataframe\">\n",
       "  <thead>\n",
       "    <tr style=\"text-align: right;\">\n",
       "      <th></th>\n",
       "      <th>OBJECTID_1</th>\n",
       "      <th>GPS__Latit</th>\n",
       "      <th>GPS__Longi</th>\n",
       "      <th>Width_of_R</th>\n",
       "      <th>River_cros</th>\n",
       "      <th>Days_per_y</th>\n",
       "      <th>NEAR_DIST</th>\n",
       "      <th>time_delta</th>\n",
       "      <th>RemoteSite_ID</th>\n",
       "      <th>metric</th>\n",
       "      <th>COUNT</th>\n",
       "      <th>POPULATION</th>\n",
       "    </tr>\n",
       "  </thead>\n",
       "  <tbody>\n",
       "    <tr>\n",
       "      <th>count</th>\n",
       "      <td>250.000000</td>\n",
       "      <td>250.000000</td>\n",
       "      <td>250.000000</td>\n",
       "      <td>250.000000</td>\n",
       "      <td>250.00000</td>\n",
       "      <td>250.000000</td>\n",
       "      <td>250.000000</td>\n",
       "      <td>2.500000e+02</td>\n",
       "      <td>250.00000</td>\n",
       "      <td>2.500000e+02</td>\n",
       "      <td>249.000000</td>\n",
       "      <td>249.000000</td>\n",
       "    </tr>\n",
       "    <tr>\n",
       "      <th>mean</th>\n",
       "      <td>125.500000</td>\n",
       "      <td>7.685466</td>\n",
       "      <td>37.740545</td>\n",
       "      <td>33.088000</td>\n",
       "      <td>1.22800</td>\n",
       "      <td>80.780000</td>\n",
       "      <td>503.475549</td>\n",
       "      <td>5.749410e+04</td>\n",
       "      <td>171522.66400</td>\n",
       "      <td>1.131029e+05</td>\n",
       "      <td>99.686747</td>\n",
       "      <td>1527.178864</td>\n",
       "    </tr>\n",
       "    <tr>\n",
       "      <th>std</th>\n",
       "      <td>72.312977</td>\n",
       "      <td>0.961093</td>\n",
       "      <td>1.447995</td>\n",
       "      <td>28.096939</td>\n",
       "      <td>2.29545</td>\n",
       "      <td>54.710369</td>\n",
       "      <td>1311.445848</td>\n",
       "      <td>1.731453e+05</td>\n",
       "      <td>145079.77659</td>\n",
       "      <td>2.306239e+05</td>\n",
       "      <td>53.510384</td>\n",
       "      <td>1913.904503</td>\n",
       "    </tr>\n",
       "    <tr>\n",
       "      <th>min</th>\n",
       "      <td>1.000000</td>\n",
       "      <td>5.940728</td>\n",
       "      <td>35.942297</td>\n",
       "      <td>0.000000</td>\n",
       "      <td>0.00000</td>\n",
       "      <td>0.000000</td>\n",
       "      <td>17.004786</td>\n",
       "      <td>6.000000e+00</td>\n",
       "      <td>157.00000</td>\n",
       "      <td>2.898499e+00</td>\n",
       "      <td>6.000000</td>\n",
       "      <td>45.719166</td>\n",
       "    </tr>\n",
       "    <tr>\n",
       "      <th>25%</th>\n",
       "      <td>63.250000</td>\n",
       "      <td>6.597418</td>\n",
       "      <td>36.694879</td>\n",
       "      <td>17.000000</td>\n",
       "      <td>0.00000</td>\n",
       "      <td>24.000000</td>\n",
       "      <td>113.628298</td>\n",
       "      <td>6.907500e+02</td>\n",
       "      <td>30335.25000</td>\n",
       "      <td>3.292414e+03</td>\n",
       "      <td>60.000000</td>\n",
       "      <td>587.099631</td>\n",
       "    </tr>\n",
       "    <tr>\n",
       "      <th>50%</th>\n",
       "      <td>125.500000</td>\n",
       "      <td>7.821820</td>\n",
       "      <td>37.478375</td>\n",
       "      <td>25.500000</td>\n",
       "      <td>0.00000</td>\n",
       "      <td>90.000000</td>\n",
       "      <td>222.888338</td>\n",
       "      <td>3.514000e+03</td>\n",
       "      <td>153368.00000</td>\n",
       "      <td>1.680629e+04</td>\n",
       "      <td>96.000000</td>\n",
       "      <td>965.360724</td>\n",
       "    </tr>\n",
       "    <tr>\n",
       "      <th>75%</th>\n",
       "      <td>187.750000</td>\n",
       "      <td>8.335710</td>\n",
       "      <td>38.168345</td>\n",
       "      <td>37.000000</td>\n",
       "      <td>2.00000</td>\n",
       "      <td>120.000000</td>\n",
       "      <td>418.994301</td>\n",
       "      <td>2.725475e+04</td>\n",
       "      <td>295655.00000</td>\n",
       "      <td>1.306203e+05</td>\n",
       "      <td>138.000000</td>\n",
       "      <td>1667.447139</td>\n",
       "    </tr>\n",
       "    <tr>\n",
       "      <th>max</th>\n",
       "      <td>250.000000</td>\n",
       "      <td>9.263297</td>\n",
       "      <td>41.424309</td>\n",
       "      <td>243.000000</td>\n",
       "      <td>16.00000</td>\n",
       "      <td>360.000000</td>\n",
       "      <td>12855.445138</td>\n",
       "      <td>1.903199e+06</td>\n",
       "      <td>463179.00000</td>\n",
       "      <td>1.964853e+06</td>\n",
       "      <td>257.000000</td>\n",
       "      <td>16466.436410</td>\n",
       "    </tr>\n",
       "  </tbody>\n",
       "</table>\n",
       "</div>"
      ],
      "text/plain": [
       "       OBJECTID_1  GPS__Latit  GPS__Longi  Width_of_R  River_cros  Days_per_y  \\\n",
       "count  250.000000  250.000000  250.000000  250.000000   250.00000  250.000000   \n",
       "mean   125.500000    7.685466   37.740545   33.088000     1.22800   80.780000   \n",
       "std     72.312977    0.961093    1.447995   28.096939     2.29545   54.710369   \n",
       "min      1.000000    5.940728   35.942297    0.000000     0.00000    0.000000   \n",
       "25%     63.250000    6.597418   36.694879   17.000000     0.00000   24.000000   \n",
       "50%    125.500000    7.821820   37.478375   25.500000     0.00000   90.000000   \n",
       "75%    187.750000    8.335710   38.168345   37.000000     2.00000  120.000000   \n",
       "max    250.000000    9.263297   41.424309  243.000000    16.00000  360.000000   \n",
       "\n",
       "          NEAR_DIST    time_delta  RemoteSite_ID        metric       COUNT  \\\n",
       "count    250.000000  2.500000e+02      250.00000  2.500000e+02  249.000000   \n",
       "mean     503.475549  5.749410e+04   171522.66400  1.131029e+05   99.686747   \n",
       "std     1311.445848  1.731453e+05   145079.77659  2.306239e+05   53.510384   \n",
       "min       17.004786  6.000000e+00      157.00000  2.898499e+00    6.000000   \n",
       "25%      113.628298  6.907500e+02    30335.25000  3.292414e+03   60.000000   \n",
       "50%      222.888338  3.514000e+03   153368.00000  1.680629e+04   96.000000   \n",
       "75%      418.994301  2.725475e+04   295655.00000  1.306203e+05  138.000000   \n",
       "max    12855.445138  1.903199e+06   463179.00000  1.964853e+06  257.000000   \n",
       "\n",
       "         POPULATION  \n",
       "count    249.000000  \n",
       "mean    1527.178864  \n",
       "std     1913.904503  \n",
       "min       45.719166  \n",
       "25%      587.099631  \n",
       "50%      965.360724  \n",
       "75%     1667.447139  \n",
       "max    16466.436410  "
      ]
     },
     "execution_count": 6,
     "metadata": {},
     "output_type": "execute_result"
    }
   ],
   "source": [
    "df.describe()"
   ]
  },
  {
   "cell_type": "code",
   "execution_count": 7,
   "metadata": {},
   "outputs": [
    {
     "name": "stdout",
     "output_type": "stream",
     "text": [
      "Statistics for NEAR_DIST, metric, and POPULATION:\n",
      "          NEAR_DIST        metric    POPULATION\n",
      "count    250.000000  2.500000e+02    249.000000\n",
      "mean     503.475549  1.131029e+05   1527.178864\n",
      "std     1311.445848  2.306239e+05   1913.904503\n",
      "min       17.004786  2.898499e+00     45.719166\n",
      "25%      113.628298  3.292414e+03    587.099631\n",
      "50%      222.888338  1.680629e+04    965.360724\n",
      "75%      418.994301  1.306203e+05   1667.447139\n",
      "max    12855.445138  1.964853e+06  16466.436410\n"
     ]
    }
   ],
   "source": [
    "# Describe statistics for the three variables\n",
    "statistics = df[['NEAR_DIST', 'metric', 'POPULATION']].describe()\n",
    "\n",
    "print(\"Statistics for NEAR_DIST, metric, and POPULATION:\")\n",
    "print(statistics)\n"
   ]
  },
  {
   "cell_type": "code",
   "execution_count": 8,
   "metadata": {},
   "outputs": [
    {
     "data": {
      "application/vnd.plotly.v1+json": {
       "config": {
        "plotlyServerURL": "https://plot.ly"
       },
       "data": [
        {
         "marker": {
          "color": "blue"
         },
         "name": "NEAR_DIST",
         "nbinsx": 100,
         "opacity": 0.7,
         "type": "histogram",
         "x": [
          96.6364711996908,
          691.6080460061805,
          217.5624452111222,
          30.31815013732375,
          214.9083855619479,
          407.1712998866964,
          190.6093974077847,
          239.7337404076441,
          384.8979519594878,
          144.0963824630916,
          99.62562722979757,
          133.6664798570734,
          69.06262882673367,
          96.72690019371522,
          234.5811109770887,
          213.0279733438463,
          511.7249984860369,
          222.7814638500137,
          217.1022146891997,
          144.5358135198661,
          680.3134537490841,
          2768.213029057296,
          255.391322843,
          122.8178623014452,
          168.2350362957125,
          368.7510531969474,
          584.154972822244,
          301.3171939226759,
          96.86020882694478,
          95.73111173014638,
          487.0029760558285,
          140.3187978133963,
          368.4355553936638,
          190.6319228925702,
          316.3668726462074,
          518.7867699632558,
          549.4427943450024,
          524.1010297994412,
          124.6880180503151,
          302.3711455369079,
          148.0562282257207,
          211.9527033610068,
          98.1289884254169,
          35.21595078280613,
          380.4505049065675,
          427.1714691031522,
          340.3285850554885,
          69.09157509036464,
          43.5314248549879,
          375.3390052705766,
          262.7382252474069,
          546.5449612319354,
          223.8100338999277,
          25.98248751290167,
          150.7388730208542,
          221.0615559786605,
          66.11723121113083,
          530.7463401366588,
          356.1052055388527,
          78.07499692436376,
          147.577602546939,
          148.7447955377434,
          187.1203106569498,
          578.8357575207781,
          99.00434943023012,
          180.0171812635606,
          55.10372243498431,
          72.66565433500924,
          162.5529629661786,
          376.6872388125238,
          115.0152016215659,
          6231.434242806816,
          11942.9203843918,
          6212.833355139387,
          12855.44513761542,
          697.8563786815188,
          1468.442514613447,
          78.27409814145099,
          154.8731831016665,
          251.3712883205834,
          25.63318411878297,
          661.7969292596853,
          213.8977166877399,
          233.2823953302837,
          322.5892505056374,
          50.56109541789919,
          94.6886596240826,
          245.3342597310527,
          260.9205717362716,
          232.9090720909558,
          82.772652482312,
          667.4882498929079,
          5132.034931176965,
          3606.0806784477,
          3744.614054371114,
          2552.955481812132,
          2506.789029332755,
          62.44238344710466,
          682.7652453657481,
          493.6425411743609,
          69.91059740480989,
          70.92638790772912,
          438.0472407570808,
          244.3965413398754,
          176.9188346130479,
          575.7782513298852,
          365.3623507521214,
          180.2324078416707,
          518.6238288911629,
          343.1552484216651,
          989.0288719929009,
          23.64036535044536,
          262.1304136670018,
          338.640348994911,
          83.61522260347934,
          1283.119222685208,
          456.764141762861,
          151.7190482404595,
          280.7864226138439,
          306.5478283066388,
          412.9312298524693,
          34.90540700023296,
          177.9739551368149,
          641.6313402562852,
          51.7996471140418,
          17.61358252085036,
          380.263605619967,
          188.2612627700436,
          389.8786904168682,
          819.1690640166546,
          222.9952122632666,
          411.1236233559893,
          99.785758056664,
          163.7594897875299,
          175.1056498994815,
          300.5924493362834,
          525.3256633792304,
          88.51271078094871,
          697.070520684291,
          599.1856411093872,
          183.5594170781139,
          57.73763704377923,
          378.3352752609563,
          506.8678465895598,
          288.3560866617192,
          652.7672805998242,
          420.0578369285219,
          435.8291850851415,
          168.9791607469459,
          281.8504325100893,
          105.4923239556618,
          364.5652963341974,
          220.9409800830365,
          89.80400370136945,
          159.3846819289145,
          59.30366181526508,
          85.06807961122112,
          288.3659981429664,
          408.1832991003972,
          110.5830939481948,
          88.11192719563033,
          111.5614754311424,
          195.2759570192341,
          81.23554880710041,
          182.060082217908,
          173.4290449970584,
          71.67315451682659,
          497.9386815809781,
          382.7528920654103,
          97.62260904901582,
          138.9375905164123,
          277.0544687534854,
          136.1288666260096,
          64.42291595685383,
          415.8036934656366,
          216.7985578578309,
          76.3589992869933,
          102.559842273395,
          139.1539571512548,
          956.2769940599125,
          182.3170999715223,
          128.4143923530311,
          114.7462886589296,
          262.317960584757,
          311.75781297254,
          99.92385295724705,
          348.2540496691199,
          145.2303503937714,
          113.255634297336,
          1136.949229041895,
          372.6157325133458,
          143.0239727667421,
          307.4113138291668,
          30.97843434445082,
          149.3006712326299,
          53.46827427640647,
          116.0899066919954,
          84.9171737514323,
          67.12796208871917,
          634.2533094837212,
          435.8665273126907,
          78.0458353808306,
          283.7469506954308,
          279.7141358564378,
          112.5662157373418,
          40.24350395743875,
          173.2474136845616,
          256.2346686789497,
          217.5286177679791,
          29.4655925047869,
          892.1186709020677,
          590.3628373146371,
          24.98969093188842,
          20.27511455527184,
          175.0990767232319,
          199.269870449408,
          224.8993880068798,
          289.1978061690883,
          193.4291233927096,
          17.00478584659074,
          582.9182450415221,
          72.71664626390732,
          282.0556716335109,
          149.4818831480676,
          119.2317099566132,
          211.9802059891022,
          623.8838134495394,
          495.5040797969492,
          457.8214732136171,
          540.0919697974348,
          324.1127416804562,
          181.2861416964842,
          147.3143250986141,
          395.6796663403875,
          234.4537248828452,
          355.1859583746206,
          217.5156876540991,
          744.1909509296347,
          41.00834108081504,
          804.2706112483811,
          478.5349105261671,
          752.9343152133041,
          544.1854585342966,
          589.840734067794,
          661.8188926198732,
          48.53524702671245,
          30.65111798326597,
          488.7673603364822,
          363.0227134818449,
          360.3477553671657
         ]
        }
       ],
       "layout": {
        "template": {
         "data": {
          "bar": [
           {
            "error_x": {
             "color": "#2a3f5f"
            },
            "error_y": {
             "color": "#2a3f5f"
            },
            "marker": {
             "line": {
              "color": "#E5ECF6",
              "width": 0.5
             },
             "pattern": {
              "fillmode": "overlay",
              "size": 10,
              "solidity": 0.2
             }
            },
            "type": "bar"
           }
          ],
          "barpolar": [
           {
            "marker": {
             "line": {
              "color": "#E5ECF6",
              "width": 0.5
             },
             "pattern": {
              "fillmode": "overlay",
              "size": 10,
              "solidity": 0.2
             }
            },
            "type": "barpolar"
           }
          ],
          "carpet": [
           {
            "aaxis": {
             "endlinecolor": "#2a3f5f",
             "gridcolor": "white",
             "linecolor": "white",
             "minorgridcolor": "white",
             "startlinecolor": "#2a3f5f"
            },
            "baxis": {
             "endlinecolor": "#2a3f5f",
             "gridcolor": "white",
             "linecolor": "white",
             "minorgridcolor": "white",
             "startlinecolor": "#2a3f5f"
            },
            "type": "carpet"
           }
          ],
          "choropleth": [
           {
            "colorbar": {
             "outlinewidth": 0,
             "ticks": ""
            },
            "type": "choropleth"
           }
          ],
          "contour": [
           {
            "colorbar": {
             "outlinewidth": 0,
             "ticks": ""
            },
            "colorscale": [
             [
              0,
              "#0d0887"
             ],
             [
              0.1111111111111111,
              "#46039f"
             ],
             [
              0.2222222222222222,
              "#7201a8"
             ],
             [
              0.3333333333333333,
              "#9c179e"
             ],
             [
              0.4444444444444444,
              "#bd3786"
             ],
             [
              0.5555555555555556,
              "#d8576b"
             ],
             [
              0.6666666666666666,
              "#ed7953"
             ],
             [
              0.7777777777777778,
              "#fb9f3a"
             ],
             [
              0.8888888888888888,
              "#fdca26"
             ],
             [
              1,
              "#f0f921"
             ]
            ],
            "type": "contour"
           }
          ],
          "contourcarpet": [
           {
            "colorbar": {
             "outlinewidth": 0,
             "ticks": ""
            },
            "type": "contourcarpet"
           }
          ],
          "heatmap": [
           {
            "colorbar": {
             "outlinewidth": 0,
             "ticks": ""
            },
            "colorscale": [
             [
              0,
              "#0d0887"
             ],
             [
              0.1111111111111111,
              "#46039f"
             ],
             [
              0.2222222222222222,
              "#7201a8"
             ],
             [
              0.3333333333333333,
              "#9c179e"
             ],
             [
              0.4444444444444444,
              "#bd3786"
             ],
             [
              0.5555555555555556,
              "#d8576b"
             ],
             [
              0.6666666666666666,
              "#ed7953"
             ],
             [
              0.7777777777777778,
              "#fb9f3a"
             ],
             [
              0.8888888888888888,
              "#fdca26"
             ],
             [
              1,
              "#f0f921"
             ]
            ],
            "type": "heatmap"
           }
          ],
          "heatmapgl": [
           {
            "colorbar": {
             "outlinewidth": 0,
             "ticks": ""
            },
            "colorscale": [
             [
              0,
              "#0d0887"
             ],
             [
              0.1111111111111111,
              "#46039f"
             ],
             [
              0.2222222222222222,
              "#7201a8"
             ],
             [
              0.3333333333333333,
              "#9c179e"
             ],
             [
              0.4444444444444444,
              "#bd3786"
             ],
             [
              0.5555555555555556,
              "#d8576b"
             ],
             [
              0.6666666666666666,
              "#ed7953"
             ],
             [
              0.7777777777777778,
              "#fb9f3a"
             ],
             [
              0.8888888888888888,
              "#fdca26"
             ],
             [
              1,
              "#f0f921"
             ]
            ],
            "type": "heatmapgl"
           }
          ],
          "histogram": [
           {
            "marker": {
             "pattern": {
              "fillmode": "overlay",
              "size": 10,
              "solidity": 0.2
             }
            },
            "type": "histogram"
           }
          ],
          "histogram2d": [
           {
            "colorbar": {
             "outlinewidth": 0,
             "ticks": ""
            },
            "colorscale": [
             [
              0,
              "#0d0887"
             ],
             [
              0.1111111111111111,
              "#46039f"
             ],
             [
              0.2222222222222222,
              "#7201a8"
             ],
             [
              0.3333333333333333,
              "#9c179e"
             ],
             [
              0.4444444444444444,
              "#bd3786"
             ],
             [
              0.5555555555555556,
              "#d8576b"
             ],
             [
              0.6666666666666666,
              "#ed7953"
             ],
             [
              0.7777777777777778,
              "#fb9f3a"
             ],
             [
              0.8888888888888888,
              "#fdca26"
             ],
             [
              1,
              "#f0f921"
             ]
            ],
            "type": "histogram2d"
           }
          ],
          "histogram2dcontour": [
           {
            "colorbar": {
             "outlinewidth": 0,
             "ticks": ""
            },
            "colorscale": [
             [
              0,
              "#0d0887"
             ],
             [
              0.1111111111111111,
              "#46039f"
             ],
             [
              0.2222222222222222,
              "#7201a8"
             ],
             [
              0.3333333333333333,
              "#9c179e"
             ],
             [
              0.4444444444444444,
              "#bd3786"
             ],
             [
              0.5555555555555556,
              "#d8576b"
             ],
             [
              0.6666666666666666,
              "#ed7953"
             ],
             [
              0.7777777777777778,
              "#fb9f3a"
             ],
             [
              0.8888888888888888,
              "#fdca26"
             ],
             [
              1,
              "#f0f921"
             ]
            ],
            "type": "histogram2dcontour"
           }
          ],
          "mesh3d": [
           {
            "colorbar": {
             "outlinewidth": 0,
             "ticks": ""
            },
            "type": "mesh3d"
           }
          ],
          "parcoords": [
           {
            "line": {
             "colorbar": {
              "outlinewidth": 0,
              "ticks": ""
             }
            },
            "type": "parcoords"
           }
          ],
          "pie": [
           {
            "automargin": true,
            "type": "pie"
           }
          ],
          "scatter": [
           {
            "fillpattern": {
             "fillmode": "overlay",
             "size": 10,
             "solidity": 0.2
            },
            "type": "scatter"
           }
          ],
          "scatter3d": [
           {
            "line": {
             "colorbar": {
              "outlinewidth": 0,
              "ticks": ""
             }
            },
            "marker": {
             "colorbar": {
              "outlinewidth": 0,
              "ticks": ""
             }
            },
            "type": "scatter3d"
           }
          ],
          "scattercarpet": [
           {
            "marker": {
             "colorbar": {
              "outlinewidth": 0,
              "ticks": ""
             }
            },
            "type": "scattercarpet"
           }
          ],
          "scattergeo": [
           {
            "marker": {
             "colorbar": {
              "outlinewidth": 0,
              "ticks": ""
             }
            },
            "type": "scattergeo"
           }
          ],
          "scattergl": [
           {
            "marker": {
             "colorbar": {
              "outlinewidth": 0,
              "ticks": ""
             }
            },
            "type": "scattergl"
           }
          ],
          "scattermapbox": [
           {
            "marker": {
             "colorbar": {
              "outlinewidth": 0,
              "ticks": ""
             }
            },
            "type": "scattermapbox"
           }
          ],
          "scatterpolar": [
           {
            "marker": {
             "colorbar": {
              "outlinewidth": 0,
              "ticks": ""
             }
            },
            "type": "scatterpolar"
           }
          ],
          "scatterpolargl": [
           {
            "marker": {
             "colorbar": {
              "outlinewidth": 0,
              "ticks": ""
             }
            },
            "type": "scatterpolargl"
           }
          ],
          "scatterternary": [
           {
            "marker": {
             "colorbar": {
              "outlinewidth": 0,
              "ticks": ""
             }
            },
            "type": "scatterternary"
           }
          ],
          "surface": [
           {
            "colorbar": {
             "outlinewidth": 0,
             "ticks": ""
            },
            "colorscale": [
             [
              0,
              "#0d0887"
             ],
             [
              0.1111111111111111,
              "#46039f"
             ],
             [
              0.2222222222222222,
              "#7201a8"
             ],
             [
              0.3333333333333333,
              "#9c179e"
             ],
             [
              0.4444444444444444,
              "#bd3786"
             ],
             [
              0.5555555555555556,
              "#d8576b"
             ],
             [
              0.6666666666666666,
              "#ed7953"
             ],
             [
              0.7777777777777778,
              "#fb9f3a"
             ],
             [
              0.8888888888888888,
              "#fdca26"
             ],
             [
              1,
              "#f0f921"
             ]
            ],
            "type": "surface"
           }
          ],
          "table": [
           {
            "cells": {
             "fill": {
              "color": "#EBF0F8"
             },
             "line": {
              "color": "white"
             }
            },
            "header": {
             "fill": {
              "color": "#C8D4E3"
             },
             "line": {
              "color": "white"
             }
            },
            "type": "table"
           }
          ]
         },
         "layout": {
          "annotationdefaults": {
           "arrowcolor": "#2a3f5f",
           "arrowhead": 0,
           "arrowwidth": 1
          },
          "autotypenumbers": "strict",
          "coloraxis": {
           "colorbar": {
            "outlinewidth": 0,
            "ticks": ""
           }
          },
          "colorscale": {
           "diverging": [
            [
             0,
             "#8e0152"
            ],
            [
             0.1,
             "#c51b7d"
            ],
            [
             0.2,
             "#de77ae"
            ],
            [
             0.3,
             "#f1b6da"
            ],
            [
             0.4,
             "#fde0ef"
            ],
            [
             0.5,
             "#f7f7f7"
            ],
            [
             0.6,
             "#e6f5d0"
            ],
            [
             0.7,
             "#b8e186"
            ],
            [
             0.8,
             "#7fbc41"
            ],
            [
             0.9,
             "#4d9221"
            ],
            [
             1,
             "#276419"
            ]
           ],
           "sequential": [
            [
             0,
             "#0d0887"
            ],
            [
             0.1111111111111111,
             "#46039f"
            ],
            [
             0.2222222222222222,
             "#7201a8"
            ],
            [
             0.3333333333333333,
             "#9c179e"
            ],
            [
             0.4444444444444444,
             "#bd3786"
            ],
            [
             0.5555555555555556,
             "#d8576b"
            ],
            [
             0.6666666666666666,
             "#ed7953"
            ],
            [
             0.7777777777777778,
             "#fb9f3a"
            ],
            [
             0.8888888888888888,
             "#fdca26"
            ],
            [
             1,
             "#f0f921"
            ]
           ],
           "sequentialminus": [
            [
             0,
             "#0d0887"
            ],
            [
             0.1111111111111111,
             "#46039f"
            ],
            [
             0.2222222222222222,
             "#7201a8"
            ],
            [
             0.3333333333333333,
             "#9c179e"
            ],
            [
             0.4444444444444444,
             "#bd3786"
            ],
            [
             0.5555555555555556,
             "#d8576b"
            ],
            [
             0.6666666666666666,
             "#ed7953"
            ],
            [
             0.7777777777777778,
             "#fb9f3a"
            ],
            [
             0.8888888888888888,
             "#fdca26"
            ],
            [
             1,
             "#f0f921"
            ]
           ]
          },
          "colorway": [
           "#636efa",
           "#EF553B",
           "#00cc96",
           "#ab63fa",
           "#FFA15A",
           "#19d3f3",
           "#FF6692",
           "#B6E880",
           "#FF97FF",
           "#FECB52"
          ],
          "font": {
           "color": "#2a3f5f"
          },
          "geo": {
           "bgcolor": "white",
           "lakecolor": "white",
           "landcolor": "#E5ECF6",
           "showlakes": true,
           "showland": true,
           "subunitcolor": "white"
          },
          "hoverlabel": {
           "align": "left"
          },
          "hovermode": "closest",
          "mapbox": {
           "style": "light"
          },
          "paper_bgcolor": "white",
          "plot_bgcolor": "#E5ECF6",
          "polar": {
           "angularaxis": {
            "gridcolor": "white",
            "linecolor": "white",
            "ticks": ""
           },
           "bgcolor": "#E5ECF6",
           "radialaxis": {
            "gridcolor": "white",
            "linecolor": "white",
            "ticks": ""
           }
          },
          "scene": {
           "xaxis": {
            "backgroundcolor": "#E5ECF6",
            "gridcolor": "white",
            "gridwidth": 2,
            "linecolor": "white",
            "showbackground": true,
            "ticks": "",
            "zerolinecolor": "white"
           },
           "yaxis": {
            "backgroundcolor": "#E5ECF6",
            "gridcolor": "white",
            "gridwidth": 2,
            "linecolor": "white",
            "showbackground": true,
            "ticks": "",
            "zerolinecolor": "white"
           },
           "zaxis": {
            "backgroundcolor": "#E5ECF6",
            "gridcolor": "white",
            "gridwidth": 2,
            "linecolor": "white",
            "showbackground": true,
            "ticks": "",
            "zerolinecolor": "white"
           }
          },
          "shapedefaults": {
           "line": {
            "color": "#2a3f5f"
           }
          },
          "ternary": {
           "aaxis": {
            "gridcolor": "white",
            "linecolor": "white",
            "ticks": ""
           },
           "baxis": {
            "gridcolor": "white",
            "linecolor": "white",
            "ticks": ""
           },
           "bgcolor": "#E5ECF6",
           "caxis": {
            "gridcolor": "white",
            "linecolor": "white",
            "ticks": ""
           }
          },
          "title": {
           "x": 0.05
          },
          "xaxis": {
           "automargin": true,
           "gridcolor": "white",
           "linecolor": "white",
           "ticks": "",
           "title": {
            "standoff": 15
           },
           "zerolinecolor": "white",
           "zerolinewidth": 2
          },
          "yaxis": {
           "automargin": true,
           "gridcolor": "white",
           "linecolor": "white",
           "ticks": "",
           "title": {
            "standoff": 15
           },
           "zerolinecolor": "white",
           "zerolinewidth": 2
          }
         }
        },
        "title": {
         "text": "Distribution of NEAR_DIST"
        },
        "xaxis": {
         "title": {
          "text": "NEAR_DIST"
         }
        },
        "yaxis": {
         "title": {
          "text": "Frequency"
         }
        }
       }
      }
     },
     "metadata": {},
     "output_type": "display_data"
    },
    {
     "data": {
      "application/vnd.plotly.v1+json": {
       "config": {
        "plotlyServerURL": "https://plot.ly"
       },
       "data": [
        {
         "marker": {
          "color": "green"
         },
         "name": "metric",
         "nbinsx": 100,
         "opacity": 0.7,
         "type": "histogram",
         "x": [
          253459.2367191068,
          160009.5773832461,
          217699.9260567665,
          136891.5212719888,
          124815.2253852123,
          174303.1448813489,
          115832.1782980477,
          229518.8521152658,
          153249.0705687592,
          243165.5181425172,
          138693.8811669254,
          596207.8614474408,
          124794.1821786945,
          1964852.787238381,
          132644.5805802886,
          132644.5805802886,
          194506.2450912247,
          150639.7824318229,
          41127.51771477913,
          14938.49498632483,
          712.0342280091082,
          615.5843993315029,
          61818.6864368047,
          14153.73737654201,
          4.766521897780413,
          8428.260527806475,
          60744.99895864137,
          5498.137235730458,
          124815.2253852123,
          249448.558306867,
          11383.00087668015,
          4329.795227499982,
          13419.05211834962,
          392.6628273210162,
          11285.85512078554,
          1505.496964277816,
          28351.71241733541,
          835.5197320220348,
          18534.30957750812,
          130811.6950053391,
          10905.38587452429,
          57438.72964018219,
          396649.7916304982,
          311846.0105423033,
          7398.73524961673,
          3665.723630195513,
          2438.71750765925,
          64.55664578758791,
          38761.75589349315,
          292.6218226979391,
          34451.29790757748,
          93839.26613245485,
          7223.882633274887,
          54660.47648414843,
          748.3382453440825,
          9582.583364997421,
          79247.76511027016,
          170140.5980844286,
          89632.86339614223,
          195055.0128322576,
          846185.8131461248,
          906946.7774300497,
          966355.6421902915,
          823438.3480156994,
          941053.1393092148,
          102631.0474842084,
          164715.1016283477,
          212596.9347936639,
          430849.3932161929,
          542336.8971512103,
          2724.148406670335,
          10292.36782252949,
          2351.395344203186,
          10292.36782252949,
          2351.395344203186,
          39536.49764192609,
          1294.441805014963,
          15873.30231915356,
          798.6018087340258,
          17662.0090558104,
          59234.38922603314,
          356.0976672322179,
          189529.4311089741,
          423862.6061676692,
          91551.94898194922,
          91551.94898194922,
          120900.2600367395,
          1047.737619772475,
          21801.80134880209,
          17694.35819122706,
          53130.22404481468,
          154604.1304892287,
          34943.8377932012,
          53130.22404481468,
          53130.22404481468,
          34943.8377932012,
          34943.8377932012,
          990.8302829138372,
          6775.748711676592,
          127379.8138911427,
          174303.1448813489,
          212.6945352551237,
          16217.94167978457,
          253468.5456471947,
          253468.5456471947,
          253468.5456471947,
          711.4155440105221,
          2795.146450690694,
          136427.1782104547,
          5901.981616498222,
          703.8622998971884,
          3024.525568511844,
          2389.153914727225,
          1137.112970543824,
          1619.786059042484,
          124108.850526243,
          3046.223669395361,
          8495.377790603916,
          29769.26274137877,
          31749.99275003482,
          29769.26274137877,
          12792.77161627986,
          255296.3555152184,
          1763.422687979069,
          6349.609947104457,
          140601.8913247921,
          2142.9098654003,
          621.5128946852003,
          8963.77733238255,
          8021.820355392348,
          11285.85512078554,
          2173.584765102344,
          98.09701813950113,
          12103.55593359559,
          17394.63224658562,
          449.5149862821535,
          1990.07226168887,
          32757.47106408048,
          1417.329944083856,
          1417.329944083856,
          2021.352902975851,
          16204.55110468365,
          63.7312476086514,
          63.7312476086514,
          10248.45816967383,
          10248.45816967383,
          90266.17460208845,
          69.69013280450275,
          424265.5386448323,
          424265.5386448323,
          887338.3911766936,
          42159.26860146575,
          13705.8352823509,
          10482.86305501483,
          19775.89534533698,
          56374.22099908721,
          2793.818116755554,
          230535.4250949211,
          206793.8606694331,
          224404.7390356766,
          206793.8606694331,
          13388.569599563,
          970585.9530976611,
          135946.2350363095,
          8442.746512292857,
          200970.346095831,
          21744.83513710526,
          428161.5564425463,
          428161.5564425463,
          14443.14628932435,
          13580.44178026544,
          3329.425198548387,
          23171.53354166426,
          30908.68563210395,
          41842.81299500816,
          13278.7483964727,
          825.6264312168398,
          30806.14245380143,
          2.898498606757737,
          739.1852186072076,
          664.3192849099141,
          354.8850201166062,
          86.10839652862862,
          2180.238465821686,
          1602.473640548658,
          79.21137820806686,
          94.60730459821568,
          821.506325670822,
          6362.548316208827,
          44393.88091015633,
          18336.31048293318,
          238.6415460327767,
          8442.486116521526,
          1760.254920592202,
          18003.65054652771,
          5005.726484872852,
          3223.868144052682,
          261902.1375221267,
          555.8053641087342,
          46095.00080038904,
          291731.4160607171,
          330929.8020788722,
          291731.4160607171,
          2606.863200731415,
          1259743.774054053,
          280717.0647631518,
          51417.82957871904,
          15314.5562069875,
          432005.7398352941,
          3292.414382400093,
          41594.65376584117,
          9409.285245935806,
          14397.39288980864,
          3435.410088567155,
          3435.410088567155,
          3292.414382400093,
          3292.414382400093,
          5396.841393202199,
          954.1250655622563,
          59273.69052373531,
          55786.36365230708,
          22547.49284436076,
          22851.20205293391,
          6925.905135715047,
          6925.905135715047,
          121557.6039934788,
          142775.5572366602,
          596207.8614474408,
          778740.7658694367,
          2585.752811907388,
          12140.63781181748,
          4051.6671443168,
          15777.09967871947,
          15777.09967871947,
          15777.09967871947,
          263435.0448848447,
          15777.09967871947,
          40718.28250016102,
          40718.28250016102,
          40718.28250016102,
          12470.04505305689,
          12470.04505305689,
          280.0081046396362,
          11255.6131643065,
          130046.0839573793,
          6835.449429454501,
          5588.690404281914,
          11255.6131643065,
          5498.137235730458,
          1505.496964277816
         ]
        }
       ],
       "layout": {
        "template": {
         "data": {
          "bar": [
           {
            "error_x": {
             "color": "#2a3f5f"
            },
            "error_y": {
             "color": "#2a3f5f"
            },
            "marker": {
             "line": {
              "color": "#E5ECF6",
              "width": 0.5
             },
             "pattern": {
              "fillmode": "overlay",
              "size": 10,
              "solidity": 0.2
             }
            },
            "type": "bar"
           }
          ],
          "barpolar": [
           {
            "marker": {
             "line": {
              "color": "#E5ECF6",
              "width": 0.5
             },
             "pattern": {
              "fillmode": "overlay",
              "size": 10,
              "solidity": 0.2
             }
            },
            "type": "barpolar"
           }
          ],
          "carpet": [
           {
            "aaxis": {
             "endlinecolor": "#2a3f5f",
             "gridcolor": "white",
             "linecolor": "white",
             "minorgridcolor": "white",
             "startlinecolor": "#2a3f5f"
            },
            "baxis": {
             "endlinecolor": "#2a3f5f",
             "gridcolor": "white",
             "linecolor": "white",
             "minorgridcolor": "white",
             "startlinecolor": "#2a3f5f"
            },
            "type": "carpet"
           }
          ],
          "choropleth": [
           {
            "colorbar": {
             "outlinewidth": 0,
             "ticks": ""
            },
            "type": "choropleth"
           }
          ],
          "contour": [
           {
            "colorbar": {
             "outlinewidth": 0,
             "ticks": ""
            },
            "colorscale": [
             [
              0,
              "#0d0887"
             ],
             [
              0.1111111111111111,
              "#46039f"
             ],
             [
              0.2222222222222222,
              "#7201a8"
             ],
             [
              0.3333333333333333,
              "#9c179e"
             ],
             [
              0.4444444444444444,
              "#bd3786"
             ],
             [
              0.5555555555555556,
              "#d8576b"
             ],
             [
              0.6666666666666666,
              "#ed7953"
             ],
             [
              0.7777777777777778,
              "#fb9f3a"
             ],
             [
              0.8888888888888888,
              "#fdca26"
             ],
             [
              1,
              "#f0f921"
             ]
            ],
            "type": "contour"
           }
          ],
          "contourcarpet": [
           {
            "colorbar": {
             "outlinewidth": 0,
             "ticks": ""
            },
            "type": "contourcarpet"
           }
          ],
          "heatmap": [
           {
            "colorbar": {
             "outlinewidth": 0,
             "ticks": ""
            },
            "colorscale": [
             [
              0,
              "#0d0887"
             ],
             [
              0.1111111111111111,
              "#46039f"
             ],
             [
              0.2222222222222222,
              "#7201a8"
             ],
             [
              0.3333333333333333,
              "#9c179e"
             ],
             [
              0.4444444444444444,
              "#bd3786"
             ],
             [
              0.5555555555555556,
              "#d8576b"
             ],
             [
              0.6666666666666666,
              "#ed7953"
             ],
             [
              0.7777777777777778,
              "#fb9f3a"
             ],
             [
              0.8888888888888888,
              "#fdca26"
             ],
             [
              1,
              "#f0f921"
             ]
            ],
            "type": "heatmap"
           }
          ],
          "heatmapgl": [
           {
            "colorbar": {
             "outlinewidth": 0,
             "ticks": ""
            },
            "colorscale": [
             [
              0,
              "#0d0887"
             ],
             [
              0.1111111111111111,
              "#46039f"
             ],
             [
              0.2222222222222222,
              "#7201a8"
             ],
             [
              0.3333333333333333,
              "#9c179e"
             ],
             [
              0.4444444444444444,
              "#bd3786"
             ],
             [
              0.5555555555555556,
              "#d8576b"
             ],
             [
              0.6666666666666666,
              "#ed7953"
             ],
             [
              0.7777777777777778,
              "#fb9f3a"
             ],
             [
              0.8888888888888888,
              "#fdca26"
             ],
             [
              1,
              "#f0f921"
             ]
            ],
            "type": "heatmapgl"
           }
          ],
          "histogram": [
           {
            "marker": {
             "pattern": {
              "fillmode": "overlay",
              "size": 10,
              "solidity": 0.2
             }
            },
            "type": "histogram"
           }
          ],
          "histogram2d": [
           {
            "colorbar": {
             "outlinewidth": 0,
             "ticks": ""
            },
            "colorscale": [
             [
              0,
              "#0d0887"
             ],
             [
              0.1111111111111111,
              "#46039f"
             ],
             [
              0.2222222222222222,
              "#7201a8"
             ],
             [
              0.3333333333333333,
              "#9c179e"
             ],
             [
              0.4444444444444444,
              "#bd3786"
             ],
             [
              0.5555555555555556,
              "#d8576b"
             ],
             [
              0.6666666666666666,
              "#ed7953"
             ],
             [
              0.7777777777777778,
              "#fb9f3a"
             ],
             [
              0.8888888888888888,
              "#fdca26"
             ],
             [
              1,
              "#f0f921"
             ]
            ],
            "type": "histogram2d"
           }
          ],
          "histogram2dcontour": [
           {
            "colorbar": {
             "outlinewidth": 0,
             "ticks": ""
            },
            "colorscale": [
             [
              0,
              "#0d0887"
             ],
             [
              0.1111111111111111,
              "#46039f"
             ],
             [
              0.2222222222222222,
              "#7201a8"
             ],
             [
              0.3333333333333333,
              "#9c179e"
             ],
             [
              0.4444444444444444,
              "#bd3786"
             ],
             [
              0.5555555555555556,
              "#d8576b"
             ],
             [
              0.6666666666666666,
              "#ed7953"
             ],
             [
              0.7777777777777778,
              "#fb9f3a"
             ],
             [
              0.8888888888888888,
              "#fdca26"
             ],
             [
              1,
              "#f0f921"
             ]
            ],
            "type": "histogram2dcontour"
           }
          ],
          "mesh3d": [
           {
            "colorbar": {
             "outlinewidth": 0,
             "ticks": ""
            },
            "type": "mesh3d"
           }
          ],
          "parcoords": [
           {
            "line": {
             "colorbar": {
              "outlinewidth": 0,
              "ticks": ""
             }
            },
            "type": "parcoords"
           }
          ],
          "pie": [
           {
            "automargin": true,
            "type": "pie"
           }
          ],
          "scatter": [
           {
            "fillpattern": {
             "fillmode": "overlay",
             "size": 10,
             "solidity": 0.2
            },
            "type": "scatter"
           }
          ],
          "scatter3d": [
           {
            "line": {
             "colorbar": {
              "outlinewidth": 0,
              "ticks": ""
             }
            },
            "marker": {
             "colorbar": {
              "outlinewidth": 0,
              "ticks": ""
             }
            },
            "type": "scatter3d"
           }
          ],
          "scattercarpet": [
           {
            "marker": {
             "colorbar": {
              "outlinewidth": 0,
              "ticks": ""
             }
            },
            "type": "scattercarpet"
           }
          ],
          "scattergeo": [
           {
            "marker": {
             "colorbar": {
              "outlinewidth": 0,
              "ticks": ""
             }
            },
            "type": "scattergeo"
           }
          ],
          "scattergl": [
           {
            "marker": {
             "colorbar": {
              "outlinewidth": 0,
              "ticks": ""
             }
            },
            "type": "scattergl"
           }
          ],
          "scattermapbox": [
           {
            "marker": {
             "colorbar": {
              "outlinewidth": 0,
              "ticks": ""
             }
            },
            "type": "scattermapbox"
           }
          ],
          "scatterpolar": [
           {
            "marker": {
             "colorbar": {
              "outlinewidth": 0,
              "ticks": ""
             }
            },
            "type": "scatterpolar"
           }
          ],
          "scatterpolargl": [
           {
            "marker": {
             "colorbar": {
              "outlinewidth": 0,
              "ticks": ""
             }
            },
            "type": "scatterpolargl"
           }
          ],
          "scatterternary": [
           {
            "marker": {
             "colorbar": {
              "outlinewidth": 0,
              "ticks": ""
             }
            },
            "type": "scatterternary"
           }
          ],
          "surface": [
           {
            "colorbar": {
             "outlinewidth": 0,
             "ticks": ""
            },
            "colorscale": [
             [
              0,
              "#0d0887"
             ],
             [
              0.1111111111111111,
              "#46039f"
             ],
             [
              0.2222222222222222,
              "#7201a8"
             ],
             [
              0.3333333333333333,
              "#9c179e"
             ],
             [
              0.4444444444444444,
              "#bd3786"
             ],
             [
              0.5555555555555556,
              "#d8576b"
             ],
             [
              0.6666666666666666,
              "#ed7953"
             ],
             [
              0.7777777777777778,
              "#fb9f3a"
             ],
             [
              0.8888888888888888,
              "#fdca26"
             ],
             [
              1,
              "#f0f921"
             ]
            ],
            "type": "surface"
           }
          ],
          "table": [
           {
            "cells": {
             "fill": {
              "color": "#EBF0F8"
             },
             "line": {
              "color": "white"
             }
            },
            "header": {
             "fill": {
              "color": "#C8D4E3"
             },
             "line": {
              "color": "white"
             }
            },
            "type": "table"
           }
          ]
         },
         "layout": {
          "annotationdefaults": {
           "arrowcolor": "#2a3f5f",
           "arrowhead": 0,
           "arrowwidth": 1
          },
          "autotypenumbers": "strict",
          "coloraxis": {
           "colorbar": {
            "outlinewidth": 0,
            "ticks": ""
           }
          },
          "colorscale": {
           "diverging": [
            [
             0,
             "#8e0152"
            ],
            [
             0.1,
             "#c51b7d"
            ],
            [
             0.2,
             "#de77ae"
            ],
            [
             0.3,
             "#f1b6da"
            ],
            [
             0.4,
             "#fde0ef"
            ],
            [
             0.5,
             "#f7f7f7"
            ],
            [
             0.6,
             "#e6f5d0"
            ],
            [
             0.7,
             "#b8e186"
            ],
            [
             0.8,
             "#7fbc41"
            ],
            [
             0.9,
             "#4d9221"
            ],
            [
             1,
             "#276419"
            ]
           ],
           "sequential": [
            [
             0,
             "#0d0887"
            ],
            [
             0.1111111111111111,
             "#46039f"
            ],
            [
             0.2222222222222222,
             "#7201a8"
            ],
            [
             0.3333333333333333,
             "#9c179e"
            ],
            [
             0.4444444444444444,
             "#bd3786"
            ],
            [
             0.5555555555555556,
             "#d8576b"
            ],
            [
             0.6666666666666666,
             "#ed7953"
            ],
            [
             0.7777777777777778,
             "#fb9f3a"
            ],
            [
             0.8888888888888888,
             "#fdca26"
            ],
            [
             1,
             "#f0f921"
            ]
           ],
           "sequentialminus": [
            [
             0,
             "#0d0887"
            ],
            [
             0.1111111111111111,
             "#46039f"
            ],
            [
             0.2222222222222222,
             "#7201a8"
            ],
            [
             0.3333333333333333,
             "#9c179e"
            ],
            [
             0.4444444444444444,
             "#bd3786"
            ],
            [
             0.5555555555555556,
             "#d8576b"
            ],
            [
             0.6666666666666666,
             "#ed7953"
            ],
            [
             0.7777777777777778,
             "#fb9f3a"
            ],
            [
             0.8888888888888888,
             "#fdca26"
            ],
            [
             1,
             "#f0f921"
            ]
           ]
          },
          "colorway": [
           "#636efa",
           "#EF553B",
           "#00cc96",
           "#ab63fa",
           "#FFA15A",
           "#19d3f3",
           "#FF6692",
           "#B6E880",
           "#FF97FF",
           "#FECB52"
          ],
          "font": {
           "color": "#2a3f5f"
          },
          "geo": {
           "bgcolor": "white",
           "lakecolor": "white",
           "landcolor": "#E5ECF6",
           "showlakes": true,
           "showland": true,
           "subunitcolor": "white"
          },
          "hoverlabel": {
           "align": "left"
          },
          "hovermode": "closest",
          "mapbox": {
           "style": "light"
          },
          "paper_bgcolor": "white",
          "plot_bgcolor": "#E5ECF6",
          "polar": {
           "angularaxis": {
            "gridcolor": "white",
            "linecolor": "white",
            "ticks": ""
           },
           "bgcolor": "#E5ECF6",
           "radialaxis": {
            "gridcolor": "white",
            "linecolor": "white",
            "ticks": ""
           }
          },
          "scene": {
           "xaxis": {
            "backgroundcolor": "#E5ECF6",
            "gridcolor": "white",
            "gridwidth": 2,
            "linecolor": "white",
            "showbackground": true,
            "ticks": "",
            "zerolinecolor": "white"
           },
           "yaxis": {
            "backgroundcolor": "#E5ECF6",
            "gridcolor": "white",
            "gridwidth": 2,
            "linecolor": "white",
            "showbackground": true,
            "ticks": "",
            "zerolinecolor": "white"
           },
           "zaxis": {
            "backgroundcolor": "#E5ECF6",
            "gridcolor": "white",
            "gridwidth": 2,
            "linecolor": "white",
            "showbackground": true,
            "ticks": "",
            "zerolinecolor": "white"
           }
          },
          "shapedefaults": {
           "line": {
            "color": "#2a3f5f"
           }
          },
          "ternary": {
           "aaxis": {
            "gridcolor": "white",
            "linecolor": "white",
            "ticks": ""
           },
           "baxis": {
            "gridcolor": "white",
            "linecolor": "white",
            "ticks": ""
           },
           "bgcolor": "#E5ECF6",
           "caxis": {
            "gridcolor": "white",
            "linecolor": "white",
            "ticks": ""
           }
          },
          "title": {
           "x": 0.05
          },
          "xaxis": {
           "automargin": true,
           "gridcolor": "white",
           "linecolor": "white",
           "ticks": "",
           "title": {
            "standoff": 15
           },
           "zerolinecolor": "white",
           "zerolinewidth": 2
          },
          "yaxis": {
           "automargin": true,
           "gridcolor": "white",
           "linecolor": "white",
           "ticks": "",
           "title": {
            "standoff": 15
           },
           "zerolinecolor": "white",
           "zerolinewidth": 2
          }
         }
        },
        "title": {
         "text": "Distribution of metric"
        },
        "xaxis": {
         "title": {
          "text": "metric"
         }
        },
        "yaxis": {
         "title": {
          "text": "Frequency"
         }
        }
       }
      }
     },
     "metadata": {},
     "output_type": "display_data"
    },
    {
     "data": {
      "application/vnd.plotly.v1+json": {
       "config": {
        "plotlyServerURL": "https://plot.ly"
       },
       "data": [
        {
         "marker": {
          "color": "orange"
         },
         "name": "POPULATION",
         "nbinsx": 100,
         "opacity": 0.7,
         "type": "histogram",
         "x": [
          485.7903242111206,
          4963.21462869644,
          611.3215298652649,
          6052.921845912932,
          474.057478427887,
          480.5225591659546,
          695.1304211616515,
          335.3945145606995,
          448.6251516342163,
          398.4211072921753,
          409.2163324356079,
          343.1260981559754,
          562.4077305793762,
          636.0832600593566,
          467.7078704833984,
          450.0966968536377,
          675.1072287559509,
          373.7020545005798,
          2138.246538162232,
          1697.372858047485,
          460.8640689849854,
          661.5621728897096,
          2890.392656326294,
          1060.501466751099,
          1676.365303993225,
          2748.72342300415,
          2871.870477676393,
          1313.135081291199,
          1289.718379020691,
          1634.991061210632,
          998.3770208358766,
          1114.540257930756,
          638.8274846076965,
          1105.04391002655,
          870.444784641266,
          1108.687779426574,
          818.8598995208741,
          1737.31551837921,
          1227.750956535339,
          2683.511394023897,
          2108.257166862488,
          487.9302520751954,
          1639.913969039917,
          4878.14495277405,
          756.6890282630922,
          779.6819820404054,
          965.3607244491578,
          822.109877586365,
          700.2477622032168,
          718.4266738891603,
          729.0365900993347,
          1036.954199790955,
          996.6135168075559,
          1445.193375587464,
          906.2434320449825,
          954.1546573638914,
          823.1592626571655,
          1074.565496444703,
          830.0277528762814,
          580.0167031288149,
          755.3168234825134,
          794.8935718536375,
          1670.13202571869,
          760.7850241661074,
          566.6802854537964,
          110.9256820678711,
          531.2118434906004,
          1234.744259357452,
          374.1882262229919,
          1393.364026546478,
          105.8876399993896,
          505.8713569641114,
          587.0996313095092,
          450.3816280364991,
          467.4373130798341,
          258.0381212234497,
          500.3495216369628,
          null,
          217.4494433403015,
          1153.267485141754,
          855.1442260742186,
          667.8147897720341,
          146.3232026100159,
          1526.047327041625,
          636.9780249595641,
          560.0606784820556,
          396.0546035766602,
          495.2339162826538,
          952.9534082412719,
          228.1181383132935,
          1183.916589260101,
          364.5823931694031,
          245.9013862609864,
          170.463327884674,
          190.3482794761658,
          567.9864301681519,
          415.4794325828553,
          634.6029229164124,
          494.1257576942445,
          708.8463258743285,
          8654.280290603638,
          10604.60922431946,
          10742.38714122772,
          9142.196159362795,
          7378.768060684204,
          10462.58671760559,
          675.5356760025023,
          1185.155321121216,
          628.139814376831,
          464.2076501846312,
          919.6422233581543,
          614.4826612472534,
          367.8011951446533,
          838.2989015579224,
          429.6840801239013,
          133.949330329895,
          775.7319097518921,
          913.8292388916018,
          779.9254646301268,
          697.8458881378174,
          417.8224687576295,
          369.8535223007203,
          480.9928493499755,
          449.4519395828247,
          238.9556264877319,
          830.8575105667113,
          1012.349052906036,
          774.1953325271609,
          1071.314752578735,
          553.9305324554442,
          829.6087646484375,
          1746.691420078278,
          588.8627924919128,
          1260.697084426881,
          742.2206859588623,
          690.7371459007263,
          695.4274964332584,
          1538.006453037262,
          61.93323945999145,
          45.71916627883911,
          57.30819272994995,
          3251.415415287018,
          93.135338306427,
          55.8963327407837,
          1446.063897132874,
          989.8787188529967,
          459.5554890632632,
          425.7861990928651,
          995.2102708816527,
          1056.212489128113,
          1946.910461425781,
          1091.663955688477,
          1564.028968811035,
          1113.01652431488,
          2047.831129550934,
          2649.126378536225,
          2623.192077159883,
          1947.107361793518,
          1505.134767055511,
          1408.253712654114,
          1533.252717018127,
          919.359627723694,
          1093.722822666168,
          1748.075991630554,
          980.5616955757142,
          3269.837214469908,
          2242.469892501831,
          5072.468629837037,
          5211.644974708559,
          1697.720404148103,
          733.0596251487732,
          1122.750061035156,
          774.324213027954,
          1158.736248970032,
          937.7541208267213,
          2679.881488323213,
          802.1956663131715,
          1667.447139263153,
          1042.175849914551,
          1154.037437915803,
          234.4420909881592,
          1123.32569026947,
          819.5507969856262,
          783.0693759918212,
          962.5910873413084,
          1102.895404338836,
          474.9744777679442,
          149.8866648674011,
          2355.611297130586,
          4658.511507987973,
          16466.43640995025,
          362.3879690170288,
          2354.287754058838,
          827.5675535202025,
          1325.342555046082,
          2717.382323265076,
          1231.648017883301,
          4373.319407463073,
          4838.61888217926,
          5801.966189384461,
          3858.888503074647,
          3551.201108932494,
          3734.57018184662,
          3249.950499534607,
          3218.430734634399,
          430.7300033569337,
          821.920603275299,
          530.162392616272,
          399.7412099838257,
          892.8180222511295,
          2231.339382171631,
          2421.72027015686,
          1078.938637733459,
          1483.402146339416,
          1512.558029174804,
          984.5629835128785,
          837.462624549866,
          722.6413507461547,
          895.3347568511964,
          2159.492692947387,
          1207.917956352234,
          1688.269916534424,
          2291.76556110382,
          2253.904487609863,
          2230.518634796142,
          1621.033840179443,
          1664.03325176239,
          3448.802480697631,
          2301.584243774414,
          2330.471534729004,
          2052.22681427002,
          2006.994565963746,
          1576.694771766663,
          1976.444081306457,
          1679.759503364563,
          2099.685497283936,
          1636.43541431427,
          1634.012313842774,
          1603.079982757569,
          1669.278028488159,
          830.5925130844115,
          863.9708614349363,
          877.603680610657,
          924.6308441162107,
          1389.306383132934,
          1254.948216438293,
          1103.071758270264,
          1498.025373458862,
          1298.270575523377,
          1175.95246219635
         ]
        }
       ],
       "layout": {
        "template": {
         "data": {
          "bar": [
           {
            "error_x": {
             "color": "#2a3f5f"
            },
            "error_y": {
             "color": "#2a3f5f"
            },
            "marker": {
             "line": {
              "color": "#E5ECF6",
              "width": 0.5
             },
             "pattern": {
              "fillmode": "overlay",
              "size": 10,
              "solidity": 0.2
             }
            },
            "type": "bar"
           }
          ],
          "barpolar": [
           {
            "marker": {
             "line": {
              "color": "#E5ECF6",
              "width": 0.5
             },
             "pattern": {
              "fillmode": "overlay",
              "size": 10,
              "solidity": 0.2
             }
            },
            "type": "barpolar"
           }
          ],
          "carpet": [
           {
            "aaxis": {
             "endlinecolor": "#2a3f5f",
             "gridcolor": "white",
             "linecolor": "white",
             "minorgridcolor": "white",
             "startlinecolor": "#2a3f5f"
            },
            "baxis": {
             "endlinecolor": "#2a3f5f",
             "gridcolor": "white",
             "linecolor": "white",
             "minorgridcolor": "white",
             "startlinecolor": "#2a3f5f"
            },
            "type": "carpet"
           }
          ],
          "choropleth": [
           {
            "colorbar": {
             "outlinewidth": 0,
             "ticks": ""
            },
            "type": "choropleth"
           }
          ],
          "contour": [
           {
            "colorbar": {
             "outlinewidth": 0,
             "ticks": ""
            },
            "colorscale": [
             [
              0,
              "#0d0887"
             ],
             [
              0.1111111111111111,
              "#46039f"
             ],
             [
              0.2222222222222222,
              "#7201a8"
             ],
             [
              0.3333333333333333,
              "#9c179e"
             ],
             [
              0.4444444444444444,
              "#bd3786"
             ],
             [
              0.5555555555555556,
              "#d8576b"
             ],
             [
              0.6666666666666666,
              "#ed7953"
             ],
             [
              0.7777777777777778,
              "#fb9f3a"
             ],
             [
              0.8888888888888888,
              "#fdca26"
             ],
             [
              1,
              "#f0f921"
             ]
            ],
            "type": "contour"
           }
          ],
          "contourcarpet": [
           {
            "colorbar": {
             "outlinewidth": 0,
             "ticks": ""
            },
            "type": "contourcarpet"
           }
          ],
          "heatmap": [
           {
            "colorbar": {
             "outlinewidth": 0,
             "ticks": ""
            },
            "colorscale": [
             [
              0,
              "#0d0887"
             ],
             [
              0.1111111111111111,
              "#46039f"
             ],
             [
              0.2222222222222222,
              "#7201a8"
             ],
             [
              0.3333333333333333,
              "#9c179e"
             ],
             [
              0.4444444444444444,
              "#bd3786"
             ],
             [
              0.5555555555555556,
              "#d8576b"
             ],
             [
              0.6666666666666666,
              "#ed7953"
             ],
             [
              0.7777777777777778,
              "#fb9f3a"
             ],
             [
              0.8888888888888888,
              "#fdca26"
             ],
             [
              1,
              "#f0f921"
             ]
            ],
            "type": "heatmap"
           }
          ],
          "heatmapgl": [
           {
            "colorbar": {
             "outlinewidth": 0,
             "ticks": ""
            },
            "colorscale": [
             [
              0,
              "#0d0887"
             ],
             [
              0.1111111111111111,
              "#46039f"
             ],
             [
              0.2222222222222222,
              "#7201a8"
             ],
             [
              0.3333333333333333,
              "#9c179e"
             ],
             [
              0.4444444444444444,
              "#bd3786"
             ],
             [
              0.5555555555555556,
              "#d8576b"
             ],
             [
              0.6666666666666666,
              "#ed7953"
             ],
             [
              0.7777777777777778,
              "#fb9f3a"
             ],
             [
              0.8888888888888888,
              "#fdca26"
             ],
             [
              1,
              "#f0f921"
             ]
            ],
            "type": "heatmapgl"
           }
          ],
          "histogram": [
           {
            "marker": {
             "pattern": {
              "fillmode": "overlay",
              "size": 10,
              "solidity": 0.2
             }
            },
            "type": "histogram"
           }
          ],
          "histogram2d": [
           {
            "colorbar": {
             "outlinewidth": 0,
             "ticks": ""
            },
            "colorscale": [
             [
              0,
              "#0d0887"
             ],
             [
              0.1111111111111111,
              "#46039f"
             ],
             [
              0.2222222222222222,
              "#7201a8"
             ],
             [
              0.3333333333333333,
              "#9c179e"
             ],
             [
              0.4444444444444444,
              "#bd3786"
             ],
             [
              0.5555555555555556,
              "#d8576b"
             ],
             [
              0.6666666666666666,
              "#ed7953"
             ],
             [
              0.7777777777777778,
              "#fb9f3a"
             ],
             [
              0.8888888888888888,
              "#fdca26"
             ],
             [
              1,
              "#f0f921"
             ]
            ],
            "type": "histogram2d"
           }
          ],
          "histogram2dcontour": [
           {
            "colorbar": {
             "outlinewidth": 0,
             "ticks": ""
            },
            "colorscale": [
             [
              0,
              "#0d0887"
             ],
             [
              0.1111111111111111,
              "#46039f"
             ],
             [
              0.2222222222222222,
              "#7201a8"
             ],
             [
              0.3333333333333333,
              "#9c179e"
             ],
             [
              0.4444444444444444,
              "#bd3786"
             ],
             [
              0.5555555555555556,
              "#d8576b"
             ],
             [
              0.6666666666666666,
              "#ed7953"
             ],
             [
              0.7777777777777778,
              "#fb9f3a"
             ],
             [
              0.8888888888888888,
              "#fdca26"
             ],
             [
              1,
              "#f0f921"
             ]
            ],
            "type": "histogram2dcontour"
           }
          ],
          "mesh3d": [
           {
            "colorbar": {
             "outlinewidth": 0,
             "ticks": ""
            },
            "type": "mesh3d"
           }
          ],
          "parcoords": [
           {
            "line": {
             "colorbar": {
              "outlinewidth": 0,
              "ticks": ""
             }
            },
            "type": "parcoords"
           }
          ],
          "pie": [
           {
            "automargin": true,
            "type": "pie"
           }
          ],
          "scatter": [
           {
            "fillpattern": {
             "fillmode": "overlay",
             "size": 10,
             "solidity": 0.2
            },
            "type": "scatter"
           }
          ],
          "scatter3d": [
           {
            "line": {
             "colorbar": {
              "outlinewidth": 0,
              "ticks": ""
             }
            },
            "marker": {
             "colorbar": {
              "outlinewidth": 0,
              "ticks": ""
             }
            },
            "type": "scatter3d"
           }
          ],
          "scattercarpet": [
           {
            "marker": {
             "colorbar": {
              "outlinewidth": 0,
              "ticks": ""
             }
            },
            "type": "scattercarpet"
           }
          ],
          "scattergeo": [
           {
            "marker": {
             "colorbar": {
              "outlinewidth": 0,
              "ticks": ""
             }
            },
            "type": "scattergeo"
           }
          ],
          "scattergl": [
           {
            "marker": {
             "colorbar": {
              "outlinewidth": 0,
              "ticks": ""
             }
            },
            "type": "scattergl"
           }
          ],
          "scattermapbox": [
           {
            "marker": {
             "colorbar": {
              "outlinewidth": 0,
              "ticks": ""
             }
            },
            "type": "scattermapbox"
           }
          ],
          "scatterpolar": [
           {
            "marker": {
             "colorbar": {
              "outlinewidth": 0,
              "ticks": ""
             }
            },
            "type": "scatterpolar"
           }
          ],
          "scatterpolargl": [
           {
            "marker": {
             "colorbar": {
              "outlinewidth": 0,
              "ticks": ""
             }
            },
            "type": "scatterpolargl"
           }
          ],
          "scatterternary": [
           {
            "marker": {
             "colorbar": {
              "outlinewidth": 0,
              "ticks": ""
             }
            },
            "type": "scatterternary"
           }
          ],
          "surface": [
           {
            "colorbar": {
             "outlinewidth": 0,
             "ticks": ""
            },
            "colorscale": [
             [
              0,
              "#0d0887"
             ],
             [
              0.1111111111111111,
              "#46039f"
             ],
             [
              0.2222222222222222,
              "#7201a8"
             ],
             [
              0.3333333333333333,
              "#9c179e"
             ],
             [
              0.4444444444444444,
              "#bd3786"
             ],
             [
              0.5555555555555556,
              "#d8576b"
             ],
             [
              0.6666666666666666,
              "#ed7953"
             ],
             [
              0.7777777777777778,
              "#fb9f3a"
             ],
             [
              0.8888888888888888,
              "#fdca26"
             ],
             [
              1,
              "#f0f921"
             ]
            ],
            "type": "surface"
           }
          ],
          "table": [
           {
            "cells": {
             "fill": {
              "color": "#EBF0F8"
             },
             "line": {
              "color": "white"
             }
            },
            "header": {
             "fill": {
              "color": "#C8D4E3"
             },
             "line": {
              "color": "white"
             }
            },
            "type": "table"
           }
          ]
         },
         "layout": {
          "annotationdefaults": {
           "arrowcolor": "#2a3f5f",
           "arrowhead": 0,
           "arrowwidth": 1
          },
          "autotypenumbers": "strict",
          "coloraxis": {
           "colorbar": {
            "outlinewidth": 0,
            "ticks": ""
           }
          },
          "colorscale": {
           "diverging": [
            [
             0,
             "#8e0152"
            ],
            [
             0.1,
             "#c51b7d"
            ],
            [
             0.2,
             "#de77ae"
            ],
            [
             0.3,
             "#f1b6da"
            ],
            [
             0.4,
             "#fde0ef"
            ],
            [
             0.5,
             "#f7f7f7"
            ],
            [
             0.6,
             "#e6f5d0"
            ],
            [
             0.7,
             "#b8e186"
            ],
            [
             0.8,
             "#7fbc41"
            ],
            [
             0.9,
             "#4d9221"
            ],
            [
             1,
             "#276419"
            ]
           ],
           "sequential": [
            [
             0,
             "#0d0887"
            ],
            [
             0.1111111111111111,
             "#46039f"
            ],
            [
             0.2222222222222222,
             "#7201a8"
            ],
            [
             0.3333333333333333,
             "#9c179e"
            ],
            [
             0.4444444444444444,
             "#bd3786"
            ],
            [
             0.5555555555555556,
             "#d8576b"
            ],
            [
             0.6666666666666666,
             "#ed7953"
            ],
            [
             0.7777777777777778,
             "#fb9f3a"
            ],
            [
             0.8888888888888888,
             "#fdca26"
            ],
            [
             1,
             "#f0f921"
            ]
           ],
           "sequentialminus": [
            [
             0,
             "#0d0887"
            ],
            [
             0.1111111111111111,
             "#46039f"
            ],
            [
             0.2222222222222222,
             "#7201a8"
            ],
            [
             0.3333333333333333,
             "#9c179e"
            ],
            [
             0.4444444444444444,
             "#bd3786"
            ],
            [
             0.5555555555555556,
             "#d8576b"
            ],
            [
             0.6666666666666666,
             "#ed7953"
            ],
            [
             0.7777777777777778,
             "#fb9f3a"
            ],
            [
             0.8888888888888888,
             "#fdca26"
            ],
            [
             1,
             "#f0f921"
            ]
           ]
          },
          "colorway": [
           "#636efa",
           "#EF553B",
           "#00cc96",
           "#ab63fa",
           "#FFA15A",
           "#19d3f3",
           "#FF6692",
           "#B6E880",
           "#FF97FF",
           "#FECB52"
          ],
          "font": {
           "color": "#2a3f5f"
          },
          "geo": {
           "bgcolor": "white",
           "lakecolor": "white",
           "landcolor": "#E5ECF6",
           "showlakes": true,
           "showland": true,
           "subunitcolor": "white"
          },
          "hoverlabel": {
           "align": "left"
          },
          "hovermode": "closest",
          "mapbox": {
           "style": "light"
          },
          "paper_bgcolor": "white",
          "plot_bgcolor": "#E5ECF6",
          "polar": {
           "angularaxis": {
            "gridcolor": "white",
            "linecolor": "white",
            "ticks": ""
           },
           "bgcolor": "#E5ECF6",
           "radialaxis": {
            "gridcolor": "white",
            "linecolor": "white",
            "ticks": ""
           }
          },
          "scene": {
           "xaxis": {
            "backgroundcolor": "#E5ECF6",
            "gridcolor": "white",
            "gridwidth": 2,
            "linecolor": "white",
            "showbackground": true,
            "ticks": "",
            "zerolinecolor": "white"
           },
           "yaxis": {
            "backgroundcolor": "#E5ECF6",
            "gridcolor": "white",
            "gridwidth": 2,
            "linecolor": "white",
            "showbackground": true,
            "ticks": "",
            "zerolinecolor": "white"
           },
           "zaxis": {
            "backgroundcolor": "#E5ECF6",
            "gridcolor": "white",
            "gridwidth": 2,
            "linecolor": "white",
            "showbackground": true,
            "ticks": "",
            "zerolinecolor": "white"
           }
          },
          "shapedefaults": {
           "line": {
            "color": "#2a3f5f"
           }
          },
          "ternary": {
           "aaxis": {
            "gridcolor": "white",
            "linecolor": "white",
            "ticks": ""
           },
           "baxis": {
            "gridcolor": "white",
            "linecolor": "white",
            "ticks": ""
           },
           "bgcolor": "#E5ECF6",
           "caxis": {
            "gridcolor": "white",
            "linecolor": "white",
            "ticks": ""
           }
          },
          "title": {
           "x": 0.05
          },
          "xaxis": {
           "automargin": true,
           "gridcolor": "white",
           "linecolor": "white",
           "ticks": "",
           "title": {
            "standoff": 15
           },
           "zerolinecolor": "white",
           "zerolinewidth": 2
          },
          "yaxis": {
           "automargin": true,
           "gridcolor": "white",
           "linecolor": "white",
           "ticks": "",
           "title": {
            "standoff": 15
           },
           "zerolinecolor": "white",
           "zerolinewidth": 2
          }
         }
        },
        "title": {
         "text": "Distribution of POPULATION"
        },
        "xaxis": {
         "title": {
          "text": "POPULATION"
         }
        },
        "yaxis": {
         "title": {
          "text": "Frequency"
         }
        }
       }
      }
     },
     "metadata": {},
     "output_type": "display_data"
    }
   ],
   "source": [
    "import plotly.graph_objects as go\n",
    "\n",
    "# Histogram for NEAR_DIST\n",
    "fig1 = go.Figure(go.Histogram(\n",
    "    x=df['NEAR_DIST'],\n",
    "    nbinsx=100,  # Adjust the number of bins as needed\n",
    "    marker_color='blue',  # Use marker_color for bar area color\n",
    "    opacity=0.7,\n",
    "    name='NEAR_DIST'\n",
    "))\n",
    "fig1.update_layout(\n",
    "    title='Distribution of NEAR_DIST',\n",
    "    xaxis_title='NEAR_DIST',\n",
    "    yaxis_title='Frequency'\n",
    ")\n",
    "\n",
    "# Histogram for metric\n",
    "fig2 = go.Figure(go.Histogram(\n",
    "    x=df['metric'],\n",
    "    nbinsx=100,  # Adjust the number of bins as needed\n",
    "    marker_color='green',\n",
    "    opacity=0.7,\n",
    "    name='metric'\n",
    "))\n",
    "fig2.update_layout(\n",
    "    title='Distribution of metric',\n",
    "    xaxis_title='metric',\n",
    "    yaxis_title='Frequency'\n",
    ")\n",
    "\n",
    "# Histogram for POPULATION\n",
    "fig3 = go.Figure(go.Histogram(\n",
    "    x=df['POPULATION'],\n",
    "    nbinsx=100,  # Adjust the number of bins as needed\n",
    "    marker_color='orange',\n",
    "    opacity=0.7,\n",
    "    name='POPULATION'\n",
    "))\n",
    "fig3.update_layout(\n",
    "    title='Distribution of POPULATION',\n",
    "    xaxis_title='POPULATION',\n",
    "    yaxis_title='Frequency'\n",
    ")\n",
    "\n",
    "# Show plots\n",
    "fig1.show()\n",
    "fig2.show()\n",
    "fig3.show()\n"
   ]
  },
  {
   "cell_type": "code",
   "execution_count": 9,
   "metadata": {},
   "outputs": [
    {
     "data": {
      "application/vnd.plotly.v1+json": {
       "config": {
        "plotlyServerURL": "https://plot.ly"
       },
       "data": [
        {
         "alignmentgroup": "True",
         "bingroup": "x",
         "hovertemplate": "Woreda=%{x}<br>count=%{y}<extra></extra>",
         "legendgroup": "",
         "marker": {
          "color": "#636efa",
          "pattern": {
           "shape": ""
          }
         },
         "name": "",
         "offsetgroup": "",
         "orientation": "v",
         "showlegend": false,
         "type": "histogram",
         "x": [
          "Gechi",
          "Gechi",
          "Gechi",
          "Gechi",
          "Gechi",
          "Gechi",
          "Gechi",
          "Gechi",
          "Gechi",
          "Gechi",
          "Gechi",
          "Gechi",
          "Gechi",
          "Gechi",
          "Gechi",
          "Gechi",
          "Gechi",
          "Gechi",
          "Melka Balo",
          "Melka Balo",
          "Melka Balo",
          "Melka Balo",
          "Melka Balo",
          "Melka Balo",
          "Melka Balo",
          "Melka Balo",
          "Sigmo",
          "Sigmo",
          "Sigmo",
          "Sigmo",
          "Sigmo",
          "Sigmo",
          "Sigmo",
          "Sigmo",
          "Sigmo",
          "Sigmo",
          "Seka Chekorsa",
          "Seka Chekorsa",
          "Seka Chekorsa",
          "Seka Chekorsa",
          "Seka Chekorsa",
          "Seka Chekorsa",
          "Seka Chekorsa",
          "Seka Chekorsa",
          "Seka Chekorsa",
          "Seka Chekorsa",
          "Seka Chekorsa",
          "Seka Chekorsa",
          "Seka Chekorsa",
          "Seka Chekorsa",
          "Seka Chekorsa",
          "Seka Chekorsa",
          "Seka Chekorsa",
          "Seka Chekorsa",
          "Seka Chekorsa",
          "Seka Chekorsa",
          "Shebe Sambo",
          "Shebe Sambo",
          "Shebe Sambo",
          "Shebe Sambo",
          "Shebe Sambo",
          "Shebe Sambo",
          "Shebe Sambo",
          "Shebe Sambo",
          "Shebe Sambo",
          "Shebe Sambo",
          "Shebe Sambo",
          "Shebe Sambo",
          "Shebe Sambo",
          "Shebe Sambo",
          "Limu Seka",
          "Limu Seka",
          "Limu Seka",
          "Limu Seka",
          "Limu Seka",
          "Limu Seka",
          "Limu Seka",
          "Limu Seka",
          "Limu Seka",
          "Limu Seka",
          "Limu Seka",
          "Limu Seka",
          "Limu Seka",
          "Limu Seka",
          "Limu Seka",
          "Limu Seka",
          "Limu Seka",
          "Limu Seka",
          "Limu Seka",
          "Limu Seka",
          "Limu Seka",
          "Limu Seka",
          "Limu Seka",
          "Limu Seka",
          "Limu Seka",
          "Limu Seka",
          "Limu Seka",
          "Limu Seka",
          "Limu Seka",
          "Mieso",
          "Mieso",
          "Mieso",
          "Mieso",
          "Mieso",
          "Mieso",
          "Mieso",
          "Mieso",
          "Mieso",
          "Mieso",
          "Mieso",
          "Mieso",
          "Mieso",
          "Mieso",
          "Mieso",
          "Mieso",
          "Mieso",
          "Mieso",
          "Mieso",
          "Mieso",
          "Mieso",
          "Mieso",
          "Mieso",
          "Mieso",
          "Mieso",
          "Mieso",
          "Mieso",
          "Sigmo",
          "Sigmo",
          "Sigmo",
          "Sigmo",
          "Sigmo",
          "Sigmo",
          "Sigmo",
          "Sigmo",
          "Sigmo",
          "Sigmo",
          "Boreda",
          "Boreda",
          "Boreda",
          "Boreda",
          "Boreda",
          "Boreda",
          "Boreda",
          "Boreda",
          "Boreda",
          "Boreda",
          "Boreda",
          "Boreda",
          "Dita",
          "Dita",
          "Dita",
          "Dita",
          "Dita",
          "Dita",
          "Dita",
          "Dita",
          "Dita",
          "Dita",
          "Dita",
          "Dita",
          "Dita",
          "Dita",
          "Dita",
          "Dita",
          "Dita",
          "Chencha Zuriya",
          "Chencha Zuriya",
          "Chencha Zuriya",
          "Chencha Zuriya",
          "Chencha Zuriya",
          "Dita",
          "Dita",
          "Chencha Zuriya",
          "Chencha Zuriya",
          "Chencha Zuriya",
          "Chencha Zuriya",
          "Kucha Alpha",
          "Kucha Alpha",
          "Kucha Alpha",
          "Kucha Alpha",
          "Kucha Alpha",
          "Kucha Alpha",
          "Kucha Alpha",
          "Kucha Alpha",
          "Kucha Alpha",
          "Kucha Alpha",
          "Kucha Alpha",
          "Kucha Alpha",
          "Kochere",
          "Kochere",
          "Kochere",
          "Kochere",
          "Kochere",
          "Kochere",
          "Kochere",
          "Kochere",
          "Kochere",
          "Dila Zuria",
          "Dila Zuria",
          "Dila Zuria",
          "Dila Zuria",
          "Dila Zuria",
          "Dila Zuria",
          "Dila Zuria",
          "Dita",
          "Sodo",
          "Sodo",
          "Sodo",
          "Sodo",
          "Misrak Azenet Berbere",
          "Misrak Azenet Berbere",
          "Misrak Azenet Berbere",
          "Misrak Azenet Berbere",
          "Misrak Azenet Berbere",
          "Misrak Azenet Berbere",
          "Misrak Azenet Berbere",
          "Misrak Azenet Berbere",
          "Misrak Azenet Berbere",
          "Misrak Azenet Berbere",
          "Misrak Azenet Berbere",
          "Misrak Azenet Berbere",
          "Misrak Azenet Berbere",
          "Misrak Azenet Berbere",
          "Misrak Azenet Berbere",
          "Misrak Azenet Berbere",
          "Misrak Azenet Berbere",
          "Misrak Azenet Berbere",
          "Alicho Woriro",
          "Alicho Woriro",
          "Alicho Woriro",
          "Misrak Azenet Berbere",
          "Misrak Azenet Berbere",
          "Misrak Azenet Berbere",
          "Misrak Azenet Berbere",
          "Misrak Azenet Berbere",
          "Misrak Azenet Berbere",
          "Misrak Azenet Berbere",
          "Alicho Woriro",
          "Alicho Woriro",
          "Alicho Woriro",
          "Alicho Woriro",
          "Alicho Woriro",
          "Alicho Woriro",
          "Alicho Woriro",
          "Alicho Woriro",
          "Alicho Woriro",
          "Alicho Woriro",
          "Alicho Woriro",
          "Sigmo",
          "Sigmo"
         ],
         "xaxis": "x",
         "yaxis": "y"
        }
       ],
       "layout": {
        "barmode": "relative",
        "legend": {
         "tracegroupgap": 0
        },
        "template": {
         "data": {
          "bar": [
           {
            "error_x": {
             "color": "#2a3f5f"
            },
            "error_y": {
             "color": "#2a3f5f"
            },
            "marker": {
             "line": {
              "color": "#E5ECF6",
              "width": 0.5
             },
             "pattern": {
              "fillmode": "overlay",
              "size": 10,
              "solidity": 0.2
             }
            },
            "type": "bar"
           }
          ],
          "barpolar": [
           {
            "marker": {
             "line": {
              "color": "#E5ECF6",
              "width": 0.5
             },
             "pattern": {
              "fillmode": "overlay",
              "size": 10,
              "solidity": 0.2
             }
            },
            "type": "barpolar"
           }
          ],
          "carpet": [
           {
            "aaxis": {
             "endlinecolor": "#2a3f5f",
             "gridcolor": "white",
             "linecolor": "white",
             "minorgridcolor": "white",
             "startlinecolor": "#2a3f5f"
            },
            "baxis": {
             "endlinecolor": "#2a3f5f",
             "gridcolor": "white",
             "linecolor": "white",
             "minorgridcolor": "white",
             "startlinecolor": "#2a3f5f"
            },
            "type": "carpet"
           }
          ],
          "choropleth": [
           {
            "colorbar": {
             "outlinewidth": 0,
             "ticks": ""
            },
            "type": "choropleth"
           }
          ],
          "contour": [
           {
            "colorbar": {
             "outlinewidth": 0,
             "ticks": ""
            },
            "colorscale": [
             [
              0,
              "#0d0887"
             ],
             [
              0.1111111111111111,
              "#46039f"
             ],
             [
              0.2222222222222222,
              "#7201a8"
             ],
             [
              0.3333333333333333,
              "#9c179e"
             ],
             [
              0.4444444444444444,
              "#bd3786"
             ],
             [
              0.5555555555555556,
              "#d8576b"
             ],
             [
              0.6666666666666666,
              "#ed7953"
             ],
             [
              0.7777777777777778,
              "#fb9f3a"
             ],
             [
              0.8888888888888888,
              "#fdca26"
             ],
             [
              1,
              "#f0f921"
             ]
            ],
            "type": "contour"
           }
          ],
          "contourcarpet": [
           {
            "colorbar": {
             "outlinewidth": 0,
             "ticks": ""
            },
            "type": "contourcarpet"
           }
          ],
          "heatmap": [
           {
            "colorbar": {
             "outlinewidth": 0,
             "ticks": ""
            },
            "colorscale": [
             [
              0,
              "#0d0887"
             ],
             [
              0.1111111111111111,
              "#46039f"
             ],
             [
              0.2222222222222222,
              "#7201a8"
             ],
             [
              0.3333333333333333,
              "#9c179e"
             ],
             [
              0.4444444444444444,
              "#bd3786"
             ],
             [
              0.5555555555555556,
              "#d8576b"
             ],
             [
              0.6666666666666666,
              "#ed7953"
             ],
             [
              0.7777777777777778,
              "#fb9f3a"
             ],
             [
              0.8888888888888888,
              "#fdca26"
             ],
             [
              1,
              "#f0f921"
             ]
            ],
            "type": "heatmap"
           }
          ],
          "heatmapgl": [
           {
            "colorbar": {
             "outlinewidth": 0,
             "ticks": ""
            },
            "colorscale": [
             [
              0,
              "#0d0887"
             ],
             [
              0.1111111111111111,
              "#46039f"
             ],
             [
              0.2222222222222222,
              "#7201a8"
             ],
             [
              0.3333333333333333,
              "#9c179e"
             ],
             [
              0.4444444444444444,
              "#bd3786"
             ],
             [
              0.5555555555555556,
              "#d8576b"
             ],
             [
              0.6666666666666666,
              "#ed7953"
             ],
             [
              0.7777777777777778,
              "#fb9f3a"
             ],
             [
              0.8888888888888888,
              "#fdca26"
             ],
             [
              1,
              "#f0f921"
             ]
            ],
            "type": "heatmapgl"
           }
          ],
          "histogram": [
           {
            "marker": {
             "pattern": {
              "fillmode": "overlay",
              "size": 10,
              "solidity": 0.2
             }
            },
            "type": "histogram"
           }
          ],
          "histogram2d": [
           {
            "colorbar": {
             "outlinewidth": 0,
             "ticks": ""
            },
            "colorscale": [
             [
              0,
              "#0d0887"
             ],
             [
              0.1111111111111111,
              "#46039f"
             ],
             [
              0.2222222222222222,
              "#7201a8"
             ],
             [
              0.3333333333333333,
              "#9c179e"
             ],
             [
              0.4444444444444444,
              "#bd3786"
             ],
             [
              0.5555555555555556,
              "#d8576b"
             ],
             [
              0.6666666666666666,
              "#ed7953"
             ],
             [
              0.7777777777777778,
              "#fb9f3a"
             ],
             [
              0.8888888888888888,
              "#fdca26"
             ],
             [
              1,
              "#f0f921"
             ]
            ],
            "type": "histogram2d"
           }
          ],
          "histogram2dcontour": [
           {
            "colorbar": {
             "outlinewidth": 0,
             "ticks": ""
            },
            "colorscale": [
             [
              0,
              "#0d0887"
             ],
             [
              0.1111111111111111,
              "#46039f"
             ],
             [
              0.2222222222222222,
              "#7201a8"
             ],
             [
              0.3333333333333333,
              "#9c179e"
             ],
             [
              0.4444444444444444,
              "#bd3786"
             ],
             [
              0.5555555555555556,
              "#d8576b"
             ],
             [
              0.6666666666666666,
              "#ed7953"
             ],
             [
              0.7777777777777778,
              "#fb9f3a"
             ],
             [
              0.8888888888888888,
              "#fdca26"
             ],
             [
              1,
              "#f0f921"
             ]
            ],
            "type": "histogram2dcontour"
           }
          ],
          "mesh3d": [
           {
            "colorbar": {
             "outlinewidth": 0,
             "ticks": ""
            },
            "type": "mesh3d"
           }
          ],
          "parcoords": [
           {
            "line": {
             "colorbar": {
              "outlinewidth": 0,
              "ticks": ""
             }
            },
            "type": "parcoords"
           }
          ],
          "pie": [
           {
            "automargin": true,
            "type": "pie"
           }
          ],
          "scatter": [
           {
            "fillpattern": {
             "fillmode": "overlay",
             "size": 10,
             "solidity": 0.2
            },
            "type": "scatter"
           }
          ],
          "scatter3d": [
           {
            "line": {
             "colorbar": {
              "outlinewidth": 0,
              "ticks": ""
             }
            },
            "marker": {
             "colorbar": {
              "outlinewidth": 0,
              "ticks": ""
             }
            },
            "type": "scatter3d"
           }
          ],
          "scattercarpet": [
           {
            "marker": {
             "colorbar": {
              "outlinewidth": 0,
              "ticks": ""
             }
            },
            "type": "scattercarpet"
           }
          ],
          "scattergeo": [
           {
            "marker": {
             "colorbar": {
              "outlinewidth": 0,
              "ticks": ""
             }
            },
            "type": "scattergeo"
           }
          ],
          "scattergl": [
           {
            "marker": {
             "colorbar": {
              "outlinewidth": 0,
              "ticks": ""
             }
            },
            "type": "scattergl"
           }
          ],
          "scattermapbox": [
           {
            "marker": {
             "colorbar": {
              "outlinewidth": 0,
              "ticks": ""
             }
            },
            "type": "scattermapbox"
           }
          ],
          "scatterpolar": [
           {
            "marker": {
             "colorbar": {
              "outlinewidth": 0,
              "ticks": ""
             }
            },
            "type": "scatterpolar"
           }
          ],
          "scatterpolargl": [
           {
            "marker": {
             "colorbar": {
              "outlinewidth": 0,
              "ticks": ""
             }
            },
            "type": "scatterpolargl"
           }
          ],
          "scatterternary": [
           {
            "marker": {
             "colorbar": {
              "outlinewidth": 0,
              "ticks": ""
             }
            },
            "type": "scatterternary"
           }
          ],
          "surface": [
           {
            "colorbar": {
             "outlinewidth": 0,
             "ticks": ""
            },
            "colorscale": [
             [
              0,
              "#0d0887"
             ],
             [
              0.1111111111111111,
              "#46039f"
             ],
             [
              0.2222222222222222,
              "#7201a8"
             ],
             [
              0.3333333333333333,
              "#9c179e"
             ],
             [
              0.4444444444444444,
              "#bd3786"
             ],
             [
              0.5555555555555556,
              "#d8576b"
             ],
             [
              0.6666666666666666,
              "#ed7953"
             ],
             [
              0.7777777777777778,
              "#fb9f3a"
             ],
             [
              0.8888888888888888,
              "#fdca26"
             ],
             [
              1,
              "#f0f921"
             ]
            ],
            "type": "surface"
           }
          ],
          "table": [
           {
            "cells": {
             "fill": {
              "color": "#EBF0F8"
             },
             "line": {
              "color": "white"
             }
            },
            "header": {
             "fill": {
              "color": "#C8D4E3"
             },
             "line": {
              "color": "white"
             }
            },
            "type": "table"
           }
          ]
         },
         "layout": {
          "annotationdefaults": {
           "arrowcolor": "#2a3f5f",
           "arrowhead": 0,
           "arrowwidth": 1
          },
          "autotypenumbers": "strict",
          "coloraxis": {
           "colorbar": {
            "outlinewidth": 0,
            "ticks": ""
           }
          },
          "colorscale": {
           "diverging": [
            [
             0,
             "#8e0152"
            ],
            [
             0.1,
             "#c51b7d"
            ],
            [
             0.2,
             "#de77ae"
            ],
            [
             0.3,
             "#f1b6da"
            ],
            [
             0.4,
             "#fde0ef"
            ],
            [
             0.5,
             "#f7f7f7"
            ],
            [
             0.6,
             "#e6f5d0"
            ],
            [
             0.7,
             "#b8e186"
            ],
            [
             0.8,
             "#7fbc41"
            ],
            [
             0.9,
             "#4d9221"
            ],
            [
             1,
             "#276419"
            ]
           ],
           "sequential": [
            [
             0,
             "#0d0887"
            ],
            [
             0.1111111111111111,
             "#46039f"
            ],
            [
             0.2222222222222222,
             "#7201a8"
            ],
            [
             0.3333333333333333,
             "#9c179e"
            ],
            [
             0.4444444444444444,
             "#bd3786"
            ],
            [
             0.5555555555555556,
             "#d8576b"
            ],
            [
             0.6666666666666666,
             "#ed7953"
            ],
            [
             0.7777777777777778,
             "#fb9f3a"
            ],
            [
             0.8888888888888888,
             "#fdca26"
            ],
            [
             1,
             "#f0f921"
            ]
           ],
           "sequentialminus": [
            [
             0,
             "#0d0887"
            ],
            [
             0.1111111111111111,
             "#46039f"
            ],
            [
             0.2222222222222222,
             "#7201a8"
            ],
            [
             0.3333333333333333,
             "#9c179e"
            ],
            [
             0.4444444444444444,
             "#bd3786"
            ],
            [
             0.5555555555555556,
             "#d8576b"
            ],
            [
             0.6666666666666666,
             "#ed7953"
            ],
            [
             0.7777777777777778,
             "#fb9f3a"
            ],
            [
             0.8888888888888888,
             "#fdca26"
            ],
            [
             1,
             "#f0f921"
            ]
           ]
          },
          "colorway": [
           "#636efa",
           "#EF553B",
           "#00cc96",
           "#ab63fa",
           "#FFA15A",
           "#19d3f3",
           "#FF6692",
           "#B6E880",
           "#FF97FF",
           "#FECB52"
          ],
          "font": {
           "color": "#2a3f5f"
          },
          "geo": {
           "bgcolor": "white",
           "lakecolor": "white",
           "landcolor": "#E5ECF6",
           "showlakes": true,
           "showland": true,
           "subunitcolor": "white"
          },
          "hoverlabel": {
           "align": "left"
          },
          "hovermode": "closest",
          "mapbox": {
           "style": "light"
          },
          "paper_bgcolor": "white",
          "plot_bgcolor": "#E5ECF6",
          "polar": {
           "angularaxis": {
            "gridcolor": "white",
            "linecolor": "white",
            "ticks": ""
           },
           "bgcolor": "#E5ECF6",
           "radialaxis": {
            "gridcolor": "white",
            "linecolor": "white",
            "ticks": ""
           }
          },
          "scene": {
           "xaxis": {
            "backgroundcolor": "#E5ECF6",
            "gridcolor": "white",
            "gridwidth": 2,
            "linecolor": "white",
            "showbackground": true,
            "ticks": "",
            "zerolinecolor": "white"
           },
           "yaxis": {
            "backgroundcolor": "#E5ECF6",
            "gridcolor": "white",
            "gridwidth": 2,
            "linecolor": "white",
            "showbackground": true,
            "ticks": "",
            "zerolinecolor": "white"
           },
           "zaxis": {
            "backgroundcolor": "#E5ECF6",
            "gridcolor": "white",
            "gridwidth": 2,
            "linecolor": "white",
            "showbackground": true,
            "ticks": "",
            "zerolinecolor": "white"
           }
          },
          "shapedefaults": {
           "line": {
            "color": "#2a3f5f"
           }
          },
          "ternary": {
           "aaxis": {
            "gridcolor": "white",
            "linecolor": "white",
            "ticks": ""
           },
           "baxis": {
            "gridcolor": "white",
            "linecolor": "white",
            "ticks": ""
           },
           "bgcolor": "#E5ECF6",
           "caxis": {
            "gridcolor": "white",
            "linecolor": "white",
            "ticks": ""
           }
          },
          "title": {
           "x": 0.05
          },
          "xaxis": {
           "automargin": true,
           "gridcolor": "white",
           "linecolor": "white",
           "ticks": "",
           "title": {
            "standoff": 15
           },
           "zerolinecolor": "white",
           "zerolinewidth": 2
          },
          "yaxis": {
           "automargin": true,
           "gridcolor": "white",
           "linecolor": "white",
           "ticks": "",
           "title": {
            "standoff": 15
           },
           "zerolinecolor": "white",
           "zerolinewidth": 2
          }
         }
        },
        "title": {
         "text": "Histogram of Woreda"
        },
        "xaxis": {
         "anchor": "y",
         "domain": [
          0,
          1
         ],
         "title": {
          "text": "Woreda"
         }
        },
        "yaxis": {
         "anchor": "x",
         "domain": [
          0,
          1
         ],
         "title": {
          "text": "count"
         }
        }
       }
      }
     },
     "metadata": {},
     "output_type": "display_data"
    }
   ],
   "source": [
    "import plotly.express as px\n",
    "\n",
    "# Assuming you already have the 'df' DataFrame loaded with data\n",
    "\n",
    "# Plot histogram for 'Woreda' column\n",
    "fig = px.histogram(df, x='Woreda', title='Histogram of Woreda')\n",
    "fig.show()\n"
   ]
  },
  {
   "cell_type": "code",
   "execution_count": 10,
   "metadata": {},
   "outputs": [
    {
     "data": {
      "application/vnd.plotly.v1+json": {
       "config": {
        "plotlyServerURL": "https://plot.ly"
       },
       "data": [
        {
         "marker": {
          "color": "blue"
         },
         "name": "NEAR_DIST",
         "type": "box",
         "xaxis": "x",
         "y": [
          96.6364711996908,
          691.6080460061805,
          217.5624452111222,
          30.31815013732375,
          214.9083855619479,
          407.1712998866964,
          190.6093974077847,
          239.7337404076441,
          384.8979519594878,
          144.0963824630916,
          99.62562722979757,
          133.6664798570734,
          69.06262882673367,
          96.72690019371522,
          234.5811109770887,
          213.0279733438463,
          511.7249984860369,
          222.7814638500137,
          217.1022146891997,
          144.5358135198661,
          680.3134537490841,
          2768.213029057296,
          255.391322843,
          122.8178623014452,
          168.2350362957125,
          368.7510531969474,
          584.154972822244,
          301.3171939226759,
          96.86020882694478,
          95.73111173014638,
          487.0029760558285,
          140.3187978133963,
          368.4355553936638,
          190.6319228925702,
          316.3668726462074,
          518.7867699632558,
          549.4427943450024,
          524.1010297994412,
          124.6880180503151,
          302.3711455369079,
          148.0562282257207,
          211.9527033610068,
          98.1289884254169,
          35.21595078280613,
          380.4505049065675,
          427.1714691031522,
          340.3285850554885,
          69.09157509036464,
          43.5314248549879,
          375.3390052705766,
          262.7382252474069,
          546.5449612319354,
          223.8100338999277,
          25.98248751290167,
          150.7388730208542,
          221.0615559786605,
          66.11723121113083,
          530.7463401366588,
          356.1052055388527,
          78.07499692436376,
          147.577602546939,
          148.7447955377434,
          187.1203106569498,
          578.8357575207781,
          99.00434943023012,
          180.0171812635606,
          55.10372243498431,
          72.66565433500924,
          162.5529629661786,
          376.6872388125238,
          115.0152016215659,
          6231.434242806816,
          11942.9203843918,
          6212.833355139387,
          12855.44513761542,
          697.8563786815188,
          1468.442514613447,
          78.27409814145099,
          154.8731831016665,
          251.3712883205834,
          25.63318411878297,
          661.7969292596853,
          213.8977166877399,
          233.2823953302837,
          322.5892505056374,
          50.56109541789919,
          94.6886596240826,
          245.3342597310527,
          260.9205717362716,
          232.9090720909558,
          82.772652482312,
          667.4882498929079,
          5132.034931176965,
          3606.0806784477,
          3744.614054371114,
          2552.955481812132,
          2506.789029332755,
          62.44238344710466,
          682.7652453657481,
          493.6425411743609,
          69.91059740480989,
          70.92638790772912,
          438.0472407570808,
          244.3965413398754,
          176.9188346130479,
          575.7782513298852,
          365.3623507521214,
          180.2324078416707,
          518.6238288911629,
          343.1552484216651,
          989.0288719929009,
          23.64036535044536,
          262.1304136670018,
          338.640348994911,
          83.61522260347934,
          1283.119222685208,
          456.764141762861,
          151.7190482404595,
          280.7864226138439,
          306.5478283066388,
          412.9312298524693,
          34.90540700023296,
          177.9739551368149,
          641.6313402562852,
          51.7996471140418,
          17.61358252085036,
          380.263605619967,
          188.2612627700436,
          389.8786904168682,
          819.1690640166546,
          222.9952122632666,
          411.1236233559893,
          99.785758056664,
          163.7594897875299,
          175.1056498994815,
          300.5924493362834,
          525.3256633792304,
          88.51271078094871,
          697.070520684291,
          599.1856411093872,
          183.5594170781139,
          57.73763704377923,
          378.3352752609563,
          506.8678465895598,
          288.3560866617192,
          652.7672805998242,
          420.0578369285219,
          435.8291850851415,
          168.9791607469459,
          281.8504325100893,
          105.4923239556618,
          364.5652963341974,
          220.9409800830365,
          89.80400370136945,
          159.3846819289145,
          59.30366181526508,
          85.06807961122112,
          288.3659981429664,
          408.1832991003972,
          110.5830939481948,
          88.11192719563033,
          111.5614754311424,
          195.2759570192341,
          81.23554880710041,
          182.060082217908,
          173.4290449970584,
          71.67315451682659,
          497.9386815809781,
          382.7528920654103,
          97.62260904901582,
          138.9375905164123,
          277.0544687534854,
          136.1288666260096,
          64.42291595685383,
          415.8036934656366,
          216.7985578578309,
          76.3589992869933,
          102.559842273395,
          139.1539571512548,
          956.2769940599125,
          182.3170999715223,
          128.4143923530311,
          114.7462886589296,
          262.317960584757,
          311.75781297254,
          99.92385295724705,
          348.2540496691199,
          145.2303503937714,
          113.255634297336,
          1136.949229041895,
          372.6157325133458,
          143.0239727667421,
          307.4113138291668,
          30.97843434445082,
          149.3006712326299,
          53.46827427640647,
          116.0899066919954,
          84.9171737514323,
          67.12796208871917,
          634.2533094837212,
          435.8665273126907,
          78.0458353808306,
          283.7469506954308,
          279.7141358564378,
          112.5662157373418,
          40.24350395743875,
          173.2474136845616,
          256.2346686789497,
          217.5286177679791,
          29.4655925047869,
          892.1186709020677,
          590.3628373146371,
          24.98969093188842,
          20.27511455527184,
          175.0990767232319,
          199.269870449408,
          224.8993880068798,
          289.1978061690883,
          193.4291233927096,
          17.00478584659074,
          582.9182450415221,
          72.71664626390732,
          282.0556716335109,
          149.4818831480676,
          119.2317099566132,
          211.9802059891022,
          623.8838134495394,
          495.5040797969492,
          457.8214732136171,
          540.0919697974348,
          324.1127416804562,
          181.2861416964842,
          147.3143250986141,
          395.6796663403875,
          234.4537248828452,
          355.1859583746206,
          217.5156876540991,
          744.1909509296347,
          41.00834108081504,
          804.2706112483811,
          478.5349105261671,
          752.9343152133041,
          544.1854585342966,
          589.840734067794,
          661.8188926198732,
          48.53524702671245,
          30.65111798326597,
          488.7673603364822,
          363.0227134818449,
          360.3477553671657
         ],
         "yaxis": "y"
        },
        {
         "marker": {
          "color": "green"
         },
         "name": "metric",
         "type": "box",
         "xaxis": "x2",
         "y": [
          253459.2367191068,
          160009.5773832461,
          217699.9260567665,
          136891.5212719888,
          124815.2253852123,
          174303.1448813489,
          115832.1782980477,
          229518.8521152658,
          153249.0705687592,
          243165.5181425172,
          138693.8811669254,
          596207.8614474408,
          124794.1821786945,
          1964852.787238381,
          132644.5805802886,
          132644.5805802886,
          194506.2450912247,
          150639.7824318229,
          41127.51771477913,
          14938.49498632483,
          712.0342280091082,
          615.5843993315029,
          61818.6864368047,
          14153.73737654201,
          4.766521897780413,
          8428.260527806475,
          60744.99895864137,
          5498.137235730458,
          124815.2253852123,
          249448.558306867,
          11383.00087668015,
          4329.795227499982,
          13419.05211834962,
          392.6628273210162,
          11285.85512078554,
          1505.496964277816,
          28351.71241733541,
          835.5197320220348,
          18534.30957750812,
          130811.6950053391,
          10905.38587452429,
          57438.72964018219,
          396649.7916304982,
          311846.0105423033,
          7398.73524961673,
          3665.723630195513,
          2438.71750765925,
          64.55664578758791,
          38761.75589349315,
          292.6218226979391,
          34451.29790757748,
          93839.26613245485,
          7223.882633274887,
          54660.47648414843,
          748.3382453440825,
          9582.583364997421,
          79247.76511027016,
          170140.5980844286,
          89632.86339614223,
          195055.0128322576,
          846185.8131461248,
          906946.7774300497,
          966355.6421902915,
          823438.3480156994,
          941053.1393092148,
          102631.0474842084,
          164715.1016283477,
          212596.9347936639,
          430849.3932161929,
          542336.8971512103,
          2724.148406670335,
          10292.36782252949,
          2351.395344203186,
          10292.36782252949,
          2351.395344203186,
          39536.49764192609,
          1294.441805014963,
          15873.30231915356,
          798.6018087340258,
          17662.0090558104,
          59234.38922603314,
          356.0976672322179,
          189529.4311089741,
          423862.6061676692,
          91551.94898194922,
          91551.94898194922,
          120900.2600367395,
          1047.737619772475,
          21801.80134880209,
          17694.35819122706,
          53130.22404481468,
          154604.1304892287,
          34943.8377932012,
          53130.22404481468,
          53130.22404481468,
          34943.8377932012,
          34943.8377932012,
          990.8302829138372,
          6775.748711676592,
          127379.8138911427,
          174303.1448813489,
          212.6945352551237,
          16217.94167978457,
          253468.5456471947,
          253468.5456471947,
          253468.5456471947,
          711.4155440105221,
          2795.146450690694,
          136427.1782104547,
          5901.981616498222,
          703.8622998971884,
          3024.525568511844,
          2389.153914727225,
          1137.112970543824,
          1619.786059042484,
          124108.850526243,
          3046.223669395361,
          8495.377790603916,
          29769.26274137877,
          31749.99275003482,
          29769.26274137877,
          12792.77161627986,
          255296.3555152184,
          1763.422687979069,
          6349.609947104457,
          140601.8913247921,
          2142.9098654003,
          621.5128946852003,
          8963.77733238255,
          8021.820355392348,
          11285.85512078554,
          2173.584765102344,
          98.09701813950113,
          12103.55593359559,
          17394.63224658562,
          449.5149862821535,
          1990.07226168887,
          32757.47106408048,
          1417.329944083856,
          1417.329944083856,
          2021.352902975851,
          16204.55110468365,
          63.7312476086514,
          63.7312476086514,
          10248.45816967383,
          10248.45816967383,
          90266.17460208845,
          69.69013280450275,
          424265.5386448323,
          424265.5386448323,
          887338.3911766936,
          42159.26860146575,
          13705.8352823509,
          10482.86305501483,
          19775.89534533698,
          56374.22099908721,
          2793.818116755554,
          230535.4250949211,
          206793.8606694331,
          224404.7390356766,
          206793.8606694331,
          13388.569599563,
          970585.9530976611,
          135946.2350363095,
          8442.746512292857,
          200970.346095831,
          21744.83513710526,
          428161.5564425463,
          428161.5564425463,
          14443.14628932435,
          13580.44178026544,
          3329.425198548387,
          23171.53354166426,
          30908.68563210395,
          41842.81299500816,
          13278.7483964727,
          825.6264312168398,
          30806.14245380143,
          2.898498606757737,
          739.1852186072076,
          664.3192849099141,
          354.8850201166062,
          86.10839652862862,
          2180.238465821686,
          1602.473640548658,
          79.21137820806686,
          94.60730459821568,
          821.506325670822,
          6362.548316208827,
          44393.88091015633,
          18336.31048293318,
          238.6415460327767,
          8442.486116521526,
          1760.254920592202,
          18003.65054652771,
          5005.726484872852,
          3223.868144052682,
          261902.1375221267,
          555.8053641087342,
          46095.00080038904,
          291731.4160607171,
          330929.8020788722,
          291731.4160607171,
          2606.863200731415,
          1259743.774054053,
          280717.0647631518,
          51417.82957871904,
          15314.5562069875,
          432005.7398352941,
          3292.414382400093,
          41594.65376584117,
          9409.285245935806,
          14397.39288980864,
          3435.410088567155,
          3435.410088567155,
          3292.414382400093,
          3292.414382400093,
          5396.841393202199,
          954.1250655622563,
          59273.69052373531,
          55786.36365230708,
          22547.49284436076,
          22851.20205293391,
          6925.905135715047,
          6925.905135715047,
          121557.6039934788,
          142775.5572366602,
          596207.8614474408,
          778740.7658694367,
          2585.752811907388,
          12140.63781181748,
          4051.6671443168,
          15777.09967871947,
          15777.09967871947,
          15777.09967871947,
          263435.0448848447,
          15777.09967871947,
          40718.28250016102,
          40718.28250016102,
          40718.28250016102,
          12470.04505305689,
          12470.04505305689,
          280.0081046396362,
          11255.6131643065,
          130046.0839573793,
          6835.449429454501,
          5588.690404281914,
          11255.6131643065,
          5498.137235730458,
          1505.496964277816
         ],
         "yaxis": "y2"
        },
        {
         "marker": {
          "color": "orange"
         },
         "name": "POPULATION",
         "type": "box",
         "xaxis": "x3",
         "y": [
          485.7903242111206,
          4963.21462869644,
          611.3215298652649,
          6052.921845912932,
          474.057478427887,
          480.5225591659546,
          695.1304211616515,
          335.3945145606995,
          448.6251516342163,
          398.4211072921753,
          409.2163324356079,
          343.1260981559754,
          562.4077305793762,
          636.0832600593566,
          467.7078704833984,
          450.0966968536377,
          675.1072287559509,
          373.7020545005798,
          2138.246538162232,
          1697.372858047485,
          460.8640689849854,
          661.5621728897096,
          2890.392656326294,
          1060.501466751099,
          1676.365303993225,
          2748.72342300415,
          2871.870477676393,
          1313.135081291199,
          1289.718379020691,
          1634.991061210632,
          998.3770208358766,
          1114.540257930756,
          638.8274846076965,
          1105.04391002655,
          870.444784641266,
          1108.687779426574,
          818.8598995208741,
          1737.31551837921,
          1227.750956535339,
          2683.511394023897,
          2108.257166862488,
          487.9302520751954,
          1639.913969039917,
          4878.14495277405,
          756.6890282630922,
          779.6819820404054,
          965.3607244491578,
          822.109877586365,
          700.2477622032168,
          718.4266738891603,
          729.0365900993347,
          1036.954199790955,
          996.6135168075559,
          1445.193375587464,
          906.2434320449825,
          954.1546573638914,
          823.1592626571655,
          1074.565496444703,
          830.0277528762814,
          580.0167031288149,
          755.3168234825134,
          794.8935718536375,
          1670.13202571869,
          760.7850241661074,
          566.6802854537964,
          110.9256820678711,
          531.2118434906004,
          1234.744259357452,
          374.1882262229919,
          1393.364026546478,
          105.8876399993896,
          505.8713569641114,
          587.0996313095092,
          450.3816280364991,
          467.4373130798341,
          258.0381212234497,
          500.3495216369628,
          null,
          217.4494433403015,
          1153.267485141754,
          855.1442260742186,
          667.8147897720341,
          146.3232026100159,
          1526.047327041625,
          636.9780249595641,
          560.0606784820556,
          396.0546035766602,
          495.2339162826538,
          952.9534082412719,
          228.1181383132935,
          1183.916589260101,
          364.5823931694031,
          245.9013862609864,
          170.463327884674,
          190.3482794761658,
          567.9864301681519,
          415.4794325828553,
          634.6029229164124,
          494.1257576942445,
          708.8463258743285,
          8654.280290603638,
          10604.60922431946,
          10742.38714122772,
          9142.196159362795,
          7378.768060684204,
          10462.58671760559,
          675.5356760025023,
          1185.155321121216,
          628.139814376831,
          464.2076501846312,
          919.6422233581543,
          614.4826612472534,
          367.8011951446533,
          838.2989015579224,
          429.6840801239013,
          133.949330329895,
          775.7319097518921,
          913.8292388916018,
          779.9254646301268,
          697.8458881378174,
          417.8224687576295,
          369.8535223007203,
          480.9928493499755,
          449.4519395828247,
          238.9556264877319,
          830.8575105667113,
          1012.349052906036,
          774.1953325271609,
          1071.314752578735,
          553.9305324554442,
          829.6087646484375,
          1746.691420078278,
          588.8627924919128,
          1260.697084426881,
          742.2206859588623,
          690.7371459007263,
          695.4274964332584,
          1538.006453037262,
          61.93323945999145,
          45.71916627883911,
          57.30819272994995,
          3251.415415287018,
          93.135338306427,
          55.8963327407837,
          1446.063897132874,
          989.8787188529967,
          459.5554890632632,
          425.7861990928651,
          995.2102708816527,
          1056.212489128113,
          1946.910461425781,
          1091.663955688477,
          1564.028968811035,
          1113.01652431488,
          2047.831129550934,
          2649.126378536225,
          2623.192077159883,
          1947.107361793518,
          1505.134767055511,
          1408.253712654114,
          1533.252717018127,
          919.359627723694,
          1093.722822666168,
          1748.075991630554,
          980.5616955757142,
          3269.837214469908,
          2242.469892501831,
          5072.468629837037,
          5211.644974708559,
          1697.720404148103,
          733.0596251487732,
          1122.750061035156,
          774.324213027954,
          1158.736248970032,
          937.7541208267213,
          2679.881488323213,
          802.1956663131715,
          1667.447139263153,
          1042.175849914551,
          1154.037437915803,
          234.4420909881592,
          1123.32569026947,
          819.5507969856262,
          783.0693759918212,
          962.5910873413084,
          1102.895404338836,
          474.9744777679442,
          149.8866648674011,
          2355.611297130586,
          4658.511507987973,
          16466.43640995025,
          362.3879690170288,
          2354.287754058838,
          827.5675535202025,
          1325.342555046082,
          2717.382323265076,
          1231.648017883301,
          4373.319407463073,
          4838.61888217926,
          5801.966189384461,
          3858.888503074647,
          3551.201108932494,
          3734.57018184662,
          3249.950499534607,
          3218.430734634399,
          430.7300033569337,
          821.920603275299,
          530.162392616272,
          399.7412099838257,
          892.8180222511295,
          2231.339382171631,
          2421.72027015686,
          1078.938637733459,
          1483.402146339416,
          1512.558029174804,
          984.5629835128785,
          837.462624549866,
          722.6413507461547,
          895.3347568511964,
          2159.492692947387,
          1207.917956352234,
          1688.269916534424,
          2291.76556110382,
          2253.904487609863,
          2230.518634796142,
          1621.033840179443,
          1664.03325176239,
          3448.802480697631,
          2301.584243774414,
          2330.471534729004,
          2052.22681427002,
          2006.994565963746,
          1576.694771766663,
          1976.444081306457,
          1679.759503364563,
          2099.685497283936,
          1636.43541431427,
          1634.012313842774,
          1603.079982757569,
          1669.278028488159,
          830.5925130844115,
          863.9708614349363,
          877.603680610657,
          924.6308441162107,
          1389.306383132934,
          1254.948216438293,
          1103.071758270264,
          1498.025373458862,
          1298.270575523377,
          1175.95246219635
         ],
         "yaxis": "y3"
        }
       ],
       "layout": {
        "template": {
         "data": {
          "bar": [
           {
            "error_x": {
             "color": "#2a3f5f"
            },
            "error_y": {
             "color": "#2a3f5f"
            },
            "marker": {
             "line": {
              "color": "#E5ECF6",
              "width": 0.5
             },
             "pattern": {
              "fillmode": "overlay",
              "size": 10,
              "solidity": 0.2
             }
            },
            "type": "bar"
           }
          ],
          "barpolar": [
           {
            "marker": {
             "line": {
              "color": "#E5ECF6",
              "width": 0.5
             },
             "pattern": {
              "fillmode": "overlay",
              "size": 10,
              "solidity": 0.2
             }
            },
            "type": "barpolar"
           }
          ],
          "carpet": [
           {
            "aaxis": {
             "endlinecolor": "#2a3f5f",
             "gridcolor": "white",
             "linecolor": "white",
             "minorgridcolor": "white",
             "startlinecolor": "#2a3f5f"
            },
            "baxis": {
             "endlinecolor": "#2a3f5f",
             "gridcolor": "white",
             "linecolor": "white",
             "minorgridcolor": "white",
             "startlinecolor": "#2a3f5f"
            },
            "type": "carpet"
           }
          ],
          "choropleth": [
           {
            "colorbar": {
             "outlinewidth": 0,
             "ticks": ""
            },
            "type": "choropleth"
           }
          ],
          "contour": [
           {
            "colorbar": {
             "outlinewidth": 0,
             "ticks": ""
            },
            "colorscale": [
             [
              0,
              "#0d0887"
             ],
             [
              0.1111111111111111,
              "#46039f"
             ],
             [
              0.2222222222222222,
              "#7201a8"
             ],
             [
              0.3333333333333333,
              "#9c179e"
             ],
             [
              0.4444444444444444,
              "#bd3786"
             ],
             [
              0.5555555555555556,
              "#d8576b"
             ],
             [
              0.6666666666666666,
              "#ed7953"
             ],
             [
              0.7777777777777778,
              "#fb9f3a"
             ],
             [
              0.8888888888888888,
              "#fdca26"
             ],
             [
              1,
              "#f0f921"
             ]
            ],
            "type": "contour"
           }
          ],
          "contourcarpet": [
           {
            "colorbar": {
             "outlinewidth": 0,
             "ticks": ""
            },
            "type": "contourcarpet"
           }
          ],
          "heatmap": [
           {
            "colorbar": {
             "outlinewidth": 0,
             "ticks": ""
            },
            "colorscale": [
             [
              0,
              "#0d0887"
             ],
             [
              0.1111111111111111,
              "#46039f"
             ],
             [
              0.2222222222222222,
              "#7201a8"
             ],
             [
              0.3333333333333333,
              "#9c179e"
             ],
             [
              0.4444444444444444,
              "#bd3786"
             ],
             [
              0.5555555555555556,
              "#d8576b"
             ],
             [
              0.6666666666666666,
              "#ed7953"
             ],
             [
              0.7777777777777778,
              "#fb9f3a"
             ],
             [
              0.8888888888888888,
              "#fdca26"
             ],
             [
              1,
              "#f0f921"
             ]
            ],
            "type": "heatmap"
           }
          ],
          "heatmapgl": [
           {
            "colorbar": {
             "outlinewidth": 0,
             "ticks": ""
            },
            "colorscale": [
             [
              0,
              "#0d0887"
             ],
             [
              0.1111111111111111,
              "#46039f"
             ],
             [
              0.2222222222222222,
              "#7201a8"
             ],
             [
              0.3333333333333333,
              "#9c179e"
             ],
             [
              0.4444444444444444,
              "#bd3786"
             ],
             [
              0.5555555555555556,
              "#d8576b"
             ],
             [
              0.6666666666666666,
              "#ed7953"
             ],
             [
              0.7777777777777778,
              "#fb9f3a"
             ],
             [
              0.8888888888888888,
              "#fdca26"
             ],
             [
              1,
              "#f0f921"
             ]
            ],
            "type": "heatmapgl"
           }
          ],
          "histogram": [
           {
            "marker": {
             "pattern": {
              "fillmode": "overlay",
              "size": 10,
              "solidity": 0.2
             }
            },
            "type": "histogram"
           }
          ],
          "histogram2d": [
           {
            "colorbar": {
             "outlinewidth": 0,
             "ticks": ""
            },
            "colorscale": [
             [
              0,
              "#0d0887"
             ],
             [
              0.1111111111111111,
              "#46039f"
             ],
             [
              0.2222222222222222,
              "#7201a8"
             ],
             [
              0.3333333333333333,
              "#9c179e"
             ],
             [
              0.4444444444444444,
              "#bd3786"
             ],
             [
              0.5555555555555556,
              "#d8576b"
             ],
             [
              0.6666666666666666,
              "#ed7953"
             ],
             [
              0.7777777777777778,
              "#fb9f3a"
             ],
             [
              0.8888888888888888,
              "#fdca26"
             ],
             [
              1,
              "#f0f921"
             ]
            ],
            "type": "histogram2d"
           }
          ],
          "histogram2dcontour": [
           {
            "colorbar": {
             "outlinewidth": 0,
             "ticks": ""
            },
            "colorscale": [
             [
              0,
              "#0d0887"
             ],
             [
              0.1111111111111111,
              "#46039f"
             ],
             [
              0.2222222222222222,
              "#7201a8"
             ],
             [
              0.3333333333333333,
              "#9c179e"
             ],
             [
              0.4444444444444444,
              "#bd3786"
             ],
             [
              0.5555555555555556,
              "#d8576b"
             ],
             [
              0.6666666666666666,
              "#ed7953"
             ],
             [
              0.7777777777777778,
              "#fb9f3a"
             ],
             [
              0.8888888888888888,
              "#fdca26"
             ],
             [
              1,
              "#f0f921"
             ]
            ],
            "type": "histogram2dcontour"
           }
          ],
          "mesh3d": [
           {
            "colorbar": {
             "outlinewidth": 0,
             "ticks": ""
            },
            "type": "mesh3d"
           }
          ],
          "parcoords": [
           {
            "line": {
             "colorbar": {
              "outlinewidth": 0,
              "ticks": ""
             }
            },
            "type": "parcoords"
           }
          ],
          "pie": [
           {
            "automargin": true,
            "type": "pie"
           }
          ],
          "scatter": [
           {
            "fillpattern": {
             "fillmode": "overlay",
             "size": 10,
             "solidity": 0.2
            },
            "type": "scatter"
           }
          ],
          "scatter3d": [
           {
            "line": {
             "colorbar": {
              "outlinewidth": 0,
              "ticks": ""
             }
            },
            "marker": {
             "colorbar": {
              "outlinewidth": 0,
              "ticks": ""
             }
            },
            "type": "scatter3d"
           }
          ],
          "scattercarpet": [
           {
            "marker": {
             "colorbar": {
              "outlinewidth": 0,
              "ticks": ""
             }
            },
            "type": "scattercarpet"
           }
          ],
          "scattergeo": [
           {
            "marker": {
             "colorbar": {
              "outlinewidth": 0,
              "ticks": ""
             }
            },
            "type": "scattergeo"
           }
          ],
          "scattergl": [
           {
            "marker": {
             "colorbar": {
              "outlinewidth": 0,
              "ticks": ""
             }
            },
            "type": "scattergl"
           }
          ],
          "scattermapbox": [
           {
            "marker": {
             "colorbar": {
              "outlinewidth": 0,
              "ticks": ""
             }
            },
            "type": "scattermapbox"
           }
          ],
          "scatterpolar": [
           {
            "marker": {
             "colorbar": {
              "outlinewidth": 0,
              "ticks": ""
             }
            },
            "type": "scatterpolar"
           }
          ],
          "scatterpolargl": [
           {
            "marker": {
             "colorbar": {
              "outlinewidth": 0,
              "ticks": ""
             }
            },
            "type": "scatterpolargl"
           }
          ],
          "scatterternary": [
           {
            "marker": {
             "colorbar": {
              "outlinewidth": 0,
              "ticks": ""
             }
            },
            "type": "scatterternary"
           }
          ],
          "surface": [
           {
            "colorbar": {
             "outlinewidth": 0,
             "ticks": ""
            },
            "colorscale": [
             [
              0,
              "#0d0887"
             ],
             [
              0.1111111111111111,
              "#46039f"
             ],
             [
              0.2222222222222222,
              "#7201a8"
             ],
             [
              0.3333333333333333,
              "#9c179e"
             ],
             [
              0.4444444444444444,
              "#bd3786"
             ],
             [
              0.5555555555555556,
              "#d8576b"
             ],
             [
              0.6666666666666666,
              "#ed7953"
             ],
             [
              0.7777777777777778,
              "#fb9f3a"
             ],
             [
              0.8888888888888888,
              "#fdca26"
             ],
             [
              1,
              "#f0f921"
             ]
            ],
            "type": "surface"
           }
          ],
          "table": [
           {
            "cells": {
             "fill": {
              "color": "#EBF0F8"
             },
             "line": {
              "color": "white"
             }
            },
            "header": {
             "fill": {
              "color": "#C8D4E3"
             },
             "line": {
              "color": "white"
             }
            },
            "type": "table"
           }
          ]
         },
         "layout": {
          "annotationdefaults": {
           "arrowcolor": "#2a3f5f",
           "arrowhead": 0,
           "arrowwidth": 1
          },
          "autotypenumbers": "strict",
          "coloraxis": {
           "colorbar": {
            "outlinewidth": 0,
            "ticks": ""
           }
          },
          "colorscale": {
           "diverging": [
            [
             0,
             "#8e0152"
            ],
            [
             0.1,
             "#c51b7d"
            ],
            [
             0.2,
             "#de77ae"
            ],
            [
             0.3,
             "#f1b6da"
            ],
            [
             0.4,
             "#fde0ef"
            ],
            [
             0.5,
             "#f7f7f7"
            ],
            [
             0.6,
             "#e6f5d0"
            ],
            [
             0.7,
             "#b8e186"
            ],
            [
             0.8,
             "#7fbc41"
            ],
            [
             0.9,
             "#4d9221"
            ],
            [
             1,
             "#276419"
            ]
           ],
           "sequential": [
            [
             0,
             "#0d0887"
            ],
            [
             0.1111111111111111,
             "#46039f"
            ],
            [
             0.2222222222222222,
             "#7201a8"
            ],
            [
             0.3333333333333333,
             "#9c179e"
            ],
            [
             0.4444444444444444,
             "#bd3786"
            ],
            [
             0.5555555555555556,
             "#d8576b"
            ],
            [
             0.6666666666666666,
             "#ed7953"
            ],
            [
             0.7777777777777778,
             "#fb9f3a"
            ],
            [
             0.8888888888888888,
             "#fdca26"
            ],
            [
             1,
             "#f0f921"
            ]
           ],
           "sequentialminus": [
            [
             0,
             "#0d0887"
            ],
            [
             0.1111111111111111,
             "#46039f"
            ],
            [
             0.2222222222222222,
             "#7201a8"
            ],
            [
             0.3333333333333333,
             "#9c179e"
            ],
            [
             0.4444444444444444,
             "#bd3786"
            ],
            [
             0.5555555555555556,
             "#d8576b"
            ],
            [
             0.6666666666666666,
             "#ed7953"
            ],
            [
             0.7777777777777778,
             "#fb9f3a"
            ],
            [
             0.8888888888888888,
             "#fdca26"
            ],
            [
             1,
             "#f0f921"
            ]
           ]
          },
          "colorway": [
           "#636efa",
           "#EF553B",
           "#00cc96",
           "#ab63fa",
           "#FFA15A",
           "#19d3f3",
           "#FF6692",
           "#B6E880",
           "#FF97FF",
           "#FECB52"
          ],
          "font": {
           "color": "#2a3f5f"
          },
          "geo": {
           "bgcolor": "white",
           "lakecolor": "white",
           "landcolor": "#E5ECF6",
           "showlakes": true,
           "showland": true,
           "subunitcolor": "white"
          },
          "hoverlabel": {
           "align": "left"
          },
          "hovermode": "closest",
          "mapbox": {
           "style": "light"
          },
          "paper_bgcolor": "white",
          "plot_bgcolor": "#E5ECF6",
          "polar": {
           "angularaxis": {
            "gridcolor": "white",
            "linecolor": "white",
            "ticks": ""
           },
           "bgcolor": "#E5ECF6",
           "radialaxis": {
            "gridcolor": "white",
            "linecolor": "white",
            "ticks": ""
           }
          },
          "scene": {
           "xaxis": {
            "backgroundcolor": "#E5ECF6",
            "gridcolor": "white",
            "gridwidth": 2,
            "linecolor": "white",
            "showbackground": true,
            "ticks": "",
            "zerolinecolor": "white"
           },
           "yaxis": {
            "backgroundcolor": "#E5ECF6",
            "gridcolor": "white",
            "gridwidth": 2,
            "linecolor": "white",
            "showbackground": true,
            "ticks": "",
            "zerolinecolor": "white"
           },
           "zaxis": {
            "backgroundcolor": "#E5ECF6",
            "gridcolor": "white",
            "gridwidth": 2,
            "linecolor": "white",
            "showbackground": true,
            "ticks": "",
            "zerolinecolor": "white"
           }
          },
          "shapedefaults": {
           "line": {
            "color": "#2a3f5f"
           }
          },
          "ternary": {
           "aaxis": {
            "gridcolor": "white",
            "linecolor": "white",
            "ticks": ""
           },
           "baxis": {
            "gridcolor": "white",
            "linecolor": "white",
            "ticks": ""
           },
           "bgcolor": "#E5ECF6",
           "caxis": {
            "gridcolor": "white",
            "linecolor": "white",
            "ticks": ""
           }
          },
          "title": {
           "x": 0.05
          },
          "xaxis": {
           "automargin": true,
           "gridcolor": "white",
           "linecolor": "white",
           "ticks": "",
           "title": {
            "standoff": 15
           },
           "zerolinecolor": "white",
           "zerolinewidth": 2
          },
          "yaxis": {
           "automargin": true,
           "gridcolor": "white",
           "linecolor": "white",
           "ticks": "",
           "title": {
            "standoff": 15
           },
           "zerolinecolor": "white",
           "zerolinewidth": 2
          }
         }
        },
        "title": {
         "text": "Box Plot of Numeric Variables"
        },
        "xaxis": {
         "anchor": "y",
         "domain": [
          0,
          0.2888888888888889
         ]
        },
        "xaxis2": {
         "anchor": "y2",
         "domain": [
          0.35555555555555557,
          0.6444444444444445
         ]
        },
        "xaxis3": {
         "anchor": "y3",
         "domain": [
          0.7111111111111111,
          1
         ]
        },
        "yaxis": {
         "anchor": "x",
         "domain": [
          0,
          1
         ],
         "title": {
          "text": "Value"
         }
        },
        "yaxis2": {
         "anchor": "x2",
         "domain": [
          0,
          1
         ]
        },
        "yaxis3": {
         "anchor": "x3",
         "domain": [
          0,
          1
         ]
        }
       }
      }
     },
     "metadata": {},
     "output_type": "display_data"
    }
   ],
   "source": [
    "from plotly.subplots import make_subplots\n",
    "import plotly.graph_objects as go\n",
    "\n",
    "# Create subplots\n",
    "fig = make_subplots(rows=1, cols=3)\n",
    "\n",
    "# Add box plots for NEAR_DIST\n",
    "fig.add_trace(go.Box(y=df['NEAR_DIST'], name='NEAR_DIST', marker_color='blue'), row=1, col=1)\n",
    "\n",
    "# Add box plots for metric\n",
    "fig.add_trace(go.Box(y=df['metric'], name='metric', marker_color='green'), row=1, col=2)\n",
    "\n",
    "# Add box plots for POPULATION\n",
    "fig.add_trace(go.Box(y=df['POPULATION'], name='POPULATION', marker_color='orange'), row=1, col=3)\n",
    "\n",
    "# Update layout\n",
    "fig.update_layout(\n",
    "    title='Box Plot of Numeric Variables',\n",
    "    yaxis_title='Value',\n",
    ")\n",
    "\n",
    "# Show plot\n",
    "fig.show()\n"
   ]
  },
  {
   "cell_type": "code",
   "execution_count": 11,
   "metadata": {},
   "outputs": [
    {
     "data": {
      "image/png": "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",
      "text/plain": [
       "<Figure size 800x600 with 2 Axes>"
      ]
     },
     "metadata": {},
     "output_type": "display_data"
    }
   ],
   "source": [
    "# Calculate correlation matrix\n",
    "correlation_matrix = df[['NEAR_DIST', 'metric', 'POPULATION']].corr()\n",
    "\n",
    "# Create heatmap\n",
    "plt.figure(figsize=(8, 6))\n",
    "sns.heatmap(correlation_matrix, annot=True, cmap='coolwarm', fmt=\".2f\", annot_kws={\"size\": 10})\n",
    "plt.title('Correlation Matrix of NEAR_DIST, metric, and POPULATION')\n",
    "plt.show()\n"
   ]
  },
  {
   "cell_type": "code",
   "execution_count": 12,
   "metadata": {},
   "outputs": [
    {
     "data": {
      "application/vnd.plotly.v1+json": {
       "config": {
        "plotlyServerURL": "https://plot.ly"
       },
       "data": [
        {
         "hoverinfo": "text",
         "marker": {
          "color": "blue"
         },
         "mode": "markers",
         "name": "Data Points",
         "text": [
          "- Dangawaj - 1049769",
          "- Leencha - 1049728",
          "- Marti - 1049727",
          "- Dangawaj Qalaa - 1049726",
          "- Beeroo - 1049725",
          "- Golli - 1049724",
          "- Amiinoo - 1049723",
          "- Kobbaa - 1049722",
          "- Kobbaa - 1049721",
          "- Chancho - 1049720",
          "Ethiopia - Amoomaa - 1049718",
          "- Dangawaj - 1049717",
          "- Jijo - 1049716",
          "- Anaba - 1049715",
          "- Muuchaa 2 - 1049714",
          "Ethiopia - Muchaa 1 - 1049713",
          "- Inboro - 1049712",
          "- Ooloo - 1049711",
          "- Gooro - 1050398",
          "- Adam Abdi - 1050397",
          "- Abdi Boru - 1050396",
          "- Walda - 1050395",
          "- Dirre Baloo - 1050393",
          "- Ali Ahmed - 1050386",
          "- Ali Uree - 1050385",
          "- Ambo - 1050382",
          "- Dorine - 1049779",
          "- Yemito - 1049778",
          "- Waakkaa - 1049777",
          "- Inabro - 1049776",
          "- Babayu - 1049775",
          "- Angaro - 1049774",
          "- Seemmee - 1049773",
          "- Sadacha - 1049772",
          "- Dogaja - 1049771",
          "- Maammee - 1049770",
          "- Arabu - 1049615",
          "- Sapeeraa - 1049614",
          "- Dagaboso - 1049613",
          "- Usmani - 1049599",
          "- Yaacino - 1049598",
          "- Olme Dha'e - 1049597",
          "- Ilkee - 1049596",
          "- Aniya - 1049595",
          "- Shewa Bar - 1049593",
          "- Burkitu - 1049592",
          "- Yabboo - 1049591",
          "- Misira - 1049578",
          "- Jalalle - 1049576",
          "- Kombolcha - 1049575",
          "- Kobaa Warke - 1049574",
          "- Heeraa - 1049573",
          "- Wannib - 1049563",
          "- Duuke - 1049562",
          "- Xabala - 1049561",
          "- Tuuli - 1049560",
          "- Chagge - 1049544",
          "- Kambo - 1049543",
          "- Gocho - 1049542",
          "- Gaaro - 1049541",
          "- Ambalta - 1049516",
          "- Raammee - 1049515",
          "- Ginabe - 1049514",
          "- Nagade - 1049512",
          "- Ambalta - 1049511",
          "- Basiro - 1049510",
          "- Qaqa - 1049498",
          "- Laftani - 1049496",
          "- Urgesa - 1049495",
          "- Buluke Doose - 1049494",
          "- Soloka - 1049414",
          "- Sarde - 1049413",
          "- Alga - 1049412",
          "- Bakke Reettii - 1049410",
          "- Iyasi - 1049409",
          "- Mayyee - 1049408",
          "- Ooso - 1049407",
          "- Madoo - 1049406",
          "- Allabero - 1049405",
          "- Sadacha - 1049084",
          "- Buko - 1049083",
          "- Utee - 1049082",
          "- Kobo - 1049080",
          "- Darita 1st - 1049076",
          "- Tabote - 1049074",
          "- Iyaru - 1049069",
          "- Madda Jaalala - 1049067",
          "- Akuku - 1049065",
          "- Agilo - 1049035",
          "Ethiopia - Adami - 1049034",
          "Ethiopia - Lalisa - 1049033",
          "- Soobo - 1049031",
          "- Miiloo Second - 1049030",
          "- Inayyo - 1049024",
          "- Inayyoo - 1049023",
          "- Gondore - 1049022",
          "- Caffe Third - 1049021",
          "- Dayidi - 1049020",
          "- Dunga - 1049019",
          "- Bukatota - 1050264",
          "- Muzika Racha - 1050355",
          "- Federal Camp - 1050353",
          "- Kubaniya - 1050352",
          "- Bunoo 4 - 1050351",
          "- Bunoo - 1050350",
          "- Bunoo 2 - 1050349",
          "- Morfo 1 - 1050345",
          "- Ahmed yesuf - 1050344",
          "- Morfo - 1050343",
          "- Galmo - 1050342",
          "- She Ahmed - 1050341",
          "- Challe - 1050322",
          "- Challe - 1050321",
          "- Gulfate - 1050320",
          "- Tutuftu - 1050317",
          "- Dabala - 1050312",
          "- Gaara Ale - 1050311",
          "- Torboyo - 1050290",
          "- Jilbo - 1050289",
          "- Baala Adii - 1050288",
          "- Tuka - 1050287",
          "- Seifi Abrahim - 1050285",
          "- Aamade - 1050284",
          "- Noolee - 1050266",
          "- Burii - 1050265",
          "- Cabaka - 1050263",
          "Ethiopia - Sisimo - 1039546",
          "Ethiopia - Sagito - 1039544",
          "Ethiopia - Kotito - 1039542",
          "Ethiopia - Kuba - 1039540",
          "Ethiopia - Dogaja - 1039539",
          "Ethiopia - Yamito - 1039538",
          "Ethiopia - Ulmaye - 1039451",
          "Ethiopia - Birbo - 1039446",
          "Ethiopia - Qoqomo - 1039445",
          "Ethiopia - Gojo - 1039437",
          "- Mesa Market village - 1049626",
          "- Denba Kelo - 1049625",
          "- Wacha 2 - 1049623",
          "- Wacha - 1049622",
          "- Boriqo - 1049621",
          "- Subo - 1049610",
          "- Qerqe - 1049609",
          "- Qelataya - 1049608",
          "- Elela - 1049607",
          "- Elela 01 - 1049606",
          "- Koyiso 1 - 1049604",
          "- Koyiso - 1049603",
          "- Zuriko - 1049572",
          "- Giyale - 1049571",
          "- Shupate - 1049570",
          "- Giyale 01 - 1049568",
          "- Keloso - 1049558",
          "- Dola - 1049557",
          "- Maira - 1049556",
          "- Giyassa - 1049555",
          "- Tsilelo - 1049554",
          "- Hiramo - 1049549",
          "- Adinche - 1049547",
          "- Gero_Gendela - 1049546",
          "- Gero - 1049545",
          "- Elese-Deme 3 - 1049523",
          "- Elese - 1049522",
          "- Tale - 1049521",
          "- Elese-Kentso Meshagera - 1049520",
          "- Boa - 1049508",
          "- Zala Kare - 1049507",
          "- Gara Gitora 2 - 1049506",
          "- Geressa Gitora - 1049505",
          "- Fintha - 1049504",
          "- Zela - 1049501",
          "- Dogile - 1049500",
          "Ethiopia - Wallo - 1049491",
          "Ethiopia - Gema Gara - 1049488",
          "Ethiopia - Karba - 1049487",
          "Ethiopia - Matso Gara - 1049486",
          "Ethiopia - Lalimea - 1049485",
          "Ethiopia - Chosho 1 - 1049484",
          "Ethiopia - Chosho - 1049483",
          "Ethiopia - Cheniga - 1049482",
          "Ethiopia - Aba Tuba - 1049480",
          "Ethiopia - Menaria - 1049479",
          "Ethiopia - Kaske Genize-Bubina - 1049478",
          "Ethiopia - Dambiya - 1049477",
          "- Dambiya 1 - 1049052",
          "Ethiopia - Toko Dambiya - 1049048",
          "- Chaba Wonibe - 1049047",
          "Ethiopia - Woyide Gonita - 1049046",
          "- Tinbitu - 1049750",
          "- Arere Minche - 1049747",
          "- Hamusi Gebeya - 1049708",
          "- Lebu 01 - 1049707",
          "- Danchese - 1049704",
          "- Hokokenso - 1049688",
          "- Hanijesso - 1049687",
          "- Bedesa - 1049686",
          "- Kembata - 1049685",
          "- Awala seferi - 1049659",
          "- Birebirta - 1049655",
          "- Piyayou - 1049654",
          "- Ginda 01 - 1049638",
          "- Baloa - 1049637",
          "- Goro 01 - 1049636",
          "- Aniba-Ogona - 1049635",
          "- Gawiga - 1049569",
          "- Fato - 1050356",
          "- 95 - 1050336",
          "- Dire 1 - 1050335",
          "- Gortti - 1050334",
          "- Meser - 1050414",
          "- Kember - 1050413",
          "- Shomo school - 1050406",
          "- Kobo - 1050405",
          "- Kombole - 1050404",
          "- Kombole - 1050403",
          "- Mesere 2 - 1050402",
          "- Azere - 1050401",
          "- Laye Gerena - 1050392",
          "- Elmora - 1050391",
          "- Fanano - 1050388",
          "- Laye yemene - 1050387",
          "- Gabete - 1050383",
          "- Shado - 1050379",
          "- Zenuta - 1050378",
          "- Sohe - 1050377",
          "- Tache senen - 1050376",
          "- Ayigeba school - 1050375",
          "- Loke - 1050374",
          "- Gishesha - 1050373",
          "- Uge - 1050372",
          "- Ateta - 1050363",
          "- Dino - 1050362",
          "- Tach drawit 1 - 1050361",
          "- Kechira - 1050360",
          "- Kilito - 1050359",
          "- Tatebar - 1050358",
          "- Tache Derawit - 1050357",
          "- Chakife 2 - 1050295",
          "- Chakife 1 - 1050294",
          "- Widade Chakife - 1050293",
          "- Amaredi - 1050291",
          "- Selame - 1050282",
          "- Abero village - 1050281",
          "- Zogo 2 - 1050279",
          "- Zogo - 1050278",
          "- Kecha Beri - 1050277",
          "- Wuribe - 1050276",
          "- Enisilasi - 1050267",
          "Ethiopia - Cole - 1047794",
          "Ethiopia - Suba - 1047796"
         ],
         "type": "scatter",
         "x": [
          36.389334,
          36.412284,
          36.426262,
          36.417575,
          36.415112,
          36.398634,
          36.503403,
          36.475083,
          36.470689,
          36.475644,
          36.373032,
          36.401795,
          36.434837,
          36.487845,
          36.484775,
          36.485102,
          36.49838,
          36.517198,
          41.389227,
          41.396938,
          41.399728,
          41.422351,
          41.39412,
          41.424309,
          41.418802,
          41.3947,
          36.091719,
          36.086346,
          36.109796,
          36.113808,
          36.122748,
          36.146658,
          35.991451,
          36.012747,
          36.007346,
          36.022226,
          36.644748,
          36.777024,
          36.696005,
          36.684456,
          36.710922,
          36.674801,
          36.617442,
          36.721531,
          36.465332,
          36.480439,
          36.746934,
          36.690476,
          36.742303,
          36.694504,
          36.69125,
          36.70333,
          36.744423,
          36.727149,
          36.7248,
          36.731698,
          36.520719,
          36.532105,
          36.475563,
          36.469203,
          36.547313,
          36.610335,
          36.618377,
          36.549537,
          36.545193,
          36.548553,
          36.511997,
          36.484849,
          36.483975,
          36.479429,
          36.90888,
          36.758597,
          36.86001,
          36.7601,
          36.871888,
          36.987376,
          37.066261,
          37.020322,
          37.072112,
          36.903181,
          36.912603,
          36.929117,
          36.967942,
          36.945781,
          36.905126,
          36.9043,
          36.83924,
          36.840852,
          36.840309,
          37.05387,
          37.047108,
          36.981789,
          36.972048,
          37.079194,
          37.08036,
          36.981211,
          36.988372,
          36.943389,
          36.931354,
          40.874842,
          40.750695,
          40.760722,
          40.758103,
          40.752199,
          40.752426,
          40.755094,
          40.680851,
          40.696235,
          40.683978,
          40.588837,
          40.600095,
          40.650093,
          40.648908,
          40.662378,
          40.693425,
          40.750226,
          40.767674,
          40.7858,
          40.795817,
          40.794098,
          40.796897,
          40.830823,
          40.815189,
          40.849596,
          40.831311,
          40.877005,
          36.149367,
          36.087689,
          36.15128,
          35.942297,
          36.005979,
          36.038445,
          36.009737,
          36.041402,
          36.070784,
          36.078492,
          37.670539,
          37.581724,
          37.559479,
          37.55879,
          37.559905,
          37.639973,
          37.650636,
          37.650497,
          37.644974,
          37.645231,
          37.603863,
          37.602115,
          37.513921,
          37.51057,
          37.47959,
          37.508752,
          37.442459,
          37.427975,
          37.47716,
          37.442249,
          37.443329,
          37.499664,
          37.48509,
          37.481792,
          37.483,
          37.468325,
          37.480076,
          37.472278,
          37.469704,
          37.56567,
          37.553152,
          37.5622,
          37.561917,
          37.536187,
          37.46705,
          37.457002,
          37.648557,
          37.657961,
          37.591721,
          37.564116,
          37.329421,
          37.224911,
          37.2304,
          37.25285,
          37.288386,
          37.275886,
          37.256389,
          37.273359,
          37.271592,
          37.282986,
          37.287578,
          37.285021,
          38.193009,
          38.200148,
          38.149247,
          38.141797,
          38.158412,
          38.22602,
          38.212964,
          38.20572,
          38.197884,
          38.334483,
          38.331656,
          38.33593,
          38.336684,
          38.331686,
          38.337901,
          38.343588,
          37.482625,
          38.50691,
          38.598595,
          38.58745,
          38.552304,
          38.04151,
          38.018044,
          38.02386,
          37.997901,
          37.998117,
          37.998915,
          38.043497,
          38.039783,
          38.022964,
          37.990725,
          37.989877,
          38.038795,
          37.990581,
          38.057998,
          38.059516,
          38.061772,
          38.03935,
          38.045344,
          38.082758,
          38.106189,
          38.106455,
          38.001678,
          38.003449,
          38.009746,
          38.011077,
          38.010528,
          38.001592,
          38.010338,
          38.184475,
          38.178478,
          38.171656,
          38.198606,
          38.20295,
          38.187718,
          38.25866,
          38.256968,
          38.248356,
          38.247823,
          38.257906,
          36.08574,
          36.021404
         ],
         "y": [
          8.370314,
          8.337878,
          8.4057,
          8.329205,
          8.299745,
          8.242359,
          8.271911,
          8.305088,
          8.306237,
          8.318252,
          8.296139,
          8.328884,
          8.388397,
          8.413723,
          8.422213,
          8.422006,
          8.402849,
          8.38517,
          9.037874,
          8.996712,
          8.965392,
          8.940553,
          9.136069,
          9.078347,
          9.094551,
          9.132473,
          7.917803,
          7.923936,
          7.890775,
          7.89797,
          7.888161,
          7.853663,
          7.874723,
          7.882061,
          7.883767,
          7.853217,
          7.48689,
          7.604991,
          7.606262,
          7.569767,
          7.570638,
          7.59841,
          7.620003,
          7.613942,
          7.652947,
          7.658479,
          7.585258,
          7.483707,
          7.436841,
          7.478043,
          7.464701,
          7.631397,
          7.525217,
          7.567152,
          7.502149,
          7.516494,
          7.495905,
          7.486666,
          7.505188,
          7.467937,
          7.539127,
          7.539359,
          7.550072,
          7.53381,
          7.545292,
          7.514817,
          7.521818,
          7.518118,
          7.532926,
          7.546039,
          8.299201,
          8.487627,
          8.579322,
          8.487813,
          8.585926,
          8.199124,
          8.395486,
          8.30071,
          8.375259,
          8.11599,
          8.125031,
          8.106268,
          8.191909,
          8.199446,
          8.230757,
          8.227497,
          8.224883,
          8.211138,
          8.202563,
          8.416127,
          8.428564,
          8.23687,
          8.52944,
          8.438142,
          8.43863,
          8.507821,
          8.508014,
          8.449428,
          8.459606,
          9.263297,
          9.229973,
          9.235204,
          9.238329,
          9.241594,
          9.24275,
          9.240223,
          9.21248,
          9.210234,
          9.200692,
          9.245963,
          9.215683,
          9.108258,
          9.105219,
          9.138561,
          9.13293,
          9.160612,
          9.114975,
          9.178255,
          9.157338,
          9.158333,
          9.151211,
          9.193293,
          9.243241,
          9.222528,
          9.245739,
          9.259084,
          7.927243,
          7.87857,
          7.857149,
          7.824921,
          7.884469,
          7.857008,
          7.903356,
          7.906986,
          7.927423,
          7.950219,
          6.547823,
          6.481632,
          6.482718,
          6.481424,
          6.476945,
          6.484908,
          6.520869,
          6.519368,
          6.502212,
          6.505614,
          6.412293,
          6.412849,
          6.320509,
          6.322828,
          6.314518,
          6.323633,
          6.204522,
          6.205822,
          6.311004,
          6.241223,
          6.23984,
          6.322082,
          6.32309,
          6.322898,
          6.320981,
          6.367992,
          6.361071,
          6.357456,
          6.367205,
          6.238999,
          6.272652,
          6.262588,
          6.261211,
          6.249709,
          6.198674,
          6.194073,
          6.276039,
          6.274838,
          6.227843,
          6.199407,
          6.640566,
          6.575423,
          6.585868,
          6.539911,
          6.550898,
          6.590993,
          6.606393,
          6.603715,
          6.596942,
          6.598847,
          6.634233,
          6.622232,
          5.940728,
          5.96205,
          6.008119,
          6.063629,
          6.114815,
          5.999309,
          6.004182,
          6.061285,
          6.037918,
          6.353263,
          6.360794,
          6.386754,
          6.301294,
          6.287308,
          6.300324,
          6.347873,
          6.313455,
          8.391224,
          8.374047,
          8.35767,
          8.360863,
          7.762899,
          7.805956,
          7.787178,
          7.760489,
          7.730751,
          7.732328,
          7.763486,
          7.763503,
          7.727389,
          7.700901,
          7.773903,
          7.747002,
          7.778839,
          7.886564,
          7.889988,
          7.890639,
          7.818718,
          7.816558,
          7.916947,
          7.913393,
          7.921563,
          7.794029,
          7.798792,
          7.787415,
          7.790217,
          7.788257,
          7.792856,
          7.787174,
          8.04173,
          8.045447,
          8.044238,
          8.08634,
          8.086601,
          8.075247,
          8.091681,
          8.091725,
          8.073649,
          8.070927,
          8.08712,
          7.922073,
          7.851399
         ]
        },
        {
         "hoverinfo": "text",
         "marker": {
          "color": "red"
         },
         "mode": "markers",
         "name": "Outliers (NEAR_DIST)",
         "text": [
          "- Walda - 1050395",
          "- Sarde - 1049413",
          "- Alga - 1049412",
          "- Bakke Reettii - 1049410",
          "- Iyasi - 1049409",
          "- Ooso - 1049407",
          "- Miiloo Second - 1049030",
          "- Inayyo - 1049024",
          "- Inayyoo - 1049023",
          "- Gondore - 1049022",
          "- Caffe Third - 1049021",
          "- She Ahmed - 1050341",
          "- Dabala - 1050312",
          "Ethiopia - Cheniga - 1049482",
          "- Arere Minche - 1049747",
          "- Kember - 1050413"
         ],
         "type": "scatter",
         "x": [
          41.422351,
          36.758597,
          36.86001,
          36.7601,
          36.871888,
          37.066261,
          36.972048,
          37.079194,
          37.08036,
          36.981211,
          36.988372,
          40.600095,
          40.750226,
          37.25285,
          38.200148,
          38.018044
         ],
         "y": [
          8.940553,
          8.487627,
          8.579322,
          8.487813,
          8.585926,
          8.395486,
          8.52944,
          8.438142,
          8.43863,
          8.507821,
          8.508014,
          9.215683,
          9.160612,
          6.539911,
          5.96205,
          7.805956
         ]
        },
        {
         "hoverinfo": "text",
         "marker": {
          "color": "green"
         },
         "mode": "markers",
         "name": "Outliers (metric)",
         "text": [
          "- Dangawaj - 1049717",
          "- Anaba - 1049715",
          "- Ilkee - 1049596",
          "- Ambalta - 1049516",
          "- Raammee - 1049515",
          "- Ginabe - 1049514",
          "- Nagade - 1049512",
          "- Ambalta - 1049511",
          "- Urgesa - 1049495",
          "- Buluke Doose - 1049494",
          "- Darita 1st - 1049076",
          "- Zuriko - 1049572",
          "- Giyale - 1049571",
          "- Shupate - 1049570",
          "- Elese - 1049522",
          "- Gara Gitora 2 - 1049506",
          "- Geressa Gitora - 1049505",
          "- Baloa - 1049637",
          "- Gawiga - 1049569",
          "- Gortti - 1050334",
          "- Loke - 1050374",
          "- Gishesha - 1050373"
         ],
         "type": "scatter",
         "x": [
          36.401795,
          36.487845,
          36.617442,
          36.547313,
          36.610335,
          36.618377,
          36.549537,
          36.545193,
          36.483975,
          36.479429,
          36.945781,
          37.513921,
          37.51057,
          37.47959,
          37.480076,
          37.5622,
          37.561917,
          38.331686,
          37.482625,
          38.552304,
          38.082758,
          38.106189
         ],
         "y": [
          8.328884,
          8.413723,
          7.620003,
          7.539127,
          7.539359,
          7.550072,
          7.53381,
          7.545292,
          7.532926,
          7.546039,
          8.199446,
          6.320509,
          6.322828,
          6.314518,
          6.361071,
          6.262588,
          6.261211,
          6.287308,
          6.313455,
          8.360863,
          7.916947,
          7.913393
         ]
        },
        {
         "hoverinfo": "text",
         "marker": {
          "color": "orange"
         },
         "mode": "markers",
         "name": "Outliers (POPULATION)",
         "text": [
          "- Leencha - 1049728",
          "- Dangawaj Qalaa - 1049726",
          "- Aniya - 1049595",
          "- Muzika Racha - 1050355",
          "- Federal Camp - 1050353",
          "- Kubaniya - 1050352",
          "- Bunoo 4 - 1050351",
          "- Bunoo - 1050350",
          "- Bunoo 2 - 1050349",
          "- Gara Gitora 2 - 1049506",
          "- Geressa Gitora - 1049505",
          "- Arere Minche - 1049747",
          "- Hamusi Gebeya - 1049708",
          "- Awala seferi - 1049659",
          "- Birebirta - 1049655",
          "- Piyayou - 1049654",
          "- Ginda 01 - 1049638",
          "- Baloa - 1049637",
          "- Goro 01 - 1049636",
          "- Loke - 1050374"
         ],
         "type": "scatter",
         "x": [
          36.412284,
          36.417575,
          36.721531,
          40.750695,
          40.760722,
          40.758103,
          40.752199,
          40.752426,
          40.755094,
          37.5622,
          37.561917,
          38.200148,
          38.149247,
          38.334483,
          38.331656,
          38.33593,
          38.336684,
          38.331686,
          38.337901,
          38.082758
         ],
         "y": [
          8.337878,
          8.329205,
          7.613942,
          9.229973,
          9.235204,
          9.238329,
          9.241594,
          9.24275,
          9.240223,
          6.262588,
          6.261211,
          5.96205,
          6.008119,
          6.353263,
          6.360794,
          6.386754,
          6.301294,
          6.287308,
          6.300324,
          7.916947
         ]
        }
       ],
       "layout": {
        "template": {
         "data": {
          "bar": [
           {
            "error_x": {
             "color": "#2a3f5f"
            },
            "error_y": {
             "color": "#2a3f5f"
            },
            "marker": {
             "line": {
              "color": "#E5ECF6",
              "width": 0.5
             },
             "pattern": {
              "fillmode": "overlay",
              "size": 10,
              "solidity": 0.2
             }
            },
            "type": "bar"
           }
          ],
          "barpolar": [
           {
            "marker": {
             "line": {
              "color": "#E5ECF6",
              "width": 0.5
             },
             "pattern": {
              "fillmode": "overlay",
              "size": 10,
              "solidity": 0.2
             }
            },
            "type": "barpolar"
           }
          ],
          "carpet": [
           {
            "aaxis": {
             "endlinecolor": "#2a3f5f",
             "gridcolor": "white",
             "linecolor": "white",
             "minorgridcolor": "white",
             "startlinecolor": "#2a3f5f"
            },
            "baxis": {
             "endlinecolor": "#2a3f5f",
             "gridcolor": "white",
             "linecolor": "white",
             "minorgridcolor": "white",
             "startlinecolor": "#2a3f5f"
            },
            "type": "carpet"
           }
          ],
          "choropleth": [
           {
            "colorbar": {
             "outlinewidth": 0,
             "ticks": ""
            },
            "type": "choropleth"
           }
          ],
          "contour": [
           {
            "colorbar": {
             "outlinewidth": 0,
             "ticks": ""
            },
            "colorscale": [
             [
              0,
              "#0d0887"
             ],
             [
              0.1111111111111111,
              "#46039f"
             ],
             [
              0.2222222222222222,
              "#7201a8"
             ],
             [
              0.3333333333333333,
              "#9c179e"
             ],
             [
              0.4444444444444444,
              "#bd3786"
             ],
             [
              0.5555555555555556,
              "#d8576b"
             ],
             [
              0.6666666666666666,
              "#ed7953"
             ],
             [
              0.7777777777777778,
              "#fb9f3a"
             ],
             [
              0.8888888888888888,
              "#fdca26"
             ],
             [
              1,
              "#f0f921"
             ]
            ],
            "type": "contour"
           }
          ],
          "contourcarpet": [
           {
            "colorbar": {
             "outlinewidth": 0,
             "ticks": ""
            },
            "type": "contourcarpet"
           }
          ],
          "heatmap": [
           {
            "colorbar": {
             "outlinewidth": 0,
             "ticks": ""
            },
            "colorscale": [
             [
              0,
              "#0d0887"
             ],
             [
              0.1111111111111111,
              "#46039f"
             ],
             [
              0.2222222222222222,
              "#7201a8"
             ],
             [
              0.3333333333333333,
              "#9c179e"
             ],
             [
              0.4444444444444444,
              "#bd3786"
             ],
             [
              0.5555555555555556,
              "#d8576b"
             ],
             [
              0.6666666666666666,
              "#ed7953"
             ],
             [
              0.7777777777777778,
              "#fb9f3a"
             ],
             [
              0.8888888888888888,
              "#fdca26"
             ],
             [
              1,
              "#f0f921"
             ]
            ],
            "type": "heatmap"
           }
          ],
          "heatmapgl": [
           {
            "colorbar": {
             "outlinewidth": 0,
             "ticks": ""
            },
            "colorscale": [
             [
              0,
              "#0d0887"
             ],
             [
              0.1111111111111111,
              "#46039f"
             ],
             [
              0.2222222222222222,
              "#7201a8"
             ],
             [
              0.3333333333333333,
              "#9c179e"
             ],
             [
              0.4444444444444444,
              "#bd3786"
             ],
             [
              0.5555555555555556,
              "#d8576b"
             ],
             [
              0.6666666666666666,
              "#ed7953"
             ],
             [
              0.7777777777777778,
              "#fb9f3a"
             ],
             [
              0.8888888888888888,
              "#fdca26"
             ],
             [
              1,
              "#f0f921"
             ]
            ],
            "type": "heatmapgl"
           }
          ],
          "histogram": [
           {
            "marker": {
             "pattern": {
              "fillmode": "overlay",
              "size": 10,
              "solidity": 0.2
             }
            },
            "type": "histogram"
           }
          ],
          "histogram2d": [
           {
            "colorbar": {
             "outlinewidth": 0,
             "ticks": ""
            },
            "colorscale": [
             [
              0,
              "#0d0887"
             ],
             [
              0.1111111111111111,
              "#46039f"
             ],
             [
              0.2222222222222222,
              "#7201a8"
             ],
             [
              0.3333333333333333,
              "#9c179e"
             ],
             [
              0.4444444444444444,
              "#bd3786"
             ],
             [
              0.5555555555555556,
              "#d8576b"
             ],
             [
              0.6666666666666666,
              "#ed7953"
             ],
             [
              0.7777777777777778,
              "#fb9f3a"
             ],
             [
              0.8888888888888888,
              "#fdca26"
             ],
             [
              1,
              "#f0f921"
             ]
            ],
            "type": "histogram2d"
           }
          ],
          "histogram2dcontour": [
           {
            "colorbar": {
             "outlinewidth": 0,
             "ticks": ""
            },
            "colorscale": [
             [
              0,
              "#0d0887"
             ],
             [
              0.1111111111111111,
              "#46039f"
             ],
             [
              0.2222222222222222,
              "#7201a8"
             ],
             [
              0.3333333333333333,
              "#9c179e"
             ],
             [
              0.4444444444444444,
              "#bd3786"
             ],
             [
              0.5555555555555556,
              "#d8576b"
             ],
             [
              0.6666666666666666,
              "#ed7953"
             ],
             [
              0.7777777777777778,
              "#fb9f3a"
             ],
             [
              0.8888888888888888,
              "#fdca26"
             ],
             [
              1,
              "#f0f921"
             ]
            ],
            "type": "histogram2dcontour"
           }
          ],
          "mesh3d": [
           {
            "colorbar": {
             "outlinewidth": 0,
             "ticks": ""
            },
            "type": "mesh3d"
           }
          ],
          "parcoords": [
           {
            "line": {
             "colorbar": {
              "outlinewidth": 0,
              "ticks": ""
             }
            },
            "type": "parcoords"
           }
          ],
          "pie": [
           {
            "automargin": true,
            "type": "pie"
           }
          ],
          "scatter": [
           {
            "fillpattern": {
             "fillmode": "overlay",
             "size": 10,
             "solidity": 0.2
            },
            "type": "scatter"
           }
          ],
          "scatter3d": [
           {
            "line": {
             "colorbar": {
              "outlinewidth": 0,
              "ticks": ""
             }
            },
            "marker": {
             "colorbar": {
              "outlinewidth": 0,
              "ticks": ""
             }
            },
            "type": "scatter3d"
           }
          ],
          "scattercarpet": [
           {
            "marker": {
             "colorbar": {
              "outlinewidth": 0,
              "ticks": ""
             }
            },
            "type": "scattercarpet"
           }
          ],
          "scattergeo": [
           {
            "marker": {
             "colorbar": {
              "outlinewidth": 0,
              "ticks": ""
             }
            },
            "type": "scattergeo"
           }
          ],
          "scattergl": [
           {
            "marker": {
             "colorbar": {
              "outlinewidth": 0,
              "ticks": ""
             }
            },
            "type": "scattergl"
           }
          ],
          "scattermapbox": [
           {
            "marker": {
             "colorbar": {
              "outlinewidth": 0,
              "ticks": ""
             }
            },
            "type": "scattermapbox"
           }
          ],
          "scatterpolar": [
           {
            "marker": {
             "colorbar": {
              "outlinewidth": 0,
              "ticks": ""
             }
            },
            "type": "scatterpolar"
           }
          ],
          "scatterpolargl": [
           {
            "marker": {
             "colorbar": {
              "outlinewidth": 0,
              "ticks": ""
             }
            },
            "type": "scatterpolargl"
           }
          ],
          "scatterternary": [
           {
            "marker": {
             "colorbar": {
              "outlinewidth": 0,
              "ticks": ""
             }
            },
            "type": "scatterternary"
           }
          ],
          "surface": [
           {
            "colorbar": {
             "outlinewidth": 0,
             "ticks": ""
            },
            "colorscale": [
             [
              0,
              "#0d0887"
             ],
             [
              0.1111111111111111,
              "#46039f"
             ],
             [
              0.2222222222222222,
              "#7201a8"
             ],
             [
              0.3333333333333333,
              "#9c179e"
             ],
             [
              0.4444444444444444,
              "#bd3786"
             ],
             [
              0.5555555555555556,
              "#d8576b"
             ],
             [
              0.6666666666666666,
              "#ed7953"
             ],
             [
              0.7777777777777778,
              "#fb9f3a"
             ],
             [
              0.8888888888888888,
              "#fdca26"
             ],
             [
              1,
              "#f0f921"
             ]
            ],
            "type": "surface"
           }
          ],
          "table": [
           {
            "cells": {
             "fill": {
              "color": "#EBF0F8"
             },
             "line": {
              "color": "white"
             }
            },
            "header": {
             "fill": {
              "color": "#C8D4E3"
             },
             "line": {
              "color": "white"
             }
            },
            "type": "table"
           }
          ]
         },
         "layout": {
          "annotationdefaults": {
           "arrowcolor": "#2a3f5f",
           "arrowhead": 0,
           "arrowwidth": 1
          },
          "autotypenumbers": "strict",
          "coloraxis": {
           "colorbar": {
            "outlinewidth": 0,
            "ticks": ""
           }
          },
          "colorscale": {
           "diverging": [
            [
             0,
             "#8e0152"
            ],
            [
             0.1,
             "#c51b7d"
            ],
            [
             0.2,
             "#de77ae"
            ],
            [
             0.3,
             "#f1b6da"
            ],
            [
             0.4,
             "#fde0ef"
            ],
            [
             0.5,
             "#f7f7f7"
            ],
            [
             0.6,
             "#e6f5d0"
            ],
            [
             0.7,
             "#b8e186"
            ],
            [
             0.8,
             "#7fbc41"
            ],
            [
             0.9,
             "#4d9221"
            ],
            [
             1,
             "#276419"
            ]
           ],
           "sequential": [
            [
             0,
             "#0d0887"
            ],
            [
             0.1111111111111111,
             "#46039f"
            ],
            [
             0.2222222222222222,
             "#7201a8"
            ],
            [
             0.3333333333333333,
             "#9c179e"
            ],
            [
             0.4444444444444444,
             "#bd3786"
            ],
            [
             0.5555555555555556,
             "#d8576b"
            ],
            [
             0.6666666666666666,
             "#ed7953"
            ],
            [
             0.7777777777777778,
             "#fb9f3a"
            ],
            [
             0.8888888888888888,
             "#fdca26"
            ],
            [
             1,
             "#f0f921"
            ]
           ],
           "sequentialminus": [
            [
             0,
             "#0d0887"
            ],
            [
             0.1111111111111111,
             "#46039f"
            ],
            [
             0.2222222222222222,
             "#7201a8"
            ],
            [
             0.3333333333333333,
             "#9c179e"
            ],
            [
             0.4444444444444444,
             "#bd3786"
            ],
            [
             0.5555555555555556,
             "#d8576b"
            ],
            [
             0.6666666666666666,
             "#ed7953"
            ],
            [
             0.7777777777777778,
             "#fb9f3a"
            ],
            [
             0.8888888888888888,
             "#fdca26"
            ],
            [
             1,
             "#f0f921"
            ]
           ]
          },
          "colorway": [
           "#636efa",
           "#EF553B",
           "#00cc96",
           "#ab63fa",
           "#FFA15A",
           "#19d3f3",
           "#FF6692",
           "#B6E880",
           "#FF97FF",
           "#FECB52"
          ],
          "font": {
           "color": "#2a3f5f"
          },
          "geo": {
           "bgcolor": "white",
           "lakecolor": "white",
           "landcolor": "#E5ECF6",
           "showlakes": true,
           "showland": true,
           "subunitcolor": "white"
          },
          "hoverlabel": {
           "align": "left"
          },
          "hovermode": "closest",
          "mapbox": {
           "style": "light"
          },
          "paper_bgcolor": "white",
          "plot_bgcolor": "#E5ECF6",
          "polar": {
           "angularaxis": {
            "gridcolor": "white",
            "linecolor": "white",
            "ticks": ""
           },
           "bgcolor": "#E5ECF6",
           "radialaxis": {
            "gridcolor": "white",
            "linecolor": "white",
            "ticks": ""
           }
          },
          "scene": {
           "xaxis": {
            "backgroundcolor": "#E5ECF6",
            "gridcolor": "white",
            "gridwidth": 2,
            "linecolor": "white",
            "showbackground": true,
            "ticks": "",
            "zerolinecolor": "white"
           },
           "yaxis": {
            "backgroundcolor": "#E5ECF6",
            "gridcolor": "white",
            "gridwidth": 2,
            "linecolor": "white",
            "showbackground": true,
            "ticks": "",
            "zerolinecolor": "white"
           },
           "zaxis": {
            "backgroundcolor": "#E5ECF6",
            "gridcolor": "white",
            "gridwidth": 2,
            "linecolor": "white",
            "showbackground": true,
            "ticks": "",
            "zerolinecolor": "white"
           }
          },
          "shapedefaults": {
           "line": {
            "color": "#2a3f5f"
           }
          },
          "ternary": {
           "aaxis": {
            "gridcolor": "white",
            "linecolor": "white",
            "ticks": ""
           },
           "baxis": {
            "gridcolor": "white",
            "linecolor": "white",
            "ticks": ""
           },
           "bgcolor": "#E5ECF6",
           "caxis": {
            "gridcolor": "white",
            "linecolor": "white",
            "ticks": ""
           }
          },
          "title": {
           "x": 0.05
          },
          "xaxis": {
           "automargin": true,
           "gridcolor": "white",
           "linecolor": "white",
           "ticks": "",
           "title": {
            "standoff": 15
           },
           "zerolinecolor": "white",
           "zerolinewidth": 2
          },
          "yaxis": {
           "automargin": true,
           "gridcolor": "white",
           "linecolor": "white",
           "ticks": "",
           "title": {
            "standoff": 15
           },
           "zerolinecolor": "white",
           "zerolinewidth": 2
          }
         }
        },
        "title": {
         "text": "Locations of Outliers with Names"
        },
        "xaxis": {
         "title": {
          "text": "Longitude"
         }
        },
        "yaxis": {
         "title": {
          "text": "Latitude"
         }
        }
       }
      }
     },
     "metadata": {},
     "output_type": "display_data"
    }
   ],
   "source": [
    "import plotly.graph_objects as go\n",
    "import pandas as pd\n",
    "import seaborn as sns\n",
    "import matplotlib.pyplot as plt\n",
    "\n",
    "Q1 = df[['NEAR_DIST', 'metric', 'POPULATION']].quantile(0.25)\n",
    "Q3 = df[['NEAR_DIST', 'metric', 'POPULATION']].quantile(0.75)\n",
    "IQR = Q3 - Q1\n",
    "\n",
    "# Define upper and lower bounds for outliers\n",
    "lower_bound = Q1 - 1.5 * IQR\n",
    "upper_bound = Q3 + 1.5 * IQR\n",
    "\n",
    "# Identify outliers for each variable\n",
    "outliers_near_dist = df[(df['NEAR_DIST'] < lower_bound['NEAR_DIST']) | (df['NEAR_DIST'] > upper_bound['NEAR_DIST'])]\n",
    "outliers_metric = df[(df['metric'] < lower_bound['metric']) | (df['metric'] > upper_bound['metric'])]\n",
    "outliers_population = df[(df['POPULATION'] < lower_bound['POPULATION']) | (df['POPULATION'] > upper_bound['POPULATION'])]\n",
    "\n",
    "# Create the scatter plot with outliers\n",
    "fig_map_outliers_names = go.Figure()\n",
    "\n",
    "# Add scatter plot traces for data points and outliers\n",
    "fig_map_outliers_names.add_trace(go.Scatter(\n",
    "    x=df['GPS__Longi'],\n",
    "    y=df['GPS__Latit'],\n",
    "    mode='markers',\n",
    "    marker=dict(color='blue'),\n",
    "    name='Data Points',\n",
    "    text=df['Opportunit'],  # Use the 'Name' column for text annotations\n",
    "    hoverinfo='text'  # Show text on hover\n",
    "))\n",
    "\n",
    "fig_map_outliers_names.add_trace(go.Scatter(\n",
    "    x=outliers_near_dist['GPS__Longi'],\n",
    "    y=outliers_near_dist['GPS__Latit'],\n",
    "    mode='markers',\n",
    "    marker=dict(color='red'),\n",
    "    name='Outliers (NEAR_DIST)',\n",
    "    text=outliers_near_dist['Opportunit'],  # Use the 'Name' column for text annotations\n",
    "    hoverinfo='text'  # Show text on hover\n",
    "))\n",
    "\n",
    "fig_map_outliers_names.add_trace(go.Scatter(\n",
    "    x=outliers_metric['GPS__Longi'],\n",
    "    y=outliers_metric['GPS__Latit'],\n",
    "    mode='markers',\n",
    "    marker=dict(color='green'),\n",
    "    name='Outliers (metric)',\n",
    "    text=outliers_metric['Opportunit'],  # Use the 'Name' column for text annotations\n",
    "    hoverinfo='text'  # Show text on hover\n",
    "))\n",
    "\n",
    "fig_map_outliers_names.add_trace(go.Scatter(\n",
    "    x=outliers_population['GPS__Longi'],\n",
    "    y=outliers_population['GPS__Latit'],\n",
    "    mode='markers',\n",
    "    marker=dict(color='orange'),\n",
    "    name='Outliers (POPULATION)',\n",
    "    text=outliers_population['Opportunit'],  # Use the 'Name' column for text annotations\n",
    "    hoverinfo='text'  # Show text on hover\n",
    "))\n",
    "\n",
    "# Layout for scatter plot\n",
    "fig_map_outliers_names.update_layout(\n",
    "    title='Locations of Outliers with Names',\n",
    "    xaxis_title='Longitude',\n",
    "    yaxis_title='Latitude'\n",
    ")\n",
    "\n",
    "# Define the outlier data as a table\n",
    "outlier_table = pd.concat([outliers_near_dist, outliers_metric, outliers_population])\n",
    "\n",
    "# Create a table trace\n",
    "table_trace = go.Table(\n",
    "    header=dict(values=['Opportunit', 'NEAR_DIST', 'metric', 'POPULATION'],\n",
    "                fill_color='paleturquoise',\n",
    "                align='left'),\n",
    "    cells=dict(values=[outlier_table['Opportunit'], outlier_table['NEAR_DIST'], outlier_table['metric'], outlier_table['POPULATION']],\n",
    "               fill=dict(color=[outlier_table['metric'].apply(lambda x: 'green' if x in outliers_metric['metric'].values else 'orange' if x in outliers_population['metric'].values else 'red')]),\n",
    "               align='left')\n",
    ")\n",
    "\n",
    "# Layout for the table\n",
    "table_layout = go.Layout(\n",
    "    title='Outlier Data Table'\n",
    ")\n",
    "\n",
    "# Add the table trace to the figure\n",
    "fig_with_table = go.Figure(data=[table_trace], layout=table_layout)\n",
    "\n",
    "# Display the scatter plot and table together\n",
    "fig_map_outliers_names.show()\n",
    "\n"
   ]
  },
  {
   "cell_type": "code",
   "execution_count": 13,
   "metadata": {},
   "outputs": [
    {
     "data": {
      "application/vnd.plotly.v1+json": {
       "config": {
        "plotlyServerURL": "https://plot.ly"
       },
       "data": [
        {
         "cells": {
          "align": "left",
          "fill": {
           "color": [
            [
             "red",
             "red",
             "red",
             "red",
             "red",
             "red",
             "red",
             "red",
             "red",
             "red",
             "red",
             "red",
             "red",
             "red",
             "orange",
             "red",
             "green",
             "green",
             "green",
             "green",
             "green",
             "green",
             "green",
             "green",
             "green",
             "green",
             "green",
             "green",
             "green",
             "green",
             "green",
             "green",
             "green",
             "green",
             "green",
             "green",
             "green",
             "green",
             "orange",
             "orange",
             "orange",
             "orange",
             "orange",
             "orange",
             "orange",
             "orange",
             "orange",
             "green",
             "green",
             "orange",
             "orange",
             "orange",
             "orange",
             "orange",
             "orange",
             "green",
             "orange",
             "green"
            ]
           ]
          },
          "values": [
           [
            "Melka Balo",
            "Limu Seka",
            "Limu Seka",
            "Limu Seka",
            "Limu Seka",
            "Limu Seka",
            "Limu Seka",
            "Limu Seka",
            "Limu Seka",
            "Limu Seka",
            "Limu Seka",
            "Mieso",
            "Mieso",
            "Kucha Alpha",
            "Kochere",
            "Misrak Azenet Berbere",
            "Gechi",
            "Gechi",
            "Seka Chekorsa",
            "Shebe Sambo",
            "Shebe Sambo",
            "Shebe Sambo",
            "Shebe Sambo",
            "Shebe Sambo",
            "Shebe Sambo",
            "Shebe Sambo",
            "Limu Seka",
            "Dita",
            "Dita",
            "Dita",
            "Dita",
            "Chencha Zuriya",
            "Chencha Zuriya",
            "Dila Zuria",
            "Dita",
            "Sodo",
            "Alicho Woriro",
            "Alicho Woriro",
            "Gechi",
            "Gechi",
            "Seka Chekorsa",
            "Mieso",
            "Mieso",
            "Mieso",
            "Mieso",
            "Mieso",
            "Mieso",
            "Chencha Zuriya",
            "Chencha Zuriya",
            "Kochere",
            "Kochere",
            "Dila Zuria",
            "Dila Zuria",
            "Dila Zuria",
            "Dila Zuria",
            "Dila Zuria",
            "Dila Zuria",
            "Alicho Woriro"
           ],
           [
            "- Walda - 1050395",
            "- Sarde - 1049413",
            "- Alga - 1049412",
            "- Bakke Reettii - 1049410",
            "- Iyasi - 1049409",
            "- Ooso - 1049407",
            "- Miiloo Second - 1049030",
            "- Inayyo - 1049024",
            "- Inayyoo - 1049023",
            "- Gondore - 1049022",
            "- Caffe Third - 1049021",
            "- She Ahmed - 1050341",
            "- Dabala - 1050312",
            "Ethiopia - Cheniga - 1049482",
            "- Arere Minche - 1049747",
            "- Kember - 1050413",
            "- Dangawaj - 1049717",
            "- Anaba - 1049715",
            "- Ilkee - 1049596",
            "- Ambalta - 1049516",
            "- Raammee - 1049515",
            "- Ginabe - 1049514",
            "- Nagade - 1049512",
            "- Ambalta - 1049511",
            "- Urgesa - 1049495",
            "- Buluke Doose - 1049494",
            "- Darita 1st - 1049076",
            "- Zuriko - 1049572",
            "- Giyale - 1049571",
            "- Shupate - 1049570",
            "- Elese - 1049522",
            "- Gara Gitora 2 - 1049506",
            "- Geressa Gitora - 1049505",
            "- Baloa - 1049637",
            "- Gawiga - 1049569",
            "- Gortti - 1050334",
            "- Loke - 1050374",
            "- Gishesha - 1050373",
            "- Leencha - 1049728",
            "- Dangawaj Qalaa - 1049726",
            "- Aniya - 1049595",
            "- Muzika Racha - 1050355",
            "- Federal Camp - 1050353",
            "- Kubaniya - 1050352",
            "- Bunoo 4 - 1050351",
            "- Bunoo - 1050350",
            "- Bunoo 2 - 1050349",
            "- Gara Gitora 2 - 1049506",
            "- Geressa Gitora - 1049505",
            "- Arere Minche - 1049747",
            "- Hamusi Gebeya - 1049708",
            "- Awala seferi - 1049659",
            "- Birebirta - 1049655",
            "- Piyayou - 1049654",
            "- Ginda 01 - 1049638",
            "- Baloa - 1049637",
            "- Goro 01 - 1049636",
            "- Loke - 1050374"
           ],
           [
            2768.213029057296,
            6231.434242806816,
            11942.9203843918,
            6212.833355139387,
            12855.44513761542,
            1468.442514613447,
            5132.034931176965,
            3606.0806784477,
            3744.614054371114,
            2552.955481812132,
            2506.789029332755,
            989.0288719929009,
            1283.119222685208,
            956.2769940599125,
            1136.949229041895,
            892.1186709020677,
            133.6664798570734,
            96.72690019371522,
            98.1289884254169,
            147.577602546939,
            148.7447955377434,
            187.1203106569498,
            578.8357575207781,
            99.00434943023012,
            162.5529629661786,
            376.6872388125238,
            233.2823953302837,
            168.9791607469459,
            281.8504325100893,
            105.4923239556618,
            195.2759570192341,
            497.9386815809781,
            382.7528920654103,
            78.0458353808306,
            112.5662157373418,
            217.5286177679791,
            495.5040797969492,
            457.8214732136171,
            691.6080460061805,
            30.31815013732375,
            35.21595078280613,
            69.91059740480989,
            70.92638790772912,
            438.0472407570808,
            244.3965413398754,
            176.9188346130479,
            575.7782513298852,
            497.9386815809781,
            382.7528920654103,
            1136.949229041895,
            372.6157325133458,
            84.9171737514323,
            67.12796208871917,
            634.2533094837212,
            435.8665273126907,
            78.0458353808306,
            283.7469506954308,
            495.5040797969492
           ],
           [
            615.5843993315029,
            10292.36782252949,
            2351.395344203186,
            10292.36782252949,
            2351.395344203186,
            1294.441805014963,
            34943.8377932012,
            53130.22404481468,
            53130.22404481468,
            34943.8377932012,
            34943.8377932012,
            703.8622998971884,
            124108.850526243,
            739.1852186072076,
            44393.88091015633,
            41594.65376584117,
            596207.8614474408,
            1964852.787238381,
            396649.7916304982,
            846185.8131461248,
            906946.7774300497,
            966355.6421902915,
            823438.3480156994,
            941053.1393092148,
            430849.3932161929,
            542336.8971512103,
            423862.6061676692,
            424265.5386448323,
            424265.5386448323,
            887338.3911766936,
            970585.9530976611,
            428161.5564425463,
            428161.5564425463,
            330929.8020788722,
            1259743.774054053,
            432005.7398352941,
            596207.8614474408,
            778740.7658694367,
            160009.5773832461,
            136891.5212719888,
            311846.0105423033,
            174303.1448813489,
            212.6945352551237,
            16217.94167978457,
            253468.5456471947,
            253468.5456471947,
            253468.5456471947,
            428161.5564425463,
            428161.5564425463,
            44393.88091015633,
            18336.31048293318,
            261902.1375221267,
            555.8053641087342,
            46095.00080038904,
            291731.4160607171,
            330929.8020788722,
            291731.4160607171,
            596207.8614474408
           ],
           [
            661.5621728897096,
            505.8713569641114,
            587.0996313095092,
            450.3816280364991,
            467.4373130798341,
            500.3495216369628,
            245.9013862609864,
            170.463327884674,
            190.3482794761658,
            567.9864301681519,
            415.4794325828553,
            919.6422233581543,
            133.949330329895,
            1154.037437915803,
            4658.511507987973,
            2231.339382171631,
            343.1260981559754,
            636.0832600593566,
            1639.913969039917,
            755.3168234825134,
            794.8935718536375,
            1670.13202571869,
            760.7850241661074,
            566.6802854537964,
            374.1882262229919,
            1393.364026546478,
            1526.047327041625,
            995.2102708816527,
            1056.212489128113,
            1946.910461425781,
            1093.722822666168,
            5072.468629837037,
            5211.644974708559,
            3551.201108932494,
            3218.430734634399,
            399.7412099838257,
            3448.802480697631,
            2301.584243774414,
            4963.21462869644,
            6052.921845912932,
            4878.14495277405,
            8654.280290603638,
            10604.60922431946,
            10742.38714122772,
            9142.196159362795,
            7378.768060684204,
            10462.58671760559,
            5072.468629837037,
            5211.644974708559,
            4658.511507987973,
            16466.43640995025,
            4373.319407463073,
            4838.61888217926,
            5801.966189384461,
            3858.888503074647,
            3551.201108932494,
            3734.57018184662,
            3448.802480697631
           ]
          ]
         },
         "header": {
          "align": "left",
          "fill": {
           "color": "paleturquoise"
          },
          "values": [
           "Woreda",
           "Opportunit",
           "NEAR_DIST",
           "metric",
           "POPULATION"
          ]
         },
         "type": "table"
        }
       ],
       "layout": {
        "template": {
         "data": {
          "bar": [
           {
            "error_x": {
             "color": "#2a3f5f"
            },
            "error_y": {
             "color": "#2a3f5f"
            },
            "marker": {
             "line": {
              "color": "#E5ECF6",
              "width": 0.5
             },
             "pattern": {
              "fillmode": "overlay",
              "size": 10,
              "solidity": 0.2
             }
            },
            "type": "bar"
           }
          ],
          "barpolar": [
           {
            "marker": {
             "line": {
              "color": "#E5ECF6",
              "width": 0.5
             },
             "pattern": {
              "fillmode": "overlay",
              "size": 10,
              "solidity": 0.2
             }
            },
            "type": "barpolar"
           }
          ],
          "carpet": [
           {
            "aaxis": {
             "endlinecolor": "#2a3f5f",
             "gridcolor": "white",
             "linecolor": "white",
             "minorgridcolor": "white",
             "startlinecolor": "#2a3f5f"
            },
            "baxis": {
             "endlinecolor": "#2a3f5f",
             "gridcolor": "white",
             "linecolor": "white",
             "minorgridcolor": "white",
             "startlinecolor": "#2a3f5f"
            },
            "type": "carpet"
           }
          ],
          "choropleth": [
           {
            "colorbar": {
             "outlinewidth": 0,
             "ticks": ""
            },
            "type": "choropleth"
           }
          ],
          "contour": [
           {
            "colorbar": {
             "outlinewidth": 0,
             "ticks": ""
            },
            "colorscale": [
             [
              0,
              "#0d0887"
             ],
             [
              0.1111111111111111,
              "#46039f"
             ],
             [
              0.2222222222222222,
              "#7201a8"
             ],
             [
              0.3333333333333333,
              "#9c179e"
             ],
             [
              0.4444444444444444,
              "#bd3786"
             ],
             [
              0.5555555555555556,
              "#d8576b"
             ],
             [
              0.6666666666666666,
              "#ed7953"
             ],
             [
              0.7777777777777778,
              "#fb9f3a"
             ],
             [
              0.8888888888888888,
              "#fdca26"
             ],
             [
              1,
              "#f0f921"
             ]
            ],
            "type": "contour"
           }
          ],
          "contourcarpet": [
           {
            "colorbar": {
             "outlinewidth": 0,
             "ticks": ""
            },
            "type": "contourcarpet"
           }
          ],
          "heatmap": [
           {
            "colorbar": {
             "outlinewidth": 0,
             "ticks": ""
            },
            "colorscale": [
             [
              0,
              "#0d0887"
             ],
             [
              0.1111111111111111,
              "#46039f"
             ],
             [
              0.2222222222222222,
              "#7201a8"
             ],
             [
              0.3333333333333333,
              "#9c179e"
             ],
             [
              0.4444444444444444,
              "#bd3786"
             ],
             [
              0.5555555555555556,
              "#d8576b"
             ],
             [
              0.6666666666666666,
              "#ed7953"
             ],
             [
              0.7777777777777778,
              "#fb9f3a"
             ],
             [
              0.8888888888888888,
              "#fdca26"
             ],
             [
              1,
              "#f0f921"
             ]
            ],
            "type": "heatmap"
           }
          ],
          "heatmapgl": [
           {
            "colorbar": {
             "outlinewidth": 0,
             "ticks": ""
            },
            "colorscale": [
             [
              0,
              "#0d0887"
             ],
             [
              0.1111111111111111,
              "#46039f"
             ],
             [
              0.2222222222222222,
              "#7201a8"
             ],
             [
              0.3333333333333333,
              "#9c179e"
             ],
             [
              0.4444444444444444,
              "#bd3786"
             ],
             [
              0.5555555555555556,
              "#d8576b"
             ],
             [
              0.6666666666666666,
              "#ed7953"
             ],
             [
              0.7777777777777778,
              "#fb9f3a"
             ],
             [
              0.8888888888888888,
              "#fdca26"
             ],
             [
              1,
              "#f0f921"
             ]
            ],
            "type": "heatmapgl"
           }
          ],
          "histogram": [
           {
            "marker": {
             "pattern": {
              "fillmode": "overlay",
              "size": 10,
              "solidity": 0.2
             }
            },
            "type": "histogram"
           }
          ],
          "histogram2d": [
           {
            "colorbar": {
             "outlinewidth": 0,
             "ticks": ""
            },
            "colorscale": [
             [
              0,
              "#0d0887"
             ],
             [
              0.1111111111111111,
              "#46039f"
             ],
             [
              0.2222222222222222,
              "#7201a8"
             ],
             [
              0.3333333333333333,
              "#9c179e"
             ],
             [
              0.4444444444444444,
              "#bd3786"
             ],
             [
              0.5555555555555556,
              "#d8576b"
             ],
             [
              0.6666666666666666,
              "#ed7953"
             ],
             [
              0.7777777777777778,
              "#fb9f3a"
             ],
             [
              0.8888888888888888,
              "#fdca26"
             ],
             [
              1,
              "#f0f921"
             ]
            ],
            "type": "histogram2d"
           }
          ],
          "histogram2dcontour": [
           {
            "colorbar": {
             "outlinewidth": 0,
             "ticks": ""
            },
            "colorscale": [
             [
              0,
              "#0d0887"
             ],
             [
              0.1111111111111111,
              "#46039f"
             ],
             [
              0.2222222222222222,
              "#7201a8"
             ],
             [
              0.3333333333333333,
              "#9c179e"
             ],
             [
              0.4444444444444444,
              "#bd3786"
             ],
             [
              0.5555555555555556,
              "#d8576b"
             ],
             [
              0.6666666666666666,
              "#ed7953"
             ],
             [
              0.7777777777777778,
              "#fb9f3a"
             ],
             [
              0.8888888888888888,
              "#fdca26"
             ],
             [
              1,
              "#f0f921"
             ]
            ],
            "type": "histogram2dcontour"
           }
          ],
          "mesh3d": [
           {
            "colorbar": {
             "outlinewidth": 0,
             "ticks": ""
            },
            "type": "mesh3d"
           }
          ],
          "parcoords": [
           {
            "line": {
             "colorbar": {
              "outlinewidth": 0,
              "ticks": ""
             }
            },
            "type": "parcoords"
           }
          ],
          "pie": [
           {
            "automargin": true,
            "type": "pie"
           }
          ],
          "scatter": [
           {
            "fillpattern": {
             "fillmode": "overlay",
             "size": 10,
             "solidity": 0.2
            },
            "type": "scatter"
           }
          ],
          "scatter3d": [
           {
            "line": {
             "colorbar": {
              "outlinewidth": 0,
              "ticks": ""
             }
            },
            "marker": {
             "colorbar": {
              "outlinewidth": 0,
              "ticks": ""
             }
            },
            "type": "scatter3d"
           }
          ],
          "scattercarpet": [
           {
            "marker": {
             "colorbar": {
              "outlinewidth": 0,
              "ticks": ""
             }
            },
            "type": "scattercarpet"
           }
          ],
          "scattergeo": [
           {
            "marker": {
             "colorbar": {
              "outlinewidth": 0,
              "ticks": ""
             }
            },
            "type": "scattergeo"
           }
          ],
          "scattergl": [
           {
            "marker": {
             "colorbar": {
              "outlinewidth": 0,
              "ticks": ""
             }
            },
            "type": "scattergl"
           }
          ],
          "scattermapbox": [
           {
            "marker": {
             "colorbar": {
              "outlinewidth": 0,
              "ticks": ""
             }
            },
            "type": "scattermapbox"
           }
          ],
          "scatterpolar": [
           {
            "marker": {
             "colorbar": {
              "outlinewidth": 0,
              "ticks": ""
             }
            },
            "type": "scatterpolar"
           }
          ],
          "scatterpolargl": [
           {
            "marker": {
             "colorbar": {
              "outlinewidth": 0,
              "ticks": ""
             }
            },
            "type": "scatterpolargl"
           }
          ],
          "scatterternary": [
           {
            "marker": {
             "colorbar": {
              "outlinewidth": 0,
              "ticks": ""
             }
            },
            "type": "scatterternary"
           }
          ],
          "surface": [
           {
            "colorbar": {
             "outlinewidth": 0,
             "ticks": ""
            },
            "colorscale": [
             [
              0,
              "#0d0887"
             ],
             [
              0.1111111111111111,
              "#46039f"
             ],
             [
              0.2222222222222222,
              "#7201a8"
             ],
             [
              0.3333333333333333,
              "#9c179e"
             ],
             [
              0.4444444444444444,
              "#bd3786"
             ],
             [
              0.5555555555555556,
              "#d8576b"
             ],
             [
              0.6666666666666666,
              "#ed7953"
             ],
             [
              0.7777777777777778,
              "#fb9f3a"
             ],
             [
              0.8888888888888888,
              "#fdca26"
             ],
             [
              1,
              "#f0f921"
             ]
            ],
            "type": "surface"
           }
          ],
          "table": [
           {
            "cells": {
             "fill": {
              "color": "#EBF0F8"
             },
             "line": {
              "color": "white"
             }
            },
            "header": {
             "fill": {
              "color": "#C8D4E3"
             },
             "line": {
              "color": "white"
             }
            },
            "type": "table"
           }
          ]
         },
         "layout": {
          "annotationdefaults": {
           "arrowcolor": "#2a3f5f",
           "arrowhead": 0,
           "arrowwidth": 1
          },
          "autotypenumbers": "strict",
          "coloraxis": {
           "colorbar": {
            "outlinewidth": 0,
            "ticks": ""
           }
          },
          "colorscale": {
           "diverging": [
            [
             0,
             "#8e0152"
            ],
            [
             0.1,
             "#c51b7d"
            ],
            [
             0.2,
             "#de77ae"
            ],
            [
             0.3,
             "#f1b6da"
            ],
            [
             0.4,
             "#fde0ef"
            ],
            [
             0.5,
             "#f7f7f7"
            ],
            [
             0.6,
             "#e6f5d0"
            ],
            [
             0.7,
             "#b8e186"
            ],
            [
             0.8,
             "#7fbc41"
            ],
            [
             0.9,
             "#4d9221"
            ],
            [
             1,
             "#276419"
            ]
           ],
           "sequential": [
            [
             0,
             "#0d0887"
            ],
            [
             0.1111111111111111,
             "#46039f"
            ],
            [
             0.2222222222222222,
             "#7201a8"
            ],
            [
             0.3333333333333333,
             "#9c179e"
            ],
            [
             0.4444444444444444,
             "#bd3786"
            ],
            [
             0.5555555555555556,
             "#d8576b"
            ],
            [
             0.6666666666666666,
             "#ed7953"
            ],
            [
             0.7777777777777778,
             "#fb9f3a"
            ],
            [
             0.8888888888888888,
             "#fdca26"
            ],
            [
             1,
             "#f0f921"
            ]
           ],
           "sequentialminus": [
            [
             0,
             "#0d0887"
            ],
            [
             0.1111111111111111,
             "#46039f"
            ],
            [
             0.2222222222222222,
             "#7201a8"
            ],
            [
             0.3333333333333333,
             "#9c179e"
            ],
            [
             0.4444444444444444,
             "#bd3786"
            ],
            [
             0.5555555555555556,
             "#d8576b"
            ],
            [
             0.6666666666666666,
             "#ed7953"
            ],
            [
             0.7777777777777778,
             "#fb9f3a"
            ],
            [
             0.8888888888888888,
             "#fdca26"
            ],
            [
             1,
             "#f0f921"
            ]
           ]
          },
          "colorway": [
           "#636efa",
           "#EF553B",
           "#00cc96",
           "#ab63fa",
           "#FFA15A",
           "#19d3f3",
           "#FF6692",
           "#B6E880",
           "#FF97FF",
           "#FECB52"
          ],
          "font": {
           "color": "#2a3f5f"
          },
          "geo": {
           "bgcolor": "white",
           "lakecolor": "white",
           "landcolor": "#E5ECF6",
           "showlakes": true,
           "showland": true,
           "subunitcolor": "white"
          },
          "hoverlabel": {
           "align": "left"
          },
          "hovermode": "closest",
          "mapbox": {
           "style": "light"
          },
          "paper_bgcolor": "white",
          "plot_bgcolor": "#E5ECF6",
          "polar": {
           "angularaxis": {
            "gridcolor": "white",
            "linecolor": "white",
            "ticks": ""
           },
           "bgcolor": "#E5ECF6",
           "radialaxis": {
            "gridcolor": "white",
            "linecolor": "white",
            "ticks": ""
           }
          },
          "scene": {
           "xaxis": {
            "backgroundcolor": "#E5ECF6",
            "gridcolor": "white",
            "gridwidth": 2,
            "linecolor": "white",
            "showbackground": true,
            "ticks": "",
            "zerolinecolor": "white"
           },
           "yaxis": {
            "backgroundcolor": "#E5ECF6",
            "gridcolor": "white",
            "gridwidth": 2,
            "linecolor": "white",
            "showbackground": true,
            "ticks": "",
            "zerolinecolor": "white"
           },
           "zaxis": {
            "backgroundcolor": "#E5ECF6",
            "gridcolor": "white",
            "gridwidth": 2,
            "linecolor": "white",
            "showbackground": true,
            "ticks": "",
            "zerolinecolor": "white"
           }
          },
          "shapedefaults": {
           "line": {
            "color": "#2a3f5f"
           }
          },
          "ternary": {
           "aaxis": {
            "gridcolor": "white",
            "linecolor": "white",
            "ticks": ""
           },
           "baxis": {
            "gridcolor": "white",
            "linecolor": "white",
            "ticks": ""
           },
           "bgcolor": "#E5ECF6",
           "caxis": {
            "gridcolor": "white",
            "linecolor": "white",
            "ticks": ""
           }
          },
          "title": {
           "x": 0.05
          },
          "xaxis": {
           "automargin": true,
           "gridcolor": "white",
           "linecolor": "white",
           "ticks": "",
           "title": {
            "standoff": 15
           },
           "zerolinecolor": "white",
           "zerolinewidth": 2
          },
          "yaxis": {
           "automargin": true,
           "gridcolor": "white",
           "linecolor": "white",
           "ticks": "",
           "title": {
            "standoff": 15
           },
           "zerolinecolor": "white",
           "zerolinewidth": 2
          }
         }
        },
        "title": {
         "text": "Outlier Data Table"
        }
       }
      }
     },
     "metadata": {},
     "output_type": "display_data"
    }
   ],
   "source": [
    "import plotly.graph_objects as go\n",
    "import pandas as pd\n",
    "\n",
    "# Assuming you already defined the DataFrame 'df' and calculated outliers\n",
    "\n",
    "# Concatenate outliers from different variables into one DataFrame\n",
    "outlier_table = pd.concat([outliers_near_dist, outliers_metric, outliers_population])\n",
    "\n",
    "# Add the 'Woreda' column from the original DataFrame 'df' to the outlier table\n",
    "outlier_table['Woreda'] = df.loc[outlier_table.index, 'Woreda']\n",
    "\n",
    "# Create a table trace\n",
    "table_trace = go.Table(\n",
    "    header=dict(values=['Woreda', 'Opportunit', 'NEAR_DIST', 'metric', 'POPULATION'],\n",
    "                fill_color='paleturquoise',\n",
    "                align='left'),\n",
    "    cells=dict(values=[outlier_table['Woreda'], outlier_table['Opportunit'], outlier_table['NEAR_DIST'], outlier_table['metric'], outlier_table['POPULATION']],\n",
    "               fill=dict(color=[outlier_table['metric'].apply(lambda x: 'green' if x in outliers_metric['metric'].values else 'orange' if x in outliers_population['metric'].values else 'red')]),\n",
    "               align='left')\n",
    ")\n",
    "\n",
    "# Layout for the table\n",
    "table_layout = go.Layout(\n",
    "    title='Outlier Data Table'\n",
    ")\n",
    "\n",
    "# Add the table trace to the figure\n",
    "fig_with_table = go.Figure(data=[table_trace], layout=table_layout)\n",
    "\n",
    "# Display the table\n",
    "fig_with_table.show()\n"
   ]
  },
  {
   "cell_type": "code",
   "execution_count": 14,
   "metadata": {},
   "outputs": [
    {
     "name": "stdout",
     "output_type": "stream",
     "text": [
      "Requirement already satisfied: geopandas in c:\\users\\b2p admin\\appdata\\roaming\\python\\python39\\site-packages (0.14.3)\n",
      "Requirement already satisfied: fiona>=1.8.21 in c:\\users\\b2p admin\\appdata\\roaming\\python\\python39\\site-packages (from geopandas) (1.9.6)\n",
      "Requirement already satisfied: packaging in c:\\program files\\arcgis\\pro\\bin\\python\\envs\\arcgispro-py3\\lib\\site-packages (from geopandas) (21.3)\n",
      "Requirement already satisfied: pandas>=1.4.0 in c:\\program files\\arcgis\\pro\\bin\\python\\envs\\arcgispro-py3\\lib\\site-packages (from geopandas) (2.0.2)\n",
      "Requirement already satisfied: pyproj>=3.3.0 in c:\\users\\b2p admin\\appdata\\roaming\\python\\python39\\site-packages (from geopandas) (3.6.1)\n",
      "Requirement already satisfied: shapely>=1.8.0 in c:\\users\\b2p admin\\appdata\\roaming\\python\\python39\\site-packages (from geopandas) (2.0.3)\n",
      "Requirement already satisfied: attrs>=19.2.0 in c:\\program files\\arcgis\\pro\\bin\\python\\envs\\arcgispro-py3\\lib\\site-packages (from fiona>=1.8.21->geopandas) (22.1.0)\n",
      "Requirement already satisfied: certifi in c:\\program files\\arcgis\\pro\\bin\\python\\envs\\arcgispro-py3\\lib\\site-packages (from fiona>=1.8.21->geopandas) (2023.7.22)\n",
      "Requirement already satisfied: click~=8.0 in c:\\program files\\arcgis\\pro\\bin\\python\\envs\\arcgispro-py3\\lib\\site-packages (from fiona>=1.8.21->geopandas) (8.0.4)\n",
      "Requirement already satisfied: click-plugins>=1.0 in c:\\users\\b2p admin\\appdata\\roaming\\python\\python39\\site-packages (from fiona>=1.8.21->geopandas) (1.1.1)\n",
      "Requirement already satisfied: cligj>=0.5 in c:\\users\\b2p admin\\appdata\\roaming\\python\\python39\\site-packages (from fiona>=1.8.21->geopandas) (0.7.2)\n",
      "Requirement already satisfied: six in c:\\program files\\arcgis\\pro\\bin\\python\\envs\\arcgispro-py3\\lib\\site-packages (from fiona>=1.8.21->geopandas) (1.16.0)\n",
      "Requirement already satisfied: importlib-metadata in c:\\program files\\arcgis\\pro\\bin\\python\\envs\\arcgispro-py3\\lib\\site-packages (from fiona>=1.8.21->geopandas) (6.0.0)\n",
      "Requirement already satisfied: python-dateutil>=2.8.2 in c:\\program files\\arcgis\\pro\\bin\\python\\envs\\arcgispro-py3\\lib\\site-packages (from pandas>=1.4.0->geopandas) (2.8.2)\n",
      "Requirement already satisfied: pytz>=2020.1 in c:\\program files\\arcgis\\pro\\bin\\python\\envs\\arcgispro-py3\\lib\\site-packages\\pytz-2022.6-py3.9.egg (from pandas>=1.4.0->geopandas) (2022.6)\n",
      "Requirement already satisfied: tzdata>=2022.1 in c:\\program files\\arcgis\\pro\\bin\\python\\envs\\arcgispro-py3\\lib\\site-packages (from pandas>=1.4.0->geopandas) (2024.1)\n",
      "Requirement already satisfied: numpy>=1.20.3 in c:\\program files\\arcgis\\pro\\bin\\python\\envs\\arcgispro-py3\\lib\\site-packages (from pandas>=1.4.0->geopandas) (1.22.4)\n",
      "Requirement already satisfied: pyparsing!=3.0.5,>=2.0.2 in c:\\program files\\arcgis\\pro\\bin\\python\\envs\\arcgispro-py3\\lib\\site-packages (from packaging->geopandas) (3.0.9)\n",
      "Requirement already satisfied: colorama in c:\\program files\\arcgis\\pro\\bin\\python\\envs\\arcgispro-py3\\lib\\site-packages (from click~=8.0->fiona>=1.8.21->geopandas) (0.4.6)\n",
      "Requirement already satisfied: zipp>=0.5 in c:\\program files\\arcgis\\pro\\bin\\python\\envs\\arcgispro-py3\\lib\\site-packages (from importlib-metadata->fiona>=1.8.21->geopandas) (3.8.0)\n",
      "Note: you may need to restart the kernel to use updated packages.\n"
     ]
    }
   ],
   "source": [
    "pip install geopandas --user"
   ]
  },
  {
   "cell_type": "code",
   "execution_count": 15,
   "metadata": {},
   "outputs": [
    {
<<<<<<< HEAD
     "ename": "NameError",
     "evalue": "name 'outliers' is not defined",
     "output_type": "error",
     "traceback": [
      "\u001b[1;31m---------------------------------------------------------------------------\u001b[0m",
      "\u001b[1;31mNameError\u001b[0m                                 Traceback (most recent call last)",
      "\u001b[1;32m~\\AppData\\Local\\Temp\\ipykernel_19820\\3830508472.py\u001b[0m in \u001b[0;36m<cell line: 30>\u001b[1;34m()\u001b[0m\n\u001b[0;32m     29\u001b[0m \u001b[1;31m# Add outliers as markers\u001b[0m\u001b[1;33m\u001b[0m\u001b[1;33m\u001b[0m\u001b[0m\n\u001b[0;32m     30\u001b[0m fig.add_trace(go.Scattergeo(\n\u001b[1;32m---> 31\u001b[1;33m     \u001b[0mlon\u001b[0m\u001b[1;33m=\u001b[0m\u001b[0moutliers\u001b[0m\u001b[1;33m[\u001b[0m\u001b[1;34m'GPS__Longi'\u001b[0m\u001b[1;33m]\u001b[0m\u001b[1;33m,\u001b[0m\u001b[1;33m\u001b[0m\u001b[1;33m\u001b[0m\u001b[0m\n\u001b[0m\u001b[0;32m     32\u001b[0m     \u001b[0mlat\u001b[0m\u001b[1;33m=\u001b[0m\u001b[0moutliers\u001b[0m\u001b[1;33m[\u001b[0m\u001b[1;34m'GPS__Latit'\u001b[0m\u001b[1;33m]\u001b[0m\u001b[1;33m,\u001b[0m\u001b[1;33m\u001b[0m\u001b[1;33m\u001b[0m\u001b[0m\n\u001b[0;32m     33\u001b[0m     \u001b[0mmode\u001b[0m\u001b[1;33m=\u001b[0m\u001b[1;34m'markers'\u001b[0m\u001b[1;33m,\u001b[0m\u001b[1;33m\u001b[0m\u001b[1;33m\u001b[0m\u001b[0m\n",
      "\u001b[1;31mNameError\u001b[0m: name 'outliers' is not defined"
     ]
=======
     "data": {
      "application/vnd.plotly.v1+json": {
       "config": {
        "plotlyServerURL": "https://plot.ly"
       },
       "data": [
        {
         "hoverinfo": "text",
         "marker": {
          "color": "blue"
         },
         "mode": "markers",
         "name": "Data Points",
         "text": [
          "- Dangawaj - 1049769",
          "- Leencha - 1049728",
          "- Marti - 1049727",
          "- Dangawaj Qalaa - 1049726",
          "- Beeroo - 1049725",
          "- Golli - 1049724",
          "- Amiinoo - 1049723",
          "- Kobbaa - 1049722",
          "- Kobbaa - 1049721",
          "- Chancho - 1049720",
          "Ethiopia - Amoomaa - 1049718",
          "- Dangawaj - 1049717",
          "- Jijo - 1049716",
          "- Anaba - 1049715",
          "- Muuchaa 2 - 1049714",
          "Ethiopia - Muchaa 1 - 1049713",
          "- Inboro - 1049712",
          "- Ooloo - 1049711",
          "- Gooro - 1050398",
          "- Adam Abdi - 1050397",
          "- Abdi Boru - 1050396",
          "- Walda - 1050395",
          "- Dirre Baloo - 1050393",
          "- Ali Ahmed - 1050386",
          "- Ali Uree - 1050385",
          "- Ambo - 1050382",
          "- Dorine - 1049779",
          "- Yemito - 1049778",
          "- Waakkaa - 1049777",
          "- Inabro - 1049776",
          "- Babayu - 1049775",
          "- Angaro - 1049774",
          "- Seemmee - 1049773",
          "- Sadacha - 1049772",
          "- Dogaja - 1049771",
          "- Maammee - 1049770",
          "- Arabu - 1049615",
          "- Sapeeraa - 1049614",
          "- Dagaboso - 1049613",
          "- Usmani - 1049599",
          "- Yaacino - 1049598",
          "- Olme Dha'e - 1049597",
          "- Ilkee - 1049596",
          "- Aniya - 1049595",
          "- Shewa Bar - 1049593",
          "- Burkitu - 1049592",
          "- Yabboo - 1049591",
          "- Misira - 1049578",
          "- Jalalle - 1049576",
          "- Kombolcha - 1049575",
          "- Kobaa Warke - 1049574",
          "- Heeraa - 1049573",
          "- Wannib - 1049563",
          "- Duuke - 1049562",
          "- Xabala - 1049561",
          "- Tuuli - 1049560",
          "- Chagge - 1049544",
          "- Kambo - 1049543",
          "- Gocho - 1049542",
          "- Gaaro - 1049541",
          "- Ambalta - 1049516",
          "- Raammee - 1049515",
          "- Ginabe - 1049514",
          "- Nagade - 1049512",
          "- Ambalta - 1049511",
          "- Basiro - 1049510",
          "- Qaqa - 1049498",
          "- Laftani - 1049496",
          "- Urgesa - 1049495",
          "- Buluke Doose - 1049494",
          "- Soloka - 1049414",
          "- Sarde - 1049413",
          "- Alga - 1049412",
          "- Bakke Reettii - 1049410",
          "- Iyasi - 1049409",
          "- Mayyee - 1049408",
          "- Ooso - 1049407",
          "- Madoo - 1049406",
          "- Allabero - 1049405",
          "- Sadacha - 1049084",
          "- Buko - 1049083",
          "- Utee - 1049082",
          "- Kobo - 1049080",
          "- Darita 1st - 1049076",
          "- Tabote - 1049074",
          "- Iyaru - 1049069",
          "- Madda Jaalala - 1049067",
          "- Akuku - 1049065",
          "- Agilo - 1049035",
          "Ethiopia - Adami - 1049034",
          "Ethiopia - Lalisa - 1049033",
          "- Soobo - 1049031",
          "- Miiloo Second - 1049030",
          "- Inayyo - 1049024",
          "- Inayyoo - 1049023",
          "- Gondore - 1049022",
          "- Caffe Third - 1049021",
          "- Dayidi - 1049020",
          "- Dunga - 1049019",
          "- Bukatota - 1050264",
          "- Muzika Racha - 1050355",
          "- Federal Camp - 1050353",
          "- Kubaniya - 1050352",
          "- Bunoo 4 - 1050351",
          "- Bunoo - 1050350",
          "- Bunoo 2 - 1050349",
          "- Morfo 1 - 1050345",
          "- Ahmed yesuf - 1050344",
          "- Morfo - 1050343",
          "- Galmo - 1050342",
          "- She Ahmed - 1050341",
          "- Challe - 1050322",
          "- Challe - 1050321",
          "- Gulfate - 1050320",
          "- Tutuftu - 1050317",
          "- Dabala - 1050312",
          "- Gaara Ale - 1050311",
          "- Torboyo - 1050290",
          "- Jilbo - 1050289",
          "- Baala Adii - 1050288",
          "- Tuka - 1050287",
          "- Seifi Abrahim - 1050285",
          "- Aamade - 1050284",
          "- Noolee - 1050266",
          "- Burii - 1050265",
          "- Cabaka - 1050263",
          "Ethiopia - Sisimo - 1039546",
          "Ethiopia - Sagito - 1039544",
          "Ethiopia - Kotito - 1039542",
          "Ethiopia - Kuba - 1039540",
          "Ethiopia - Dogaja - 1039539",
          "Ethiopia - Yamito - 1039538",
          "Ethiopia - Ulmaye - 1039451",
          "Ethiopia - Birbo - 1039446",
          "Ethiopia - Qoqomo - 1039445",
          "Ethiopia - Gojo - 1039437",
          "- Mesa Market village - 1049626",
          "- Denba Kelo - 1049625",
          "- Wacha 2 - 1049623",
          "- Wacha - 1049622",
          "- Boriqo - 1049621",
          "- Subo - 1049610",
          "- Qerqe - 1049609",
          "- Qelataya - 1049608",
          "- Elela - 1049607",
          "- Elela 01 - 1049606",
          "- Koyiso 1 - 1049604",
          "- Koyiso - 1049603",
          "- Zuriko - 1049572",
          "- Giyale - 1049571",
          "- Shupate - 1049570",
          "- Giyale 01 - 1049568",
          "- Keloso - 1049558",
          "- Dola - 1049557",
          "- Maira - 1049556",
          "- Giyassa - 1049555",
          "- Tsilelo - 1049554",
          "- Hiramo - 1049549",
          "- Adinche - 1049547",
          "- Gero_Gendela - 1049546",
          "- Gero - 1049545",
          "- Elese-Deme 3 - 1049523",
          "- Elese - 1049522",
          "- Tale - 1049521",
          "- Elese-Kentso Meshagera - 1049520",
          "- Boa - 1049508",
          "- Zala Kare - 1049507",
          "- Gara Gitora 2 - 1049506",
          "- Geressa Gitora - 1049505",
          "- Fintha - 1049504",
          "- Zela - 1049501",
          "- Dogile - 1049500",
          "Ethiopia - Wallo - 1049491",
          "Ethiopia - Gema Gara - 1049488",
          "Ethiopia - Karba - 1049487",
          "Ethiopia - Matso Gara - 1049486",
          "Ethiopia - Lalimea - 1049485",
          "Ethiopia - Chosho 1 - 1049484",
          "Ethiopia - Chosho - 1049483",
          "Ethiopia - Cheniga - 1049482",
          "Ethiopia - Aba Tuba - 1049480",
          "Ethiopia - Menaria - 1049479",
          "Ethiopia - Kaske Genize-Bubina - 1049478",
          "Ethiopia - Dambiya - 1049477",
          "- Dambiya 1 - 1049052",
          "Ethiopia - Toko Dambiya - 1049048",
          "- Chaba Wonibe - 1049047",
          "Ethiopia - Woyide Gonita - 1049046",
          "- Tinbitu - 1049750",
          "- Arere Minche - 1049747",
          "- Hamusi Gebeya - 1049708",
          "- Lebu 01 - 1049707",
          "- Danchese - 1049704",
          "- Hokokenso - 1049688",
          "- Hanijesso - 1049687",
          "- Bedesa - 1049686",
          "- Kembata - 1049685",
          "- Awala seferi - 1049659",
          "- Birebirta - 1049655",
          "- Piyayou - 1049654",
          "- Ginda 01 - 1049638",
          "- Baloa - 1049637",
          "- Goro 01 - 1049636",
          "- Aniba-Ogona - 1049635",
          "- Gawiga - 1049569",
          "- Fato - 1050356",
          "- 95 - 1050336",
          "- Dire 1 - 1050335",
          "- Gortti - 1050334",
          "- Meser - 1050414",
          "- Kember - 1050413",
          "- Shomo school - 1050406",
          "- Kobo - 1050405",
          "- Kombole - 1050404",
          "- Kombole - 1050403",
          "- Mesere 2 - 1050402",
          "- Azere - 1050401",
          "- Laye Gerena - 1050392",
          "- Elmora - 1050391",
          "- Fanano - 1050388",
          "- Laye yemene - 1050387",
          "- Gabete - 1050383",
          "- Shado - 1050379",
          "- Zenuta - 1050378",
          "- Sohe - 1050377",
          "- Tache senen - 1050376",
          "- Ayigeba school - 1050375",
          "- Loke - 1050374",
          "- Gishesha - 1050373",
          "- Uge - 1050372",
          "- Ateta - 1050363",
          "- Dino - 1050362",
          "- Tach drawit 1 - 1050361",
          "- Kechira - 1050360",
          "- Kilito - 1050359",
          "- Tatebar - 1050358",
          "- Tache Derawit - 1050357",
          "- Chakife 2 - 1050295",
          "- Chakife 1 - 1050294",
          "- Widade Chakife - 1050293",
          "- Amaredi - 1050291",
          "- Selame - 1050282",
          "- Abero village - 1050281",
          "- Zogo 2 - 1050279",
          "- Zogo - 1050278",
          "- Kecha Beri - 1050277",
          "- Wuribe - 1050276",
          "- Enisilasi - 1050267",
          "Ethiopia - Cole - 1047794",
          "Ethiopia - Suba - 1047796"
         ],
         "type": "scatter",
         "x": [
          36.389334,
          36.412284,
          36.426262,
          36.417575,
          36.415112,
          36.398634,
          36.503403,
          36.475083,
          36.470689,
          36.475644,
          36.373032,
          36.401795,
          36.434837,
          36.487845,
          36.484775,
          36.485102,
          36.49838,
          36.517198,
          41.389227,
          41.396938,
          41.399728,
          41.422351,
          41.39412,
          41.424309,
          41.418802,
          41.3947,
          36.091719,
          36.086346,
          36.109796,
          36.113808,
          36.122748,
          36.146658,
          35.991451,
          36.012747,
          36.007346,
          36.022226,
          36.644748,
          36.777024,
          36.696005,
          36.684456,
          36.710922,
          36.674801,
          36.617442,
          36.721531,
          36.465332,
          36.480439,
          36.746934,
          36.690476,
          36.742303,
          36.694504,
          36.69125,
          36.70333,
          36.744423,
          36.727149,
          36.7248,
          36.731698,
          36.520719,
          36.532105,
          36.475563,
          36.469203,
          36.547313,
          36.610335,
          36.618377,
          36.549537,
          36.545193,
          36.548553,
          36.511997,
          36.484849,
          36.483975,
          36.479429,
          36.90888,
          36.758597,
          36.86001,
          36.7601,
          36.871888,
          36.987376,
          37.066261,
          37.020322,
          37.072112,
          36.903181,
          36.912603,
          36.929117,
          36.967942,
          36.945781,
          36.905126,
          36.9043,
          36.83924,
          36.840852,
          36.840309,
          37.05387,
          37.047108,
          36.981789,
          36.972048,
          37.079194,
          37.08036,
          36.981211,
          36.988372,
          36.943389,
          36.931354,
          40.874842,
          40.750695,
          40.760722,
          40.758103,
          40.752199,
          40.752426,
          40.755094,
          40.680851,
          40.696235,
          40.683978,
          40.588837,
          40.600095,
          40.650093,
          40.648908,
          40.662378,
          40.693425,
          40.750226,
          40.767674,
          40.7858,
          40.795817,
          40.794098,
          40.796897,
          40.830823,
          40.815189,
          40.849596,
          40.831311,
          40.877005,
          36.149367,
          36.087689,
          36.15128,
          35.942297,
          36.005979,
          36.038445,
          36.009737,
          36.041402,
          36.070784,
          36.078492,
          37.670539,
          37.581724,
          37.559479,
          37.55879,
          37.559905,
          37.639973,
          37.650636,
          37.650497,
          37.644974,
          37.645231,
          37.603863,
          37.602115,
          37.513921,
          37.51057,
          37.47959,
          37.508752,
          37.442459,
          37.427975,
          37.47716,
          37.442249,
          37.443329,
          37.499664,
          37.48509,
          37.481792,
          37.483,
          37.468325,
          37.480076,
          37.472278,
          37.469704,
          37.56567,
          37.553152,
          37.5622,
          37.561917,
          37.536187,
          37.46705,
          37.457002,
          37.648557,
          37.657961,
          37.591721,
          37.564116,
          37.329421,
          37.224911,
          37.2304,
          37.25285,
          37.288386,
          37.275886,
          37.256389,
          37.273359,
          37.271592,
          37.282986,
          37.287578,
          37.285021,
          38.193009,
          38.200148,
          38.149247,
          38.141797,
          38.158412,
          38.22602,
          38.212964,
          38.20572,
          38.197884,
          38.334483,
          38.331656,
          38.33593,
          38.336684,
          38.331686,
          38.337901,
          38.343588,
          37.482625,
          38.50691,
          38.598595,
          38.58745,
          38.552304,
          38.04151,
          38.018044,
          38.02386,
          37.997901,
          37.998117,
          37.998915,
          38.043497,
          38.039783,
          38.022964,
          37.990725,
          37.989877,
          38.038795,
          37.990581,
          38.057998,
          38.059516,
          38.061772,
          38.03935,
          38.045344,
          38.082758,
          38.106189,
          38.106455,
          38.001678,
          38.003449,
          38.009746,
          38.011077,
          38.010528,
          38.001592,
          38.010338,
          38.184475,
          38.178478,
          38.171656,
          38.198606,
          38.20295,
          38.187718,
          38.25866,
          38.256968,
          38.248356,
          38.247823,
          38.257906,
          36.08574,
          36.021404
         ],
         "y": [
          8.370314,
          8.337878,
          8.4057,
          8.329205,
          8.299745,
          8.242359,
          8.271911,
          8.305088,
          8.306237,
          8.318252,
          8.296139,
          8.328884,
          8.388397,
          8.413723,
          8.422213,
          8.422006,
          8.402849,
          8.38517,
          9.037874,
          8.996712,
          8.965392,
          8.940553,
          9.136069,
          9.078347,
          9.094551,
          9.132473,
          7.917803,
          7.923936,
          7.890775,
          7.89797,
          7.888161,
          7.853663,
          7.874723,
          7.882061,
          7.883767,
          7.853217,
          7.48689,
          7.604991,
          7.606262,
          7.569767,
          7.570638,
          7.59841,
          7.620003,
          7.613942,
          7.652947,
          7.658479,
          7.585258,
          7.483707,
          7.436841,
          7.478043,
          7.464701,
          7.631397,
          7.525217,
          7.567152,
          7.502149,
          7.516494,
          7.495905,
          7.486666,
          7.505188,
          7.467937,
          7.539127,
          7.539359,
          7.550072,
          7.53381,
          7.545292,
          7.514817,
          7.521818,
          7.518118,
          7.532926,
          7.546039,
          8.299201,
          8.487627,
          8.579322,
          8.487813,
          8.585926,
          8.199124,
          8.395486,
          8.30071,
          8.375259,
          8.11599,
          8.125031,
          8.106268,
          8.191909,
          8.199446,
          8.230757,
          8.227497,
          8.224883,
          8.211138,
          8.202563,
          8.416127,
          8.428564,
          8.23687,
          8.52944,
          8.438142,
          8.43863,
          8.507821,
          8.508014,
          8.449428,
          8.459606,
          9.263297,
          9.229973,
          9.235204,
          9.238329,
          9.241594,
          9.24275,
          9.240223,
          9.21248,
          9.210234,
          9.200692,
          9.245963,
          9.215683,
          9.108258,
          9.105219,
          9.138561,
          9.13293,
          9.160612,
          9.114975,
          9.178255,
          9.157338,
          9.158333,
          9.151211,
          9.193293,
          9.243241,
          9.222528,
          9.245739,
          9.259084,
          7.927243,
          7.87857,
          7.857149,
          7.824921,
          7.884469,
          7.857008,
          7.903356,
          7.906986,
          7.927423,
          7.950219,
          6.547823,
          6.481632,
          6.482718,
          6.481424,
          6.476945,
          6.484908,
          6.520869,
          6.519368,
          6.502212,
          6.505614,
          6.412293,
          6.412849,
          6.320509,
          6.322828,
          6.314518,
          6.323633,
          6.204522,
          6.205822,
          6.311004,
          6.241223,
          6.23984,
          6.322082,
          6.32309,
          6.322898,
          6.320981,
          6.367992,
          6.361071,
          6.357456,
          6.367205,
          6.238999,
          6.272652,
          6.262588,
          6.261211,
          6.249709,
          6.198674,
          6.194073,
          6.276039,
          6.274838,
          6.227843,
          6.199407,
          6.640566,
          6.575423,
          6.585868,
          6.539911,
          6.550898,
          6.590993,
          6.606393,
          6.603715,
          6.596942,
          6.598847,
          6.634233,
          6.622232,
          5.940728,
          5.96205,
          6.008119,
          6.063629,
          6.114815,
          5.999309,
          6.004182,
          6.061285,
          6.037918,
          6.353263,
          6.360794,
          6.386754,
          6.301294,
          6.287308,
          6.300324,
          6.347873,
          6.313455,
          8.391224,
          8.374047,
          8.35767,
          8.360863,
          7.762899,
          7.805956,
          7.787178,
          7.760489,
          7.730751,
          7.732328,
          7.763486,
          7.763503,
          7.727389,
          7.700901,
          7.773903,
          7.747002,
          7.778839,
          7.886564,
          7.889988,
          7.890639,
          7.818718,
          7.816558,
          7.916947,
          7.913393,
          7.921563,
          7.794029,
          7.798792,
          7.787415,
          7.790217,
          7.788257,
          7.792856,
          7.787174,
          8.04173,
          8.045447,
          8.044238,
          8.08634,
          8.086601,
          8.075247,
          8.091681,
          8.091725,
          8.073649,
          8.070927,
          8.08712,
          7.922073,
          7.851399
         ]
        },
        {
         "hoverinfo": "text",
         "marker": {
          "color": "red"
         },
         "mode": "markers",
         "name": "Outliers (NEAR_DIST)",
         "text": [
          "- Walda - 1050395",
          "- Sarde - 1049413",
          "- Alga - 1049412",
          "- Bakke Reettii - 1049410",
          "- Iyasi - 1049409",
          "- Ooso - 1049407",
          "- Miiloo Second - 1049030",
          "- Inayyo - 1049024",
          "- Inayyoo - 1049023",
          "- Gondore - 1049022",
          "- Caffe Third - 1049021",
          "- She Ahmed - 1050341",
          "- Dabala - 1050312",
          "Ethiopia - Cheniga - 1049482",
          "- Arere Minche - 1049747",
          "- Kember - 1050413"
         ],
         "type": "scatter",
         "x": [
          41.422351,
          36.758597,
          36.86001,
          36.7601,
          36.871888,
          37.066261,
          36.972048,
          37.079194,
          37.08036,
          36.981211,
          36.988372,
          40.600095,
          40.750226,
          37.25285,
          38.200148,
          38.018044
         ],
         "y": [
          8.940553,
          8.487627,
          8.579322,
          8.487813,
          8.585926,
          8.395486,
          8.52944,
          8.438142,
          8.43863,
          8.507821,
          8.508014,
          9.215683,
          9.160612,
          6.539911,
          5.96205,
          7.805956
         ]
        },
        {
         "hoverinfo": "text",
         "marker": {
          "color": "green"
         },
         "mode": "markers",
         "name": "Outliers (metric)",
         "text": [
          "- Dangawaj - 1049717",
          "- Anaba - 1049715",
          "- Ilkee - 1049596",
          "- Ambalta - 1049516",
          "- Raammee - 1049515",
          "- Ginabe - 1049514",
          "- Nagade - 1049512",
          "- Ambalta - 1049511",
          "- Urgesa - 1049495",
          "- Buluke Doose - 1049494",
          "- Darita 1st - 1049076",
          "- Zuriko - 1049572",
          "- Giyale - 1049571",
          "- Shupate - 1049570",
          "- Elese - 1049522",
          "- Gara Gitora 2 - 1049506",
          "- Geressa Gitora - 1049505",
          "- Baloa - 1049637",
          "- Gawiga - 1049569",
          "- Gortti - 1050334",
          "- Loke - 1050374",
          "- Gishesha - 1050373"
         ],
         "type": "scatter",
         "x": [
          36.401795,
          36.487845,
          36.617442,
          36.547313,
          36.610335,
          36.618377,
          36.549537,
          36.545193,
          36.483975,
          36.479429,
          36.945781,
          37.513921,
          37.51057,
          37.47959,
          37.480076,
          37.5622,
          37.561917,
          38.331686,
          37.482625,
          38.552304,
          38.082758,
          38.106189
         ],
         "y": [
          8.328884,
          8.413723,
          7.620003,
          7.539127,
          7.539359,
          7.550072,
          7.53381,
          7.545292,
          7.532926,
          7.546039,
          8.199446,
          6.320509,
          6.322828,
          6.314518,
          6.361071,
          6.262588,
          6.261211,
          6.287308,
          6.313455,
          8.360863,
          7.916947,
          7.913393
         ]
        },
        {
         "hoverinfo": "text",
         "marker": {
          "color": "orange"
         },
         "mode": "markers",
         "name": "Outliers (POPULATION)",
         "text": [
          "- Leencha - 1049728",
          "- Dangawaj Qalaa - 1049726",
          "- Aniya - 1049595",
          "- Muzika Racha - 1050355",
          "- Federal Camp - 1050353",
          "- Kubaniya - 1050352",
          "- Bunoo 4 - 1050351",
          "- Bunoo - 1050350",
          "- Bunoo 2 - 1050349",
          "- Gara Gitora 2 - 1049506",
          "- Geressa Gitora - 1049505",
          "- Arere Minche - 1049747",
          "- Hamusi Gebeya - 1049708",
          "- Awala seferi - 1049659",
          "- Birebirta - 1049655",
          "- Piyayou - 1049654",
          "- Ginda 01 - 1049638",
          "- Baloa - 1049637",
          "- Goro 01 - 1049636",
          "- Loke - 1050374"
         ],
         "type": "scatter",
         "x": [
          36.412284,
          36.417575,
          36.721531,
          40.750695,
          40.760722,
          40.758103,
          40.752199,
          40.752426,
          40.755094,
          37.5622,
          37.561917,
          38.200148,
          38.149247,
          38.334483,
          38.331656,
          38.33593,
          38.336684,
          38.331686,
          38.337901,
          38.082758
         ],
         "y": [
          8.337878,
          8.329205,
          7.613942,
          9.229973,
          9.235204,
          9.238329,
          9.241594,
          9.24275,
          9.240223,
          6.262588,
          6.261211,
          5.96205,
          6.008119,
          6.353263,
          6.360794,
          6.386754,
          6.301294,
          6.287308,
          6.300324,
          7.916947
         ]
        }
       ],
       "layout": {
        "template": {
         "data": {
          "bar": [
           {
            "error_x": {
             "color": "#2a3f5f"
            },
            "error_y": {
             "color": "#2a3f5f"
            },
            "marker": {
             "line": {
              "color": "#E5ECF6",
              "width": 0.5
             },
             "pattern": {
              "fillmode": "overlay",
              "size": 10,
              "solidity": 0.2
             }
            },
            "type": "bar"
           }
          ],
          "barpolar": [
           {
            "marker": {
             "line": {
              "color": "#E5ECF6",
              "width": 0.5
             },
             "pattern": {
              "fillmode": "overlay",
              "size": 10,
              "solidity": 0.2
             }
            },
            "type": "barpolar"
           }
          ],
          "carpet": [
           {
            "aaxis": {
             "endlinecolor": "#2a3f5f",
             "gridcolor": "white",
             "linecolor": "white",
             "minorgridcolor": "white",
             "startlinecolor": "#2a3f5f"
            },
            "baxis": {
             "endlinecolor": "#2a3f5f",
             "gridcolor": "white",
             "linecolor": "white",
             "minorgridcolor": "white",
             "startlinecolor": "#2a3f5f"
            },
            "type": "carpet"
           }
          ],
          "choropleth": [
           {
            "colorbar": {
             "outlinewidth": 0,
             "ticks": ""
            },
            "type": "choropleth"
           }
          ],
          "contour": [
           {
            "colorbar": {
             "outlinewidth": 0,
             "ticks": ""
            },
            "colorscale": [
             [
              0,
              "#0d0887"
             ],
             [
              0.1111111111111111,
              "#46039f"
             ],
             [
              0.2222222222222222,
              "#7201a8"
             ],
             [
              0.3333333333333333,
              "#9c179e"
             ],
             [
              0.4444444444444444,
              "#bd3786"
             ],
             [
              0.5555555555555556,
              "#d8576b"
             ],
             [
              0.6666666666666666,
              "#ed7953"
             ],
             [
              0.7777777777777778,
              "#fb9f3a"
             ],
             [
              0.8888888888888888,
              "#fdca26"
             ],
             [
              1,
              "#f0f921"
             ]
            ],
            "type": "contour"
           }
          ],
          "contourcarpet": [
           {
            "colorbar": {
             "outlinewidth": 0,
             "ticks": ""
            },
            "type": "contourcarpet"
           }
          ],
          "heatmap": [
           {
            "colorbar": {
             "outlinewidth": 0,
             "ticks": ""
            },
            "colorscale": [
             [
              0,
              "#0d0887"
             ],
             [
              0.1111111111111111,
              "#46039f"
             ],
             [
              0.2222222222222222,
              "#7201a8"
             ],
             [
              0.3333333333333333,
              "#9c179e"
             ],
             [
              0.4444444444444444,
              "#bd3786"
             ],
             [
              0.5555555555555556,
              "#d8576b"
             ],
             [
              0.6666666666666666,
              "#ed7953"
             ],
             [
              0.7777777777777778,
              "#fb9f3a"
             ],
             [
              0.8888888888888888,
              "#fdca26"
             ],
             [
              1,
              "#f0f921"
             ]
            ],
            "type": "heatmap"
           }
          ],
          "heatmapgl": [
           {
            "colorbar": {
             "outlinewidth": 0,
             "ticks": ""
            },
            "colorscale": [
             [
              0,
              "#0d0887"
             ],
             [
              0.1111111111111111,
              "#46039f"
             ],
             [
              0.2222222222222222,
              "#7201a8"
             ],
             [
              0.3333333333333333,
              "#9c179e"
             ],
             [
              0.4444444444444444,
              "#bd3786"
             ],
             [
              0.5555555555555556,
              "#d8576b"
             ],
             [
              0.6666666666666666,
              "#ed7953"
             ],
             [
              0.7777777777777778,
              "#fb9f3a"
             ],
             [
              0.8888888888888888,
              "#fdca26"
             ],
             [
              1,
              "#f0f921"
             ]
            ],
            "type": "heatmapgl"
           }
          ],
          "histogram": [
           {
            "marker": {
             "pattern": {
              "fillmode": "overlay",
              "size": 10,
              "solidity": 0.2
             }
            },
            "type": "histogram"
           }
          ],
          "histogram2d": [
           {
            "colorbar": {
             "outlinewidth": 0,
             "ticks": ""
            },
            "colorscale": [
             [
              0,
              "#0d0887"
             ],
             [
              0.1111111111111111,
              "#46039f"
             ],
             [
              0.2222222222222222,
              "#7201a8"
             ],
             [
              0.3333333333333333,
              "#9c179e"
             ],
             [
              0.4444444444444444,
              "#bd3786"
             ],
             [
              0.5555555555555556,
              "#d8576b"
             ],
             [
              0.6666666666666666,
              "#ed7953"
             ],
             [
              0.7777777777777778,
              "#fb9f3a"
             ],
             [
              0.8888888888888888,
              "#fdca26"
             ],
             [
              1,
              "#f0f921"
             ]
            ],
            "type": "histogram2d"
           }
          ],
          "histogram2dcontour": [
           {
            "colorbar": {
             "outlinewidth": 0,
             "ticks": ""
            },
            "colorscale": [
             [
              0,
              "#0d0887"
             ],
             [
              0.1111111111111111,
              "#46039f"
             ],
             [
              0.2222222222222222,
              "#7201a8"
             ],
             [
              0.3333333333333333,
              "#9c179e"
             ],
             [
              0.4444444444444444,
              "#bd3786"
             ],
             [
              0.5555555555555556,
              "#d8576b"
             ],
             [
              0.6666666666666666,
              "#ed7953"
             ],
             [
              0.7777777777777778,
              "#fb9f3a"
             ],
             [
              0.8888888888888888,
              "#fdca26"
             ],
             [
              1,
              "#f0f921"
             ]
            ],
            "type": "histogram2dcontour"
           }
          ],
          "mesh3d": [
           {
            "colorbar": {
             "outlinewidth": 0,
             "ticks": ""
            },
            "type": "mesh3d"
           }
          ],
          "parcoords": [
           {
            "line": {
             "colorbar": {
              "outlinewidth": 0,
              "ticks": ""
             }
            },
            "type": "parcoords"
           }
          ],
          "pie": [
           {
            "automargin": true,
            "type": "pie"
           }
          ],
          "scatter": [
           {
            "fillpattern": {
             "fillmode": "overlay",
             "size": 10,
             "solidity": 0.2
            },
            "type": "scatter"
           }
          ],
          "scatter3d": [
           {
            "line": {
             "colorbar": {
              "outlinewidth": 0,
              "ticks": ""
             }
            },
            "marker": {
             "colorbar": {
              "outlinewidth": 0,
              "ticks": ""
             }
            },
            "type": "scatter3d"
           }
          ],
          "scattercarpet": [
           {
            "marker": {
             "colorbar": {
              "outlinewidth": 0,
              "ticks": ""
             }
            },
            "type": "scattercarpet"
           }
          ],
          "scattergeo": [
           {
            "marker": {
             "colorbar": {
              "outlinewidth": 0,
              "ticks": ""
             }
            },
            "type": "scattergeo"
           }
          ],
          "scattergl": [
           {
            "marker": {
             "colorbar": {
              "outlinewidth": 0,
              "ticks": ""
             }
            },
            "type": "scattergl"
           }
          ],
          "scattermapbox": [
           {
            "marker": {
             "colorbar": {
              "outlinewidth": 0,
              "ticks": ""
             }
            },
            "type": "scattermapbox"
           }
          ],
          "scatterpolar": [
           {
            "marker": {
             "colorbar": {
              "outlinewidth": 0,
              "ticks": ""
             }
            },
            "type": "scatterpolar"
           }
          ],
          "scatterpolargl": [
           {
            "marker": {
             "colorbar": {
              "outlinewidth": 0,
              "ticks": ""
             }
            },
            "type": "scatterpolargl"
           }
          ],
          "scatterternary": [
           {
            "marker": {
             "colorbar": {
              "outlinewidth": 0,
              "ticks": ""
             }
            },
            "type": "scatterternary"
           }
          ],
          "surface": [
           {
            "colorbar": {
             "outlinewidth": 0,
             "ticks": ""
            },
            "colorscale": [
             [
              0,
              "#0d0887"
             ],
             [
              0.1111111111111111,
              "#46039f"
             ],
             [
              0.2222222222222222,
              "#7201a8"
             ],
             [
              0.3333333333333333,
              "#9c179e"
             ],
             [
              0.4444444444444444,
              "#bd3786"
             ],
             [
              0.5555555555555556,
              "#d8576b"
             ],
             [
              0.6666666666666666,
              "#ed7953"
             ],
             [
              0.7777777777777778,
              "#fb9f3a"
             ],
             [
              0.8888888888888888,
              "#fdca26"
             ],
             [
              1,
              "#f0f921"
             ]
            ],
            "type": "surface"
           }
          ],
          "table": [
           {
            "cells": {
             "fill": {
              "color": "#EBF0F8"
             },
             "line": {
              "color": "white"
             }
            },
            "header": {
             "fill": {
              "color": "#C8D4E3"
             },
             "line": {
              "color": "white"
             }
            },
            "type": "table"
           }
          ]
         },
         "layout": {
          "annotationdefaults": {
           "arrowcolor": "#2a3f5f",
           "arrowhead": 0,
           "arrowwidth": 1
          },
          "autotypenumbers": "strict",
          "coloraxis": {
           "colorbar": {
            "outlinewidth": 0,
            "ticks": ""
           }
          },
          "colorscale": {
           "diverging": [
            [
             0,
             "#8e0152"
            ],
            [
             0.1,
             "#c51b7d"
            ],
            [
             0.2,
             "#de77ae"
            ],
            [
             0.3,
             "#f1b6da"
            ],
            [
             0.4,
             "#fde0ef"
            ],
            [
             0.5,
             "#f7f7f7"
            ],
            [
             0.6,
             "#e6f5d0"
            ],
            [
             0.7,
             "#b8e186"
            ],
            [
             0.8,
             "#7fbc41"
            ],
            [
             0.9,
             "#4d9221"
            ],
            [
             1,
             "#276419"
            ]
           ],
           "sequential": [
            [
             0,
             "#0d0887"
            ],
            [
             0.1111111111111111,
             "#46039f"
            ],
            [
             0.2222222222222222,
             "#7201a8"
            ],
            [
             0.3333333333333333,
             "#9c179e"
            ],
            [
             0.4444444444444444,
             "#bd3786"
            ],
            [
             0.5555555555555556,
             "#d8576b"
            ],
            [
             0.6666666666666666,
             "#ed7953"
            ],
            [
             0.7777777777777778,
             "#fb9f3a"
            ],
            [
             0.8888888888888888,
             "#fdca26"
            ],
            [
             1,
             "#f0f921"
            ]
           ],
           "sequentialminus": [
            [
             0,
             "#0d0887"
            ],
            [
             0.1111111111111111,
             "#46039f"
            ],
            [
             0.2222222222222222,
             "#7201a8"
            ],
            [
             0.3333333333333333,
             "#9c179e"
            ],
            [
             0.4444444444444444,
             "#bd3786"
            ],
            [
             0.5555555555555556,
             "#d8576b"
            ],
            [
             0.6666666666666666,
             "#ed7953"
            ],
            [
             0.7777777777777778,
             "#fb9f3a"
            ],
            [
             0.8888888888888888,
             "#fdca26"
            ],
            [
             1,
             "#f0f921"
            ]
           ]
          },
          "colorway": [
           "#636efa",
           "#EF553B",
           "#00cc96",
           "#ab63fa",
           "#FFA15A",
           "#19d3f3",
           "#FF6692",
           "#B6E880",
           "#FF97FF",
           "#FECB52"
          ],
          "font": {
           "color": "#2a3f5f"
          },
          "geo": {
           "bgcolor": "white",
           "lakecolor": "white",
           "landcolor": "#E5ECF6",
           "showlakes": true,
           "showland": true,
           "subunitcolor": "white"
          },
          "hoverlabel": {
           "align": "left"
          },
          "hovermode": "closest",
          "mapbox": {
           "style": "light"
          },
          "paper_bgcolor": "white",
          "plot_bgcolor": "#E5ECF6",
          "polar": {
           "angularaxis": {
            "gridcolor": "white",
            "linecolor": "white",
            "ticks": ""
           },
           "bgcolor": "#E5ECF6",
           "radialaxis": {
            "gridcolor": "white",
            "linecolor": "white",
            "ticks": ""
           }
          },
          "scene": {
           "xaxis": {
            "backgroundcolor": "#E5ECF6",
            "gridcolor": "white",
            "gridwidth": 2,
            "linecolor": "white",
            "showbackground": true,
            "ticks": "",
            "zerolinecolor": "white"
           },
           "yaxis": {
            "backgroundcolor": "#E5ECF6",
            "gridcolor": "white",
            "gridwidth": 2,
            "linecolor": "white",
            "showbackground": true,
            "ticks": "",
            "zerolinecolor": "white"
           },
           "zaxis": {
            "backgroundcolor": "#E5ECF6",
            "gridcolor": "white",
            "gridwidth": 2,
            "linecolor": "white",
            "showbackground": true,
            "ticks": "",
            "zerolinecolor": "white"
           }
          },
          "shapedefaults": {
           "line": {
            "color": "#2a3f5f"
           }
          },
          "ternary": {
           "aaxis": {
            "gridcolor": "white",
            "linecolor": "white",
            "ticks": ""
           },
           "baxis": {
            "gridcolor": "white",
            "linecolor": "white",
            "ticks": ""
           },
           "bgcolor": "#E5ECF6",
           "caxis": {
            "gridcolor": "white",
            "linecolor": "white",
            "ticks": ""
           }
          },
          "title": {
           "x": 0.05
          },
          "xaxis": {
           "automargin": true,
           "gridcolor": "white",
           "linecolor": "white",
           "ticks": "",
           "title": {
            "standoff": 15
           },
           "zerolinecolor": "white",
           "zerolinewidth": 2
          },
          "yaxis": {
           "automargin": true,
           "gridcolor": "white",
           "linecolor": "white",
           "ticks": "",
           "title": {
            "standoff": 15
           },
           "zerolinecolor": "white",
           "zerolinewidth": 2
          }
         }
        }
       }
      }
     },
     "metadata": {},
     "output_type": "display_data"
>>>>>>> a16ff69eb4bf00c4cec6e82e5833cb2de4639149
    }
   ],
   "source": [
    "import plotly.graph_objects as go\n",
    "import pandas as pd\n",
<<<<<<< HEAD
    "import geopandas as gpd\n",
    "\n",
    "# Load shapefile\n",
    "woredas_shapefile = gpd.read_file('Woredas_Fully_Assessed.shp')\n",
    "\n",
    "# Load data\n",
    "df = pd.read_excel('Assessedsites_Fully_Assessed_Woredas_Trail_Bridges_Only_TableToExcel.xlsx')\n",
    "\n",
    "# Identify outliers\n",
    "# (Assuming you've already identified outliers as you did in your previous code)\n",
    "\n",
    "# Create the scatter plot for outliers\n",
    "fig = go.Figure()\n",
    "\n",
    "# Add shapefile polygons\n",
    "for idx, polygon in woredas_shapefile.iterrows():\n",
    "    fig.add_trace(\n",
    "        go.Scattergeo(\n",
    "            lon=list(polygon['geometry'].exterior.xy[0]),\n",
    "            lat=list(polygon['geometry'].exterior.xy[1]),\n",
    "            mode='lines',\n",
    "            line=dict(color='black', width=2),\n",
    "            name=polygon['ADM3_EN']\n",
    "        )\n",
    "    )\n",
    "\n",
    "# Add outliers as markers\n",
    "fig.add_trace(go.Scattergeo(\n",
    "    lon=outliers['GPS__Longi'],\n",
    "    lat=outliers['GPS__Latit'],\n",
    "    mode='markers',\n",
    "    marker=dict(color='red', size=8),\n",
    "    name='Outliers'\n",
    "))\n",
    "\n",
    "# Define layout for the scatter plot\n",
    "fig.update_layout(\n",
    "    title='Outliers within Woreda Shapes',\n",
    "    geo=dict(\n",
    "        showland=True,\n",
    "        landcolor='rgb(229, 229, 229)',\n",
    "        countrycolor='rgb(255, 255, 255)',\n",
    "        coastlinecolor='rgb(255, 255, 255)',\n",
    "        showcountries=True,\n",
    "        projection_type='equirectangular'\n",
    "    )\n",
    ")\n",
    "\n",
    "# Adjust the bounding box to focus on the extent of the shapefile\n",
    "# You can get the bounding box from the shapefile's geometry\n",
    "minx, miny, maxx, maxy = woredas_shapefile.total_bounds\n",
    "fig.update_geos(fitbounds=\"locations\", visible=False, lonaxis_range=[minx, maxx], lataxis_range=[miny, maxy])\n",
    "\n",
    "# Display the scatter plot\n",
    "fig.show()\n"
   ]
  },
  {
   "cell_type": "code",
   "execution_count": 17,
   "metadata": {},
   "outputs": [
    {
     "data": {
      "application/vnd.plotly.v1+json": {
       "config": {
        "plotlyServerURL": "https://plot.ly"
       },
       "data": [
        {
         "marker": {
          "color": "blue"
         },
         "name": "Histogram",
         "nbinsx": 100,
         "opacity": 0.7,
         "type": "histogram",
         "x": [
          96.6364711996908,
          691.6080460061805,
          217.5624452111222,
          30.31815013732375,
          214.9083855619479,
          407.1712998866964,
          190.6093974077847,
          239.7337404076441,
          384.8979519594878,
          144.0963824630916,
          99.62562722979757,
          133.6664798570734,
          69.06262882673367,
          96.72690019371522,
          234.5811109770887,
          213.0279733438463,
          511.7249984860369,
          222.7814638500137,
          217.1022146891997,
          144.5358135198661,
          680.3134537490841,
          2768.213029057296,
          255.391322843,
          122.8178623014452,
          168.2350362957125,
          368.7510531969474,
          584.154972822244,
          301.3171939226759,
          96.86020882694478,
          95.73111173014638,
          487.0029760558285,
          140.3187978133963,
          368.4355553936638,
          190.6319228925702,
          316.3668726462074,
          518.7867699632558,
          549.4427943450024,
          524.1010297994412,
          124.6880180503151,
          302.3711455369079,
          148.0562282257207,
          211.9527033610068,
          98.1289884254169,
          35.21595078280613,
          380.4505049065675,
          427.1714691031522,
          340.3285850554885,
          69.09157509036464,
          43.5314248549879,
          375.3390052705766,
          262.7382252474069,
          546.5449612319354,
          223.8100338999277,
          25.98248751290167,
          150.7388730208542,
          221.0615559786605,
          66.11723121113083,
          530.7463401366588,
          356.1052055388527,
          78.07499692436376,
          147.577602546939,
          148.7447955377434,
          187.1203106569498,
          578.8357575207781,
          99.00434943023012,
          180.0171812635606,
          55.10372243498431,
          72.66565433500924,
          162.5529629661786,
          376.6872388125238,
          115.0152016215659,
          6231.434242806816,
          11942.9203843918,
          6212.833355139387,
          12855.44513761542,
          697.8563786815188,
          1468.442514613447,
          78.27409814145099,
          154.8731831016665,
          251.3712883205834,
          25.63318411878297,
          661.7969292596853,
          213.8977166877399,
          233.2823953302837,
          322.5892505056374,
          50.56109541789919,
          94.6886596240826,
          245.3342597310527,
          260.9205717362716,
          232.9090720909558,
          82.772652482312,
          667.4882498929079,
          5132.034931176965,
          3606.0806784477,
          3744.614054371114,
          2552.955481812132,
          2506.789029332755,
          62.44238344710466,
          682.7652453657481,
          493.6425411743609,
          69.91059740480989,
          70.92638790772912,
          438.0472407570808,
          244.3965413398754,
          176.9188346130479,
          575.7782513298852,
          365.3623507521214,
          180.2324078416707,
          518.6238288911629,
          343.1552484216651,
          989.0288719929009,
          23.64036535044536,
          262.1304136670018,
          338.640348994911,
          83.61522260347934,
          1283.119222685208,
          456.764141762861,
          151.7190482404595,
          280.7864226138439,
          306.5478283066388,
          412.9312298524693,
          34.90540700023296,
          177.9739551368149,
          641.6313402562852,
          51.7996471140418,
          17.61358252085036,
          380.263605619967,
          188.2612627700436,
          389.8786904168682,
          819.1690640166546,
          222.9952122632666,
          411.1236233559893,
          99.785758056664,
          163.7594897875299,
          175.1056498994815,
          300.5924493362834,
          525.3256633792304,
          88.51271078094871,
          697.070520684291,
          599.1856411093872,
          183.5594170781139,
          57.73763704377923,
          378.3352752609563,
          506.8678465895598,
          288.3560866617192,
          652.7672805998242,
          420.0578369285219,
          435.8291850851415,
          168.9791607469459,
          281.8504325100893,
          105.4923239556618,
          364.5652963341974,
          220.9409800830365,
          89.80400370136945,
          159.3846819289145,
          59.30366181526508,
          85.06807961122112,
          288.3659981429664,
          408.1832991003972,
          110.5830939481948,
          88.11192719563033,
          111.5614754311424,
          195.2759570192341,
          81.23554880710041,
          182.060082217908,
          173.4290449970584,
          71.67315451682659,
          497.9386815809781,
          382.7528920654103,
          97.62260904901582,
          138.9375905164123,
          277.0544687534854,
          136.1288666260096,
          64.42291595685383,
          415.8036934656366,
          216.7985578578309,
          76.3589992869933,
          102.559842273395,
          139.1539571512548,
          956.2769940599125,
          182.3170999715223,
          128.4143923530311,
          114.7462886589296,
          262.317960584757,
          311.75781297254,
          99.92385295724705,
          348.2540496691199,
          145.2303503937714,
          113.255634297336,
          1136.949229041895,
          372.6157325133458,
          143.0239727667421,
          307.4113138291668,
          30.97843434445082,
          149.3006712326299,
          53.46827427640647,
          116.0899066919954,
          84.9171737514323,
          67.12796208871917,
          634.2533094837212,
          435.8665273126907,
          78.0458353808306,
          283.7469506954308,
          279.7141358564378,
          112.5662157373418,
          40.24350395743875,
          173.2474136845616,
          256.2346686789497,
          217.5286177679791,
          29.4655925047869,
          892.1186709020677,
          590.3628373146371,
          24.98969093188842,
          20.27511455527184,
          175.0990767232319,
          199.269870449408,
          224.8993880068798,
          289.1978061690883,
          193.4291233927096,
          17.00478584659074,
          582.9182450415221,
          72.71664626390732,
          282.0556716335109,
          149.4818831480676,
          119.2317099566132,
          211.9802059891022,
          623.8838134495394,
          495.5040797969492,
          457.8214732136171,
          540.0919697974348,
          324.1127416804562,
          181.2861416964842,
          147.3143250986141,
          395.6796663403875,
          234.4537248828452,
          355.1859583746206,
          217.5156876540991,
          744.1909509296347,
          41.00834108081504,
          804.2706112483811,
          478.5349105261671,
          752.9343152133041,
          544.1854585342966,
          589.840734067794,
          661.8188926198732,
          48.53524702671245,
          30.65111798326597,
          488.7673603364822,
          363.0227134818449,
          360.3477553671657
         ]
        },
        {
         "line": {
          "color": "red",
          "width": 2
         },
         "mode": "lines",
         "name": "PDF",
         "type": "scatter",
         "x": [
          17.00478584659074,
          29.85607749000298,
          42.70736913341522,
          55.558660776827466,
          68.4099524202397,
          81.26124406365194,
          94.11253570706418,
          106.96382735047642,
          119.81511899388866,
          132.6664106373009,
          145.51770228071317,
          158.3689939241254,
          171.22028556753764,
          184.07157721094987,
          196.92286885436212,
          209.77416049777435,
          222.6254521411866,
          235.47674378459885,
          248.32803542801108,
          261.1793270714233,
          274.03061871483555,
          286.88191035824775,
          299.73320200166,
          312.58449364507226,
          325.4357852884845,
          338.28707693189676,
          351.13836857530896,
          363.9896602187212,
          376.84095186213347,
          389.6922435055457,
          402.5435351489579,
          415.39482679237017,
          428.2461184357824,
          441.0974100791947,
          453.9487017226069,
          466.7999933660191,
          479.6512850094314,
          492.50257665284363,
          505.3538682962559,
          518.2051599396681,
          531.0564515830804,
          543.9077432264926,
          556.7590348699048,
          569.6103265133171,
          582.4616181567293,
          595.3129098001416,
          608.1642014435538,
          621.015493086966,
          633.8667847303783,
          646.7180763737905,
          659.5693680172028,
          672.420659660615,
          685.2719513040272,
          698.1232429474395,
          710.9745345908517,
          723.8258262342639,
          736.6771178776762,
          749.5284095210884,
          762.3797011645007,
          775.2309928079129,
          788.0822844513251,
          800.9335760947374,
          813.7848677381496,
          826.6361593815619,
          839.4874510249741,
          852.3387426683863,
          865.1900343117986,
          878.0413259552108,
          890.8926175986231,
          903.7439092420353,
          916.5952008854475,
          929.4464925288598,
          942.297784172272,
          955.1490758156843,
          968.0003674590965,
          980.8516591025087,
          993.702950745921,
          1006.5542423893332,
          1019.4055340327454,
          1032.2568256761579,
          1045.10811731957,
          1057.9594089629823,
          1070.8107006063944,
          1083.6619922498066,
          1096.5132838932188,
          1109.3645755366313,
          1122.2158671800435,
          1135.0671588234557,
          1147.9184504668679,
          1160.76974211028,
          1173.6210337536925,
          1186.4723253971047,
          1199.3236170405169,
          1212.174908683929,
          1225.0262003273413,
          1237.8774919707537,
          1250.7287836141659,
          1263.580075257578,
          1276.4313669009903,
          1289.2826585444025,
          1302.133950187815,
          1314.985241831227,
          1327.8365334746393,
          1340.6878251180515,
          1353.5391167614637,
          1366.390408404876,
          1379.2417000482883,
          1392.0929916917005,
          1404.9442833351127,
          1417.7955749785249,
          1430.646866621937,
          1443.4981582653495,
          1456.3494499087617,
          1469.200741552174,
          1482.052033195586,
          1494.9033248389983,
          1507.7546164824107,
          1520.605908125823,
          1533.457199769235,
          1546.3084914126473,
          1559.1597830560595,
          1572.011074699472,
          1584.8623663428841,
          1597.7136579862963,
          1610.5649496297085,
          1623.4162412731207,
          1636.2675329165331,
          1649.1188245599453,
          1661.9701162033575,
          1674.8214078467697,
          1687.672699490182,
          1700.5239911335943,
          1713.3752827770065,
          1726.2265744204187,
          1739.077866063831,
          1751.9291577072431,
          1764.7804493506555,
          1777.6317409940677,
          1790.48303263748,
          1803.3343242808921,
          1816.1856159243043,
          1829.0369075677168,
          1841.888199211129,
          1854.7394908545411,
          1867.5907824979533,
          1880.4420741413655,
          1893.293365784778,
          1906.1446574281902,
          1918.9959490716024,
          1931.8472407150146,
          1944.6985323584267,
          1957.549824001839,
          1970.4011156452514,
          1983.2524072886636,
          1996.1036989320758,
          2008.954990575488,
          2021.8062822189002,
          2034.6575738623126,
          2047.5088655057248,
          2060.360157149137,
          2073.2114487925496,
          2086.0627404359616,
          2098.914032079374,
          2111.765323722786,
          2124.6166153661984,
          2137.467907009611,
          2150.319198653023,
          2163.170490296435,
          2176.021781939847,
          2188.8730735832596,
          2201.724365226672,
          2214.575656870084,
          2227.4269485134964,
          2240.2782401569084,
          2253.129531800321,
          2265.9808234437332,
          2278.832115087145,
          2291.6834067305576,
          2304.5346983739696,
          2317.385990017382,
          2330.2372816607945,
          2343.0885733042064,
          2355.939864947619,
          2368.791156591031,
          2381.6424482344432,
          2394.4937398778557,
          2407.3450315212676,
          2420.19632316468,
          2433.047614808092,
          2445.8989064515044,
          2458.750198094917,
          2471.601489738329,
          2484.4527813817413,
          2497.3040730251532,
          2510.1553646685657,
          2523.006656311978,
          2535.85794795539,
          2548.7092395988025,
          2561.5605312422144,
          2574.411822885627,
          2587.2631145290393,
          2600.1144061724513,
          2612.9656978158637,
          2625.8169894592756,
          2638.668281102688,
          2651.5195727461005,
          2664.3708643895125,
          2677.222156032925,
          2690.073447676337,
          2702.9247393197493,
          2715.7760309631617,
          2728.6273226065737,
          2741.478614249986,
          2754.329905893398,
          2767.1811975368105,
          2780.0324891802225,
          2792.883780823635,
          2805.7350724670473,
          2818.5863641104593,
          2831.4376557538717,
          2844.2889473972837,
          2857.140239040696,
          2869.9915306841085,
          2882.8428223275205,
          2895.694113970933,
          2908.545405614345,
          2921.3966972577573,
          2934.2479889011697,
          2947.0992805445817,
          2959.950572187994,
          2972.801863831406,
          2985.6531554748185,
          2998.504447118231,
          3011.355738761643,
          3024.2070304050553,
          3037.0583220484673,
          3049.9096136918797,
          3062.760905335292,
          3075.612196978704,
          3088.4634886221165,
          3101.3147802655285,
          3114.166071908941,
          3127.0173635523533,
          3139.8686551957653,
          3152.7199468391777,
          3165.5712384825897,
          3178.422530126002,
          3191.2738217694146,
          3204.1251134128265,
          3216.976405056239,
          3229.827696699651,
          3242.6789883430633,
          3255.5302799864758,
          3268.3815716298877,
          3281.2328632733,
          3294.084154916712,
          3306.9354465601245,
          3319.786738203537,
          3332.638029846949,
          3345.4893214903614,
          3358.3406131337733,
          3371.1919047771858,
          3384.043196420598,
          3396.89448806401,
          3409.7457797074226,
          3422.5970713508345,
          3435.448362994247,
          3448.2996546376594,
          3461.1509462810714,
          3474.002237924484,
          3486.8535295678957,
          3499.704821211308,
          3512.5561128547206,
          3525.4074044981326,
          3538.258696141545,
          3551.109987784957,
          3563.9612794283694,
          3576.812571071782,
          3589.6638627151938,
          3602.515154358606,
          3615.366446002018,
          3628.2177376454306,
          3641.069029288843,
          3653.920320932255,
          3666.7716125756674,
          3679.6229042190794,
          3692.474195862492,
          3705.325487505904,
          3718.176779149316,
          3731.0280707927286,
          3743.8793624361406,
          3756.730654079553,
          3769.5819457229654,
          3782.4332373663774,
          3795.28452900979,
          3808.135820653202,
          3820.987112296614,
          3833.8384039400266,
          3846.6896955834386,
          3859.540987226851,
          3872.392278870263,
          3885.2435705136754,
          3898.0948621570874,
          3910.9461538005,
          3923.7974454439122,
          3936.648737087324,
          3949.5000287307366,
          3962.3513203741486,
          3975.202612017561,
          3988.0539036609734,
          4000.9051953043854,
          4013.756486947798,
          4026.60777859121,
          4039.4590702346222,
          4052.3103618780347,
          4065.1616535214466,
          4078.012945164859,
          4090.864236808271,
          4103.715528451683,
          4116.566820095095,
          4129.418111738508,
          4142.26940338192,
          4155.120695025332,
          4167.971986668745,
          4180.823278312157,
          4193.674569955569,
          4206.525861598981,
          4219.377153242393,
          4232.228444885805,
          4245.079736529217,
          4257.93102817263,
          4270.782319816042,
          4283.633611459454,
          4296.484903102867,
          4309.336194746279,
          4322.187486389691,
          4335.038778033103,
          4347.890069676516,
          4360.741361319928,
          4373.59265296334,
          4386.443944606753,
          4399.295236250165,
          4412.146527893577,
          4424.997819536989,
          4437.849111180401,
          4450.700402823813,
          4463.551694467225,
          4476.402986110638,
          4489.25427775405,
          4502.105569397462,
          4514.956861040875,
          4527.808152684287,
          4540.659444327699,
          4553.510735971111,
          4566.362027614524,
          4579.213319257936,
          4592.064610901348,
          4604.915902544761,
          4617.767194188173,
          4630.618485831585,
          4643.4697774749975,
          4656.3210691184095,
          4669.172360761821,
          4682.023652405233,
          4694.874944048646,
          4707.726235692058,
          4720.57752733547,
          4733.428818978883,
          4746.280110622295,
          4759.131402265707,
          4771.98269390912,
          4784.833985552532,
          4797.685277195944,
          4810.536568839356,
          4823.387860482769,
          4836.239152126181,
          4849.090443769593,
          4861.9417354130055,
          4874.7930270564175,
          4887.6443186998295,
          4900.495610343242,
          4913.346901986654,
          4926.198193630066,
          4939.049485273478,
          4951.900776916891,
          4964.752068560303,
          4977.603360203715,
          4990.454651847128,
          5003.30594349054,
          5016.157235133952,
          5029.008526777365,
          5041.859818420777,
          5054.711110064189,
          5067.562401707601,
          5080.4136933510135,
          5093.2649849944255,
          5106.1162766378375,
          5118.96756828125,
          5131.818859924662,
          5144.670151568074,
          5157.521443211487,
          5170.372734854899,
          5183.224026498311,
          5196.075318141723,
          5208.926609785136,
          5221.777901428548,
          5234.62919307196,
          5247.480484715373,
          5260.331776358785,
          5273.183068002197,
          5286.03435964561,
          5298.885651289022,
          5311.7369429324335,
          5324.5882345758455,
          5337.439526219258,
          5350.29081786267,
          5363.142109506082,
          5375.993401149495,
          5388.844692792907,
          5401.695984436319,
          5414.547276079732,
          5427.398567723144,
          5440.249859366556,
          5453.101151009968,
          5465.952442653381,
          5478.803734296793,
          5491.655025940205,
          5504.506317583618,
          5517.35760922703,
          5530.2089008704415,
          5543.0601925138535,
          5555.911484157266,
          5568.762775800678,
          5581.61406744409,
          5594.465359087503,
          5607.316650730915,
          5620.167942374327,
          5633.01923401774,
          5645.870525661152,
          5658.721817304564,
          5671.573108947976,
          5684.424400591389,
          5697.275692234801,
          5710.126983878213,
          5722.978275521626,
          5735.829567165038,
          5748.68085880845,
          5761.532150451862,
          5774.383442095274,
          5787.234733738686,
          5800.086025382098,
          5812.937317025511,
          5825.788608668923,
          5838.639900312335,
          5851.491191955748,
          5864.34248359916,
          5877.193775242572,
          5890.045066885985,
          5902.896358529397,
          5915.747650172809,
          5928.598941816221,
          5941.450233459634,
          5954.301525103046,
          5967.152816746458,
          5980.00410838987,
          5992.855400033282,
          6005.706691676694,
          6018.557983320107,
          6031.409274963519,
          6044.260566606931,
          6057.111858250343,
          6069.963149893756,
          6082.814441537168,
          6095.66573318058,
          6108.517024823993,
          6121.368316467405,
          6134.219608110817,
          6147.07089975423,
          6159.922191397642,
          6172.773483041054,
          6185.624774684466,
          6198.4760663278785,
          6211.32735797129,
          6224.178649614702,
          6237.029941258115,
          6249.881232901527,
          6262.732524544939,
          6275.583816188352,
          6288.435107831764,
          6301.286399475176,
          6314.137691118588,
          6326.988982762001,
          6339.840274405413,
          6352.691566048825,
          6365.542857692238,
          6378.39414933565,
          6391.245440979062,
          6404.0967326224745,
          6416.9480242658865,
          6429.7993159092985,
          6442.65060755271,
          6455.501899196123,
          6468.353190839535,
          6481.204482482947,
          6494.05577412636,
          6506.907065769772,
          6519.758357413184,
          6532.609649056597,
          6545.460940700009,
          6558.312232343421,
          6571.163523986833,
          6584.014815630246,
          6596.866107273658,
          6609.71739891707,
          6622.5686905604825,
          6635.4199822038945,
          6648.2712738473065,
          6661.122565490718,
          6673.973857134131,
          6686.825148777543,
          6699.676440420955,
          6712.527732064368,
          6725.37902370778,
          6738.230315351192,
          6751.081606994605,
          6763.932898638017,
          6776.784190281429,
          6789.635481924841,
          6802.486773568254,
          6815.338065211666,
          6828.189356855078,
          6841.040648498491,
          6853.8919401419025,
          6866.7432317853145,
          6879.594523428727,
          6892.445815072139,
          6905.297106715551,
          6918.148398358963,
          6930.999690002376,
          6943.850981645788,
          6956.7022732892,
          6969.553564932613,
          6982.404856576025,
          6995.256148219437,
          7008.10743986285,
          7020.958731506262,
          7033.810023149674,
          7046.661314793086,
          7059.512606436499,
          7072.3638980799105,
          7085.2151897233225,
          7098.066481366735,
          7110.917773010147,
          7123.769064653559,
          7136.620356296972,
          7149.471647940384,
          7162.322939583796,
          7175.174231227208,
          7188.025522870621,
          7200.876814514033,
          7213.728106157445,
          7226.579397800858,
          7239.43068944427,
          7252.281981087682,
          7265.133272731095,
          7277.984564374507,
          7290.835856017919,
          7303.6871476613305,
          7316.538439304743,
          7329.389730948155,
          7342.241022591567,
          7355.09231423498,
          7367.943605878392,
          7380.794897521804,
          7393.646189165217,
          7406.497480808629,
          7419.348772452041,
          7432.200064095453,
          7445.051355738866,
          7457.902647382278,
          7470.75393902569,
          7483.605230669103,
          7496.456522312515,
          7509.307813955927,
          7522.1591055993395,
          7535.010397242751,
          7547.861688886163,
          7560.712980529575,
          7573.564272172988,
          7586.4155638164,
          7599.266855459812,
          7612.118147103225,
          7624.969438746637,
          7637.820730390049,
          7650.672022033462,
          7663.523313676874,
          7676.374605320286,
          7689.225896963698,
          7702.077188607111,
          7714.928480250523,
          7727.779771893935,
          7740.6310635373475,
          7753.482355180759,
          7766.333646824171,
          7779.184938467583,
          7792.036230110996,
          7804.887521754408,
          7817.73881339782,
          7830.590105041233,
          7843.441396684645,
          7856.292688328057,
          7869.14397997147,
          7881.995271614882,
          7894.846563258294,
          7907.697854901706,
          7920.549146545119,
          7933.400438188531,
          7946.251729831943,
          7959.1030214753555,
          7971.9543131187675,
          7984.805604762179,
          7997.656896405592,
          8010.508188049004,
          8023.359479692416,
          8036.210771335828,
          8049.062062979241,
          8061.913354622653,
          8074.764646266065,
          8087.615937909478,
          8100.46722955289,
          8113.318521196302,
          8126.169812839715,
          8139.021104483127,
          8151.872396126539,
          8164.723687769951,
          8177.5749794133635,
          8190.4262710567755,
          8203.277562700188,
          8216.1288543436,
          8228.980145987012,
          8241.831437630426,
          8254.682729273838,
          8267.53402091725,
          8280.385312560662,
          8293.236604204074,
          8306.087895847486,
          8318.9391874909,
          8331.790479134312,
          8344.641770777724,
          8357.493062421136,
          8370.344354064548,
          8383.19564570796,
          8396.046937351372,
          8408.898228994785,
          8421.749520638197,
          8434.60081228161,
          8447.452103925021,
          8460.303395568433,
          8473.154687211845,
          8486.005978855257,
          8498.857270498671,
          8511.708562142083,
          8524.559853785495,
          8537.411145428907,
          8550.262437072319,
          8563.11372871573,
          8575.965020359145,
          8588.816312002557,
          8601.667603645968,
          8614.51889528938,
          8627.370186932792,
          8640.221478576204,
          8653.072770219616,
          8665.92406186303,
          8678.775353506442,
          8691.626645149854,
          8704.477936793266,
          8717.329228436678,
          8730.18052008009,
          8743.031811723502,
          8755.883103366916,
          8768.734395010328,
          8781.58568665374,
          8794.436978297152,
          8807.288269940564,
          8820.139561583976,
          8832.990853227388,
          8845.842144870801,
          8858.693436514213,
          8871.544728157625,
          8884.396019801037,
          8897.24731144445,
          8910.098603087861,
          8922.949894731275,
          8935.801186374687,
          8948.652478018099,
          8961.50376966151,
          8974.355061304923,
          8987.206352948335,
          9000.057644591747,
          9012.90893623516,
          9025.760227878573,
          9038.611519521985,
          9051.462811165396,
          9064.314102808808,
          9077.16539445222,
          9090.016686095632,
          9102.867977739046,
          9115.719269382458,
          9128.57056102587,
          9141.421852669282,
          9154.273144312694,
          9167.124435956106,
          9179.97572759952,
          9192.827019242932,
          9205.678310886344,
          9218.529602529756,
          9231.380894173168,
          9244.23218581658,
          9257.083477459992,
          9269.934769103405,
          9282.786060746817,
          9295.63735239023,
          9308.488644033641,
          9321.339935677053,
          9334.191227320465,
          9347.042518963877,
          9359.893810607291,
          9372.745102250703,
          9385.596393894115,
          9398.447685537527,
          9411.298977180939,
          9424.15026882435,
          9437.001560467765,
          9449.852852111177,
          9462.704143754589,
          9475.555435398,
          9488.406727041413,
          9501.258018684824,
          9514.109310328236,
          9526.96060197165,
          9539.811893615062,
          9552.663185258474,
          9565.514476901886,
          9578.365768545298,
          9591.21706018871,
          9604.068351832122,
          9616.919643475536,
          9629.770935118948,
          9642.62222676236,
          9655.473518405772,
          9668.324810049184,
          9681.176101692596,
          9694.02739333601,
          9706.878684979421,
          9719.729976622833,
          9732.581268266245,
          9745.432559909657,
          9758.28385155307,
          9771.135143196481,
          9783.986434839895,
          9796.837726483307,
          9809.689018126719,
          9822.540309770131,
          9835.391601413543,
          9848.242893056955,
          9861.094184700367,
          9873.94547634378,
          9886.796767987193,
          9899.648059630605,
          9912.499351274017,
          9925.350642917429,
          9938.20193456084,
          9951.053226204252,
          9963.904517847666,
          9976.755809491078,
          9989.60710113449,
          10002.458392777902,
          10015.309684421314,
          10028.160976064726,
          10041.01226770814,
          10053.863559351552,
          10066.714850994964,
          10079.566142638376,
          10092.417434281788,
          10105.2687259252,
          10118.120017568612,
          10130.971309212026,
          10143.822600855437,
          10156.67389249885,
          10169.525184142261,
          10182.376475785673,
          10195.227767429085,
          10208.079059072497,
          10220.930350715911,
          10233.781642359323,
          10246.632934002735,
          10259.484225646147,
          10272.335517289559,
          10285.186808932971,
          10298.038100576385,
          10310.889392219797,
          10323.740683863209,
          10336.59197550662,
          10349.443267150033,
          10362.294558793445,
          10375.145850436857,
          10387.99714208027,
          10400.848433723682,
          10413.699725367094,
          10426.551017010506,
          10439.402308653918,
          10452.25360029733,
          10465.104891940742,
          10477.956183584156,
          10490.807475227568,
          10503.65876687098,
          10516.510058514392,
          10529.361350157804,
          10542.212641801216,
          10555.06393344463,
          10567.915225088042,
          10580.766516731454,
          10593.617808374865,
          10606.469100018277,
          10619.32039166169,
          10632.171683305101,
          10645.022974948515,
          10657.874266591927,
          10670.72555823534,
          10683.576849878751,
          10696.428141522163,
          10709.279433165575,
          10722.130724808987,
          10734.9820164524,
          10747.833308095813,
          10760.684599739225,
          10773.535891382637,
          10786.387183026049,
          10799.23847466946,
          10812.089766312874,
          10824.941057956286,
          10837.792349599698,
          10850.64364124311,
          10863.494932886522,
          10876.346224529934,
          10889.197516173346,
          10902.04880781676,
          10914.900099460172,
          10927.751391103584,
          10940.602682746996,
          10953.453974390408,
          10966.30526603382,
          10979.156557677232,
          10992.007849320646,
          11004.859140964058,
          11017.71043260747,
          11030.561724250882,
          11043.413015894293,
          11056.264307537705,
          11069.115599181117,
          11081.966890824531,
          11094.818182467943,
          11107.669474111355,
          11120.520765754767,
          11133.37205739818,
          11146.223349041591,
          11159.074640685005,
          11171.925932328417,
          11184.777223971829,
          11197.62851561524,
          11210.479807258653,
          11223.331098902065,
          11236.182390545477,
          11249.03368218889,
          11261.884973832302,
          11274.736265475714,
          11287.587557119126,
          11300.438848762538,
          11313.29014040595,
          11326.141432049362,
          11338.992723692776,
          11351.844015336188,
          11364.6953069796,
          11377.546598623012,
          11390.397890266424,
          11403.249181909836,
          11416.10047355325,
          11428.951765196662,
          11441.803056840074,
          11454.654348483486,
          11467.505640126898,
          11480.35693177031,
          11493.208223413721,
          11506.059515057135,
          11518.910806700547,
          11531.76209834396,
          11544.613389987371,
          11557.464681630783,
          11570.315973274195,
          11583.167264917607,
          11596.01855656102,
          11608.869848204433,
          11621.721139847845,
          11634.572431491257,
          11647.423723134669,
          11660.27501477808,
          11673.126306421495,
          11685.977598064906,
          11698.828889708318,
          11711.68018135173,
          11724.531472995142,
          11737.382764638554,
          11750.234056281966,
          11763.08534792538,
          11775.936639568792,
          11788.787931212204,
          11801.639222855616,
          11814.490514499028,
          11827.34180614244,
          11840.193097785852,
          11853.044389429266,
          11865.895681072678,
          11878.74697271609,
          11891.598264359502,
          11904.449556002914,
          11917.300847646326,
          11930.15213928974,
          11943.003430933151,
          11955.854722576563,
          11968.706014219975,
          11981.557305863387,
          11994.4085975068,
          12007.259889150211,
          12020.111180793625,
          12032.962472437037,
          12045.813764080449,
          12058.66505572386,
          12071.516347367273,
          12084.367639010685,
          12097.218930654097,
          12110.07022229751,
          12122.921513940923,
          12135.772805584334,
          12148.624097227746,
          12161.475388871158,
          12174.32668051457,
          12187.177972157982,
          12200.029263801396,
          12212.880555444808,
          12225.73184708822,
          12238.583138731632,
          12251.434430375044,
          12264.285722018456,
          12277.13701366187,
          12289.988305305282,
          12302.839596948694,
          12315.690888592106,
          12328.542180235518,
          12341.39347187893,
          12354.244763522342,
          12367.096055165755,
          12379.947346809167,
          12392.79863845258,
          12405.649930095991,
          12418.501221739403,
          12431.352513382815,
          12444.203805026227,
          12457.055096669641,
          12469.906388313053,
          12482.757679956465,
          12495.608971599877,
          12508.460263243289,
          12521.3115548867,
          12534.162846530115,
          12547.014138173527,
          12559.865429816939,
          12572.71672146035,
          12585.568013103762,
          12598.419304747174,
          12611.270596390586,
          12624.121888034,
          12636.973179677412,
          12649.824471320824,
          12662.675762964236,
          12675.527054607648,
          12688.37834625106,
          12701.229637894472,
          12714.080929537886,
          12726.932221181298,
          12739.78351282471,
          12752.634804468122,
          12765.486096111534,
          12778.337387754946,
          12791.18867939836,
          12804.039971041771,
          12816.891262685183,
          12829.742554328595,
          12842.593845972007,
          12855.44513761542
         ],
         "y": [
          12.830714297636858,
          12.87700586348692,
          12.922218519461747,
          12.966339744366438,
          13.00935728986085,
          13.051259186122465,
          13.092033747393868,
          13.13166957741121,
          13.170155574710124,
          13.20748093780563,
          13.243635170242696,
          13.278608085514074,
          13.31238981184224,
          13.34497079682231,
          13.376341811922787,
          13.406493956841302,
          13.435418663712362,
          13.46310770116435,
          13.489553178223122,
          13.514747548059601,
          13.53868361157881,
          13.561354520848042,
          13.582753782361854,
          13.602875260141664,
          13.62171317866794,
          13.639262125642992,
          13.65551705458249,
          13.670473287234042,
          13.684126515821124,
          13.696472805110924,
          13.707508594304672,
          13.717230698749201,
          13.725636311468588,
          13.732723004514805,
          13.738488730136568,
          13.74293182176545,
          13.746050994818754,
          13.74784534731846,
          13.748314360325947,
          13.7474578981921,
          13.74527620862271,
          13.741769922559063,
          13.73694005387385,
          13.730787998882555,
          13.72331553567069,
          13.714524823237308,
          13.704418400455395,
          13.69299918484978,
          13.680270471193495,
          13.666235929923408,
          13.650899605376296,
          13.634265913846491,
          13.616339641466404,
          13.597125941911376,
          13.576630333930396,
          13.554858698704313,
          13.531817277033337,
          13.507512666355703,
          13.481951817599509,
          13.455142031869794,
          13.427090956973109,
          13.397806583781865,
          13.367297242440884,
          13.33557159841871,
          13.302638648406223,
          13.268507716065349,
          13.233188447630658,
          13.196690807366702,
          13.159025072884173,
          13.120201830317907,
          13.080231969369894,
          13.039126678220587,
          12.996897438311782,
          12.953556019004544,
          12.909114472115569,
          12.863585126335622,
          12.816980581533567,
          12.769313702949793,
          12.720597615282664,
          12.670845696671842,
          12.620071572582384,
          12.56828910959343,
          12.515512409095509,
          12.461755800900459,
          12.407033836767985,
          12.351361283852949,
          12.29475311807755,
          12.237224517432455,
          12.178790855211211,
          12.119467693182003,
          12.059270774701073,
          11.99821601777206,
          11.936319508055462,
          11.87359749183256,
          11.810066368928092,
          11.74574268559594,
          11.680643127372138,
          11.614784511899536,
          11.548183781728346,
          11.480857997096933,
          11.412824328697056,
          11.344100050427867,
          11.274702532142905,
          11.204649232394287,
          11.133957691178313,
          11.062645522686676,
          10.990730408067384,
          10.918230088199557,
          10.845162356486094,
          10.771545051668362,
          10.697396050666802,
          10.622733261451472,
          10.547574615946388,
          10.471938062971558,
          10.395841561226488,
          10.319303072318933,
          10.242340553842547,
          10.164971952507136,
          10.087215197324985,
          10.009088192856883,
          9.930608812521191,
          9.851794891969373,
          9.772664222531281,
          9.69323454473345,
          9.613523541893468,
          9.53354883379366,
          9.453327970436897,
          9.372878425887615,
          9.292217592200776,
          9.211362773441575,
          9.130331179798555,
          9.04913992179272,
          8.967806004585144,
          8.88634632238548,
          8.804777652963686,
          8.72311665226725,
          8.641379849145977,
          8.559583640186453,
          8.477744284658103,
          8.395877899572742,
          8.314000454859334,
          8.232127768655712,
          8.150275502718776,
          8.068459157954662,
          7.986694070070327,
          7.904995405347773,
          7.823378156542158,
          7.7418571389049005,
          7.660446986332735,
          7.579162147643714,
          7.49801688298091,
          7.4170252603445785,
          7.336201152253386,
          7.255558232535309,
          7.1751099732485315,
          7.094869641732816,
          7.014850297791549,
          6.935064791004628,
          6.855525758172309,
          6.7762456208899655,
          6.697236583253701,
          6.6185106296966145,
          6.5400795229554465,
          6.461954802167286,
          6.384147781095858,
          6.3066695464869165,
          6.229530956552139,
          6.152742639580799,
          6.076314992678557,
          6.000258180632441,
          5.924582134901193,
          5.849296552729953,
          5.774410896388234,
          5.6999343925301496,
          5.625876031675562,
          5.552244567811057,
          5.479048518109335,
          5.40629616276563,
          5.333995544949819,
          5.262154470872599,
          5.19078050996428,
          5.11988099516451,
          5.0494630233213345,
          4.979533455697835,
          4.910098918584594,
          4.841165804016201,
          4.772740270589932,
          4.704828244384675,
          4.637435419978257,
          4.570567261561073,
          4.504229004144126,
          4.438425654859365,
          4.37316199435023,
          4.308442578250371,
          4.244271738748313,
          4.180653586235986,
          4.117592011038874,
          4.0550906852255855,
          3.9931530644946718,
          3.9317823901363407,
          3.870981691066903,
          3.81075378593362,
          3.751101285287667,
          3.6920265938229284,
          3.6335319126782966,
          3.5756192418011867,
          3.5182903823699,
          3.4615469392725697,
          3.405390323640331,
          3.349821755432381,
          3.2948422660706544,
          3.24045270112176,
          3.1866537230238636,
          3.13344581385626,
          3.0808292781492854,
          3.0288042457323443,
          2.977370674617711,
          2.926528353917932,
          2.876276906794532,
          2.8266157934358067,
          2.7775443140615286,
          2.7290616119523463,
          2.681166676501745,
          2.6338583462883847,
          2.587135312166748,
          2.540996120373974,
          2.4954391756508056,
          2.450462744374646,
          2.4060649577026694,
          2.3622438147230325,
          2.318997185612233,
          2.27632281479667,
          2.2342183241165547,
          2.192681215990286,
          2.151708876577472,
          2.111298578938835,
          2.0714474861912047,
          2.0321526546559383,
          1.9934110369990217,
          1.9552194853612688,
          1.9175747544769879,
          1.880473504779531,
          1.843912305492238,
          1.8078876377032587,
          1.772395897422794,
          1.7374333986213963,
          1.7029963762478866,
          1.6690809892256255,
          1.635683323425822,
          1.602799394616609,
          1.5704251513867378,
          1.538556478042656,
          1.5071891974779115,
          1.476319074013741,
          1.4459418162098447,
          1.4160530796443231,
          1.3866484696618155,
          1.357723544088939,
          1.3292738159161288,
          1.3012947559450538,
          1.2737817954008095,
          1.2467303285081266,
          1.220135715030889,
          1.1939932827742654,
          1.1682983300488303,
          1.14304612809608,
          1.1182319234747606,
          1.093850940407516,
          1.0698983830873408,
          1.046369437943411,
          1.0232592758658845,
          1.0005630543892683,
          0.9782759198340607,
          0.9563930094063178,
          0.9349094532549086,
          0.9138203764862123,
          0.8931209011360598,
          0.8728061480987502,
          0.8528712390130107,
          0.8333112981047873,
          0.8141214539868167,
          0.7952968414149042,
          0.7768326030009298,
          0.7587238908825775,
          0.7409658683498394,
          0.7235537114283761,
          0.7064826104198184,
          0.6897477713991572,
          0.6733444176693537,
          0.6572677911733633,
          0.6415131538637704,
          0.6260757890302512,
          0.6109510025851278,
          0.5961341243072708,
          0.5816205090446449,
          0.5674055378758169,
          0.5534846192307449,
          0.5398531899712127,
          0.5265067164312671,
          0.5134406954180514,
          0.5006506551734398,
          0.48813215629688494,
          0.47588079262992417,
          0.4638921921027851,
          0.45216201754356133,
          0.4406859674504318,
          0.4294597767274109,
          0.4184792173841445,
          0.4077400992002439,
          0.39723827035470394,
          0.38696961802091895,
          0.37693006892785363,
          0.3671155898879155,
          0.3575221882920829,
          0.3481459125728659,
          0.3389828526356644,
          0.330029140259106,
          0.32128094946495117,
          0.31273449685815186,
          0.3043860419376589,
          0.2962318873785774,
          0.28826837928627136,
          0.2804919074230153,
          0.2728989054078093,
          0.2654858508899584,
          0.25824926569702306,
          0.25118571595775574,
          0.24429181220062945,
          0.23756420942856962,
          0.23099960717049128,
          0.2245947495102584,
          0.21834642509366434,
          0.21225146711403614,
          0.20630675327706563,
          0.20050920574547001,
          0.19485579106406276,
          0.18934352006584268,
          0.18396944775967664,
          0.1787306732001645,
          0.17362433934026028,
          0.16864763286722717,
          0.16379778402249479,
          0.15907206640597327,
          0.15446779676539255,
          0.14998233477121073,
          0.1456130827776366,
          0.141357485570306,
          0.13721303010114244,
          0.1331772452109295,
          0.12924770134010358,
          0.12542201022828947,
          0.12169782460307162,
          0.11807283785849845,
          0.11454478372380915,
          0.11111143592285913,
          0.10777060782471874,
          0.10452015208590137,
          0.10135796028468402,
          0.0982819625479615,
          0.09529012717107098,
          0.09238046023101994,
          0.08955100519353644,
          0.08679984251435094,
          0.08412508923511733,
          0.08152489857436448,
          0.07899745951386503,
          0.07654099638079734,
          0.07415376842606954,
          0.0718340693991649,
          0.06958022711985677,
          0.06739060304713729,
          0.06526359184569072,
          0.06319762095023532,
          0.06119115012804974,
          0.059242671039989155,
          0.05735070680029041,
          0.05551381153545219,
          0.053730569942474604,
          0.05199959684672744,
          0.050319536759710744,
          0.04868906343696414,
          0.0471068794363709,
          0.045571715677094685,
          0.04408233099938054,
          0.0426375117254424,
          0.04123607122165088,
          0.039876849462227956,
          0.038558712594647875,
          0.03728055250693612,
          0.03604128639704739,
          0.034839856344501714,
          0.033675228884446594,
          0.03254639458430513,
          0.03145236762316734,
          0.03039218537407046,
          0.029364907989309304,
          0.028369617988910755,
          0.02740541985239964,
          0.026471439613977448,
          0.02556682446122671,
          0.024690742337451718,
          0.02384238154775583,
          0.023020950368952502,
          0.02222567666340016,
          0.021455807496845718,
          0.02071060876035613,
          0.01998936479641048,
          0.019291378029222716,
          0.018615968599357043,
          0.01796247400269412,
          0.01733024873380192,
          0.01671866393375956,
          0.016127107042476975,
          0.015554981455551292,
          0.015001706185693511,
          0.014466715528756781,
          0.013949458734392423,
          0.013449399681356354,
          0.012966016557484838,
          0.012498801544353403,
          0.012047260506631432,
          0.01161091268613925,
          0.011189290400612154,
          0.010781938747172704,
          0.010388415310508856,
          0.010008289875753022,
          0.00964114414605353,
          0.009286571464828176,
          0.008944176542685842,
          0.008613575189000017,
          0.008294394048115685,
          0.007986270340168418,
          0.007688851606492402,
          0.007401795459591575,
          0.007124769337646822,
          0.0068574502635291995,
          0.006599524608287822,
          0.006350687859079378,
          0.006110644391504178,
          0.0058791072463120165,
          0.005655797910440258,
          0.005440446102344175,
          0.005232789561579061,
          0.005032573842591707,
          0.004839552112678238,
          0.004653484954063801,
          0.004474140170058527,
          0.004301292595243642,
          0.0041347239096403594,
          0.0039742224568134,
          0.00381958306586026,
          0.0036706068772370598,
          0.003527101172370343,
          0.0033888792070044717,
          0.003255760048233389,
          0.0031275684151649647,
          0.0030041345231661236,
          0.0028852939316361967,
          0.0027708873952561426,
          0.0026607607186605754,
          0.0025547646144796422,
          0.0024527545646977436,
          0.002354590685275676,
          0.002260137593983046,
          0.0021692642813876187,
          0.0020818439849485592,
          0.001997754066160063,
          0.0019168758906927394,
          0.0018390947114796995,
          0.0017642995546945164,
          0.001692383108568932,
          0.001623241614997719,
          0.0015567747638791222,
          0.0014928855901388404,
          0.0014314803733866692,
          0.0013724685401545356,
          0.0013157625686655075,
          0.0012612778960836555,
          0.001208932828194914,
          0.0011586484514697804,
          0.0011103485474589232,
          0.0010639595094735035,
          0.0010194102615021983,
          0.000976632179317734,
          0.000935559013726098,
          0.0008961268159121446,
          0.0008582738648359201,
          0.00082194059663457,
          0.0007870695359852879,
          0.0007536052293852797,
          0.0007214941803054015,
          0.0006906847861747067,
          0.0006611272771536737,
          0.0006327736566546066,
          0.0006055776435682348,
          0.0005794946161562366,
          0.0005544815575699426,
          0.0005304970029561983,
          0.0005075009881119694,
          0.00048545499964983553,
          0.00046432192663730857,
          0.00044406601367336356,
          0.0004246528153663684,
          0.0004060491521781215,
          0.00038822306759938555,
          0.0003711437866229818,
          0.0003547816754810063,
          0.0003391082026135474,
          0.00032409590083672276,
          0.0003097183306786054,
          0.0002959500448521815,
          0.00028276655383506776,
          0.0002701442925263996,
          0.00025806058795180845,
          0.00024649362798812507,
          0.00023542243107992026,
          0.0002248268169206671,
          0.00021468737807187527,
          0.00020498545249408043,
          0.0001957030969642259,
          0.00018682306135443647,
          0.0001783287637478505,
          0.00017020426636763284,
          0.0001624342522958944,
          0.0001550040029597665,
          0.00014789937636239004,
          0.00014110678603713068,
          0.0001346131807038197,
          0.0001284060246063541,
          0.00012247327851146002,
          0.00011680338134893687,
          0.0001113852324741816,
          0.00010620817453425434,
          0.00010126197691923338,
          0.00009653681978105272,
          0.00009202327860248233,
          0.00008771230929933956,
          0.00008359523383946965,
          0.00007966372636245936,
          0.00007590979978446138,
          0.0000723257928729279,
          0.0000689043577764521,
          0.0000656384479953184,
          0.00006252130677873832,
          0.000059546455935149975,
          0.000056707685042316646,
          0.00005399904104432556,
          0.00005141481822296288,
          0.000048949548531268295,
          0.00004659799227743594,
          0.0000443551291475452,
          0.00004221614955595356,
          0.00004017644631248395,
          0.000038231606595866867,
          0.00003637740422319877,
          0.0000346097922054756,
          0.0000329248955795572,
          0.000031319004507199196,
          0.000029788567632071985,
          0.00002833018568595419,
          0.000026940605335555014,
          0.000025616713261681644,
          0.000024355530462713272,
          0.000023154206774596833,
          0.00002201001559981404,
          0.000020920348838006996,
          0.000019882712011173247,
          0.000018894719576566622,
          0.00001795409042065522,
          0.000017058643527696238,
          0.000016206293816695194,
          0.000015395048140714018,
          0.000014623001442687841,
          0.000013888333062097723,
          0.00001318930318703036,
          0.000012524249446336045,
          0.000011891583636764785,
          0.000011289788580135644,
          0.000010717415105751446,
          0.000010173079153435704,
          0.00000965545899271881,
          0.000009163292553853439,
          0.00000869537486648426,
          0.000008250555601936573,
          0.000007827736715229486,
          0.000007425870183048357,
          0.000007043955834043676,
          0.000006681039267947362,
          0.0000063362098601189795,
          0.000006008598848253561,
          0.000005697377498094647,
          0.000005401755345110077,
          0.0000051209785091921524,
          0.000004854328079550083,
          0.000004601118567062454,
          0.000004360696421454928,
          0.0000041324386107630705,
          0.000003915751260631679,
          0.000003710068351090496,
          0.000003514850468531565,
          0.000003329583610696684,
          0.0000031537780425637567,
          0.0000029869672010977623,
          0.000002828706646907804,
          0.0000026785730609236417,
          0.0000025361632842757916,
          0.000002401093399630358,
          0.0000022729978522958423,
          0.000002151528609482306,
          0.0000020363543561540496,
          0.000001927159725976531,
          0.0000018236445659148313,
          0.000001725523233096429,
          0.000001632523922603726,
          0.000001544388024913437,
          0.0000014608695117494472,
          0.0000013817343491631962,
          0.0000013067599367020733,
          0.000001235734571570603,
          0.0000011684569367320908,
          0.000001104735611939743,
          0.000001044388606726033,
          9.872429144178118e-7,
          9.331340862811369e-7,
          8.819058249361165e-7,
          8.334095962158487e-7,
          7.875042586771288e-7,
          7.44055710002047e-7,
          7.029365495607213e-7,
          6.640257564347228e-7,
          6.272083822291722e-7,
          5.923752580292035e-7,
          5.594227148824434e-7,
          5.28252317214864e-7,
          4.9877060861156e-7,
          4.7088886941763974e-7,
          4.4452288563683637e-7,
          4.1959272862730726e-7,
          3.9602254511492473e-7,
          3.737403570643297e-7,
          3.5267787096750455e-7,
          3.3277029612799647e-7,
          3.139561715367826e-7,
          2.96177200952955e-7,
          2.793780958187305e-7,
          2.635064256541723e-7,
          2.4851247559210623e-7,
          2.3434911072833976e-7,
          2.209716469761917e-7,
          2.0833772812782785e-7,
          1.9640720883773613e-7,
          1.8514204325601518e-7,
          1.7450617905104996e-7,
          1.6446545657246404e-7,
          1.5498751291620165e-7,
          1.4604169066399095e-7,
          1.3759895107951815e-7,
          1.2963179155323866e-7,
          1.2211416709694912e-7,
          1.1502141569812068e-7,
          1.083301873524032e-7,
          1.0201837660088713e-7,
          9.606505840640419e-8,
          9.045042721066417e-8,
          8.515573902110473e-8,
          8.016325638317058e-8,
          7.545619610028793e-8,
          7.101867957003738e-8,
          6.68356856110257e-8,
          6.289300566069988e-8,
          5.9177201229808935e-8,
          5.567556350448963e-8,
          5.2376074991956866e-8,
          4.926737311059305e-8,
          4.633871562981513e-8,
          4.357994786949103e-8,
          4.098147157288792e-8,
          3.8534215371125856e-8,
          3.622960676097422e-8,
          3.405954552147052e-8,
          3.201637849836625e-8,
          3.009287568873609e-8,
          2.8282207561294884e-8,
          2.6577923551019857e-8,
          2.4973931669589425e-8,
          2.3464479175941874e-8,
          2.204413425391097e-8,
          2.070776864644208e-8,
          1.945054119831052e-8,
          1.8267882261578277e-8,
          1.715547892023866e-8,
          1.6109260992594926e-8,
          1.5125387771938473e-8,
          1.4200235467999896e-8,
          1.3330385313483692e-8,
          1.2512612301730409e-8,
          1.1743874523222066e-8,
          1.1021303070224854e-8,
          1.0342192480375427e-8,
          9.703991691458797e-9,
          9.104295480994369e-9,
          8.540836365558012e-9,
          8.011476936008374e-9,
          7.514202605979e-9,
          7.0471147521205225e-9,
          6.608424225659079e-9,
          6.196445215858867e-9,
          5.809589446952933e-9,
          5.446360691036691e-9,
          5.105349580299092e-9,
          4.7852287028128504e-9,
          4.484747966900384e-9,
          4.2027302198583116e-9,
          3.938067107544707e-9,
          3.6897151620252954e-9,
          3.4566921051280444e-9,
          3.238073356380909e-9,
          3.03298873439939e-9,
          2.8406193413537853e-9,
          2.660194620683034e-9,
          2.4909895787295532e-9,
          2.3323221614551656e-9,
          2.1835507778562205e-9,
          2.0440719621344126e-9,
          1.9133181670939736e-9,
          1.7907556816301138e-9,
          1.6758826655484762e-9,
          1.5682272953102024e-9,
          1.4673460146355046e-9,
          1.3728218842182186e-9,
          1.284263025108918e-9,
          1.2013011506121975e-9,
          1.1235901818180022e-9,
          1.05080494214687e-9,
          9.826399265355314e-10,
          9.188081411232057e-10,
          8.590400095212711e-10,
          8.030823419588431e-10,
          7.506973637970183e-10,
          7.016618000932738e-10,
          6.557660130773616e-10,
          6.128131895697404e-10,
          5.726185755349784e-10,
          5.350087551153277e-10,
          4.998209716342654e-10,
          4.669024881970902e-10,
          4.3610998564543837e-10,
          4.0730899574577227e-10,
          3.80373367608293e-10,
          3.551847654431572e-10,
          3.316321958654224e-10,
          3.096115630589216e-10,
          2.890252502030634e-10,
          2.697817256550601e-10,
          2.5179517246409095e-10,
          2.349851398731202e-10,
          2.1927621553933756e-10,
          2.0459771727513843e-10,
          1.9088340317876195e-10,
          1.780711990873158e-10,
          1.661029423449304e-10,
          1.5492414093572065e-10,
          1.4448374708483849e-10,
          1.3473394448180558e-10,
          1.256299483282407e-10,
          1.1712981745749869e-10,
          1.0919427781661366e-10,
          1.0178655664142916e-10,
          9.48722266940947e-11,
          8.841905996822639e-11,
          8.239689030120564e-11,
          7.677748436532047e-11,
          7.153442053989028e-11,
          6.66429751952995e-11,
          6.208001594696113e-11,
          5.782390146289256e-11,
          5.38543874327261e-11,
          5.015253832882576e-11,
          4.670064461169566e-11,
          4.348214505217759e-11,
          4.048155386211132e-11,
          3.7684392343191e-11,
          3.5077124780806235e-11,
          3.264709832573782e-11,
          3.038248662171866e-11,
          2.8272236951182542e-11,
          2.6306020684975222e-11,
          2.4474186834515717e-11,
          2.2767718516852384e-11,
          2.1178192154337457e-11,
          1.969773924127512e-11,
          1.8319010519897318e-11,
          1.7035142417462297e-11,
          1.583972560514231e-11,
          1.472677554774061e-11,
          1.369070492114654e-11,
          1.2726297781856248e-11,
          1.182868537987194e-11,
          1.0993323512856335e-11,
          1.0215971325612777e-11,
          9.492671464776582e-12,
          8.819731504085027e-12,
          8.193706560743708e-12,
          7.611383028258514e-12,
          7.069763355661062e-12,
          6.566051807345517e-12,
          6.09764114176939e-12,
          5.6621001510626205e-12,
          5.257162007157719e-12,
          4.880713363403887e-12,
          4.5307841637819775e-12,
          4.205538114797809e-12,
          3.903263777914761e-12,
          3.6223662430033557e-12,
          3.361359345741351e-12,
          3.1188583942082475e-12,
          2.8935733720846715e-12,
          2.684302587905617e-12,
          2.489926741727874e-12,
          2.3094033823682427e-12,
          2.1417617300557123e-12,
          1.9860978409231025e-12,
          1.8415700912496164e-12,
          1.7073949607607874e-12,
          1.5828430956000503e-12,
          1.4672356328148927e-12,
          1.3599407693521491e-12,
          1.2603705596380554e-12,
          1.1679779268322768e-12,
          1.08225387379586e-12,
          1.0027248807051509e-12,
          9.28950477079064e-13,
          8.605209767716878e-13,
          7.970553652164454e-13,
          7.381993288973465e-13,
          6.836234176680041e-13,
          6.330213311442879e-13,
          5.861083209634466e-13,
          5.426197012333331e-13,
          5.023094599932726e-13,
          4.649489649738688e-13,
          4.3032575737978005e-13,
          3.9824242782804303e-13,
          3.6851556895744633e-13,
          3.409747995827958e-13,
          3.1546185560324984e-13,
          2.918297431881616e-13,
          2.69941950057546e-13,
          2.4967171094953074e-13,
          2.309013236243551e-13,
          2.1352151199540564e-13,
          1.974308332029956e-13,
          1.8253512565727283e-13,
          1.6874699527381597e-13,
          1.5598533730968392e-13,
          1.4417489138012088e-13,
          1.3324582739716343e-13,
          1.231333603221341e-13,
          1.1377739176470678e-13,
          1.05122176592949e-13,
          9.711601284165555e-14,
          8.97109533212684e-14,
          8.286253743704056e-14,
          7.652954182841846e-14,
          7.067374853235933e-14,
          6.525972946177795e-14,
          6.025464607210941e-14,
          5.5628063165254464e-14,
          5.13517758514991e-14,
          4.739964875648039e-14,
          4.3747466622429106e-14,
          4.037279551084786e-14,
          3.7254853867924366e-14,
          3.4374392764442676e-14,
          3.171358466906935e-14,
          2.925592015784217e-14,
          2.698611200368348e-14,
          2.489000612800492e-14,
          2.295449893212596e-14,
          2.1167460559494267e-14,
          1.9517663670699503e-14,
          1.7994717342188865e-14,
          1.6589005726541848e-14,
          1.529163113727859e-14,
          1.4094361244600355e-14,
          1.2989580090267383e-14,
          1.1970242650159071e-14,
          1.102983269199864e-14,
          1.0162323693371925e-14,
          9.362142601604975e-15,
          8.624136232375955e-15,
          7.943540118192482e-15,
          7.31594963114002e-15,
          6.7372932166672115e-15,
          6.203807586680242e-15,
          5.712014730931314e-15,
          5.258700615650663e-15,
          4.840895447655105e-15,
          4.455855390794068e-15,
          4.10104562962927e-15,
          3.774124682717342e-15,
          3.4729298748145256e-15,
          3.1954638837899333e-15,
          2.939882284045821e-15,
          2.7044820138359254e-15,
          2.4876906990723172e-15,
          2.2880567710439964e-15,
          2.104240319965143e-15,
          1.9350046304467264e-15,
          1.779208348867499e-15,
          1.6357982362279012e-15,
          1.5038024634213322e-15,
          1.3823244089726522e-15,
          1.2705369221855911e-15,
          1.1676770173290099e-15,
          1.0730409669872213e-15,
          9.859797650171356e-16,
          9.058949317082764e-16,
          8.322346357385837e-16,
          7.644901093753378e-16,
          7.021923350917247e-16,
          6.449089833682171e-16,
          5.9224158293115e-16,
          5.438229060574353e-16,
          4.993145528513998e-16,
          4.584047195845234e-16,
          4.208061372881152e-16,
          3.862541678082286e-16,
          3.545050454778861e-16,
          3.253342534381478e-16,
          2.985350244528225e-16,
          2.7391695681518637e-16,
          2.513047366438265e-16,
          2.3053695851251727e-16,
          2.1146503695915713e-16,
          1.9395220197521716e-16,
          1.7787257209250917e-16,
          1.6311029916175297e-16,
          1.495587793598404e-16,
          1.371199253725036e-16,
          1.257034950787398e-16,
          1.1522647241484473e-16,
          1.056124964215097e-16,
          9.679133477875787e-17,
          8.869839841264313e-17,
          8.127429401588475e-17,
          7.446441156371742e-17,
          6.821854412756207e-17,
          6.249053749383987e-17,
          5.723796728477148e-17,
          5.242184145327972e-17,
          4.800632618630107e-17,
          4.39584934008126e-17,
          4.024808815561397e-17,
          3.6847314430217817e-17,
          3.373063784082823e-17,
          3.087460397309733e-17,
          2.8257671112752546e-17,
          2.5860056248917943e-17,
          2.3663593311617255e-17,
          2.1651602684995616e-17,
          1.980877111181715e-17,
          1.812104117314516e-17,
          1.6575509590281975e-17,
          1.5160333654406527e-17,
          1.3864645143224272e-17,
          1.2678471133743069e-17,
          1.1592661166240912e-17,
          1.0598820256946895e-17,
          9.689247296140904e-18,
          8.856878404558791e-18,
          8.095234854385627e-18,
          7.398375191939168e-18,
          6.760851227595201e-18,
          6.177667584751648e-18,
          5.644244523851814e-18,
          5.156383779825004e-18,
          4.710237171920436e-18,
          4.30227776391655e-18,
          3.92927337022404e-18,
          3.588262219569873e-18,
          3.2765306028574703e-18,
          2.9915923455442774e-18,
          2.7311699575493156e-18,
          2.4931773253841377e-18,
          2.2757038219655566e-18,
          2.0769997194893596e-18,
          1.8954627998868242e-18,
          1.729626065807967e-18,
          1.5781464628370327e-18,
          1.4397945307918036e-18,
          1.3134449085445764e-18,
          1.198067622864859e-18,
          1.0927200973681482e-18,
          9.965398227972648e-19,
          9.087376345954696e-19,
          8.285915480887921e-19,
          7.554411056062505e-19,
          6.886821935578187e-19,
          6.277622908881053e-19
         ]
        }
       ],
       "layout": {
        "template": {
         "data": {
          "bar": [
           {
            "error_x": {
             "color": "#2a3f5f"
            },
            "error_y": {
             "color": "#2a3f5f"
            },
            "marker": {
             "line": {
              "color": "#E5ECF6",
              "width": 0.5
             },
             "pattern": {
              "fillmode": "overlay",
              "size": 10,
              "solidity": 0.2
             }
            },
            "type": "bar"
           }
          ],
          "barpolar": [
           {
            "marker": {
             "line": {
              "color": "#E5ECF6",
              "width": 0.5
             },
             "pattern": {
              "fillmode": "overlay",
              "size": 10,
              "solidity": 0.2
             }
            },
            "type": "barpolar"
           }
          ],
          "carpet": [
           {
            "aaxis": {
             "endlinecolor": "#2a3f5f",
             "gridcolor": "white",
             "linecolor": "white",
             "minorgridcolor": "white",
             "startlinecolor": "#2a3f5f"
            },
            "baxis": {
             "endlinecolor": "#2a3f5f",
             "gridcolor": "white",
             "linecolor": "white",
             "minorgridcolor": "white",
             "startlinecolor": "#2a3f5f"
            },
            "type": "carpet"
           }
          ],
          "choropleth": [
           {
            "colorbar": {
             "outlinewidth": 0,
             "ticks": ""
            },
            "type": "choropleth"
           }
          ],
          "contour": [
           {
            "colorbar": {
             "outlinewidth": 0,
             "ticks": ""
            },
            "colorscale": [
             [
              0,
              "#0d0887"
             ],
             [
              0.1111111111111111,
              "#46039f"
             ],
             [
              0.2222222222222222,
              "#7201a8"
             ],
             [
              0.3333333333333333,
              "#9c179e"
             ],
             [
              0.4444444444444444,
              "#bd3786"
             ],
             [
              0.5555555555555556,
              "#d8576b"
             ],
             [
              0.6666666666666666,
              "#ed7953"
             ],
             [
              0.7777777777777778,
              "#fb9f3a"
             ],
             [
              0.8888888888888888,
              "#fdca26"
             ],
             [
              1,
              "#f0f921"
             ]
            ],
            "type": "contour"
           }
          ],
          "contourcarpet": [
           {
            "colorbar": {
             "outlinewidth": 0,
             "ticks": ""
            },
            "type": "contourcarpet"
           }
          ],
          "heatmap": [
           {
            "colorbar": {
             "outlinewidth": 0,
             "ticks": ""
            },
            "colorscale": [
             [
              0,
              "#0d0887"
             ],
             [
              0.1111111111111111,
              "#46039f"
             ],
             [
              0.2222222222222222,
              "#7201a8"
             ],
             [
              0.3333333333333333,
              "#9c179e"
             ],
             [
              0.4444444444444444,
              "#bd3786"
             ],
             [
              0.5555555555555556,
              "#d8576b"
             ],
             [
              0.6666666666666666,
              "#ed7953"
             ],
             [
              0.7777777777777778,
              "#fb9f3a"
             ],
             [
              0.8888888888888888,
              "#fdca26"
             ],
             [
              1,
              "#f0f921"
             ]
            ],
            "type": "heatmap"
           }
          ],
          "heatmapgl": [
           {
            "colorbar": {
             "outlinewidth": 0,
             "ticks": ""
            },
            "colorscale": [
             [
              0,
              "#0d0887"
             ],
             [
              0.1111111111111111,
              "#46039f"
             ],
             [
              0.2222222222222222,
              "#7201a8"
             ],
             [
              0.3333333333333333,
              "#9c179e"
             ],
             [
              0.4444444444444444,
              "#bd3786"
             ],
             [
              0.5555555555555556,
              "#d8576b"
             ],
             [
              0.6666666666666666,
              "#ed7953"
             ],
             [
              0.7777777777777778,
              "#fb9f3a"
             ],
             [
              0.8888888888888888,
              "#fdca26"
             ],
             [
              1,
              "#f0f921"
             ]
            ],
            "type": "heatmapgl"
           }
          ],
          "histogram": [
           {
            "marker": {
             "pattern": {
              "fillmode": "overlay",
              "size": 10,
              "solidity": 0.2
             }
            },
            "type": "histogram"
           }
          ],
          "histogram2d": [
           {
            "colorbar": {
             "outlinewidth": 0,
             "ticks": ""
            },
            "colorscale": [
             [
              0,
              "#0d0887"
             ],
             [
              0.1111111111111111,
              "#46039f"
             ],
             [
              0.2222222222222222,
              "#7201a8"
             ],
             [
              0.3333333333333333,
              "#9c179e"
             ],
             [
              0.4444444444444444,
              "#bd3786"
             ],
             [
              0.5555555555555556,
              "#d8576b"
             ],
             [
              0.6666666666666666,
              "#ed7953"
             ],
             [
              0.7777777777777778,
              "#fb9f3a"
             ],
             [
              0.8888888888888888,
              "#fdca26"
             ],
             [
              1,
              "#f0f921"
             ]
            ],
            "type": "histogram2d"
           }
          ],
          "histogram2dcontour": [
           {
            "colorbar": {
             "outlinewidth": 0,
             "ticks": ""
            },
            "colorscale": [
             [
              0,
              "#0d0887"
             ],
             [
              0.1111111111111111,
              "#46039f"
             ],
             [
              0.2222222222222222,
              "#7201a8"
             ],
             [
              0.3333333333333333,
              "#9c179e"
             ],
             [
              0.4444444444444444,
              "#bd3786"
             ],
             [
              0.5555555555555556,
              "#d8576b"
             ],
             [
              0.6666666666666666,
              "#ed7953"
             ],
             [
              0.7777777777777778,
              "#fb9f3a"
             ],
             [
              0.8888888888888888,
              "#fdca26"
             ],
             [
              1,
              "#f0f921"
             ]
            ],
            "type": "histogram2dcontour"
           }
          ],
          "mesh3d": [
           {
            "colorbar": {
             "outlinewidth": 0,
             "ticks": ""
            },
            "type": "mesh3d"
           }
          ],
          "parcoords": [
           {
            "line": {
             "colorbar": {
              "outlinewidth": 0,
              "ticks": ""
             }
            },
            "type": "parcoords"
           }
          ],
          "pie": [
           {
            "automargin": true,
            "type": "pie"
           }
          ],
          "scatter": [
           {
            "fillpattern": {
             "fillmode": "overlay",
             "size": 10,
             "solidity": 0.2
            },
            "type": "scatter"
           }
          ],
          "scatter3d": [
           {
            "line": {
             "colorbar": {
              "outlinewidth": 0,
              "ticks": ""
             }
            },
            "marker": {
             "colorbar": {
              "outlinewidth": 0,
              "ticks": ""
             }
            },
            "type": "scatter3d"
           }
          ],
          "scattercarpet": [
           {
            "marker": {
             "colorbar": {
              "outlinewidth": 0,
              "ticks": ""
             }
            },
            "type": "scattercarpet"
           }
          ],
          "scattergeo": [
           {
            "marker": {
             "colorbar": {
              "outlinewidth": 0,
              "ticks": ""
             }
            },
            "type": "scattergeo"
           }
          ],
          "scattergl": [
           {
            "marker": {
             "colorbar": {
              "outlinewidth": 0,
              "ticks": ""
             }
            },
            "type": "scattergl"
           }
          ],
          "scattermapbox": [
           {
            "marker": {
             "colorbar": {
              "outlinewidth": 0,
              "ticks": ""
             }
            },
            "type": "scattermapbox"
           }
          ],
          "scatterpolar": [
           {
            "marker": {
             "colorbar": {
              "outlinewidth": 0,
              "ticks": ""
             }
            },
            "type": "scatterpolar"
           }
          ],
          "scatterpolargl": [
           {
            "marker": {
             "colorbar": {
              "outlinewidth": 0,
              "ticks": ""
             }
            },
            "type": "scatterpolargl"
           }
          ],
          "scatterternary": [
           {
            "marker": {
             "colorbar": {
              "outlinewidth": 0,
              "ticks": ""
             }
            },
            "type": "scatterternary"
           }
          ],
          "surface": [
           {
            "colorbar": {
             "outlinewidth": 0,
             "ticks": ""
            },
            "colorscale": [
             [
              0,
              "#0d0887"
             ],
             [
              0.1111111111111111,
              "#46039f"
             ],
             [
              0.2222222222222222,
              "#7201a8"
             ],
             [
              0.3333333333333333,
              "#9c179e"
             ],
             [
              0.4444444444444444,
              "#bd3786"
             ],
             [
              0.5555555555555556,
              "#d8576b"
             ],
             [
              0.6666666666666666,
              "#ed7953"
             ],
             [
              0.7777777777777778,
              "#fb9f3a"
             ],
             [
              0.8888888888888888,
              "#fdca26"
             ],
             [
              1,
              "#f0f921"
             ]
            ],
            "type": "surface"
           }
          ],
          "table": [
           {
            "cells": {
             "fill": {
              "color": "#EBF0F8"
             },
             "line": {
              "color": "white"
             }
            },
            "header": {
             "fill": {
              "color": "#C8D4E3"
             },
             "line": {
              "color": "white"
             }
            },
            "type": "table"
           }
          ]
         },
         "layout": {
          "annotationdefaults": {
           "arrowcolor": "#2a3f5f",
           "arrowhead": 0,
           "arrowwidth": 1
          },
          "autotypenumbers": "strict",
          "coloraxis": {
           "colorbar": {
            "outlinewidth": 0,
            "ticks": ""
           }
          },
          "colorscale": {
           "diverging": [
            [
             0,
             "#8e0152"
            ],
            [
             0.1,
             "#c51b7d"
            ],
            [
             0.2,
             "#de77ae"
            ],
            [
             0.3,
             "#f1b6da"
            ],
            [
             0.4,
             "#fde0ef"
            ],
            [
             0.5,
             "#f7f7f7"
            ],
            [
             0.6,
             "#e6f5d0"
            ],
            [
             0.7,
             "#b8e186"
            ],
            [
             0.8,
             "#7fbc41"
            ],
            [
             0.9,
             "#4d9221"
            ],
            [
             1,
             "#276419"
            ]
           ],
           "sequential": [
            [
             0,
             "#0d0887"
            ],
            [
             0.1111111111111111,
             "#46039f"
            ],
            [
             0.2222222222222222,
             "#7201a8"
            ],
            [
             0.3333333333333333,
             "#9c179e"
            ],
            [
             0.4444444444444444,
             "#bd3786"
            ],
            [
             0.5555555555555556,
             "#d8576b"
            ],
            [
             0.6666666666666666,
             "#ed7953"
            ],
            [
             0.7777777777777778,
             "#fb9f3a"
            ],
            [
             0.8888888888888888,
             "#fdca26"
            ],
            [
             1,
             "#f0f921"
            ]
           ],
           "sequentialminus": [
            [
             0,
             "#0d0887"
            ],
            [
             0.1111111111111111,
             "#46039f"
            ],
            [
             0.2222222222222222,
             "#7201a8"
            ],
            [
             0.3333333333333333,
             "#9c179e"
            ],
            [
             0.4444444444444444,
             "#bd3786"
            ],
            [
             0.5555555555555556,
             "#d8576b"
            ],
            [
             0.6666666666666666,
             "#ed7953"
            ],
            [
             0.7777777777777778,
             "#fb9f3a"
            ],
            [
             0.8888888888888888,
             "#fdca26"
            ],
            [
             1,
             "#f0f921"
            ]
           ]
          },
          "colorway": [
           "#636efa",
           "#EF553B",
           "#00cc96",
           "#ab63fa",
           "#FFA15A",
           "#19d3f3",
           "#FF6692",
           "#B6E880",
           "#FF97FF",
           "#FECB52"
          ],
          "font": {
           "color": "#2a3f5f"
          },
          "geo": {
           "bgcolor": "white",
           "lakecolor": "white",
           "landcolor": "#E5ECF6",
           "showlakes": true,
           "showland": true,
           "subunitcolor": "white"
          },
          "hoverlabel": {
           "align": "left"
          },
          "hovermode": "closest",
          "mapbox": {
           "style": "light"
          },
          "paper_bgcolor": "white",
          "plot_bgcolor": "#E5ECF6",
          "polar": {
           "angularaxis": {
            "gridcolor": "white",
            "linecolor": "white",
            "ticks": ""
           },
           "bgcolor": "#E5ECF6",
           "radialaxis": {
            "gridcolor": "white",
            "linecolor": "white",
            "ticks": ""
           }
          },
          "scene": {
           "xaxis": {
            "backgroundcolor": "#E5ECF6",
            "gridcolor": "white",
            "gridwidth": 2,
            "linecolor": "white",
            "showbackground": true,
            "ticks": "",
            "zerolinecolor": "white"
           },
           "yaxis": {
            "backgroundcolor": "#E5ECF6",
            "gridcolor": "white",
            "gridwidth": 2,
            "linecolor": "white",
            "showbackground": true,
            "ticks": "",
            "zerolinecolor": "white"
           },
           "zaxis": {
            "backgroundcolor": "#E5ECF6",
            "gridcolor": "white",
            "gridwidth": 2,
            "linecolor": "white",
            "showbackground": true,
            "ticks": "",
            "zerolinecolor": "white"
           }
          },
          "shapedefaults": {
           "line": {
            "color": "#2a3f5f"
           }
          },
          "ternary": {
           "aaxis": {
            "gridcolor": "white",
            "linecolor": "white",
            "ticks": ""
           },
           "baxis": {
            "gridcolor": "white",
            "linecolor": "white",
            "ticks": ""
           },
           "bgcolor": "#E5ECF6",
           "caxis": {
            "gridcolor": "white",
            "linecolor": "white",
            "ticks": ""
           }
          },
          "title": {
           "x": 0.05
          },
          "xaxis": {
           "automargin": true,
           "gridcolor": "white",
           "linecolor": "white",
           "ticks": "",
           "title": {
            "standoff": 15
           },
           "zerolinecolor": "white",
           "zerolinewidth": 2
          },
          "yaxis": {
           "automargin": true,
           "gridcolor": "white",
           "linecolor": "white",
           "ticks": "",
           "title": {
            "standoff": 15
           },
           "zerolinecolor": "white",
           "zerolinewidth": 2
          }
         }
        },
        "title": {
         "text": "Distribution of NEAR_DIST"
        },
        "xaxis": {
         "title": {
          "text": "NEAR_DIST"
         }
        },
        "yaxis": {
         "title": {
          "text": "Frequency / Probability Density"
         }
        }
       }
      }
     },
     "metadata": {},
     "output_type": "display_data"
    },
    {
     "data": {
      "application/vnd.plotly.v1+json": {
       "config": {
        "plotlyServerURL": "https://plot.ly"
       },
       "data": [
        {
         "marker": {
          "color": "blue"
         },
         "name": "Histogram",
         "nbinsx": 100,
         "opacity": 0.7,
         "type": "histogram",
         "x": [
          253459.2367191068,
          160009.5773832461,
          217699.9260567665,
          136891.5212719888,
          124815.2253852123,
          174303.1448813489,
          115832.1782980477,
          229518.8521152658,
          153249.0705687592,
          243165.5181425172,
          138693.8811669254,
          596207.8614474408,
          124794.1821786945,
          1964852.787238381,
          132644.5805802886,
          132644.5805802886,
          194506.2450912247,
          150639.7824318229,
          41127.51771477913,
          14938.49498632483,
          712.0342280091082,
          615.5843993315029,
          61818.6864368047,
          14153.73737654201,
          4.766521897780413,
          8428.260527806475,
          60744.99895864137,
          5498.137235730458,
          124815.2253852123,
          249448.558306867,
          11383.00087668015,
          4329.795227499982,
          13419.05211834962,
          392.6628273210162,
          11285.85512078554,
          1505.496964277816,
          28351.71241733541,
          835.5197320220348,
          18534.30957750812,
          130811.6950053391,
          10905.38587452429,
          57438.72964018219,
          396649.7916304982,
          311846.0105423033,
          7398.73524961673,
          3665.723630195513,
          2438.71750765925,
          64.55664578758791,
          38761.75589349315,
          292.6218226979391,
          34451.29790757748,
          93839.26613245485,
          7223.882633274887,
          54660.47648414843,
          748.3382453440825,
          9582.583364997421,
          79247.76511027016,
          170140.5980844286,
          89632.86339614223,
          195055.0128322576,
          846185.8131461248,
          906946.7774300497,
          966355.6421902915,
          823438.3480156994,
          941053.1393092148,
          102631.0474842084,
          164715.1016283477,
          212596.9347936639,
          430849.3932161929,
          542336.8971512103,
          2724.148406670335,
          10292.36782252949,
          2351.395344203186,
          10292.36782252949,
          2351.395344203186,
          39536.49764192609,
          1294.441805014963,
          15873.30231915356,
          798.6018087340258,
          17662.0090558104,
          59234.38922603314,
          356.0976672322179,
          189529.4311089741,
          423862.6061676692,
          91551.94898194922,
          91551.94898194922,
          120900.2600367395,
          1047.737619772475,
          21801.80134880209,
          17694.35819122706,
          53130.22404481468,
          154604.1304892287,
          34943.8377932012,
          53130.22404481468,
          53130.22404481468,
          34943.8377932012,
          34943.8377932012,
          990.8302829138372,
          6775.748711676592,
          127379.8138911427,
          174303.1448813489,
          212.6945352551237,
          16217.94167978457,
          253468.5456471947,
          253468.5456471947,
          253468.5456471947,
          711.4155440105221,
          2795.146450690694,
          136427.1782104547,
          5901.981616498222,
          703.8622998971884,
          3024.525568511844,
          2389.153914727225,
          1137.112970543824,
          1619.786059042484,
          124108.850526243,
          3046.223669395361,
          8495.377790603916,
          29769.26274137877,
          31749.99275003482,
          29769.26274137877,
          12792.77161627986,
          255296.3555152184,
          1763.422687979069,
          6349.609947104457,
          140601.8913247921,
          2142.9098654003,
          621.5128946852003,
          8963.77733238255,
          8021.820355392348,
          11285.85512078554,
          2173.584765102344,
          98.09701813950113,
          12103.55593359559,
          17394.63224658562,
          449.5149862821535,
          1990.07226168887,
          32757.47106408048,
          1417.329944083856,
          1417.329944083856,
          2021.352902975851,
          16204.55110468365,
          63.7312476086514,
          63.7312476086514,
          10248.45816967383,
          10248.45816967383,
          90266.17460208845,
          69.69013280450275,
          424265.5386448323,
          424265.5386448323,
          887338.3911766936,
          42159.26860146575,
          13705.8352823509,
          10482.86305501483,
          19775.89534533698,
          56374.22099908721,
          2793.818116755554,
          230535.4250949211,
          206793.8606694331,
          224404.7390356766,
          206793.8606694331,
          13388.569599563,
          970585.9530976611,
          135946.2350363095,
          8442.746512292857,
          200970.346095831,
          21744.83513710526,
          428161.5564425463,
          428161.5564425463,
          14443.14628932435,
          13580.44178026544,
          3329.425198548387,
          23171.53354166426,
          30908.68563210395,
          41842.81299500816,
          13278.7483964727,
          825.6264312168398,
          30806.14245380143,
          2.898498606757737,
          739.1852186072076,
          664.3192849099141,
          354.8850201166062,
          86.10839652862862,
          2180.238465821686,
          1602.473640548658,
          79.21137820806686,
          94.60730459821568,
          821.506325670822,
          6362.548316208827,
          44393.88091015633,
          18336.31048293318,
          238.6415460327767,
          8442.486116521526,
          1760.254920592202,
          18003.65054652771,
          5005.726484872852,
          3223.868144052682,
          261902.1375221267,
          555.8053641087342,
          46095.00080038904,
          291731.4160607171,
          330929.8020788722,
          291731.4160607171,
          2606.863200731415,
          1259743.774054053,
          280717.0647631518,
          51417.82957871904,
          15314.5562069875,
          432005.7398352941,
          3292.414382400093,
          41594.65376584117,
          9409.285245935806,
          14397.39288980864,
          3435.410088567155,
          3435.410088567155,
          3292.414382400093,
          3292.414382400093,
          5396.841393202199,
          954.1250655622563,
          59273.69052373531,
          55786.36365230708,
          22547.49284436076,
          22851.20205293391,
          6925.905135715047,
          6925.905135715047,
          121557.6039934788,
          142775.5572366602,
          596207.8614474408,
          778740.7658694367,
          2585.752811907388,
          12140.63781181748,
          4051.6671443168,
          15777.09967871947,
          15777.09967871947,
          15777.09967871947,
          263435.0448848447,
          15777.09967871947,
          40718.28250016102,
          40718.28250016102,
          40718.28250016102,
          12470.04505305689,
          12470.04505305689,
          280.0081046396362,
          11255.6131643065,
          130046.0839573793,
          6835.449429454501,
          5588.690404281914,
          11255.6131643065,
          5498.137235730458,
          1505.496964277816
         ]
        },
        {
         "line": {
          "color": "red",
          "width": 2
         },
         "mode": "lines",
         "name": "PDF",
         "type": "scatter",
         "x": [
          2.898498606757737,
          1969.7152040519773,
          3936.5319094971965,
          5903.348614942416,
          7870.165320387636,
          9836.982025832855,
          11803.798731278073,
          13770.615436723294,
          15737.432142168513,
          17704.248847613733,
          19671.065553058954,
          21637.882258504174,
          23604.69896394939,
          25571.515669394612,
          27538.332374839832,
          29505.14908028505,
          31471.96578573027,
          33438.78249117549,
          35405.59919662071,
          37372.41590206593,
          39339.23260751115,
          41306.04931295637,
          43272.86601840159,
          45239.6827238468,
          47206.499429292024,
          49173.316134737244,
          51140.132840182465,
          53106.949545627685,
          55073.766251072906,
          57040.58295651812,
          59007.39966196334,
          60974.21636740856,
          62941.03307285378,
          64907.849778299,
          66874.66648374421,
          68841.48318918943,
          70808.29989463465,
          72775.11660007987,
          74741.93330552509,
          76708.75001097031,
          78675.56671641553,
          80642.38342186075,
          82609.20012730597,
          84576.0168327512,
          86542.83353819641,
          88509.65024364162,
          90476.46694908684,
          92443.28365453206,
          94410.10035997728,
          96376.9170654225,
          98343.73377086772,
          100310.55047631294,
          102277.36718175816,
          104244.18388720338,
          106211.0005926486,
          108177.81729809383,
          110144.63400353905,
          112111.45070898427,
          114078.26741442947,
          116045.0841198747,
          118011.90082531991,
          119978.71753076513,
          121945.53423621035,
          123912.35094165558,
          125879.1676471008,
          127845.98435254602,
          129812.80105799124,
          131779.61776343646,
          133746.43446888166,
          135713.2511743269,
          137680.0678797721,
          139646.88458521734,
          141613.70129066255,
          143580.51799610778,
          145547.334701553,
          147514.15140699822,
          149480.96811244343,
          151447.78481788863,
          153414.60152333387,
          155381.41822877908,
          157348.2349342243,
          159315.05163966952,
          161281.86834511475,
          163248.68505055996,
          165215.5017560052,
          167182.3184614504,
          169149.13516689563,
          171115.95187234084,
          173082.76857778608,
          175049.58528323128,
          177016.4019886765,
          178983.21869412172,
          180950.03539956693,
          182916.85210501216,
          184883.66881045737,
          186850.4855159026,
          188817.3022213478,
          190784.11892679305,
          192750.93563223825,
          194717.7523376835,
          196684.5690431287,
          198651.38574857393,
          200618.20245401913,
          202585.01915946434,
          204551.83586490958,
          206518.65257035478,
          208485.46927580002,
          210452.28598124522,
          212419.10268669046,
          214385.91939213566,
          216352.7360975809,
          218319.5528030261,
          220286.36950847134,
          222253.18621391655,
          224220.00291936178,
          226186.819624807,
          228153.6363302522,
          230120.45303569743,
          232087.26974114263,
          234054.08644658787,
          236020.90315203308,
          237987.7198574783,
          239954.53656292352,
          241921.35326836875,
          243888.16997381396,
          245854.9866792592,
          247821.8033847044,
          249788.62009014963,
          251755.43679559484,
          253722.25350104005,
          255689.07020648528,
          257655.8869119305,
          259622.70361737572,
          261589.52032282093,
          263556.33702826616,
          265523.1537337114,
          267489.9704391566,
          269456.7871446018,
          271423.60385004705,
          273390.4205554923,
          275357.23726093746,
          277324.0539663827,
          279290.8706718279,
          281257.6873772731,
          283224.50408271834,
          285191.3207881636,
          287158.1374936088,
          289124.954199054,
          291091.7709044992,
          293058.58760994446,
          295025.4043153897,
          296992.22102083487,
          298959.0377262801,
          300925.85443172534,
          302892.6711371705,
          304859.48784261575,
          306826.304548061,
          308793.1212535062,
          310759.9379589514,
          312726.75466439663,
          314693.57136984187,
          316660.3880752871,
          318627.2047807323,
          320594.0214861775,
          322560.83819162275,
          324527.654897068,
          326494.47160251316,
          328461.2883079584,
          330428.10501340363,
          332394.9217188488,
          334361.73842429405,
          336328.5551297393,
          338295.3718351845,
          340262.1885406297,
          342229.0052460749,
          344195.82195152016,
          346162.6386569654,
          348129.4553624106,
          350096.2720678558,
          352063.08877330105,
          354029.9054787462,
          355996.72218419146,
          357963.5388896367,
          359930.3555950819,
          361897.1723005271,
          363863.98900597234,
          365830.8057114176,
          367797.6224168628,
          369764.439122308,
          371731.2558277532,
          373698.07253319846,
          375664.8892386437,
          377631.70594408887,
          379598.5226495341,
          381565.33935497934,
          383532.1560604245,
          385498.97276586975,
          387465.789471315,
          389432.6061767602,
          391399.4228822054,
          393366.23958765063,
          395333.05629309587,
          397299.8729985411,
          399266.6897039863,
          401233.5064094315,
          403200.32311487675,
          405167.1398203219,
          407133.95652576716,
          409100.7732312124,
          411067.58993665763,
          413034.4066421028,
          415001.22334754805,
          416968.0400529933,
          418934.8567584385,
          420901.6734638837,
          422868.4901693289,
          424835.30687477416,
          426802.1235802194,
          428768.9402856646,
          430735.7569911098,
          432702.57369655505,
          434669.3904020002,
          436636.20710744546,
          438603.0238128907,
          440569.8405183359,
          442536.6572237811,
          444503.47392922634,
          446470.2906346716,
          448437.1073401168,
          450403.924045562,
          452370.7407510072,
          454337.55745645246,
          456304.37416189763,
          458271.19086734287,
          460238.0075727881,
          462204.82427823334,
          464171.6409836785,
          466138.45768912375,
          468105.274394569,
          470072.0911000142,
          472038.9078054594,
          474005.72451090463,
          475972.54121634987,
          477939.3579217951,
          479906.1746272403,
          481872.9913326855,
          483839.80803813075,
          485806.6247435759,
          487773.44144902116,
          489740.2581544664,
          491707.07485991163,
          493673.8915653568,
          495640.70827080205,
          497607.5249762473,
          499574.3416816925,
          501541.1583871377,
          503507.9750925829,
          505474.79179802816,
          507441.60850347334,
          509408.4252089186,
          511375.2419143638,
          513342.05861980905,
          515308.8753252542,
          517275.69203069946,
          519242.5087361447,
          521209.3254415899,
          523176.1421470351,
          525142.9588524804,
          527109.7755579256,
          529076.5922633708,
          531043.408968816,
          533010.2256742612,
          534977.0423797064,
          536943.8590851517,
          538910.6757905969,
          540877.492496042,
          542844.3092014873,
          544811.1259069325,
          546777.9426123778,
          548744.759317823,
          550711.5760232682,
          552678.3927287135,
          554645.2094341586,
          556612.0261396038,
          558578.8428450491,
          560545.6595504943,
          562512.4762559395,
          564479.2929613848,
          566446.1096668299,
          568412.9263722752,
          570379.7430777204,
          572346.5597831656,
          574313.3764886109,
          576280.193194056,
          578247.0098995012,
          580213.8266049465,
          582180.6433103917,
          584147.4600158369,
          586114.2767212822,
          588081.0934267273,
          590047.9101321726,
          592014.7268376178,
          593981.543543063,
          595948.3602485083,
          597915.1769539535,
          599881.9936593986,
          601848.8103648439,
          603815.6270702891,
          605782.4437757343,
          607749.2604811796,
          609716.0771866248,
          611682.89389207,
          613649.7105975152,
          615616.5273029604,
          617583.3440084057,
          619550.1607138509,
          621516.977419296,
          623483.7941247413,
          625450.6108301865,
          627417.4275356318,
          629384.244241077,
          631351.0609465222,
          633317.8776519675,
          635284.6943574126,
          637251.5110628578,
          639218.3277683031,
          641185.1444737483,
          643151.9611791935,
          645118.7778846388,
          647085.5945900839,
          649052.4112955292,
          651019.2280009744,
          652986.0447064196,
          654952.8614118649,
          656919.67811731,
          658886.4948227552,
          660853.3115282005,
          662820.1282336457,
          664786.9449390909,
          666753.7616445362,
          668720.5783499813,
          670687.3950554266,
          672654.2117608718,
          674621.028466317,
          676587.8451717623,
          678554.6618772075,
          680521.4785826526,
          682488.2952880979,
          684455.1119935431,
          686421.9286989883,
          688388.7454044336,
          690355.5621098788,
          692322.378815324,
          694289.1955207692,
          696256.0122262144,
          698222.8289316597,
          700189.6456371049,
          702156.46234255,
          704123.2790479953,
          706090.0957534405,
          708056.9124588857,
          710023.729164331,
          711990.5458697762,
          713957.3625752215,
          715924.1792806666,
          717890.9959861118,
          719857.8126915571,
          721824.6293970023,
          723791.4461024475,
          725758.2628078928,
          727725.0795133379,
          729691.8962187832,
          731658.7129242284,
          733625.5296296736,
          735592.3463351189,
          737559.163040564,
          739525.9797460092,
          741492.7964514545,
          743459.6131568997,
          745426.4298623449,
          747393.2465677902,
          749360.0632732353,
          751326.8799786806,
          753293.6966841258,
          755260.513389571,
          757227.3300950163,
          759194.1468004615,
          761160.9635059066,
          763127.7802113519,
          765094.5969167971,
          767061.4136222423,
          769028.2303276876,
          770995.0470331328,
          772961.863738578,
          774928.6804440232,
          776895.4971494684,
          778862.3138549137,
          780829.1305603589,
          782795.947265804,
          784762.7639712493,
          786729.5806766945,
          788696.3973821397,
          790663.214087585,
          792630.0307930302,
          794596.8474984755,
          796563.6642039206,
          798530.4809093658,
          800497.2976148111,
          802464.1143202563,
          804430.9310257015,
          806397.7477311468,
          808364.5644365919,
          810331.3811420371,
          812298.1978474824,
          814265.0145529276,
          816231.8312583729,
          818198.647963818,
          820165.4646692632,
          822132.2813747085,
          824099.0980801537,
          826065.9147855989,
          828032.7314910442,
          829999.5481964893,
          831966.3649019345,
          833933.1816073798,
          835899.998312825,
          837866.8150182703,
          839833.6317237155,
          841800.4484291606,
          843767.2651346059,
          845734.0818400511,
          847700.8985454963,
          849667.7152509416,
          851634.5319563868,
          853601.348661832,
          855568.1653672772,
          857534.9820727224,
          859501.7987781677,
          861468.6154836129,
          863435.432189058,
          865402.2488945033,
          867369.0655999485,
          869335.8823053937,
          871302.699010839,
          873269.5157162842,
          875236.3324217295,
          877203.1491271746,
          879169.9658326198,
          881136.7825380651,
          883103.5992435103,
          885070.4159489555,
          887037.2326544008,
          889004.0493598459,
          890970.8660652911,
          892937.6827707364,
          894904.4994761816,
          896871.3161816269,
          898838.132887072,
          900804.9495925172,
          902771.7662979625,
          904738.5830034077,
          906705.3997088529,
          908672.2164142982,
          910639.0331197433,
          912605.8498251885,
          914572.6665306338,
          916539.483236079,
          918506.2999415243,
          920473.1166469695,
          922439.9333524146,
          924406.7500578599,
          926373.5667633051,
          928340.3834687503,
          930307.2001741956,
          932274.0168796408,
          934240.8335850859,
          936207.6502905312,
          938174.4669959764,
          940141.2837014217,
          942108.1004068669,
          944074.917112312,
          946041.7338177573,
          948008.5505232025,
          949975.3672286477,
          951942.183934093,
          953909.0006395382,
          955875.8173449835,
          957842.6340504286,
          959809.4507558738,
          961776.2674613191,
          963743.0841667643,
          965709.9008722095,
          967676.7175776548,
          969643.5342830999,
          971610.3509885451,
          973577.1676939904,
          975543.9843994356,
          977510.8011048809,
          979477.617810326,
          981444.4345157712,
          983411.2512212165,
          985378.0679266617,
          987344.8846321069,
          989311.7013375522,
          991278.5180429973,
          993245.3347484425,
          995212.1514538878,
          997178.968159333,
          999145.7848647783,
          1001112.6015702235,
          1003079.4182756686,
          1005046.2349811139,
          1007013.0516865591,
          1008979.8683920043,
          1010946.6850974496,
          1012913.5018028948,
          1014880.3185083399,
          1016847.1352137852,
          1018813.9519192304,
          1020780.7686246757,
          1022747.5853301209,
          1024714.402035566,
          1026681.2187410113,
          1028648.0354464565,
          1030614.8521519017,
          1032581.668857347,
          1034548.4855627922,
          1036515.3022682373,
          1038482.1189736826,
          1040448.9356791278,
          1042415.7523845731,
          1044382.5690900183,
          1046349.3857954635,
          1048316.2025009088,
          1050283.0192063542,
          1052249.8359117992,
          1054216.6526172445,
          1056183.4693226898,
          1058150.2860281349,
          1060117.1027335802,
          1062083.9194390255,
          1064050.7361444705,
          1066017.5528499158,
          1067984.369555361,
          1069951.1862608062,
          1071918.0029662515,
          1073884.8196716968,
          1075851.6363771418,
          1077818.453082587,
          1079785.2697880324,
          1081752.0864934775,
          1083718.9031989228,
          1085685.719904368,
          1087652.536609813,
          1089619.3533152584,
          1091586.1700207037,
          1093552.986726149,
          1095519.803431594,
          1097486.6201370393,
          1099453.4368424846,
          1101420.2535479297,
          1103387.070253375,
          1105353.8869588203,
          1107320.7036642653,
          1109287.5203697106,
          1111254.337075156,
          1113221.153780601,
          1115187.9704860463,
          1117154.7871914916,
          1119121.6038969366,
          1121088.420602382,
          1123055.2373078272,
          1125022.0540132723,
          1126988.8707187176,
          1128955.6874241629,
          1130922.5041296082,
          1132889.3208350532,
          1134856.1375404985,
          1136822.9542459438,
          1138789.7709513889,
          1140756.5876568342,
          1142723.4043622795,
          1144690.2210677245,
          1146657.0377731698,
          1148623.854478615,
          1150590.6711840602,
          1152557.4878895055,
          1154524.3045949508,
          1156491.1213003958,
          1158457.938005841,
          1160424.7547112864,
          1162391.5714167315,
          1164358.3881221768,
          1166325.204827622,
          1168292.021533067,
          1170258.8382385124,
          1172225.6549439577,
          1174192.471649403,
          1176159.288354848,
          1178126.1050602933,
          1180092.9217657386,
          1182059.7384711837,
          1184026.555176629,
          1185993.3718820743,
          1187960.1885875193,
          1189927.0052929646,
          1191893.82199841,
          1193860.638703855,
          1195827.4554093003,
          1197794.2721147456,
          1199761.0888201906,
          1201727.905525636,
          1203694.7222310812,
          1205661.5389365263,
          1207628.3556419716,
          1209595.1723474169,
          1211561.989052862,
          1213528.8057583072,
          1215495.6224637525,
          1217462.4391691978,
          1219429.2558746429,
          1221396.0725800882,
          1223362.8892855335,
          1225329.7059909785,
          1227296.5226964238,
          1229263.339401869,
          1231230.1561073142,
          1233196.9728127595,
          1235163.7895182048,
          1237130.6062236498,
          1239097.422929095,
          1241064.2396345404,
          1243031.0563399855,
          1244997.8730454308,
          1246964.689750876,
          1248931.506456321,
          1250898.3231617664,
          1252865.1398672117,
          1254831.956572657,
          1256798.773278102,
          1258765.5899835473,
          1260732.4066889926,
          1262699.2233944377,
          1264666.040099883,
          1266632.8568053283,
          1268599.6735107733,
          1270566.4902162186,
          1272533.306921664,
          1274500.123627109,
          1276466.9403325543,
          1278433.7570379996,
          1280400.5737434446,
          1282367.39044889,
          1284334.2071543352,
          1286301.0238597803,
          1288267.8405652256,
          1290234.6572706709,
          1292201.473976116,
          1294168.2906815612,
          1296135.1073870065,
          1298101.9240924518,
          1300068.7407978969,
          1302035.5575033422,
          1304002.3742087875,
          1305969.1909142325,
          1307936.0076196778,
          1309902.824325123,
          1311869.6410305682,
          1313836.4577360135,
          1315803.2744414588,
          1317770.0911469038,
          1319736.907852349,
          1321703.7245577944,
          1323670.5412632395,
          1325637.3579686848,
          1327604.17467413,
          1329570.991379575,
          1331537.8080850204,
          1333504.6247904657,
          1335471.4414959108,
          1337438.258201356,
          1339405.0749068013,
          1341371.8916122466,
          1343338.7083176917,
          1345305.525023137,
          1347272.3417285823,
          1349239.1584340273,
          1351205.9751394726,
          1353172.791844918,
          1355139.608550363,
          1357106.4252558083,
          1359073.2419612536,
          1361040.0586666986,
          1363006.875372144,
          1364973.6920775892,
          1366940.5087830343,
          1368907.3254884796,
          1370874.1421939249,
          1372840.95889937,
          1374807.7756048152,
          1376774.5923102605,
          1378741.4090157058,
          1380708.2257211509,
          1382675.0424265962,
          1384641.8591320415,
          1386608.6758374865,
          1388575.4925429318,
          1390542.309248377,
          1392509.1259538222,
          1394475.9426592675,
          1396442.7593647128,
          1398409.5760701578,
          1400376.392775603,
          1402343.2094810484,
          1404310.0261864935,
          1406276.8428919388,
          1408243.659597384,
          1410210.476302829,
          1412177.2930082744,
          1414144.1097137197,
          1416110.9264191648,
          1418077.74312461,
          1420044.5598300553,
          1422011.3765355006,
          1423978.1932409457,
          1425945.009946391,
          1427911.8266518363,
          1429878.6433572813,
          1431845.4600627266,
          1433812.276768172,
          1435779.093473617,
          1437745.9101790623,
          1439712.7268845076,
          1441679.5435899526,
          1443646.360295398,
          1445613.1770008432,
          1447579.9937062883,
          1449546.8104117336,
          1451513.6271171789,
          1453480.443822624,
          1455447.2605280692,
          1457414.0772335145,
          1459380.8939389598,
          1461347.7106444049,
          1463314.5273498502,
          1465281.3440552955,
          1467248.1607607405,
          1469214.9774661858,
          1471181.794171631,
          1473148.6108770762,
          1475115.4275825215,
          1477082.2442879668,
          1479049.0609934118,
          1481015.877698857,
          1482982.6944043024,
          1484949.5111097475,
          1486916.3278151928,
          1488883.144520638,
          1490849.961226083,
          1492816.7779315284,
          1494783.5946369737,
          1496750.4113424188,
          1498717.228047864,
          1500684.0447533093,
          1502650.8614587546,
          1504617.6781641997,
          1506584.494869645,
          1508551.3115750903,
          1510518.1282805353,
          1512484.9449859806,
          1514451.761691426,
          1516418.578396871,
          1518385.3951023163,
          1520352.2118077616,
          1522319.0285132066,
          1524285.845218652,
          1526252.6619240972,
          1528219.4786295423,
          1530186.2953349876,
          1532153.1120404329,
          1534119.928745878,
          1536086.7454513232,
          1538053.5621567685,
          1540020.3788622136,
          1541987.1955676589,
          1543954.0122731042,
          1545920.8289785495,
          1547887.6456839945,
          1549854.4623894398,
          1551821.279094885,
          1553788.0958003302,
          1555754.9125057755,
          1557721.7292112208,
          1559688.5459166658,
          1561655.362622111,
          1563622.1793275564,
          1565588.9960330015,
          1567555.8127384468,
          1569522.629443892,
          1571489.446149337,
          1573456.2628547824,
          1575423.0795602277,
          1577389.8962656728,
          1579356.712971118,
          1581323.5296765633,
          1583290.3463820086,
          1585257.1630874537,
          1587223.979792899,
          1589190.7964983443,
          1591157.6132037893,
          1593124.4299092346,
          1595091.24661468,
          1597058.063320125,
          1599024.8800255703,
          1600991.6967310156,
          1602958.5134364606,
          1604925.330141906,
          1606892.1468473512,
          1608858.9635527963,
          1610825.7802582416,
          1612792.5969636869,
          1614759.413669132,
          1616726.2303745772,
          1618693.0470800225,
          1620659.8637854676,
          1622626.6804909129,
          1624593.4971963582,
          1626560.3139018035,
          1628527.1306072485,
          1630493.9473126938,
          1632460.764018139,
          1634427.5807235842,
          1636394.3974290295,
          1638361.2141344748,
          1640328.0308399198,
          1642294.847545365,
          1644261.6642508104,
          1646228.4809562555,
          1648195.2976617008,
          1650162.114367146,
          1652128.931072591,
          1654095.7477780364,
          1656062.5644834817,
          1658029.3811889268,
          1659996.197894372,
          1661963.0145998173,
          1663929.8313052624,
          1665896.6480107077,
          1667863.464716153,
          1669830.2814215983,
          1671797.0981270433,
          1673763.9148324886,
          1675730.731537934,
          1677697.548243379,
          1679664.3649488243,
          1681631.1816542696,
          1683597.9983597146,
          1685564.81506516,
          1687531.6317706052,
          1689498.4484760503,
          1691465.2651814956,
          1693432.0818869409,
          1695398.898592386,
          1697365.7152978312,
          1699332.5320032765,
          1701299.3487087216,
          1703266.1654141669,
          1705232.9821196122,
          1707199.7988250575,
          1709166.6155305025,
          1711133.4322359478,
          1713100.248941393,
          1715067.0656468382,
          1717033.8823522835,
          1719000.6990577288,
          1720967.5157631738,
          1722934.332468619,
          1724901.1491740644,
          1726867.9658795095,
          1728834.7825849548,
          1730801.5992904,
          1732768.415995845,
          1734735.2327012904,
          1736702.0494067357,
          1738668.8661121808,
          1740635.682817626,
          1742602.4995230713,
          1744569.3162285164,
          1746536.1329339617,
          1748502.949639407,
          1750469.7663448523,
          1752436.5830502973,
          1754403.3997557426,
          1756370.216461188,
          1758337.033166633,
          1760303.8498720783,
          1762270.6665775236,
          1764237.4832829686,
          1766204.299988414,
          1768171.1166938592,
          1770137.9333993043,
          1772104.7501047496,
          1774071.5668101949,
          1776038.38351564,
          1778005.2002210852,
          1779972.0169265305,
          1781938.8336319756,
          1783905.6503374209,
          1785872.4670428662,
          1787839.2837483112,
          1789806.1004537565,
          1791772.9171592018,
          1793739.733864647,
          1795706.5505700922,
          1797673.3672755375,
          1799640.1839809828,
          1801607.0006864278,
          1803573.817391873,
          1805540.6340973184,
          1807507.4508027635,
          1809474.2675082088,
          1811441.084213654,
          1813407.900919099,
          1815374.7176245444,
          1817341.5343299897,
          1819308.3510354348,
          1821275.16774088,
          1823241.9844463253,
          1825208.8011517704,
          1827175.6178572157,
          1829142.434562661,
          1831109.2512681063,
          1833076.0679735513,
          1835042.8846789966,
          1837009.701384442,
          1838976.518089887,
          1840943.3347953323,
          1842910.1515007776,
          1844876.9682062226,
          1846843.784911668,
          1848810.6016171132,
          1850777.4183225583,
          1852744.2350280036,
          1854711.0517334489,
          1856677.868438894,
          1858644.6851443392,
          1860611.5018497845,
          1862578.3185552296,
          1864545.1352606749,
          1866511.9519661202,
          1868478.7686715652,
          1870445.5853770105,
          1872412.4020824558,
          1874379.218787901,
          1876346.0354933462,
          1878312.8521987915,
          1880279.6689042368,
          1882246.4856096818,
          1884213.302315127,
          1886180.1190205724,
          1888146.9357260175,
          1890113.7524314628,
          1892080.569136908,
          1894047.385842353,
          1896014.2025477984,
          1897981.0192532437,
          1899947.8359586888,
          1901914.652664134,
          1903881.4693695793,
          1905848.2860750244,
          1907815.1027804697,
          1909781.919485915,
          1911748.7361913603,
          1913715.5528968053,
          1915682.3696022506,
          1917649.186307696,
          1919616.003013141,
          1921582.8197185863,
          1923549.6364240316,
          1925516.4531294766,
          1927483.269834922,
          1929450.0865403672,
          1931416.9032458123,
          1933383.7199512576,
          1935350.5366567029,
          1937317.353362148,
          1939284.1700675932,
          1941250.9867730385,
          1943217.8034784836,
          1945184.6201839289,
          1947151.4368893742,
          1949118.2535948192,
          1951085.0703002645,
          1953051.8870057098,
          1955018.703711155,
          1956985.5204166002,
          1958952.3371220455,
          1960919.1538274908,
          1962885.9705329358,
          1964852.787238381
         ],
         "y": [
          7.360893128240281,
          7.3915975368966675,
          7.421888033829052,
          7.451758490131055,
          7.481202844206153,
          7.510215103812558,
          7.538789348090929,
          7.566919729573853,
          7.594600476176252,
          7.6218258931656715,
          7.648590365111581,
          7.6748883578127325,
          7.700714420201628,
          7.726063186225213,
          7.750929376700887,
          7.775307801146895,
          7.799193359586272,
          7.822581044323404,
          7.845465941692394,
          7.867843233776332,
          7.889708200096657,
          7.911056219271784,
          7.931882770644142,
          7.952183435874893,
          7.971953900505456,
          7.991189955485148,
          8.009887498664117,
          8.02804253625088,
          8.045651184233702,
          8.062709669765121,
          8.079214332508947,
          8.095161625949029,
          8.110548118659146,
          8.12537049553342,
          8.139625558976565,
          8.15331023005345,
          8.166421549597324,
          8.178956679276212,
          8.190912902616898,
          8.202287625985987,
          8.213078379527577,
          8.223282818057019,
          8.232898721910356,
          8.241923997748982,
          8.250356679319145,
          8.25819492816585,
          8.26543703430087,
          8.272081416824472,
          8.278126624500562,
          8.283571336284966,
          8.288414361806549,
          8.292654641800961,
          8.29629124849676,
          8.299323385953722,
          8.301750390353197,
          8.303571730240302,
          8.304787006717877,
          8.305395953592095,
          8.305398437469627,
          8.304794457806354,
          8.303584146907557,
          8.30176776987962,
          8.299345724533243,
          8.296318541238247,
          8.292686882730004,
          8.28845154386763,
          8.283613451344042,
          8.278173663348031,
          8.272133369178523,
          8.265493888811232,
          8.258256672417923,
          8.250423299838522,
          8.241995480006349,
          8.232975050326765,
          8.223363976009562,
          8.2131643493554,
          8.202378388996712,
          8.191008439093386,
          8.179056968483708,
          8.166526569790953,
          8.153419958486076,
          8.139739971906998,
          8.125489568234984,
          8.110671825428582,
          8.095289940115732,
          8.079347226444566,
          8.062847114893454,
          8.045793151040948,
          8.028188994296196,
          8.01003841659049,
          7.991345301030588,
          7.972113640514487,
          7.952347536310337,
          7.932051196599209,
          7.911228934982439,
          7.889885168954279,
          7.868024418340626,
          7.8456513037046,
          7.822770544719748,
          7.799386958511673,
          7.775505457968941,
          7.751131050024014,
          7.726268833905162,
          7.700923999360095,
          7.675101824852267,
          7.64880767573067,
          7.6220470023740505,
          7.594825338310414,
          7.567148298312729,
          7.539021576471774,
          7.5104509442470055,
          7.481442248496429,
          7.452001409486372,
          7.42213441888213,
          7.391847337720427,
          7.361146294364652,
          7.3300374824438395,
          7.298527158776344,
          7.266621641279211,
          7.234327306864173,
          7.2016505893213045,
          7.168597977191265,
          7.13517601162714,
          7.10139128424684,
          7.067250434977078,
          7.032760149889852,
          6.997927159032465,
          6.962758234252026,
          6.927260187015434,
          6.891439866225796,
          6.8553041560362855,
          6.818859973662371,
          6.782114267193398,
          6.7450740134045,
          6.7077462155697605,
          6.670137901277583,
          6.632256120249253,
          6.59410794216155,
          6.555700454474411,
          6.517040760264522,
          6.478135976065781,
          6.438993229717482,
          6.3996196582212,
          6.360022405607168,
          6.320208620811092,
          6.280185455562237,
          6.23996006228362,
          6.199539592005201,
          6.158931192290846,
          6.118142005179917,
          6.077179165144279,
          6.036049797061513,
          5.994761014205119,
          5.953319916252473,
          5.911733587311267,
          5.870009093965217,
          5.8281534833396975,
          5.7861737811880465,
          5.74407698999923,
          5.701870087127514,
          5.65956002294484,
          5.6171537190165015,
          5.574658066300792,
          5.5320799233731845,
          5.489426114675684,
          5.446703428791886,
          5.4039186167483155,
          5.361078390342594,
          5.31818942049892,
          5.275258335651426,
          5.232291720155812,
          5.18929611272983,
          5.146278004922952,
          5.1032438396157485,
          5.060200009549321,
          5.01715285588523,
          4.974108666796242,
          4.931073676088308,
          4.8880540618540405,
          4.845055945158092,
          4.802085388754642,
          4.759148395837327,
          4.7162509088218805,
          4.673398808161671,
          4.630597911196419,
          4.587853971034255,
          4.545172675467331,
          4.50255964592113,
          4.460020436437631,
          4.417560532692451,
          4.375185351046104,
          4.3329002376294,
          4.290710467463149,
          4.248621243612134,
          4.206637696373474,
          4.1647648824993215,
          4.123007784453954,
          4.081371309705207,
          4.039860290050238,
          3.998479480975558,
          3.9572335610512615,
          3.916127131359392,
          3.8751647149563184,
          3.834350756369011,
          3.7936896211250954,
          3.7531855953165336,
          3.712842885196755,
          3.6726656168110625,
          3.632657835660145,
          3.5928235063964418,
          3.5531665125531786,
          3.513690656305801,
          3.474399658265593,
          3.435297157305175,
          3.396386710415635,
          3.3576717925949744,
          3.3191557967676037,
          3.280842033734513,
          3.2427337321538596,
          3.2048340385515557,
          3.16714601736159,
          3.1296726509956363,
          3.0924168399416354,
          3.055381402890947,
          3.0185690768936726,
          2.981982517541753,
          2.94562429917943,
          2.909496915140644,
          2.8736027780129496,
          2.8379442199274907,
          2.802523492874611,
          2.7673427690446357,
          2.7324041411933666,
          2.6977096230318045,
          2.663261149639677,
          2.6290605779022163,
          2.59510968696977,
          2.561410178739708,
          2.527963678360161,
          2.494771734755056,
          2.461835821169983,
          2.4291573357383416,
          2.3967376020672955,
          2.3645778698429822,
          2.332679315454492,
          2.301043042636053,
          2.269670083126957,
          2.2385613973486347,
          2.2077178750984006,
          2.1771403362593182,
          2.1468295315256647,
          2.116786143143446,
          2.08701078566546,
          2.057504006720354,
          2.0282662877951565,
          1.9992980450307476,
          1.9705996300297481,
          1.942171330676287,
          1.9140133719671362,
          1.8861259168536646,
          1.8585090670941256,
          1.8311628641157147,
          1.8040872898859186,
          1.7772822677926046,
          1.7507476635323813,
          1.724483286006676,
          1.6984888882250644,
          1.6727641682153167,
          1.6473087699397053,
          1.6221222842170282,
          1.5972042496499128,
          1.572554153556885,
          1.5481714329087295,
          1.5240554752686768,
          1.5002056197359521,
          1.4766211578922008,
          1.4533013347503634,
          1.4302453497055356,
          1.4074523574873572,
          1.3849214691135212,
          1.36265175284394,
          1.3406422351351612,
          1.3188919015946194,
          1.2973996979342843,
          1.2761645309233367,
          1.2551852693394479,
          1.2344607449182805,
          1.2139897533008275,
          1.1937710549782206,
          1.1738033762336133,
          1.154085410080824,
          1.1346158171993272,
          1.1153932268653002,
          1.0964162378783624,
          1.077683419483662,
          1.0591933122890338,
          1.0409444291768657,
          1.022935256210394,
          1.005164253534126,
          0.9876298562681017,
          0.9703304753956979,
          0.9532644986447276,
          0.9364302913615349,
          0.9198261973778687,
          0.9034505398702543,
          0.8873016222116263,
          0.8713777288150064,
          0.8556771259689941,
          0.8401980626648387,
          0.8249387714149066,
          0.8098974690623341,
          0.795072357581668,
          0.780461624870326,
          0.7660634455306778,
          0.7518759816425986,
          0.7378973835263354,
          0.724125790495511,
          0.7105593316001472,
          0.6971961263595585,
          0.6840342854849867,
          0.6710719115918595,
          0.6583070999015518,
          0.6457379389325514,
          0.6333625111809332,
          0.6211788937900279,
          0.6091851592092308,
          0.597379375841852,
          0.5857596086819458,
          0.5743239199400538,
          0.5630703696578082,
          0.5519970163113361,
          0.5411019174034394,
          0.5303831300444893,
          0.519838711522029,
          0.5094667198590452,
          0.49926521436089305,
          0.4892322561508694,
          0.4793659086944244,
          0.46966423831200427,
          0.4601253146805475,
          0.4507472113236338,
          0.4415280060903,
          0.4324657816225616,
          0.4235586258116461,
          0.41480463224299213,
          0.4062019006300366,
          0.39774853723683584,
          0.38944265528957744,
          0.3812823753770233,
          0.37326582583994533,
          0.36539114314961363,
          0.3576564722754104,
          0.3500599670416218,
          0.34259979047350037,
          0.3352741151326592,
          0.32808112344189233,
          0.3210190079994971,
          0.31408597188318804,
          0.30728022894369617,
          0.30060000408815096,
          0.29404353355333285,
          0.2876090651689098,
          0.2812948586107534,
          0.2750991856444408,
          0.26902033035906087,
          0.2630565893914229,
          0.2572062721407915,
          0.2514677009742639,
          0.24583921142289994,
          0.24031915236873547,
          0.23490588622279673,
          0.22959778909423553,
          0.2243932509507245,
          0.21929067577022332,
          0.2142884816842576,
          0.20938510111283676,
          0.2045789808911396,
          0.199868582388105,
          0.19525238161706068,
          0.19072886933851985,
          0.18629655115529115,
          0.18195394760002928,
          0.17769959421536596,
          0.1735320416267646,
          0.1694498556082267,
          0.16545161714099765,
          0.1615359224654065,
          0.15770138312597679,
          0.15394662600995468,
          0.15027029337938577,
          0.14667104289688368,
          0.14314754764522913,
          0.13969849614093974,
          0.13632259234194424,
          0.13301855564950607,
          0.12978512090452712,
          0.1266210383783759,
          0.12352507375837185,
          0.12049600812806278,
          0.11753263794243264,
          0.11463377499817502,
          0.11179824639916076,
          0.1090248945172394,
          0.10631257694850399,
          0.1036601664651477,
          0.10106655096304773,
          0.09853063340520031,
          0.0960513317611378,
          0.09362757894245526,
          0.09125832273456828,
          0.08894252572482983,
          0.0866791652271293,
          0.08446723320309156,
          0.08230573618000077,
          0.08019369516556582,
          0.07813014555964336,
          0.07611413706303873,
          0.07414473358349401,
          0.0722210131389801,
          0.07034206775840281,
          0.06850700337983229,
          0.06671493974636525,
          0.06496501029972566,
          0.06325636207170897,
          0.06158815557357394,
          0.05995956468348342,
          0.058369776532092854,
          0.05681799138638698,
          0.05530342253185942,
          0.053825296153130996,
          0.052382851213100025,
          0.05097533933071421,
          0.049602024657456806,
          0.048262183752632325,
          0.046955105457538775,
          0.04568009076861118,
          0.04443645270961864,
          0.04322351620299572,
          0.04204061794038771,
          0.04088710625248605,
          0.03976234097823105,
          0.038665693333454945,
          0.037596545779036546,
          0.03655429188863947,
          0.03553833621610202,
          0.03454809416254478,
          0.033582991843262466,
          0.03264246595446225,
          0.03172596363991176,
          0.030832942357556,
          0.029962869746161386,
          0.029115223492044574,
          0.02828949119594125,
          0.027485170240067223,
          0.026701767655425257,
          0.025938799989407294,
          0.025195793173740585,
          0.024472282392825763,
          0.02376781195251155,
          0.023081935149350842,
          0.022414214140381233,
          0.02176421981346967,
          0.021131531658262474,
          0.020515737637778055,
          0.01991643406067948,
          0.01933322545426192,
          0.018765724438189576,
          0.018213551599013757,
          0.017676335365504663,
          0.017153711884825534,
          0.016645324899578626,
          0.01615082562575014,
          0.015669872631580213,
          0.015202131717382725,
          0.014747275796338822,
          0.014304984776286223,
          0.013874945442526074,
          0.013456851341667164,
          0.013050402666526363,
          0.01265530614210374,
          0.012271274912648615,
          0.011898028429832574,
          0.01153529234204441,
          0.011182798384819967,
          0.01084028427242064,
          0.010507493590571524,
          0.010184175690370225,
          0.009870085583376494,
          0.00956498383789143,
          0.009268636476434394,
          0.008980814874425171,
          0.008701295660077376,
          0.008429860615509249,
          0.00816629657907639,
          0.00791039534893047,
          0.007661953587807473,
          0.007420772729048058,
          0.0071866588838517004,
          0.006959422749766235,
          0.006738879520413002,
          0.006524848796447885,
          0.00631715449775728,
          0.006115624776887845,
          0.005920091933708086,
          0.005730392331299597,
          0.005546366313074558,
          0.005367858121116429,
          0.005194715815739615,
          0.005026791196263691,
          0.004863939722997269,
          0.004706020440426034,
          0.004552895901599214,
          0.004404432093708287,
          0.004260498364851084,
          0.0041209673519745265,
          0.003985714909988467,
          0.003854620042042935,
          0.00372756483096077,
          0.0036044343718172533,
          0.0034851167056579513,
          0.003369502754346092,
          0.0032574862565298477,
          0.0031489637047203965,
          0.0030438342834707955,
          0.002941999808645792,
          0.0028433646677723788,
          0.0027478357614607062,
          0.0026553224458847544,
          0.0025657364763120426,
          0.0024789919516714355,
          0.002395005260147974,
          0.0023136950257935233,
          0.0022349820561418775,
          0.002158789290816823,
          0.0020850417511216477,
          0.002013666490598402,
          0.00194459254654501,
          0.0018777508924786182,
          0.0018130743915330775,
          0.0017504977507786191,
          0.001689957476451766,
          0.0016313918300833183,
          0.001574740785512304,
          0.0015199459867738672,
          0.0014669507068488328,
          0.001415699807262734,
          0.0013661396985223582,
          0.0013182183013773856,
          0.0012718850088950853,
          0.0012270906493360002,
          0.001183787449818334,
          0.0011419290007590802,
          0.0011014702210798482,
          0.0010623673241652665,
          0.0010245777845620935,
          0.0009880603054071482,
          0.0009527747865720552,
          0.0009186822935132135,
          0.0008857450268150666,
          0.0008539262924151766,
          0.0008231904724994167,
          0.0007935029970557858,
          0.0007648303160755002,
          0.000737139872389936,
          0.0007104000751321949,
          0.0006845802738122066,
          0.0006596507329941982,
          0.000635582607565657,
          0.0006123479185869102,
          0.0005899195297105152,
          0.0005682711241598678,
          0.0005473771822564952,
          0.0005272129594855152,
          0.000507754465089057,
          0.0004889784411773566,
          0.00047086234234747514,
          0.0004533843157996708,
          0.000436523181941532,
          0.0004202584154702079,
          0.0004045701269230636,
          0.0003894390446872845,
          0.00037484649745910475,
          0.00036077439714335364,
          0.00034720522218424453,
          0.00033412200131841826,
          0.00032150829774133037,
          0.0003093481936782837,
          0.0002976262753514863,
          0.0002863276183346111,
          0.0002754377732865379,
          0.00026494275205601783,
          0.00025482901414915525,
          0.00024508345355172124,
          0.00023569338589845472,
          0.00022664653598160136,
          0.00021793102559109075,
          0.00020953536167888054,
          0.00020144842484009107,
          0.00019365945810372284,
          0.00018615805602580993,
          0.00017893415407807179,
          0.00017197801832515204,
          0.00016528023538372089,
          0.0001588317026568185,
          0.00015262361883693241,
          0.00014664747467140772,
          0.00014089504398395175,
          0.0001353583749460512,
          0.00013002978159227534,
          0.0001249018355735521,
          0.00011996735814259104,
          0.00011521941236576436,
          0.00011065129555587083,
          0.00010625653192027903,
          0.00010202886541910829,
          0.00009796225282817645,
          0.00009405085700155609,
          0.00009028904032869744,
          0.00008667135838117471,
          0.0000831925537441977,
          0.00007984755002816467,
          0.00007663144605560023,
          0.0000735395102189431,
          0.00007056717500473011,
          0.00006771003167982494,
          0.00006496382513544559,
          0.00006232444888480542,
          0.00005978794021031434,
          0.00005735047545634782,
          0.000055008365463689394,
          0.00005275805114184319,
          0.00005059609917549835,
          0.00004851919786150018,
          0.00004652415307278591,
          0.000044607884345806574,
          0.00004276742108805063,
          0.000040999898902352765,
          0.00003930255602476069,
          0.0000376727298727966,
          0.00003610785370103804,
          0.00003460545336100386,
          0.00003316314416241634,
          0.0000317786278329693,
          0.00003044968957381002,
          0.000029174195208012077,
          0.000027950088419372022,
          0.000026775388078945434,
          0.00002564818565678817,
          0.000024566642716440688,
          0.000023528988489750725,
          0.00002253351752969416,
          0.000021578587438909242,
          0.000020662616671722638,
          0.0000197840824074982,
          0.00001894151849320065,
          0.000018133513453114343,
          0.00001735870856372048,
          0.000016615795991778322,
          0.000015903516993714803,
          0.00001522066017447511,
          0.000014566059804035606,
          0.000013938594189828065,
          0.000013337184103373232,
          0.000012760791259467574,
          0.00001220841684630839,
          0.000011679100104992859,
          0.000011171916956863436,
          0.000010685978677218761,
          0.000010220430613946633,
          0.000009774450949678966,
          0.000009347249506104622,
          0.000008938066589117212,
          0.000008546171873509664,
          0.000008170863325966495,
          0.000007811466165136806,
          0.0000074673318576101436,
          0.000007137837148646761,
          0.000006822383126549525,
          0.0000065203943195968835,
          0.000006231317824485992,
          0.000005954622465267383,
          0.0000056897979817821785,
          0.000005436354246640342,
          0.000005193820509809211,
          0.000004961744669907539,
          0.0000047396925713272274,
          0.000004527247326332393,
          0.000004324008661308978,
          0.000004129592286365291,
          0.000003943629287505804,
          0.0000037657655406255397,
          0.0000035956611465950305,
          0.000003432989886727902,
          0.0000032774386979446415,
          0.000003128707166968309,
          0.00000298650704290705,
          0.0000028505617675991917,
          0.000002720606023116218,
          0.0000025963852958370803,
          0.0000024776554565264037,
          0.0000023641823558669046,
          0.0000022557414349130033,
          0.0000021521173499506757,
          0.000002053103611263857,
          0.0000019585022353244786,
          0.0000018681234099382134,
          0.0000017817851718930426,
          0.0000016993130966729364,
          0.0000016205399998122262,
          0.0000015453056494806725,
          0.0000014734564899025278,
          0.0000014048453752254745,
          0.0000013393313134683425,
          0.0000012767792201886525,
          0.0000012170596815224617,
          0.000001160048726261172,
          0.0000011056276066405884,
          0.0000010536825875284935,
          0.0000010041047437075777,
          9.567897649607465e-7,
          9.116377686753822e-7,
          8.685531196931957e-7,
          8.27444257141143e-7,
          7.882235279881237e-7,
          7.508070270807379e-7,
          7.151144434198706e-7,
          6.810689124481036e-7,
          6.485968741257151e-7,
          6.176279365807793e-7,
          5.880947451264198e-7,
          5.599328564451793e-7,
          5.33080617747686e-7,
          5.074790507194589e-7,
          4.830717400760627e-7,
          4.598047265534095e-7,
          4.37626404165853e-7,
          4.1648742157081615e-7,
          3.9634058738427225e-7,
          3.771407792970558e-7,
          3.588448568471925e-7,
          3.4141157770874914e-7,
          3.2480151736258896e-7,
          3.089769920193414e-7,
          2.939019846695134e-7,
          2.7954207414020553e-7,
          2.6586436704232654e-7,
          2.5283743249627044e-7,
          2.4043123952828173e-7,
          2.286170970335604e-7,
          2.1736759620598137e-7,
          2.0665655533801506e-7,
          1.964589668979987e-7,
          1.867509467952437e-7,
          1.7750968574692178e-7,
          1.6871340266374504e-7,
          1.6034129997463443e-7,
          1.5237352081347773e-7,
          1.4479110799403613e-7,
          1.3757596470175702e-7,
          1.3071081683398338e-7,
          1.241791769226206e-7,
          1.1796530957581944e-7,
          1.1205419837761327e-7,
          1.0643151418683779e-7,
          1.0108358477880768e-7,
          9.599736577546067e-8,
          9.116041281172705e-8,
          8.656085488788544e-8,
          8.218736885962121e-8,
          7.80291550193492e-8,
          7.407591372417308e-8,
          7.031782302757504e-8,
          6.674551727361028e-8,
          6.335006661397495e-8,
          6.012295740988371e-8,
          5.7056073482159e-8,
          5.414167817440675e-8,
          5.137239719549972e-8,
          4.8741202208946304e-8,
          4.62413951380072e-8,
          4.38665931566375e-8,
          4.161071433754458e-8,
          3.946796392978304e-8,
          3.743282123941096e-8,
          3.5500027087795864e-8,
          3.366457182317901e-8,
          3.1921683862081256e-8,
          3.026681873809035e-8,
          2.8695648636460535e-8,
          2.720405239385002e-8,
          2.5788105943340917e-8,
          2.4444073185708765e-8,
          2.3168397268679758e-8,
          2.195769225666186e-8,
          2.0808735174149977e-8,
          1.971845840670494e-8,
          1.868394244405652e-8,
          1.7702408950527247e-8,
          1.6771214148584687e-8,
          1.588784250191312e-8,
          1.5049900684967196e-8,
          1.4255111826510818e-8,
          1.3501310015161469e-8,
          1.2786435055469275e-8,
          1.2108527463535087e-8,
          1.1465723691633982e-8,
          1.0856251571758324e-8,
          1.0278425968413163e-8,
          9.73064463141354e-9,
          9.211384239817411e-9,
          8.719196628509514e-9,
          8.252705189311438e-9,
          7.81060143883784e-9,
          7.3916417456533545e-9,
          6.9946442096034774e-9,
          6.618485686495661e-9,
          6.2620989516049945e-9,
          5.924469995756307e-9,
          5.6046354480055765e-9,
          5.301680119202909e-9,
          5.014734660966906e-9,
          4.742973334836635e-9,
          4.485611886597864e-9,
          4.241905520996225e-9,
          4.0111469722608936e-9,
          3.792664666061969e-9,
          3.5858209687173923e-9,
          3.3900105196491474e-9,
          3.2046586432649134e-9,
          3.0292198366100978e-9,
          2.8631763292974925e-9,
          2.7060367123758715e-9,
          2.55733463294797e-9,
          2.4166275514902815e-9,
          2.2834955589622e-9,
          2.1575402509237404e-9,
          2.038383656004172e-9,
          1.925667216184339e-9,
          1.8190508164687364e-9,
          1.7182118616333928e-9,
          1.622844397839156e-9,
          1.532658277001084e-9,
          1.4473783618992428e-9,
          1.3667437701085344e-9,
          1.2905071549119003e-9,
          1.2184340214458385e-9,
          1.1503020764061666e-9,
          1.0859006097192452e-9,
          1.025029906656755e-9,
          9.675006889419806e-10,
          9.131335834624343e-10,
          8.617586172675913e-10,
          8.132147375916577e-10,
          7.673493556991749e-10,
          7.240179134076996e-10,
          6.830834711944509e-10,
          6.444163168450527e-10,
          6.078935936509377e-10,
          5.733989472084991e-10,
          5.408221899173045e-10,
          5.100589823171121e-10,
          4.810105304438093e-10,
          4.5358329842303493e-10,
          4.2768873555696686e-10,
          4.032430171951866e-10,
          3.8016679871377174e-10,
          3.5838498195907343e-10,
          3.378264935431252e-10,
          3.184240744067528e-10,
          3.00114080094397e-10,
          2.8283629121112574e-10,
          2.665337335577309e-10,
          2.5115250746389807e-10,
          2.366416258625564e-10,
          2.2295286067042457e-10,
          2.1004059706083077e-10,
          1.9786169523473437e-10,
          1.8637535931510008e-10,
          1.7554301300777896e-10,
          1.6532818168947062e-10,
          1.5569638059982205e-10,
          1.466150088304399e-10,
          1.3805324881855802e-10,
          1.299819710674666e-10,
          1.2237364382931466e-10,
          1.1520224749893181e-10,
          1.0844319347965729e-10,
          1.0207324729389784e-10,
          9.60704557223685e-11,
          9.041407776664682e-11,
          8.508451923977903e-11,
          8.006327079942952e-11,
          7.533284924720688e-11,
          7.087674192660761e-11,
          6.667935406035433e-11,
          6.272595887583392e-11,
          5.900265037494074e-11,
          5.5496298611775386e-11,
          5.2194507348532965e-11,
          4.90855739664152e-11,
          4.6158451514592784e-11,
          4.340271278614704e-11,
          4.080851631553038e-11,
          3.836657419739775e-11,
          3.606812163176027e-11,
          3.390488810521683e-11,
          3.186907012260702e-11,
          2.995330540779438e-11,
          2.8150648496433628e-11,
          2.6454547647502092e-11,
          2.4858823004141355e-11,
          2.3357645937893824e-11,
          2.1945519513816105e-11,
          2.0617260017155972e-11,
          1.93679794853327e-11,
          1.8193069191872442e-11,
          1.7088184031689914e-11,
          1.6049227759736824e-11,
          1.5072339037522295e-11,
          1.41538782443658e-11,
          1.3290415012491402e-11,
          1.2478716447200392e-11,
          1.171573599537453e-11,
          1.0998602927491574e-11,
          1.0324612400145907e-11,
          9.691216067804541e-12,
          9.09601321416374e-12,
          8.536742375033596e-12,
          8.011273426151667e-12,
          7.517600110732469e-12,
          7.053832982887594e-12,
          6.6181927443150074e-12,
          6.2090039528520595e-12,
          5.824689082622583e-12,
          5.4637629165872095e-12,
          5.124827253323238e-12,
          4.806565910833672e-12,
          4.5077400111002225e-12,
          4.227183529966092e-12,
          3.9637990977607195e-12,
          3.716554036860313e-12,
          3.484476623118631e-12,
          3.2666525588070464e-12,
          3.0622216453670692e-12,
          2.8703746449109824e-12,
          2.6903503200024683e-12,
          2.5214326418177725e-12,
          2.3629481573220556e-12,
          2.214263506605514e-12,
          2.0747830820049167e-12,
          1.9439468210917257e-12,
          1.82122812603965e-12,
          1.7061319022942987e-12,
          1.598192709853097e-12,
          1.4969730208311876e-12,
          1.4020615773357677e-12,
          1.3130718439990622e-12,
          1.229640549831604e-12,
          1.1514263143511078e-12,
          1.0781083532207442e-12,
          1.0093852588938832e-12,
          9.449738520115378e-13,
          8.846080995344101e-13,
          8.280380958145661e-13,
          7.750291030223256e-13,
          7.253606475439597e-13,
          6.788256691538198e-13,
          6.352297199433382e-13,
          5.94390210157925e-13,
          5.561356982521487e-13,
          5.203052226243727e-13,
          4.86747672634754e-13,
          4.553211966448532e-13,
          4.258926449446981e-13,
          3.9833704555343605e-13,
          3.725371109932311e-13,
          3.483827742437567e-13,
          3.2577075218583877e-13,
          3.0460413493902863e-13,
          2.8479199958814906e-13,
          2.6624904687961195e-13,
          2.488952595490776e-13,
          2.32655581018296e-13,
          2.1745961327104e-13,
          2.0324133278617334e-13,
          1.8993882346998501e-13,
          1.7749402559069923e-13,
          1.65852499775284e-13,
          1.549632051826751e-13,
          1.4477829101860253e-13,
          1.3525290060530667e-13,
          1.2634498726482294e-13,
          1.1801514131742995e-13,
          1.1022642753724822e-13,
          1.0294423244512765e-13,
          9.613612085496299e-14,
          8.977170112348853e-14,
          8.38224985856593e-14,
          7.826183668785423e-14,
          7.306472535966581e-14
         ]
        }
       ],
       "layout": {
        "template": {
         "data": {
          "bar": [
           {
            "error_x": {
             "color": "#2a3f5f"
            },
            "error_y": {
             "color": "#2a3f5f"
            },
            "marker": {
             "line": {
              "color": "#E5ECF6",
              "width": 0.5
             },
             "pattern": {
              "fillmode": "overlay",
              "size": 10,
              "solidity": 0.2
             }
            },
            "type": "bar"
           }
          ],
          "barpolar": [
           {
            "marker": {
             "line": {
              "color": "#E5ECF6",
              "width": 0.5
             },
             "pattern": {
              "fillmode": "overlay",
              "size": 10,
              "solidity": 0.2
             }
            },
            "type": "barpolar"
           }
          ],
          "carpet": [
           {
            "aaxis": {
             "endlinecolor": "#2a3f5f",
             "gridcolor": "white",
             "linecolor": "white",
             "minorgridcolor": "white",
             "startlinecolor": "#2a3f5f"
            },
            "baxis": {
             "endlinecolor": "#2a3f5f",
             "gridcolor": "white",
             "linecolor": "white",
             "minorgridcolor": "white",
             "startlinecolor": "#2a3f5f"
            },
            "type": "carpet"
           }
          ],
          "choropleth": [
           {
            "colorbar": {
             "outlinewidth": 0,
             "ticks": ""
            },
            "type": "choropleth"
           }
          ],
          "contour": [
           {
            "colorbar": {
             "outlinewidth": 0,
             "ticks": ""
            },
            "colorscale": [
             [
              0,
              "#0d0887"
             ],
             [
              0.1111111111111111,
              "#46039f"
             ],
             [
              0.2222222222222222,
              "#7201a8"
             ],
             [
              0.3333333333333333,
              "#9c179e"
             ],
             [
              0.4444444444444444,
              "#bd3786"
             ],
             [
              0.5555555555555556,
              "#d8576b"
             ],
             [
              0.6666666666666666,
              "#ed7953"
             ],
             [
              0.7777777777777778,
              "#fb9f3a"
             ],
             [
              0.8888888888888888,
              "#fdca26"
             ],
             [
              1,
              "#f0f921"
             ]
            ],
            "type": "contour"
           }
          ],
          "contourcarpet": [
           {
            "colorbar": {
             "outlinewidth": 0,
             "ticks": ""
            },
            "type": "contourcarpet"
           }
          ],
          "heatmap": [
           {
            "colorbar": {
             "outlinewidth": 0,
             "ticks": ""
            },
            "colorscale": [
             [
              0,
              "#0d0887"
             ],
             [
              0.1111111111111111,
              "#46039f"
             ],
             [
              0.2222222222222222,
              "#7201a8"
             ],
             [
              0.3333333333333333,
              "#9c179e"
             ],
             [
              0.4444444444444444,
              "#bd3786"
             ],
             [
              0.5555555555555556,
              "#d8576b"
             ],
             [
              0.6666666666666666,
              "#ed7953"
             ],
             [
              0.7777777777777778,
              "#fb9f3a"
             ],
             [
              0.8888888888888888,
              "#fdca26"
             ],
             [
              1,
              "#f0f921"
             ]
            ],
            "type": "heatmap"
           }
          ],
          "heatmapgl": [
           {
            "colorbar": {
             "outlinewidth": 0,
             "ticks": ""
            },
            "colorscale": [
             [
              0,
              "#0d0887"
             ],
             [
              0.1111111111111111,
              "#46039f"
             ],
             [
              0.2222222222222222,
              "#7201a8"
             ],
             [
              0.3333333333333333,
              "#9c179e"
             ],
             [
              0.4444444444444444,
              "#bd3786"
             ],
             [
              0.5555555555555556,
              "#d8576b"
             ],
             [
              0.6666666666666666,
              "#ed7953"
             ],
             [
              0.7777777777777778,
              "#fb9f3a"
             ],
             [
              0.8888888888888888,
              "#fdca26"
             ],
             [
              1,
              "#f0f921"
             ]
            ],
            "type": "heatmapgl"
           }
          ],
          "histogram": [
           {
            "marker": {
             "pattern": {
              "fillmode": "overlay",
              "size": 10,
              "solidity": 0.2
             }
            },
            "type": "histogram"
           }
          ],
          "histogram2d": [
           {
            "colorbar": {
             "outlinewidth": 0,
             "ticks": ""
            },
            "colorscale": [
             [
              0,
              "#0d0887"
             ],
             [
              0.1111111111111111,
              "#46039f"
             ],
             [
              0.2222222222222222,
              "#7201a8"
             ],
             [
              0.3333333333333333,
              "#9c179e"
             ],
             [
              0.4444444444444444,
              "#bd3786"
             ],
             [
              0.5555555555555556,
              "#d8576b"
             ],
             [
              0.6666666666666666,
              "#ed7953"
             ],
             [
              0.7777777777777778,
              "#fb9f3a"
             ],
             [
              0.8888888888888888,
              "#fdca26"
             ],
             [
              1,
              "#f0f921"
             ]
            ],
            "type": "histogram2d"
           }
          ],
          "histogram2dcontour": [
           {
            "colorbar": {
             "outlinewidth": 0,
             "ticks": ""
            },
            "colorscale": [
             [
              0,
              "#0d0887"
             ],
             [
              0.1111111111111111,
              "#46039f"
             ],
             [
              0.2222222222222222,
              "#7201a8"
             ],
             [
              0.3333333333333333,
              "#9c179e"
             ],
             [
              0.4444444444444444,
              "#bd3786"
             ],
             [
              0.5555555555555556,
              "#d8576b"
             ],
             [
              0.6666666666666666,
              "#ed7953"
             ],
             [
              0.7777777777777778,
              "#fb9f3a"
             ],
             [
              0.8888888888888888,
              "#fdca26"
             ],
             [
              1,
              "#f0f921"
             ]
            ],
            "type": "histogram2dcontour"
           }
          ],
          "mesh3d": [
           {
            "colorbar": {
             "outlinewidth": 0,
             "ticks": ""
            },
            "type": "mesh3d"
           }
          ],
          "parcoords": [
           {
            "line": {
             "colorbar": {
              "outlinewidth": 0,
              "ticks": ""
             }
            },
            "type": "parcoords"
           }
          ],
          "pie": [
           {
            "automargin": true,
            "type": "pie"
           }
          ],
          "scatter": [
           {
            "fillpattern": {
             "fillmode": "overlay",
             "size": 10,
             "solidity": 0.2
            },
            "type": "scatter"
           }
          ],
          "scatter3d": [
           {
            "line": {
             "colorbar": {
              "outlinewidth": 0,
              "ticks": ""
             }
            },
            "marker": {
             "colorbar": {
              "outlinewidth": 0,
              "ticks": ""
             }
            },
            "type": "scatter3d"
           }
          ],
          "scattercarpet": [
           {
            "marker": {
             "colorbar": {
              "outlinewidth": 0,
              "ticks": ""
             }
            },
            "type": "scattercarpet"
           }
          ],
          "scattergeo": [
           {
            "marker": {
             "colorbar": {
              "outlinewidth": 0,
              "ticks": ""
             }
            },
            "type": "scattergeo"
           }
          ],
          "scattergl": [
           {
            "marker": {
             "colorbar": {
              "outlinewidth": 0,
              "ticks": ""
             }
            },
            "type": "scattergl"
           }
          ],
          "scattermapbox": [
           {
            "marker": {
             "colorbar": {
              "outlinewidth": 0,
              "ticks": ""
             }
            },
            "type": "scattermapbox"
           }
          ],
          "scatterpolar": [
           {
            "marker": {
             "colorbar": {
              "outlinewidth": 0,
              "ticks": ""
             }
            },
            "type": "scatterpolar"
           }
          ],
          "scatterpolargl": [
           {
            "marker": {
             "colorbar": {
              "outlinewidth": 0,
              "ticks": ""
             }
            },
            "type": "scatterpolargl"
           }
          ],
          "scatterternary": [
           {
            "marker": {
             "colorbar": {
              "outlinewidth": 0,
              "ticks": ""
             }
            },
            "type": "scatterternary"
           }
          ],
          "surface": [
           {
            "colorbar": {
             "outlinewidth": 0,
             "ticks": ""
            },
            "colorscale": [
             [
              0,
              "#0d0887"
             ],
             [
              0.1111111111111111,
              "#46039f"
             ],
             [
              0.2222222222222222,
              "#7201a8"
             ],
             [
              0.3333333333333333,
              "#9c179e"
             ],
             [
              0.4444444444444444,
              "#bd3786"
             ],
             [
              0.5555555555555556,
              "#d8576b"
             ],
             [
              0.6666666666666666,
              "#ed7953"
             ],
             [
              0.7777777777777778,
              "#fb9f3a"
             ],
             [
              0.8888888888888888,
              "#fdca26"
             ],
             [
              1,
              "#f0f921"
             ]
            ],
            "type": "surface"
           }
          ],
          "table": [
           {
            "cells": {
             "fill": {
              "color": "#EBF0F8"
             },
             "line": {
              "color": "white"
             }
            },
            "header": {
             "fill": {
              "color": "#C8D4E3"
             },
             "line": {
              "color": "white"
             }
            },
            "type": "table"
           }
          ]
         },
         "layout": {
          "annotationdefaults": {
           "arrowcolor": "#2a3f5f",
           "arrowhead": 0,
           "arrowwidth": 1
          },
          "autotypenumbers": "strict",
          "coloraxis": {
           "colorbar": {
            "outlinewidth": 0,
            "ticks": ""
           }
          },
          "colorscale": {
           "diverging": [
            [
             0,
             "#8e0152"
            ],
            [
             0.1,
             "#c51b7d"
            ],
            [
             0.2,
             "#de77ae"
            ],
            [
             0.3,
             "#f1b6da"
            ],
            [
             0.4,
             "#fde0ef"
            ],
            [
             0.5,
             "#f7f7f7"
            ],
            [
             0.6,
             "#e6f5d0"
            ],
            [
             0.7,
             "#b8e186"
            ],
            [
             0.8,
             "#7fbc41"
            ],
            [
             0.9,
             "#4d9221"
            ],
            [
             1,
             "#276419"
            ]
           ],
           "sequential": [
            [
             0,
             "#0d0887"
            ],
            [
             0.1111111111111111,
             "#46039f"
            ],
            [
             0.2222222222222222,
             "#7201a8"
            ],
            [
             0.3333333333333333,
             "#9c179e"
            ],
            [
             0.4444444444444444,
             "#bd3786"
            ],
            [
             0.5555555555555556,
             "#d8576b"
            ],
            [
             0.6666666666666666,
             "#ed7953"
            ],
            [
             0.7777777777777778,
             "#fb9f3a"
            ],
            [
             0.8888888888888888,
             "#fdca26"
            ],
            [
             1,
             "#f0f921"
            ]
           ],
           "sequentialminus": [
            [
             0,
             "#0d0887"
            ],
            [
             0.1111111111111111,
             "#46039f"
            ],
            [
             0.2222222222222222,
             "#7201a8"
            ],
            [
             0.3333333333333333,
             "#9c179e"
            ],
            [
             0.4444444444444444,
             "#bd3786"
            ],
            [
             0.5555555555555556,
             "#d8576b"
            ],
            [
             0.6666666666666666,
             "#ed7953"
            ],
            [
             0.7777777777777778,
             "#fb9f3a"
            ],
            [
             0.8888888888888888,
             "#fdca26"
            ],
            [
             1,
             "#f0f921"
            ]
           ]
          },
          "colorway": [
           "#636efa",
           "#EF553B",
           "#00cc96",
           "#ab63fa",
           "#FFA15A",
           "#19d3f3",
           "#FF6692",
           "#B6E880",
           "#FF97FF",
           "#FECB52"
          ],
          "font": {
           "color": "#2a3f5f"
          },
          "geo": {
           "bgcolor": "white",
           "lakecolor": "white",
           "landcolor": "#E5ECF6",
           "showlakes": true,
           "showland": true,
           "subunitcolor": "white"
          },
          "hoverlabel": {
           "align": "left"
          },
          "hovermode": "closest",
          "mapbox": {
           "style": "light"
          },
          "paper_bgcolor": "white",
          "plot_bgcolor": "#E5ECF6",
          "polar": {
           "angularaxis": {
            "gridcolor": "white",
            "linecolor": "white",
            "ticks": ""
           },
           "bgcolor": "#E5ECF6",
           "radialaxis": {
            "gridcolor": "white",
            "linecolor": "white",
            "ticks": ""
           }
          },
          "scene": {
           "xaxis": {
            "backgroundcolor": "#E5ECF6",
            "gridcolor": "white",
            "gridwidth": 2,
            "linecolor": "white",
            "showbackground": true,
            "ticks": "",
            "zerolinecolor": "white"
           },
           "yaxis": {
            "backgroundcolor": "#E5ECF6",
            "gridcolor": "white",
            "gridwidth": 2,
            "linecolor": "white",
            "showbackground": true,
            "ticks": "",
            "zerolinecolor": "white"
           },
           "zaxis": {
            "backgroundcolor": "#E5ECF6",
            "gridcolor": "white",
            "gridwidth": 2,
            "linecolor": "white",
            "showbackground": true,
            "ticks": "",
            "zerolinecolor": "white"
           }
          },
          "shapedefaults": {
           "line": {
            "color": "#2a3f5f"
           }
          },
          "ternary": {
           "aaxis": {
            "gridcolor": "white",
            "linecolor": "white",
            "ticks": ""
           },
           "baxis": {
            "gridcolor": "white",
            "linecolor": "white",
            "ticks": ""
           },
           "bgcolor": "#E5ECF6",
           "caxis": {
            "gridcolor": "white",
            "linecolor": "white",
            "ticks": ""
           }
          },
          "title": {
           "x": 0.05
          },
          "xaxis": {
           "automargin": true,
           "gridcolor": "white",
           "linecolor": "white",
           "ticks": "",
           "title": {
            "standoff": 15
           },
           "zerolinecolor": "white",
           "zerolinewidth": 2
          },
          "yaxis": {
           "automargin": true,
           "gridcolor": "white",
           "linecolor": "white",
           "ticks": "",
           "title": {
            "standoff": 15
           },
           "zerolinecolor": "white",
           "zerolinewidth": 2
          }
         }
        },
        "title": {
         "text": "Distribution of metric"
        },
        "xaxis": {
         "title": {
          "text": "metric"
         }
        },
        "yaxis": {
         "title": {
          "text": "Frequency / Probability Density"
         }
        }
       }
      }
     },
     "metadata": {},
     "output_type": "display_data"
    }
   ],
   "source": [
    "import pandas as pd\n",
    "import plotly.graph_objects as go\n",
    "import scipy.stats as stats\n",
    "import numpy as np\n",
    "\n",
    "# Assuming you have already read the DataFrame 'df'\n",
    "\n",
    "# Function to plot histogram with PDF curve\n",
    "def plot_histogram_with_pdf(data, title, x_label):\n",
    "    fig = go.Figure()\n",
    "\n",
    "    # Create histogram\n",
    "    fig.add_trace(go.Histogram(\n",
    "        x=data,\n",
    "        nbinsx=100,  # Adjust the number of bins as needed\n",
    "        marker_color='blue',  # Use marker_color for bar area color\n",
    "        opacity=0.7,\n",
    "        name='Histogram'\n",
    "    ))\n",
    "\n",
    "    # Fit a distribution to the data\n",
    "    dist = getattr(stats, 'norm')  # You can change 'norm' to other distributions like 'gamma', 'beta', etc.\n",
    "    params = dist.fit(data)\n",
    "    arg = params[:-2]\n",
    "    loc = params[-2]\n",
    "    scale = params[-1]\n",
    "\n",
    "    # Create the PDF curve\n",
    "    x_values = np.linspace(data.min(), data.max(), 1000)\n",
    "    y_values = dist.pdf(x_values, loc=loc, scale=scale, *arg)\n",
    "    fig.add_trace(go.Scatter(\n",
    "        x=x_values,\n",
    "        y=y_values * len(data) * np.diff(data.value_counts().index)[0],  # Scaling the PDF to match the histogram\n",
    "        mode='lines',\n",
    "        name='PDF',\n",
    "        line=dict(color='red', width=2)\n",
    "    ))\n",
    "\n",
    "    # Update layout\n",
    "    fig.update_layout(\n",
    "        title=title,\n",
    "        xaxis_title=x_label,\n",
    "        yaxis_title='Frequency / Probability Density',\n",
    "    )\n",
    "\n",
    "    return fig\n",
    "\n",
    "# Plot histogram with PDF for NEAR_DIST\n",
    "fig1 = plot_histogram_with_pdf(df['NEAR_DIST'], 'Distribution of NEAR_DIST', 'NEAR_DIST')\n",
    "\n",
    "# Plot histogram with PDF for metric\n",
    "fig2 = plot_histogram_with_pdf(df['metric'], 'Distribution of metric', 'metric')\n",
    "\n",
    "# Display the plots\n",
    "fig1.show()\n",
    "fig2.show()\n",
    "\n"
=======
    "import arcpy\n",
    "import os\n",
    "import geopandas as gpd\n",
    "\n",
    "# # Set the workspace environment\n",
    "# arcpy.env.workspace = r\"C:/Users/b2p admin/OneDrive/Python\"\n",
    "\n",
    "woredas_shapefile = gpd.read_file('Woredas_Fully_Assessed.shp')\n",
    "\n",
    "\n",
    "# Load data\n",
    "df = pd.read_excel('Assessedsites_Fully_Assessed_Woredas_Trail_Bridges_Only_TableToExcel.xlsx')\n",
    "\n",
    "Q1 = df[['NEAR_DIST', 'metric', 'POPULATION']].quantile(0.25)\n",
    "Q3 = df[['NEAR_DIST', 'metric', 'POPULATION']].quantile(0.75)\n",
    "IQR = Q3 - Q1\n",
    "\n",
    "# Define upper and lower bounds for outliers\n",
    "lower_bound = Q1 - 1.5 * IQR\n",
    "upper_bound = Q3 + 1.5 * IQR\n",
    "\n",
    "# Identify outliers for each variable\n",
    "outliers_near_dist = df[(df['NEAR_DIST'] < lower_bound['NEAR_DIST']) | (df['NEAR_DIST'] > upper_bound['NEAR_DIST'])]\n",
    "outliers_metric = df[(df['metric'] < lower_bound['metric']) | (df['metric'] > upper_bound['metric'])]\n",
    "outliers_population = df[(df['POPULATION'] < lower_bound['POPULATION']) | (df['POPULATION'] > upper_bound['POPULATION'])]\n",
    "\n",
    "# Create the scatter plot with outliers\n",
    "fig_map_outliers_names = go.Figure()\n",
    "\n",
    "# Add scatter plot traces for data points and outliers\n",
    "fig_map_outliers_names.add_trace(go.Scatter(\n",
    "    x=df['GPS__Longi'],\n",
    "    y=df['GPS__Latit'],\n",
    "    mode='markers',\n",
    "    marker=dict(color='blue'),\n",
    "    name='Data Points',\n",
    "    text=df['Opportunit'],  # Use the 'Name' column for text annotations\n",
    "    hoverinfo='text'  # Show text on hover\n",
    "))\n",
    "\n",
    "fig_map_outliers_names.add_trace(go.Scatter(\n",
    "    x=outliers_near_dist['GPS__Longi'],\n",
    "    y=outliers_near_dist['GPS__Latit'],\n",
    "    mode='markers',\n",
    "    marker=dict(color='red'),\n",
    "    name='Outliers (NEAR_DIST)',\n",
    "    text=outliers_near_dist['Opportunit'],  # Use the 'Name' column for text annotations\n",
    "    hoverinfo='text'  # Show text on hover\n",
    "))\n",
    "\n",
    "fig_map_outliers_names.add_trace(go.Scatter(\n",
    "    x=outliers_metric['GPS__Longi'],\n",
    "    y=outliers_metric['GPS__Latit'],\n",
    "    mode='markers',\n",
    "    marker=dict(color='green'),\n",
    "    name='Outliers (metric)',\n",
    "    text=outliers_metric['Opportunit'],  # Use the 'Name' column for text annotations\n",
    "    hoverinfo='text'  # Show text on hover\n",
    "))\n",
    "\n",
    "fig_map_outliers_names.add_trace(go.Scatter(\n",
    "    x=outliers_population['GPS__Longi'],\n",
    "    y=outliers_population['GPS__Latit'],\n",
    "    mode='markers',\n",
    "    marker=dict(color='orange'),\n",
    "    name='Outliers (POPULATION)',\n",
    "    text=outliers_population['Opportunit'],  # Use the 'Name' column for text annotations\n",
    "    hoverinfo='text'  # Show text on hover\n",
    "))\n",
    "\n",
    "# Add shapefile polygons\n",
    "for idx, polygon in woredas_shapefile.iterrows():\n",
    "    fig_map_outliers_names.add_trace(\n",
    "        go.Scattergeo(\n",
    "            locationmode='ISO-3',\n",
    "            lon=polygon['geometry'].exterior.xy[0],\n",
    "            lat=polygon['geometry'].exterior.xy[1],\n",
    "            mode='lines',\n",
    "            line=dict(color='black', width=2),\n",
    "            name=polygon['Woreda_Name']  # Assuming there's a column 'Woreda_Name' in the shapefile\n",
    "        )\n",
    "    )\n",
    "\n",
    "# Continue with your code as needed\n"
>>>>>>> a16ff69eb4bf00c4cec6e82e5833cb2de4639149
   ]
  }
 ],
 "metadata": {
  "kernelspec": {
   "display_name": "myenv",
   "language": "python",
   "name": "python3"
  },
  "language_info": {
   "codemirror_mode": {
    "name": "ipython",
    "version": 3
   },
   "file_extension": ".py",
   "mimetype": "text/x-python",
   "name": "python",
   "nbconvert_exporter": "python",
   "pygments_lexer": "ipython3",
   "version": "3.9.18"
  }
 },
 "nbformat": 4,
 "nbformat_minor": 2
}
