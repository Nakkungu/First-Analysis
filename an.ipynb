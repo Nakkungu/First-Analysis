{
 "cells": [
  {
   "cell_type": "code",
   "execution_count": 1,
   "metadata": {},
   "outputs": [],
   "source": [
    "import pandas as pd\n",
    "import matplotlib.pyplot as plt\n",
    "import seaborn as sns"
   ]
  },
  {
   "cell_type": "code",
   "execution_count": 2,
   "metadata": {},
   "outputs": [],
   "source": [
    "import plotly.graph_objects as go"
   ]
  },
  {
   "cell_type": "code",
   "execution_count": 3,
   "metadata": {},
   "outputs": [],
   "source": [
    "df = pd.read_excel('Assessedsites_Fully_Assessed_Woredas_Trail_Bridges_Only_TableToExcel.xlsx')"
   ]
  },
  {
   "cell_type": "code",
   "execution_count": 4,
   "metadata": {},
   "outputs": [
    {
     "data": {
      "text/html": [
       "<div>\n",
       "<style scoped>\n",
       "    .dataframe tbody tr th:only-of-type {\n",
       "        vertical-align: middle;\n",
       "    }\n",
       "\n",
       "    .dataframe tbody tr th {\n",
       "        vertical-align: top;\n",
       "    }\n",
       "\n",
       "    .dataframe thead th {\n",
       "        text-align: right;\n",
       "    }\n",
       "</style>\n",
       "<table border=\"1\" class=\"dataframe\">\n",
       "  <thead>\n",
       "    <tr style=\"text-align: right;\">\n",
       "      <th></th>\n",
       "      <th>OBJECTID_1</th>\n",
       "      <th>GPS__Latit</th>\n",
       "      <th>GPS__Longi</th>\n",
       "      <th>Opportunit</th>\n",
       "      <th>Level_1_Go</th>\n",
       "      <th>Level_2_Go</th>\n",
       "      <th>Health_acc</th>\n",
       "      <th>Education_</th>\n",
       "      <th>Market_acc</th>\n",
       "      <th>Width_of_R</th>\n",
       "      <th>...</th>\n",
       "      <th>ADM2_EN</th>\n",
       "      <th>ADM1_EN</th>\n",
       "      <th>ADM0_EN</th>\n",
       "      <th>NEAR_DIST</th>\n",
       "      <th>time_delta</th>\n",
       "      <th>RemoteSite_ID</th>\n",
       "      <th>metric</th>\n",
       "      <th>type</th>\n",
       "      <th>COUNT</th>\n",
       "      <th>POPULATION</th>\n",
       "    </tr>\n",
       "  </thead>\n",
       "  <tbody>\n",
       "    <tr>\n",
       "      <th>0</th>\n",
       "      <td>1</td>\n",
       "      <td>8.370314</td>\n",
       "      <td>36.389334</td>\n",
       "      <td>- Dangawaj - 1049769</td>\n",
       "      <td>Oromia Region</td>\n",
       "      <td>Bunno Beddele Zone</td>\n",
       "      <td>Clinic or Health Center;Hospital;Pharmacy</td>\n",
       "      <td>Secondary school;Primary school;University;TVE...</td>\n",
       "      <td>Market (daily);Market (weekly);Farms</td>\n",
       "      <td>33</td>\n",
       "      <td>...</td>\n",
       "      <td>Buno Bedele</td>\n",
       "      <td>Oromia</td>\n",
       "      <td>Ethiopia</td>\n",
       "      <td>96.636471</td>\n",
       "      <td>42788</td>\n",
       "      <td>13239</td>\n",
       "      <td>253459.236719</td>\n",
       "      <td>bridge_group_3</td>\n",
       "      <td>62.0</td>\n",
       "      <td>485.790324</td>\n",
       "    </tr>\n",
       "    <tr>\n",
       "      <th>1</th>\n",
       "      <td>2</td>\n",
       "      <td>8.337878</td>\n",
       "      <td>36.412284</td>\n",
       "      <td>- Leencha - 1049728</td>\n",
       "      <td>Oromia Region</td>\n",
       "      <td>Bunno Beddele Zone</td>\n",
       "      <td>Clinic or Health Center;Hospital;Pharmacy</td>\n",
       "      <td>Secondary school;Primary school;University;TVE...</td>\n",
       "      <td>Market (daily);Market (weekly);Employment oppo...</td>\n",
       "      <td>31</td>\n",
       "      <td>...</td>\n",
       "      <td>Buno Bedele</td>\n",
       "      <td>Oromia</td>\n",
       "      <td>Ethiopia</td>\n",
       "      <td>691.608046</td>\n",
       "      <td>178706</td>\n",
       "      <td>23958</td>\n",
       "      <td>160009.577383</td>\n",
       "      <td>bridge_group_0</td>\n",
       "      <td>138.0</td>\n",
       "      <td>4963.214629</td>\n",
       "    </tr>\n",
       "    <tr>\n",
       "      <th>2</th>\n",
       "      <td>3</td>\n",
       "      <td>8.405700</td>\n",
       "      <td>36.426262</td>\n",
       "      <td>- Marti - 1049727</td>\n",
       "      <td>Oromia Region</td>\n",
       "      <td>Bunno Beddele Zone</td>\n",
       "      <td>Clinic or Health Center;Hospital;Pharmacy</td>\n",
       "      <td>Secondary school;Primary school;University;TVE...</td>\n",
       "      <td>Market (daily);Market (weekly);Farms</td>\n",
       "      <td>29</td>\n",
       "      <td>...</td>\n",
       "      <td>Buno Bedele</td>\n",
       "      <td>Oromia</td>\n",
       "      <td>Ethiopia</td>\n",
       "      <td>217.562445</td>\n",
       "      <td>280844</td>\n",
       "      <td>16288</td>\n",
       "      <td>217699.926057</td>\n",
       "      <td>bridge_group_2</td>\n",
       "      <td>83.0</td>\n",
       "      <td>611.321530</td>\n",
       "    </tr>\n",
       "    <tr>\n",
       "      <th>3</th>\n",
       "      <td>4</td>\n",
       "      <td>8.329205</td>\n",
       "      <td>36.417575</td>\n",
       "      <td>- Dangawaj Qalaa - 1049726</td>\n",
       "      <td>Oromia Region</td>\n",
       "      <td>Bunno Beddele Zone</td>\n",
       "      <td>Clinic or Health Center;Hospital;Pharmacy</td>\n",
       "      <td>Secondary school;Primary school;University;TVE...</td>\n",
       "      <td>Market (weekly);Employment opportunities</td>\n",
       "      <td>48</td>\n",
       "      <td>...</td>\n",
       "      <td>Buno Bedele</td>\n",
       "      <td>Oromia</td>\n",
       "      <td>Ethiopia</td>\n",
       "      <td>30.318150</td>\n",
       "      <td>102863</td>\n",
       "      <td>28729</td>\n",
       "      <td>136891.521272</td>\n",
       "      <td>bridge_group_1</td>\n",
       "      <td>151.0</td>\n",
       "      <td>6052.921846</td>\n",
       "    </tr>\n",
       "    <tr>\n",
       "      <th>4</th>\n",
       "      <td>5</td>\n",
       "      <td>8.299745</td>\n",
       "      <td>36.415112</td>\n",
       "      <td>- Beeroo - 1049725</td>\n",
       "      <td>Oromia Region</td>\n",
       "      <td>Bunno Beddele Zone</td>\n",
       "      <td>Clinic or Health Center;Hospital;Pharmacy</td>\n",
       "      <td>Primary school</td>\n",
       "      <td>Market (weekly);Farms;Employment opportunities</td>\n",
       "      <td>56</td>\n",
       "      <td>...</td>\n",
       "      <td>Buno Bedele</td>\n",
       "      <td>Oromia</td>\n",
       "      <td>Ethiopia</td>\n",
       "      <td>214.908386</td>\n",
       "      <td>292731</td>\n",
       "      <td>31800</td>\n",
       "      <td>124815.225385</td>\n",
       "      <td>bridge_group_3</td>\n",
       "      <td>65.0</td>\n",
       "      <td>474.057478</td>\n",
       "    </tr>\n",
       "  </tbody>\n",
       "</table>\n",
       "<p>5 rows × 26 columns</p>\n",
       "</div>"
      ],
      "text/plain": [
       "   OBJECTID_1  GPS__Latit  GPS__Longi                  Opportunit  \\\n",
       "0           1    8.370314   36.389334        - Dangawaj - 1049769   \n",
       "1           2    8.337878   36.412284         - Leencha - 1049728   \n",
       "2           3    8.405700   36.426262           - Marti - 1049727   \n",
       "3           4    8.329205   36.417575  - Dangawaj Qalaa - 1049726   \n",
       "4           5    8.299745   36.415112          - Beeroo - 1049725   \n",
       "\n",
       "      Level_1_Go          Level_2_Go  \\\n",
       "0  Oromia Region  Bunno Beddele Zone   \n",
       "1  Oromia Region  Bunno Beddele Zone   \n",
       "2  Oromia Region  Bunno Beddele Zone   \n",
       "3  Oromia Region  Bunno Beddele Zone   \n",
       "4  Oromia Region  Bunno Beddele Zone   \n",
       "\n",
       "                                  Health_acc  \\\n",
       "0  Clinic or Health Center;Hospital;Pharmacy   \n",
       "1  Clinic or Health Center;Hospital;Pharmacy   \n",
       "2  Clinic or Health Center;Hospital;Pharmacy   \n",
       "3  Clinic or Health Center;Hospital;Pharmacy   \n",
       "4  Clinic or Health Center;Hospital;Pharmacy   \n",
       "\n",
       "                                          Education_  \\\n",
       "0  Secondary school;Primary school;University;TVE...   \n",
       "1  Secondary school;Primary school;University;TVE...   \n",
       "2  Secondary school;Primary school;University;TVE...   \n",
       "3  Secondary school;Primary school;University;TVE...   \n",
       "4                                     Primary school   \n",
       "\n",
       "                                          Market_acc  Width_of_R  ...  \\\n",
       "0               Market (daily);Market (weekly);Farms          33  ...   \n",
       "1  Market (daily);Market (weekly);Employment oppo...          31  ...   \n",
       "2               Market (daily);Market (weekly);Farms          29  ...   \n",
       "3           Market (weekly);Employment opportunities          48  ...   \n",
       "4     Market (weekly);Farms;Employment opportunities          56  ...   \n",
       "\n",
       "       ADM2_EN ADM1_EN   ADM0_EN   NEAR_DIST time_delta RemoteSite_ID  \\\n",
       "0  Buno Bedele  Oromia  Ethiopia   96.636471      42788         13239   \n",
       "1  Buno Bedele  Oromia  Ethiopia  691.608046     178706         23958   \n",
       "2  Buno Bedele  Oromia  Ethiopia  217.562445     280844         16288   \n",
       "3  Buno Bedele  Oromia  Ethiopia   30.318150     102863         28729   \n",
       "4  Buno Bedele  Oromia  Ethiopia  214.908386     292731         31800   \n",
       "\n",
       "          metric            type  COUNT   POPULATION  \n",
       "0  253459.236719  bridge_group_3   62.0   485.790324  \n",
       "1  160009.577383  bridge_group_0  138.0  4963.214629  \n",
       "2  217699.926057  bridge_group_2   83.0   611.321530  \n",
       "3  136891.521272  bridge_group_1  151.0  6052.921846  \n",
       "4  124815.225385  bridge_group_3   65.0   474.057478  \n",
       "\n",
       "[5 rows x 26 columns]"
      ]
     },
     "execution_count": 4,
     "metadata": {},
     "output_type": "execute_result"
    }
   ],
   "source": [
    "df.head()"
   ]
  },
  {
   "cell_type": "code",
   "execution_count": 31,
   "metadata": {},
   "outputs": [
    {
     "name": "stdout",
     "output_type": "stream",
     "text": [
      "Statistics for NEAR_DIST, metric, and POPULATION:\n",
      "          NEAR_DIST        metric    POPULATION\n",
      "count    250.000000  2.500000e+02    249.000000\n",
      "mean     503.475549  1.131029e+05   1527.178864\n",
      "std     1311.445848  2.306239e+05   1913.904503\n",
      "min       17.004786  2.898499e+00     45.719166\n",
      "25%      113.628298  3.292414e+03    587.099631\n",
      "50%      222.888338  1.680629e+04    965.360724\n",
      "75%      418.994301  1.306203e+05   1667.447139\n",
      "max    12855.445138  1.964853e+06  16466.436410\n"
     ]
    }
   ],
   "source": [
    "# Describe statistics for the three variables\n",
    "statistics = df[['NEAR_DIST', 'metric', 'POPULATION']].describe()\n",
    "\n",
    "print(\"Statistics for NEAR_DIST, metric, and POPULATION:\")\n",
    "print(statistics)\n"
   ]
  },
  {
   "cell_type": "code",
   "execution_count": 18,
   "metadata": {},
   "outputs": [
    {
     "data": {
      "application/vnd.plotly.v1+json": {
       "config": {
        "plotlyServerURL": "https://plot.ly"
       },
       "data": [
        {
         "marker": {
          "color": "blue"
         },
         "name": "NEAR_DIST",
         "nbinsx": 100,
         "opacity": 0.7,
         "type": "histogram",
         "x": [
          96.6364711996908,
          691.6080460061805,
          217.5624452111222,
          30.31815013732375,
          214.9083855619479,
          407.1712998866964,
          190.6093974077847,
          239.7337404076441,
          384.8979519594878,
          144.0963824630916,
          99.62562722979757,
          133.6664798570734,
          69.06262882673367,
          96.72690019371522,
          234.5811109770887,
          213.0279733438463,
          511.7249984860369,
          222.7814638500137,
          217.1022146891997,
          144.5358135198661,
          680.3134537490841,
          2768.213029057296,
          255.391322843,
          122.8178623014452,
          168.2350362957125,
          368.7510531969474,
          584.154972822244,
          301.3171939226759,
          96.86020882694478,
          95.73111173014638,
          487.0029760558285,
          140.3187978133963,
          368.4355553936638,
          190.6319228925702,
          316.3668726462074,
          518.7867699632558,
          549.4427943450024,
          524.1010297994412,
          124.6880180503151,
          302.3711455369079,
          148.0562282257207,
          211.9527033610068,
          98.1289884254169,
          35.21595078280613,
          380.4505049065675,
          427.1714691031522,
          340.3285850554885,
          69.09157509036464,
          43.5314248549879,
          375.3390052705766,
          262.7382252474069,
          546.5449612319354,
          223.8100338999277,
          25.98248751290167,
          150.7388730208542,
          221.0615559786605,
          66.11723121113083,
          530.7463401366588,
          356.1052055388527,
          78.07499692436376,
          147.577602546939,
          148.7447955377434,
          187.1203106569498,
          578.8357575207781,
          99.00434943023012,
          180.0171812635606,
          55.10372243498431,
          72.66565433500924,
          162.5529629661786,
          376.6872388125238,
          115.0152016215659,
          6231.434242806816,
          11942.9203843918,
          6212.833355139387,
          12855.44513761542,
          697.8563786815188,
          1468.442514613447,
          78.27409814145099,
          154.8731831016665,
          251.3712883205834,
          25.63318411878297,
          661.7969292596853,
          213.8977166877399,
          233.2823953302837,
          322.5892505056374,
          50.56109541789919,
          94.6886596240826,
          245.3342597310527,
          260.9205717362716,
          232.9090720909558,
          82.772652482312,
          667.4882498929079,
          5132.034931176965,
          3606.0806784477,
          3744.614054371114,
          2552.955481812132,
          2506.789029332755,
          62.44238344710466,
          682.7652453657481,
          493.6425411743609,
          69.91059740480989,
          70.92638790772912,
          438.0472407570808,
          244.3965413398754,
          176.9188346130479,
          575.7782513298852,
          365.3623507521214,
          180.2324078416707,
          518.6238288911629,
          343.1552484216651,
          989.0288719929009,
          23.64036535044536,
          262.1304136670018,
          338.640348994911,
          83.61522260347934,
          1283.119222685208,
          456.764141762861,
          151.7190482404595,
          280.7864226138439,
          306.5478283066388,
          412.9312298524693,
          34.90540700023296,
          177.9739551368149,
          641.6313402562852,
          51.7996471140418,
          17.61358252085036,
          380.263605619967,
          188.2612627700436,
          389.8786904168682,
          819.1690640166546,
          222.9952122632666,
          411.1236233559893,
          99.785758056664,
          163.7594897875299,
          175.1056498994815,
          300.5924493362834,
          525.3256633792304,
          88.51271078094871,
          697.070520684291,
          599.1856411093872,
          183.5594170781139,
          57.73763704377923,
          378.3352752609563,
          506.8678465895598,
          288.3560866617192,
          652.7672805998242,
          420.0578369285219,
          435.8291850851415,
          168.9791607469459,
          281.8504325100893,
          105.4923239556618,
          364.5652963341974,
          220.9409800830365,
          89.80400370136945,
          159.3846819289145,
          59.30366181526508,
          85.06807961122112,
          288.3659981429664,
          408.1832991003972,
          110.5830939481948,
          88.11192719563033,
          111.5614754311424,
          195.2759570192341,
          81.23554880710041,
          182.060082217908,
          173.4290449970584,
          71.67315451682659,
          497.9386815809781,
          382.7528920654103,
          97.62260904901582,
          138.9375905164123,
          277.0544687534854,
          136.1288666260096,
          64.42291595685383,
          415.8036934656366,
          216.7985578578309,
          76.3589992869933,
          102.559842273395,
          139.1539571512548,
          956.2769940599125,
          182.3170999715223,
          128.4143923530311,
          114.7462886589296,
          262.317960584757,
          311.75781297254,
          99.92385295724705,
          348.2540496691199,
          145.2303503937714,
          113.255634297336,
          1136.949229041895,
          372.6157325133458,
          143.0239727667421,
          307.4113138291668,
          30.97843434445082,
          149.3006712326299,
          53.46827427640647,
          116.0899066919954,
          84.9171737514323,
          67.12796208871917,
          634.2533094837212,
          435.8665273126907,
          78.0458353808306,
          283.7469506954308,
          279.7141358564378,
          112.5662157373418,
          40.24350395743875,
          173.2474136845616,
          256.2346686789497,
          217.5286177679791,
          29.4655925047869,
          892.1186709020677,
          590.3628373146371,
          24.98969093188842,
          20.27511455527184,
          175.0990767232319,
          199.269870449408,
          224.8993880068798,
          289.1978061690883,
          193.4291233927096,
          17.00478584659074,
          582.9182450415221,
          72.71664626390732,
          282.0556716335109,
          149.4818831480676,
          119.2317099566132,
          211.9802059891022,
          623.8838134495394,
          495.5040797969492,
          457.8214732136171,
          540.0919697974348,
          324.1127416804562,
          181.2861416964842,
          147.3143250986141,
          395.6796663403875,
          234.4537248828452,
          355.1859583746206,
          217.5156876540991,
          744.1909509296347,
          41.00834108081504,
          804.2706112483811,
          478.5349105261671,
          752.9343152133041,
          544.1854585342966,
          589.840734067794,
          661.8188926198732,
          48.53524702671245,
          30.65111798326597,
          488.7673603364822,
          363.0227134818449,
          360.3477553671657
         ]
        }
       ],
       "layout": {
        "template": {
         "data": {
          "bar": [
           {
            "error_x": {
             "color": "#2a3f5f"
            },
            "error_y": {
             "color": "#2a3f5f"
            },
            "marker": {
             "line": {
              "color": "#E5ECF6",
              "width": 0.5
             },
             "pattern": {
              "fillmode": "overlay",
              "size": 10,
              "solidity": 0.2
             }
            },
            "type": "bar"
           }
          ],
          "barpolar": [
           {
            "marker": {
             "line": {
              "color": "#E5ECF6",
              "width": 0.5
             },
             "pattern": {
              "fillmode": "overlay",
              "size": 10,
              "solidity": 0.2
             }
            },
            "type": "barpolar"
           }
          ],
          "carpet": [
           {
            "aaxis": {
             "endlinecolor": "#2a3f5f",
             "gridcolor": "white",
             "linecolor": "white",
             "minorgridcolor": "white",
             "startlinecolor": "#2a3f5f"
            },
            "baxis": {
             "endlinecolor": "#2a3f5f",
             "gridcolor": "white",
             "linecolor": "white",
             "minorgridcolor": "white",
             "startlinecolor": "#2a3f5f"
            },
            "type": "carpet"
           }
          ],
          "choropleth": [
           {
            "colorbar": {
             "outlinewidth": 0,
             "ticks": ""
            },
            "type": "choropleth"
           }
          ],
          "contour": [
           {
            "colorbar": {
             "outlinewidth": 0,
             "ticks": ""
            },
            "colorscale": [
             [
              0,
              "#0d0887"
             ],
             [
              0.1111111111111111,
              "#46039f"
             ],
             [
              0.2222222222222222,
              "#7201a8"
             ],
             [
              0.3333333333333333,
              "#9c179e"
             ],
             [
              0.4444444444444444,
              "#bd3786"
             ],
             [
              0.5555555555555556,
              "#d8576b"
             ],
             [
              0.6666666666666666,
              "#ed7953"
             ],
             [
              0.7777777777777778,
              "#fb9f3a"
             ],
             [
              0.8888888888888888,
              "#fdca26"
             ],
             [
              1,
              "#f0f921"
             ]
            ],
            "type": "contour"
           }
          ],
          "contourcarpet": [
           {
            "colorbar": {
             "outlinewidth": 0,
             "ticks": ""
            },
            "type": "contourcarpet"
           }
          ],
          "heatmap": [
           {
            "colorbar": {
             "outlinewidth": 0,
             "ticks": ""
            },
            "colorscale": [
             [
              0,
              "#0d0887"
             ],
             [
              0.1111111111111111,
              "#46039f"
             ],
             [
              0.2222222222222222,
              "#7201a8"
             ],
             [
              0.3333333333333333,
              "#9c179e"
             ],
             [
              0.4444444444444444,
              "#bd3786"
             ],
             [
              0.5555555555555556,
              "#d8576b"
             ],
             [
              0.6666666666666666,
              "#ed7953"
             ],
             [
              0.7777777777777778,
              "#fb9f3a"
             ],
             [
              0.8888888888888888,
              "#fdca26"
             ],
             [
              1,
              "#f0f921"
             ]
            ],
            "type": "heatmap"
           }
          ],
          "heatmapgl": [
           {
            "colorbar": {
             "outlinewidth": 0,
             "ticks": ""
            },
            "colorscale": [
             [
              0,
              "#0d0887"
             ],
             [
              0.1111111111111111,
              "#46039f"
             ],
             [
              0.2222222222222222,
              "#7201a8"
             ],
             [
              0.3333333333333333,
              "#9c179e"
             ],
             [
              0.4444444444444444,
              "#bd3786"
             ],
             [
              0.5555555555555556,
              "#d8576b"
             ],
             [
              0.6666666666666666,
              "#ed7953"
             ],
             [
              0.7777777777777778,
              "#fb9f3a"
             ],
             [
              0.8888888888888888,
              "#fdca26"
             ],
             [
              1,
              "#f0f921"
             ]
            ],
            "type": "heatmapgl"
           }
          ],
          "histogram": [
           {
            "marker": {
             "pattern": {
              "fillmode": "overlay",
              "size": 10,
              "solidity": 0.2
             }
            },
            "type": "histogram"
           }
          ],
          "histogram2d": [
           {
            "colorbar": {
             "outlinewidth": 0,
             "ticks": ""
            },
            "colorscale": [
             [
              0,
              "#0d0887"
             ],
             [
              0.1111111111111111,
              "#46039f"
             ],
             [
              0.2222222222222222,
              "#7201a8"
             ],
             [
              0.3333333333333333,
              "#9c179e"
             ],
             [
              0.4444444444444444,
              "#bd3786"
             ],
             [
              0.5555555555555556,
              "#d8576b"
             ],
             [
              0.6666666666666666,
              "#ed7953"
             ],
             [
              0.7777777777777778,
              "#fb9f3a"
             ],
             [
              0.8888888888888888,
              "#fdca26"
             ],
             [
              1,
              "#f0f921"
             ]
            ],
            "type": "histogram2d"
           }
          ],
          "histogram2dcontour": [
           {
            "colorbar": {
             "outlinewidth": 0,
             "ticks": ""
            },
            "colorscale": [
             [
              0,
              "#0d0887"
             ],
             [
              0.1111111111111111,
              "#46039f"
             ],
             [
              0.2222222222222222,
              "#7201a8"
             ],
             [
              0.3333333333333333,
              "#9c179e"
             ],
             [
              0.4444444444444444,
              "#bd3786"
             ],
             [
              0.5555555555555556,
              "#d8576b"
             ],
             [
              0.6666666666666666,
              "#ed7953"
             ],
             [
              0.7777777777777778,
              "#fb9f3a"
             ],
             [
              0.8888888888888888,
              "#fdca26"
             ],
             [
              1,
              "#f0f921"
             ]
            ],
            "type": "histogram2dcontour"
           }
          ],
          "mesh3d": [
           {
            "colorbar": {
             "outlinewidth": 0,
             "ticks": ""
            },
            "type": "mesh3d"
           }
          ],
          "parcoords": [
           {
            "line": {
             "colorbar": {
              "outlinewidth": 0,
              "ticks": ""
             }
            },
            "type": "parcoords"
           }
          ],
          "pie": [
           {
            "automargin": true,
            "type": "pie"
           }
          ],
          "scatter": [
           {
            "fillpattern": {
             "fillmode": "overlay",
             "size": 10,
             "solidity": 0.2
            },
            "type": "scatter"
           }
          ],
          "scatter3d": [
           {
            "line": {
             "colorbar": {
              "outlinewidth": 0,
              "ticks": ""
             }
            },
            "marker": {
             "colorbar": {
              "outlinewidth": 0,
              "ticks": ""
             }
            },
            "type": "scatter3d"
           }
          ],
          "scattercarpet": [
           {
            "marker": {
             "colorbar": {
              "outlinewidth": 0,
              "ticks": ""
             }
            },
            "type": "scattercarpet"
           }
          ],
          "scattergeo": [
           {
            "marker": {
             "colorbar": {
              "outlinewidth": 0,
              "ticks": ""
             }
            },
            "type": "scattergeo"
           }
          ],
          "scattergl": [
           {
            "marker": {
             "colorbar": {
              "outlinewidth": 0,
              "ticks": ""
             }
            },
            "type": "scattergl"
           }
          ],
          "scattermapbox": [
           {
            "marker": {
             "colorbar": {
              "outlinewidth": 0,
              "ticks": ""
             }
            },
            "type": "scattermapbox"
           }
          ],
          "scatterpolar": [
           {
            "marker": {
             "colorbar": {
              "outlinewidth": 0,
              "ticks": ""
             }
            },
            "type": "scatterpolar"
           }
          ],
          "scatterpolargl": [
           {
            "marker": {
             "colorbar": {
              "outlinewidth": 0,
              "ticks": ""
             }
            },
            "type": "scatterpolargl"
           }
          ],
          "scatterternary": [
           {
            "marker": {
             "colorbar": {
              "outlinewidth": 0,
              "ticks": ""
             }
            },
            "type": "scatterternary"
           }
          ],
          "surface": [
           {
            "colorbar": {
             "outlinewidth": 0,
             "ticks": ""
            },
            "colorscale": [
             [
              0,
              "#0d0887"
             ],
             [
              0.1111111111111111,
              "#46039f"
             ],
             [
              0.2222222222222222,
              "#7201a8"
             ],
             [
              0.3333333333333333,
              "#9c179e"
             ],
             [
              0.4444444444444444,
              "#bd3786"
             ],
             [
              0.5555555555555556,
              "#d8576b"
             ],
             [
              0.6666666666666666,
              "#ed7953"
             ],
             [
              0.7777777777777778,
              "#fb9f3a"
             ],
             [
              0.8888888888888888,
              "#fdca26"
             ],
             [
              1,
              "#f0f921"
             ]
            ],
            "type": "surface"
           }
          ],
          "table": [
           {
            "cells": {
             "fill": {
              "color": "#EBF0F8"
             },
             "line": {
              "color": "white"
             }
            },
            "header": {
             "fill": {
              "color": "#C8D4E3"
             },
             "line": {
              "color": "white"
             }
            },
            "type": "table"
           }
          ]
         },
         "layout": {
          "annotationdefaults": {
           "arrowcolor": "#2a3f5f",
           "arrowhead": 0,
           "arrowwidth": 1
          },
          "autotypenumbers": "strict",
          "coloraxis": {
           "colorbar": {
            "outlinewidth": 0,
            "ticks": ""
           }
          },
          "colorscale": {
           "diverging": [
            [
             0,
             "#8e0152"
            ],
            [
             0.1,
             "#c51b7d"
            ],
            [
             0.2,
             "#de77ae"
            ],
            [
             0.3,
             "#f1b6da"
            ],
            [
             0.4,
             "#fde0ef"
            ],
            [
             0.5,
             "#f7f7f7"
            ],
            [
             0.6,
             "#e6f5d0"
            ],
            [
             0.7,
             "#b8e186"
            ],
            [
             0.8,
             "#7fbc41"
            ],
            [
             0.9,
             "#4d9221"
            ],
            [
             1,
             "#276419"
            ]
           ],
           "sequential": [
            [
             0,
             "#0d0887"
            ],
            [
             0.1111111111111111,
             "#46039f"
            ],
            [
             0.2222222222222222,
             "#7201a8"
            ],
            [
             0.3333333333333333,
             "#9c179e"
            ],
            [
             0.4444444444444444,
             "#bd3786"
            ],
            [
             0.5555555555555556,
             "#d8576b"
            ],
            [
             0.6666666666666666,
             "#ed7953"
            ],
            [
             0.7777777777777778,
             "#fb9f3a"
            ],
            [
             0.8888888888888888,
             "#fdca26"
            ],
            [
             1,
             "#f0f921"
            ]
           ],
           "sequentialminus": [
            [
             0,
             "#0d0887"
            ],
            [
             0.1111111111111111,
             "#46039f"
            ],
            [
             0.2222222222222222,
             "#7201a8"
            ],
            [
             0.3333333333333333,
             "#9c179e"
            ],
            [
             0.4444444444444444,
             "#bd3786"
            ],
            [
             0.5555555555555556,
             "#d8576b"
            ],
            [
             0.6666666666666666,
             "#ed7953"
            ],
            [
             0.7777777777777778,
             "#fb9f3a"
            ],
            [
             0.8888888888888888,
             "#fdca26"
            ],
            [
             1,
             "#f0f921"
            ]
           ]
          },
          "colorway": [
           "#636efa",
           "#EF553B",
           "#00cc96",
           "#ab63fa",
           "#FFA15A",
           "#19d3f3",
           "#FF6692",
           "#B6E880",
           "#FF97FF",
           "#FECB52"
          ],
          "font": {
           "color": "#2a3f5f"
          },
          "geo": {
           "bgcolor": "white",
           "lakecolor": "white",
           "landcolor": "#E5ECF6",
           "showlakes": true,
           "showland": true,
           "subunitcolor": "white"
          },
          "hoverlabel": {
           "align": "left"
          },
          "hovermode": "closest",
          "mapbox": {
           "style": "light"
          },
          "paper_bgcolor": "white",
          "plot_bgcolor": "#E5ECF6",
          "polar": {
           "angularaxis": {
            "gridcolor": "white",
            "linecolor": "white",
            "ticks": ""
           },
           "bgcolor": "#E5ECF6",
           "radialaxis": {
            "gridcolor": "white",
            "linecolor": "white",
            "ticks": ""
           }
          },
          "scene": {
           "xaxis": {
            "backgroundcolor": "#E5ECF6",
            "gridcolor": "white",
            "gridwidth": 2,
            "linecolor": "white",
            "showbackground": true,
            "ticks": "",
            "zerolinecolor": "white"
           },
           "yaxis": {
            "backgroundcolor": "#E5ECF6",
            "gridcolor": "white",
            "gridwidth": 2,
            "linecolor": "white",
            "showbackground": true,
            "ticks": "",
            "zerolinecolor": "white"
           },
           "zaxis": {
            "backgroundcolor": "#E5ECF6",
            "gridcolor": "white",
            "gridwidth": 2,
            "linecolor": "white",
            "showbackground": true,
            "ticks": "",
            "zerolinecolor": "white"
           }
          },
          "shapedefaults": {
           "line": {
            "color": "#2a3f5f"
           }
          },
          "ternary": {
           "aaxis": {
            "gridcolor": "white",
            "linecolor": "white",
            "ticks": ""
           },
           "baxis": {
            "gridcolor": "white",
            "linecolor": "white",
            "ticks": ""
           },
           "bgcolor": "#E5ECF6",
           "caxis": {
            "gridcolor": "white",
            "linecolor": "white",
            "ticks": ""
           }
          },
          "title": {
           "x": 0.05
          },
          "xaxis": {
           "automargin": true,
           "gridcolor": "white",
           "linecolor": "white",
           "ticks": "",
           "title": {
            "standoff": 15
           },
           "zerolinecolor": "white",
           "zerolinewidth": 2
          },
          "yaxis": {
           "automargin": true,
           "gridcolor": "white",
           "linecolor": "white",
           "ticks": "",
           "title": {
            "standoff": 15
           },
           "zerolinecolor": "white",
           "zerolinewidth": 2
          }
         }
        },
        "title": {
         "text": "Distribution of NEAR_DIST"
        },
        "xaxis": {
         "title": {
          "text": "NEAR_DIST"
         }
        },
        "yaxis": {
         "title": {
          "text": "Frequency"
         }
        }
       }
      }
     },
     "metadata": {},
     "output_type": "display_data"
    },
    {
     "data": {
      "application/vnd.plotly.v1+json": {
       "config": {
        "plotlyServerURL": "https://plot.ly"
       },
       "data": [
        {
         "marker": {
          "color": "green"
         },
         "name": "metric",
         "nbinsx": 100,
         "opacity": 0.7,
         "type": "histogram",
         "x": [
          253459.2367191068,
          160009.5773832461,
          217699.9260567665,
          136891.5212719888,
          124815.2253852123,
          174303.1448813489,
          115832.1782980477,
          229518.8521152658,
          153249.0705687592,
          243165.5181425172,
          138693.8811669254,
          596207.8614474408,
          124794.1821786945,
          1964852.787238381,
          132644.5805802886,
          132644.5805802886,
          194506.2450912247,
          150639.7824318229,
          41127.51771477913,
          14938.49498632483,
          712.0342280091082,
          615.5843993315029,
          61818.6864368047,
          14153.73737654201,
          4.766521897780413,
          8428.260527806475,
          60744.99895864137,
          5498.137235730458,
          124815.2253852123,
          249448.558306867,
          11383.00087668015,
          4329.795227499982,
          13419.05211834962,
          392.6628273210162,
          11285.85512078554,
          1505.496964277816,
          28351.71241733541,
          835.5197320220348,
          18534.30957750812,
          130811.6950053391,
          10905.38587452429,
          57438.72964018219,
          396649.7916304982,
          311846.0105423033,
          7398.73524961673,
          3665.723630195513,
          2438.71750765925,
          64.55664578758791,
          38761.75589349315,
          292.6218226979391,
          34451.29790757748,
          93839.26613245485,
          7223.882633274887,
          54660.47648414843,
          748.3382453440825,
          9582.583364997421,
          79247.76511027016,
          170140.5980844286,
          89632.86339614223,
          195055.0128322576,
          846185.8131461248,
          906946.7774300497,
          966355.6421902915,
          823438.3480156994,
          941053.1393092148,
          102631.0474842084,
          164715.1016283477,
          212596.9347936639,
          430849.3932161929,
          542336.8971512103,
          2724.148406670335,
          10292.36782252949,
          2351.395344203186,
          10292.36782252949,
          2351.395344203186,
          39536.49764192609,
          1294.441805014963,
          15873.30231915356,
          798.6018087340258,
          17662.0090558104,
          59234.38922603314,
          356.0976672322179,
          189529.4311089741,
          423862.6061676692,
          91551.94898194922,
          91551.94898194922,
          120900.2600367395,
          1047.737619772475,
          21801.80134880209,
          17694.35819122706,
          53130.22404481468,
          154604.1304892287,
          34943.8377932012,
          53130.22404481468,
          53130.22404481468,
          34943.8377932012,
          34943.8377932012,
          990.8302829138372,
          6775.748711676592,
          127379.8138911427,
          174303.1448813489,
          212.6945352551237,
          16217.94167978457,
          253468.5456471947,
          253468.5456471947,
          253468.5456471947,
          711.4155440105221,
          2795.146450690694,
          136427.1782104547,
          5901.981616498222,
          703.8622998971884,
          3024.525568511844,
          2389.153914727225,
          1137.112970543824,
          1619.786059042484,
          124108.850526243,
          3046.223669395361,
          8495.377790603916,
          29769.26274137877,
          31749.99275003482,
          29769.26274137877,
          12792.77161627986,
          255296.3555152184,
          1763.422687979069,
          6349.609947104457,
          140601.8913247921,
          2142.9098654003,
          621.5128946852003,
          8963.77733238255,
          8021.820355392348,
          11285.85512078554,
          2173.584765102344,
          98.09701813950113,
          12103.55593359559,
          17394.63224658562,
          449.5149862821535,
          1990.07226168887,
          32757.47106408048,
          1417.329944083856,
          1417.329944083856,
          2021.352902975851,
          16204.55110468365,
          63.7312476086514,
          63.7312476086514,
          10248.45816967383,
          10248.45816967383,
          90266.17460208845,
          69.69013280450275,
          424265.5386448323,
          424265.5386448323,
          887338.3911766936,
          42159.26860146575,
          13705.8352823509,
          10482.86305501483,
          19775.89534533698,
          56374.22099908721,
          2793.818116755554,
          230535.4250949211,
          206793.8606694331,
          224404.7390356766,
          206793.8606694331,
          13388.569599563,
          970585.9530976611,
          135946.2350363095,
          8442.746512292857,
          200970.346095831,
          21744.83513710526,
          428161.5564425463,
          428161.5564425463,
          14443.14628932435,
          13580.44178026544,
          3329.425198548387,
          23171.53354166426,
          30908.68563210395,
          41842.81299500816,
          13278.7483964727,
          825.6264312168398,
          30806.14245380143,
          2.898498606757737,
          739.1852186072076,
          664.3192849099141,
          354.8850201166062,
          86.10839652862862,
          2180.238465821686,
          1602.473640548658,
          79.21137820806686,
          94.60730459821568,
          821.506325670822,
          6362.548316208827,
          44393.88091015633,
          18336.31048293318,
          238.6415460327767,
          8442.486116521526,
          1760.254920592202,
          18003.65054652771,
          5005.726484872852,
          3223.868144052682,
          261902.1375221267,
          555.8053641087342,
          46095.00080038904,
          291731.4160607171,
          330929.8020788722,
          291731.4160607171,
          2606.863200731415,
          1259743.774054053,
          280717.0647631518,
          51417.82957871904,
          15314.5562069875,
          432005.7398352941,
          3292.414382400093,
          41594.65376584117,
          9409.285245935806,
          14397.39288980864,
          3435.410088567155,
          3435.410088567155,
          3292.414382400093,
          3292.414382400093,
          5396.841393202199,
          954.1250655622563,
          59273.69052373531,
          55786.36365230708,
          22547.49284436076,
          22851.20205293391,
          6925.905135715047,
          6925.905135715047,
          121557.6039934788,
          142775.5572366602,
          596207.8614474408,
          778740.7658694367,
          2585.752811907388,
          12140.63781181748,
          4051.6671443168,
          15777.09967871947,
          15777.09967871947,
          15777.09967871947,
          263435.0448848447,
          15777.09967871947,
          40718.28250016102,
          40718.28250016102,
          40718.28250016102,
          12470.04505305689,
          12470.04505305689,
          280.0081046396362,
          11255.6131643065,
          130046.0839573793,
          6835.449429454501,
          5588.690404281914,
          11255.6131643065,
          5498.137235730458,
          1505.496964277816
         ]
        }
       ],
       "layout": {
        "template": {
         "data": {
          "bar": [
           {
            "error_x": {
             "color": "#2a3f5f"
            },
            "error_y": {
             "color": "#2a3f5f"
            },
            "marker": {
             "line": {
              "color": "#E5ECF6",
              "width": 0.5
             },
             "pattern": {
              "fillmode": "overlay",
              "size": 10,
              "solidity": 0.2
             }
            },
            "type": "bar"
           }
          ],
          "barpolar": [
           {
            "marker": {
             "line": {
              "color": "#E5ECF6",
              "width": 0.5
             },
             "pattern": {
              "fillmode": "overlay",
              "size": 10,
              "solidity": 0.2
             }
            },
            "type": "barpolar"
           }
          ],
          "carpet": [
           {
            "aaxis": {
             "endlinecolor": "#2a3f5f",
             "gridcolor": "white",
             "linecolor": "white",
             "minorgridcolor": "white",
             "startlinecolor": "#2a3f5f"
            },
            "baxis": {
             "endlinecolor": "#2a3f5f",
             "gridcolor": "white",
             "linecolor": "white",
             "minorgridcolor": "white",
             "startlinecolor": "#2a3f5f"
            },
            "type": "carpet"
           }
          ],
          "choropleth": [
           {
            "colorbar": {
             "outlinewidth": 0,
             "ticks": ""
            },
            "type": "choropleth"
           }
          ],
          "contour": [
           {
            "colorbar": {
             "outlinewidth": 0,
             "ticks": ""
            },
            "colorscale": [
             [
              0,
              "#0d0887"
             ],
             [
              0.1111111111111111,
              "#46039f"
             ],
             [
              0.2222222222222222,
              "#7201a8"
             ],
             [
              0.3333333333333333,
              "#9c179e"
             ],
             [
              0.4444444444444444,
              "#bd3786"
             ],
             [
              0.5555555555555556,
              "#d8576b"
             ],
             [
              0.6666666666666666,
              "#ed7953"
             ],
             [
              0.7777777777777778,
              "#fb9f3a"
             ],
             [
              0.8888888888888888,
              "#fdca26"
             ],
             [
              1,
              "#f0f921"
             ]
            ],
            "type": "contour"
           }
          ],
          "contourcarpet": [
           {
            "colorbar": {
             "outlinewidth": 0,
             "ticks": ""
            },
            "type": "contourcarpet"
           }
          ],
          "heatmap": [
           {
            "colorbar": {
             "outlinewidth": 0,
             "ticks": ""
            },
            "colorscale": [
             [
              0,
              "#0d0887"
             ],
             [
              0.1111111111111111,
              "#46039f"
             ],
             [
              0.2222222222222222,
              "#7201a8"
             ],
             [
              0.3333333333333333,
              "#9c179e"
             ],
             [
              0.4444444444444444,
              "#bd3786"
             ],
             [
              0.5555555555555556,
              "#d8576b"
             ],
             [
              0.6666666666666666,
              "#ed7953"
             ],
             [
              0.7777777777777778,
              "#fb9f3a"
             ],
             [
              0.8888888888888888,
              "#fdca26"
             ],
             [
              1,
              "#f0f921"
             ]
            ],
            "type": "heatmap"
           }
          ],
          "heatmapgl": [
           {
            "colorbar": {
             "outlinewidth": 0,
             "ticks": ""
            },
            "colorscale": [
             [
              0,
              "#0d0887"
             ],
             [
              0.1111111111111111,
              "#46039f"
             ],
             [
              0.2222222222222222,
              "#7201a8"
             ],
             [
              0.3333333333333333,
              "#9c179e"
             ],
             [
              0.4444444444444444,
              "#bd3786"
             ],
             [
              0.5555555555555556,
              "#d8576b"
             ],
             [
              0.6666666666666666,
              "#ed7953"
             ],
             [
              0.7777777777777778,
              "#fb9f3a"
             ],
             [
              0.8888888888888888,
              "#fdca26"
             ],
             [
              1,
              "#f0f921"
             ]
            ],
            "type": "heatmapgl"
           }
          ],
          "histogram": [
           {
            "marker": {
             "pattern": {
              "fillmode": "overlay",
              "size": 10,
              "solidity": 0.2
             }
            },
            "type": "histogram"
           }
          ],
          "histogram2d": [
           {
            "colorbar": {
             "outlinewidth": 0,
             "ticks": ""
            },
            "colorscale": [
             [
              0,
              "#0d0887"
             ],
             [
              0.1111111111111111,
              "#46039f"
             ],
             [
              0.2222222222222222,
              "#7201a8"
             ],
             [
              0.3333333333333333,
              "#9c179e"
             ],
             [
              0.4444444444444444,
              "#bd3786"
             ],
             [
              0.5555555555555556,
              "#d8576b"
             ],
             [
              0.6666666666666666,
              "#ed7953"
             ],
             [
              0.7777777777777778,
              "#fb9f3a"
             ],
             [
              0.8888888888888888,
              "#fdca26"
             ],
             [
              1,
              "#f0f921"
             ]
            ],
            "type": "histogram2d"
           }
          ],
          "histogram2dcontour": [
           {
            "colorbar": {
             "outlinewidth": 0,
             "ticks": ""
            },
            "colorscale": [
             [
              0,
              "#0d0887"
             ],
             [
              0.1111111111111111,
              "#46039f"
             ],
             [
              0.2222222222222222,
              "#7201a8"
             ],
             [
              0.3333333333333333,
              "#9c179e"
             ],
             [
              0.4444444444444444,
              "#bd3786"
             ],
             [
              0.5555555555555556,
              "#d8576b"
             ],
             [
              0.6666666666666666,
              "#ed7953"
             ],
             [
              0.7777777777777778,
              "#fb9f3a"
             ],
             [
              0.8888888888888888,
              "#fdca26"
             ],
             [
              1,
              "#f0f921"
             ]
            ],
            "type": "histogram2dcontour"
           }
          ],
          "mesh3d": [
           {
            "colorbar": {
             "outlinewidth": 0,
             "ticks": ""
            },
            "type": "mesh3d"
           }
          ],
          "parcoords": [
           {
            "line": {
             "colorbar": {
              "outlinewidth": 0,
              "ticks": ""
             }
            },
            "type": "parcoords"
           }
          ],
          "pie": [
           {
            "automargin": true,
            "type": "pie"
           }
          ],
          "scatter": [
           {
            "fillpattern": {
             "fillmode": "overlay",
             "size": 10,
             "solidity": 0.2
            },
            "type": "scatter"
           }
          ],
          "scatter3d": [
           {
            "line": {
             "colorbar": {
              "outlinewidth": 0,
              "ticks": ""
             }
            },
            "marker": {
             "colorbar": {
              "outlinewidth": 0,
              "ticks": ""
             }
            },
            "type": "scatter3d"
           }
          ],
          "scattercarpet": [
           {
            "marker": {
             "colorbar": {
              "outlinewidth": 0,
              "ticks": ""
             }
            },
            "type": "scattercarpet"
           }
          ],
          "scattergeo": [
           {
            "marker": {
             "colorbar": {
              "outlinewidth": 0,
              "ticks": ""
             }
            },
            "type": "scattergeo"
           }
          ],
          "scattergl": [
           {
            "marker": {
             "colorbar": {
              "outlinewidth": 0,
              "ticks": ""
             }
            },
            "type": "scattergl"
           }
          ],
          "scattermapbox": [
           {
            "marker": {
             "colorbar": {
              "outlinewidth": 0,
              "ticks": ""
             }
            },
            "type": "scattermapbox"
           }
          ],
          "scatterpolar": [
           {
            "marker": {
             "colorbar": {
              "outlinewidth": 0,
              "ticks": ""
             }
            },
            "type": "scatterpolar"
           }
          ],
          "scatterpolargl": [
           {
            "marker": {
             "colorbar": {
              "outlinewidth": 0,
              "ticks": ""
             }
            },
            "type": "scatterpolargl"
           }
          ],
          "scatterternary": [
           {
            "marker": {
             "colorbar": {
              "outlinewidth": 0,
              "ticks": ""
             }
            },
            "type": "scatterternary"
           }
          ],
          "surface": [
           {
            "colorbar": {
             "outlinewidth": 0,
             "ticks": ""
            },
            "colorscale": [
             [
              0,
              "#0d0887"
             ],
             [
              0.1111111111111111,
              "#46039f"
             ],
             [
              0.2222222222222222,
              "#7201a8"
             ],
             [
              0.3333333333333333,
              "#9c179e"
             ],
             [
              0.4444444444444444,
              "#bd3786"
             ],
             [
              0.5555555555555556,
              "#d8576b"
             ],
             [
              0.6666666666666666,
              "#ed7953"
             ],
             [
              0.7777777777777778,
              "#fb9f3a"
             ],
             [
              0.8888888888888888,
              "#fdca26"
             ],
             [
              1,
              "#f0f921"
             ]
            ],
            "type": "surface"
           }
          ],
          "table": [
           {
            "cells": {
             "fill": {
              "color": "#EBF0F8"
             },
             "line": {
              "color": "white"
             }
            },
            "header": {
             "fill": {
              "color": "#C8D4E3"
             },
             "line": {
              "color": "white"
             }
            },
            "type": "table"
           }
          ]
         },
         "layout": {
          "annotationdefaults": {
           "arrowcolor": "#2a3f5f",
           "arrowhead": 0,
           "arrowwidth": 1
          },
          "autotypenumbers": "strict",
          "coloraxis": {
           "colorbar": {
            "outlinewidth": 0,
            "ticks": ""
           }
          },
          "colorscale": {
           "diverging": [
            [
             0,
             "#8e0152"
            ],
            [
             0.1,
             "#c51b7d"
            ],
            [
             0.2,
             "#de77ae"
            ],
            [
             0.3,
             "#f1b6da"
            ],
            [
             0.4,
             "#fde0ef"
            ],
            [
             0.5,
             "#f7f7f7"
            ],
            [
             0.6,
             "#e6f5d0"
            ],
            [
             0.7,
             "#b8e186"
            ],
            [
             0.8,
             "#7fbc41"
            ],
            [
             0.9,
             "#4d9221"
            ],
            [
             1,
             "#276419"
            ]
           ],
           "sequential": [
            [
             0,
             "#0d0887"
            ],
            [
             0.1111111111111111,
             "#46039f"
            ],
            [
             0.2222222222222222,
             "#7201a8"
            ],
            [
             0.3333333333333333,
             "#9c179e"
            ],
            [
             0.4444444444444444,
             "#bd3786"
            ],
            [
             0.5555555555555556,
             "#d8576b"
            ],
            [
             0.6666666666666666,
             "#ed7953"
            ],
            [
             0.7777777777777778,
             "#fb9f3a"
            ],
            [
             0.8888888888888888,
             "#fdca26"
            ],
            [
             1,
             "#f0f921"
            ]
           ],
           "sequentialminus": [
            [
             0,
             "#0d0887"
            ],
            [
             0.1111111111111111,
             "#46039f"
            ],
            [
             0.2222222222222222,
             "#7201a8"
            ],
            [
             0.3333333333333333,
             "#9c179e"
            ],
            [
             0.4444444444444444,
             "#bd3786"
            ],
            [
             0.5555555555555556,
             "#d8576b"
            ],
            [
             0.6666666666666666,
             "#ed7953"
            ],
            [
             0.7777777777777778,
             "#fb9f3a"
            ],
            [
             0.8888888888888888,
             "#fdca26"
            ],
            [
             1,
             "#f0f921"
            ]
           ]
          },
          "colorway": [
           "#636efa",
           "#EF553B",
           "#00cc96",
           "#ab63fa",
           "#FFA15A",
           "#19d3f3",
           "#FF6692",
           "#B6E880",
           "#FF97FF",
           "#FECB52"
          ],
          "font": {
           "color": "#2a3f5f"
          },
          "geo": {
           "bgcolor": "white",
           "lakecolor": "white",
           "landcolor": "#E5ECF6",
           "showlakes": true,
           "showland": true,
           "subunitcolor": "white"
          },
          "hoverlabel": {
           "align": "left"
          },
          "hovermode": "closest",
          "mapbox": {
           "style": "light"
          },
          "paper_bgcolor": "white",
          "plot_bgcolor": "#E5ECF6",
          "polar": {
           "angularaxis": {
            "gridcolor": "white",
            "linecolor": "white",
            "ticks": ""
           },
           "bgcolor": "#E5ECF6",
           "radialaxis": {
            "gridcolor": "white",
            "linecolor": "white",
            "ticks": ""
           }
          },
          "scene": {
           "xaxis": {
            "backgroundcolor": "#E5ECF6",
            "gridcolor": "white",
            "gridwidth": 2,
            "linecolor": "white",
            "showbackground": true,
            "ticks": "",
            "zerolinecolor": "white"
           },
           "yaxis": {
            "backgroundcolor": "#E5ECF6",
            "gridcolor": "white",
            "gridwidth": 2,
            "linecolor": "white",
            "showbackground": true,
            "ticks": "",
            "zerolinecolor": "white"
           },
           "zaxis": {
            "backgroundcolor": "#E5ECF6",
            "gridcolor": "white",
            "gridwidth": 2,
            "linecolor": "white",
            "showbackground": true,
            "ticks": "",
            "zerolinecolor": "white"
           }
          },
          "shapedefaults": {
           "line": {
            "color": "#2a3f5f"
           }
          },
          "ternary": {
           "aaxis": {
            "gridcolor": "white",
            "linecolor": "white",
            "ticks": ""
           },
           "baxis": {
            "gridcolor": "white",
            "linecolor": "white",
            "ticks": ""
           },
           "bgcolor": "#E5ECF6",
           "caxis": {
            "gridcolor": "white",
            "linecolor": "white",
            "ticks": ""
           }
          },
          "title": {
           "x": 0.05
          },
          "xaxis": {
           "automargin": true,
           "gridcolor": "white",
           "linecolor": "white",
           "ticks": "",
           "title": {
            "standoff": 15
           },
           "zerolinecolor": "white",
           "zerolinewidth": 2
          },
          "yaxis": {
           "automargin": true,
           "gridcolor": "white",
           "linecolor": "white",
           "ticks": "",
           "title": {
            "standoff": 15
           },
           "zerolinecolor": "white",
           "zerolinewidth": 2
          }
         }
        },
        "title": {
         "text": "Distribution of metric"
        },
        "xaxis": {
         "title": {
          "text": "metric"
         }
        },
        "yaxis": {
         "title": {
          "text": "Frequency"
         }
        }
       }
      }
     },
     "metadata": {},
     "output_type": "display_data"
    },
    {
     "data": {
      "application/vnd.plotly.v1+json": {
       "config": {
        "plotlyServerURL": "https://plot.ly"
       },
       "data": [
        {
         "marker": {
          "color": "orange"
         },
         "name": "POPULATION",
         "nbinsx": 100,
         "opacity": 0.7,
         "type": "histogram",
         "x": [
          485.7903242111206,
          4963.21462869644,
          611.3215298652649,
          6052.921845912932,
          474.057478427887,
          480.5225591659546,
          695.1304211616515,
          335.3945145606995,
          448.6251516342163,
          398.4211072921753,
          409.2163324356079,
          343.1260981559754,
          562.4077305793762,
          636.0832600593566,
          467.7078704833984,
          450.0966968536377,
          675.1072287559509,
          373.7020545005798,
          2138.246538162232,
          1697.372858047485,
          460.8640689849854,
          661.5621728897096,
          2890.392656326294,
          1060.501466751099,
          1676.365303993225,
          2748.72342300415,
          2871.870477676393,
          1313.135081291199,
          1289.718379020691,
          1634.991061210632,
          998.3770208358766,
          1114.540257930756,
          638.8274846076965,
          1105.04391002655,
          870.444784641266,
          1108.687779426574,
          818.8598995208741,
          1737.31551837921,
          1227.750956535339,
          2683.511394023897,
          2108.257166862488,
          487.9302520751954,
          1639.913969039917,
          4878.14495277405,
          756.6890282630922,
          779.6819820404054,
          965.3607244491578,
          822.109877586365,
          700.2477622032168,
          718.4266738891603,
          729.0365900993347,
          1036.954199790955,
          996.6135168075559,
          1445.193375587464,
          906.2434320449825,
          954.1546573638914,
          823.1592626571655,
          1074.565496444703,
          830.0277528762814,
          580.0167031288149,
          755.3168234825134,
          794.8935718536375,
          1670.13202571869,
          760.7850241661074,
          566.6802854537964,
          110.9256820678711,
          531.2118434906004,
          1234.744259357452,
          374.1882262229919,
          1393.364026546478,
          105.8876399993896,
          505.8713569641114,
          587.0996313095092,
          450.3816280364991,
          467.4373130798341,
          258.0381212234497,
          500.3495216369628,
          null,
          217.4494433403015,
          1153.267485141754,
          855.1442260742186,
          667.8147897720341,
          146.3232026100159,
          1526.047327041625,
          636.9780249595641,
          560.0606784820556,
          396.0546035766602,
          495.2339162826538,
          952.9534082412719,
          228.1181383132935,
          1183.916589260101,
          364.5823931694031,
          245.9013862609864,
          170.463327884674,
          190.3482794761658,
          567.9864301681519,
          415.4794325828553,
          634.6029229164124,
          494.1257576942445,
          708.8463258743285,
          8654.280290603638,
          10604.60922431946,
          10742.38714122772,
          9142.196159362795,
          7378.768060684204,
          10462.58671760559,
          675.5356760025023,
          1185.155321121216,
          628.139814376831,
          464.2076501846312,
          919.6422233581543,
          614.4826612472534,
          367.8011951446533,
          838.2989015579224,
          429.6840801239013,
          133.949330329895,
          775.7319097518921,
          913.8292388916018,
          779.9254646301268,
          697.8458881378174,
          417.8224687576295,
          369.8535223007203,
          480.9928493499755,
          449.4519395828247,
          238.9556264877319,
          830.8575105667113,
          1012.349052906036,
          774.1953325271609,
          1071.314752578735,
          553.9305324554442,
          829.6087646484375,
          1746.691420078278,
          588.8627924919128,
          1260.697084426881,
          742.2206859588623,
          690.7371459007263,
          695.4274964332584,
          1538.006453037262,
          61.93323945999145,
          45.71916627883911,
          57.30819272994995,
          3251.415415287018,
          93.135338306427,
          55.8963327407837,
          1446.063897132874,
          989.8787188529967,
          459.5554890632632,
          425.7861990928651,
          995.2102708816527,
          1056.212489128113,
          1946.910461425781,
          1091.663955688477,
          1564.028968811035,
          1113.01652431488,
          2047.831129550934,
          2649.126378536225,
          2623.192077159883,
          1947.107361793518,
          1505.134767055511,
          1408.253712654114,
          1533.252717018127,
          919.359627723694,
          1093.722822666168,
          1748.075991630554,
          980.5616955757142,
          3269.837214469908,
          2242.469892501831,
          5072.468629837037,
          5211.644974708559,
          1697.720404148103,
          733.0596251487732,
          1122.750061035156,
          774.324213027954,
          1158.736248970032,
          937.7541208267213,
          2679.881488323213,
          802.1956663131715,
          1667.447139263153,
          1042.175849914551,
          1154.037437915803,
          234.4420909881592,
          1123.32569026947,
          819.5507969856262,
          783.0693759918212,
          962.5910873413084,
          1102.895404338836,
          474.9744777679442,
          149.8866648674011,
          2355.611297130586,
          4658.511507987973,
          16466.43640995025,
          362.3879690170288,
          2354.287754058838,
          827.5675535202025,
          1325.342555046082,
          2717.382323265076,
          1231.648017883301,
          4373.319407463073,
          4838.61888217926,
          5801.966189384461,
          3858.888503074647,
          3551.201108932494,
          3734.57018184662,
          3249.950499534607,
          3218.430734634399,
          430.7300033569337,
          821.920603275299,
          530.162392616272,
          399.7412099838257,
          892.8180222511295,
          2231.339382171631,
          2421.72027015686,
          1078.938637733459,
          1483.402146339416,
          1512.558029174804,
          984.5629835128785,
          837.462624549866,
          722.6413507461547,
          895.3347568511964,
          2159.492692947387,
          1207.917956352234,
          1688.269916534424,
          2291.76556110382,
          2253.904487609863,
          2230.518634796142,
          1621.033840179443,
          1664.03325176239,
          3448.802480697631,
          2301.584243774414,
          2330.471534729004,
          2052.22681427002,
          2006.994565963746,
          1576.694771766663,
          1976.444081306457,
          1679.759503364563,
          2099.685497283936,
          1636.43541431427,
          1634.012313842774,
          1603.079982757569,
          1669.278028488159,
          830.5925130844115,
          863.9708614349363,
          877.603680610657,
          924.6308441162107,
          1389.306383132934,
          1254.948216438293,
          1103.071758270264,
          1498.025373458862,
          1298.270575523377,
          1175.95246219635
         ]
        }
       ],
       "layout": {
        "template": {
         "data": {
          "bar": [
           {
            "error_x": {
             "color": "#2a3f5f"
            },
            "error_y": {
             "color": "#2a3f5f"
            },
            "marker": {
             "line": {
              "color": "#E5ECF6",
              "width": 0.5
             },
             "pattern": {
              "fillmode": "overlay",
              "size": 10,
              "solidity": 0.2
             }
            },
            "type": "bar"
           }
          ],
          "barpolar": [
           {
            "marker": {
             "line": {
              "color": "#E5ECF6",
              "width": 0.5
             },
             "pattern": {
              "fillmode": "overlay",
              "size": 10,
              "solidity": 0.2
             }
            },
            "type": "barpolar"
           }
          ],
          "carpet": [
           {
            "aaxis": {
             "endlinecolor": "#2a3f5f",
             "gridcolor": "white",
             "linecolor": "white",
             "minorgridcolor": "white",
             "startlinecolor": "#2a3f5f"
            },
            "baxis": {
             "endlinecolor": "#2a3f5f",
             "gridcolor": "white",
             "linecolor": "white",
             "minorgridcolor": "white",
             "startlinecolor": "#2a3f5f"
            },
            "type": "carpet"
           }
          ],
          "choropleth": [
           {
            "colorbar": {
             "outlinewidth": 0,
             "ticks": ""
            },
            "type": "choropleth"
           }
          ],
          "contour": [
           {
            "colorbar": {
             "outlinewidth": 0,
             "ticks": ""
            },
            "colorscale": [
             [
              0,
              "#0d0887"
             ],
             [
              0.1111111111111111,
              "#46039f"
             ],
             [
              0.2222222222222222,
              "#7201a8"
             ],
             [
              0.3333333333333333,
              "#9c179e"
             ],
             [
              0.4444444444444444,
              "#bd3786"
             ],
             [
              0.5555555555555556,
              "#d8576b"
             ],
             [
              0.6666666666666666,
              "#ed7953"
             ],
             [
              0.7777777777777778,
              "#fb9f3a"
             ],
             [
              0.8888888888888888,
              "#fdca26"
             ],
             [
              1,
              "#f0f921"
             ]
            ],
            "type": "contour"
           }
          ],
          "contourcarpet": [
           {
            "colorbar": {
             "outlinewidth": 0,
             "ticks": ""
            },
            "type": "contourcarpet"
           }
          ],
          "heatmap": [
           {
            "colorbar": {
             "outlinewidth": 0,
             "ticks": ""
            },
            "colorscale": [
             [
              0,
              "#0d0887"
             ],
             [
              0.1111111111111111,
              "#46039f"
             ],
             [
              0.2222222222222222,
              "#7201a8"
             ],
             [
              0.3333333333333333,
              "#9c179e"
             ],
             [
              0.4444444444444444,
              "#bd3786"
             ],
             [
              0.5555555555555556,
              "#d8576b"
             ],
             [
              0.6666666666666666,
              "#ed7953"
             ],
             [
              0.7777777777777778,
              "#fb9f3a"
             ],
             [
              0.8888888888888888,
              "#fdca26"
             ],
             [
              1,
              "#f0f921"
             ]
            ],
            "type": "heatmap"
           }
          ],
          "heatmapgl": [
           {
            "colorbar": {
             "outlinewidth": 0,
             "ticks": ""
            },
            "colorscale": [
             [
              0,
              "#0d0887"
             ],
             [
              0.1111111111111111,
              "#46039f"
             ],
             [
              0.2222222222222222,
              "#7201a8"
             ],
             [
              0.3333333333333333,
              "#9c179e"
             ],
             [
              0.4444444444444444,
              "#bd3786"
             ],
             [
              0.5555555555555556,
              "#d8576b"
             ],
             [
              0.6666666666666666,
              "#ed7953"
             ],
             [
              0.7777777777777778,
              "#fb9f3a"
             ],
             [
              0.8888888888888888,
              "#fdca26"
             ],
             [
              1,
              "#f0f921"
             ]
            ],
            "type": "heatmapgl"
           }
          ],
          "histogram": [
           {
            "marker": {
             "pattern": {
              "fillmode": "overlay",
              "size": 10,
              "solidity": 0.2
             }
            },
            "type": "histogram"
           }
          ],
          "histogram2d": [
           {
            "colorbar": {
             "outlinewidth": 0,
             "ticks": ""
            },
            "colorscale": [
             [
              0,
              "#0d0887"
             ],
             [
              0.1111111111111111,
              "#46039f"
             ],
             [
              0.2222222222222222,
              "#7201a8"
             ],
             [
              0.3333333333333333,
              "#9c179e"
             ],
             [
              0.4444444444444444,
              "#bd3786"
             ],
             [
              0.5555555555555556,
              "#d8576b"
             ],
             [
              0.6666666666666666,
              "#ed7953"
             ],
             [
              0.7777777777777778,
              "#fb9f3a"
             ],
             [
              0.8888888888888888,
              "#fdca26"
             ],
             [
              1,
              "#f0f921"
             ]
            ],
            "type": "histogram2d"
           }
          ],
          "histogram2dcontour": [
           {
            "colorbar": {
             "outlinewidth": 0,
             "ticks": ""
            },
            "colorscale": [
             [
              0,
              "#0d0887"
             ],
             [
              0.1111111111111111,
              "#46039f"
             ],
             [
              0.2222222222222222,
              "#7201a8"
             ],
             [
              0.3333333333333333,
              "#9c179e"
             ],
             [
              0.4444444444444444,
              "#bd3786"
             ],
             [
              0.5555555555555556,
              "#d8576b"
             ],
             [
              0.6666666666666666,
              "#ed7953"
             ],
             [
              0.7777777777777778,
              "#fb9f3a"
             ],
             [
              0.8888888888888888,
              "#fdca26"
             ],
             [
              1,
              "#f0f921"
             ]
            ],
            "type": "histogram2dcontour"
           }
          ],
          "mesh3d": [
           {
            "colorbar": {
             "outlinewidth": 0,
             "ticks": ""
            },
            "type": "mesh3d"
           }
          ],
          "parcoords": [
           {
            "line": {
             "colorbar": {
              "outlinewidth": 0,
              "ticks": ""
             }
            },
            "type": "parcoords"
           }
          ],
          "pie": [
           {
            "automargin": true,
            "type": "pie"
           }
          ],
          "scatter": [
           {
            "fillpattern": {
             "fillmode": "overlay",
             "size": 10,
             "solidity": 0.2
            },
            "type": "scatter"
           }
          ],
          "scatter3d": [
           {
            "line": {
             "colorbar": {
              "outlinewidth": 0,
              "ticks": ""
             }
            },
            "marker": {
             "colorbar": {
              "outlinewidth": 0,
              "ticks": ""
             }
            },
            "type": "scatter3d"
           }
          ],
          "scattercarpet": [
           {
            "marker": {
             "colorbar": {
              "outlinewidth": 0,
              "ticks": ""
             }
            },
            "type": "scattercarpet"
           }
          ],
          "scattergeo": [
           {
            "marker": {
             "colorbar": {
              "outlinewidth": 0,
              "ticks": ""
             }
            },
            "type": "scattergeo"
           }
          ],
          "scattergl": [
           {
            "marker": {
             "colorbar": {
              "outlinewidth": 0,
              "ticks": ""
             }
            },
            "type": "scattergl"
           }
          ],
          "scattermapbox": [
           {
            "marker": {
             "colorbar": {
              "outlinewidth": 0,
              "ticks": ""
             }
            },
            "type": "scattermapbox"
           }
          ],
          "scatterpolar": [
           {
            "marker": {
             "colorbar": {
              "outlinewidth": 0,
              "ticks": ""
             }
            },
            "type": "scatterpolar"
           }
          ],
          "scatterpolargl": [
           {
            "marker": {
             "colorbar": {
              "outlinewidth": 0,
              "ticks": ""
             }
            },
            "type": "scatterpolargl"
           }
          ],
          "scatterternary": [
           {
            "marker": {
             "colorbar": {
              "outlinewidth": 0,
              "ticks": ""
             }
            },
            "type": "scatterternary"
           }
          ],
          "surface": [
           {
            "colorbar": {
             "outlinewidth": 0,
             "ticks": ""
            },
            "colorscale": [
             [
              0,
              "#0d0887"
             ],
             [
              0.1111111111111111,
              "#46039f"
             ],
             [
              0.2222222222222222,
              "#7201a8"
             ],
             [
              0.3333333333333333,
              "#9c179e"
             ],
             [
              0.4444444444444444,
              "#bd3786"
             ],
             [
              0.5555555555555556,
              "#d8576b"
             ],
             [
              0.6666666666666666,
              "#ed7953"
             ],
             [
              0.7777777777777778,
              "#fb9f3a"
             ],
             [
              0.8888888888888888,
              "#fdca26"
             ],
             [
              1,
              "#f0f921"
             ]
            ],
            "type": "surface"
           }
          ],
          "table": [
           {
            "cells": {
             "fill": {
              "color": "#EBF0F8"
             },
             "line": {
              "color": "white"
             }
            },
            "header": {
             "fill": {
              "color": "#C8D4E3"
             },
             "line": {
              "color": "white"
             }
            },
            "type": "table"
           }
          ]
         },
         "layout": {
          "annotationdefaults": {
           "arrowcolor": "#2a3f5f",
           "arrowhead": 0,
           "arrowwidth": 1
          },
          "autotypenumbers": "strict",
          "coloraxis": {
           "colorbar": {
            "outlinewidth": 0,
            "ticks": ""
           }
          },
          "colorscale": {
           "diverging": [
            [
             0,
             "#8e0152"
            ],
            [
             0.1,
             "#c51b7d"
            ],
            [
             0.2,
             "#de77ae"
            ],
            [
             0.3,
             "#f1b6da"
            ],
            [
             0.4,
             "#fde0ef"
            ],
            [
             0.5,
             "#f7f7f7"
            ],
            [
             0.6,
             "#e6f5d0"
            ],
            [
             0.7,
             "#b8e186"
            ],
            [
             0.8,
             "#7fbc41"
            ],
            [
             0.9,
             "#4d9221"
            ],
            [
             1,
             "#276419"
            ]
           ],
           "sequential": [
            [
             0,
             "#0d0887"
            ],
            [
             0.1111111111111111,
             "#46039f"
            ],
            [
             0.2222222222222222,
             "#7201a8"
            ],
            [
             0.3333333333333333,
             "#9c179e"
            ],
            [
             0.4444444444444444,
             "#bd3786"
            ],
            [
             0.5555555555555556,
             "#d8576b"
            ],
            [
             0.6666666666666666,
             "#ed7953"
            ],
            [
             0.7777777777777778,
             "#fb9f3a"
            ],
            [
             0.8888888888888888,
             "#fdca26"
            ],
            [
             1,
             "#f0f921"
            ]
           ],
           "sequentialminus": [
            [
             0,
             "#0d0887"
            ],
            [
             0.1111111111111111,
             "#46039f"
            ],
            [
             0.2222222222222222,
             "#7201a8"
            ],
            [
             0.3333333333333333,
             "#9c179e"
            ],
            [
             0.4444444444444444,
             "#bd3786"
            ],
            [
             0.5555555555555556,
             "#d8576b"
            ],
            [
             0.6666666666666666,
             "#ed7953"
            ],
            [
             0.7777777777777778,
             "#fb9f3a"
            ],
            [
             0.8888888888888888,
             "#fdca26"
            ],
            [
             1,
             "#f0f921"
            ]
           ]
          },
          "colorway": [
           "#636efa",
           "#EF553B",
           "#00cc96",
           "#ab63fa",
           "#FFA15A",
           "#19d3f3",
           "#FF6692",
           "#B6E880",
           "#FF97FF",
           "#FECB52"
          ],
          "font": {
           "color": "#2a3f5f"
          },
          "geo": {
           "bgcolor": "white",
           "lakecolor": "white",
           "landcolor": "#E5ECF6",
           "showlakes": true,
           "showland": true,
           "subunitcolor": "white"
          },
          "hoverlabel": {
           "align": "left"
          },
          "hovermode": "closest",
          "mapbox": {
           "style": "light"
          },
          "paper_bgcolor": "white",
          "plot_bgcolor": "#E5ECF6",
          "polar": {
           "angularaxis": {
            "gridcolor": "white",
            "linecolor": "white",
            "ticks": ""
           },
           "bgcolor": "#E5ECF6",
           "radialaxis": {
            "gridcolor": "white",
            "linecolor": "white",
            "ticks": ""
           }
          },
          "scene": {
           "xaxis": {
            "backgroundcolor": "#E5ECF6",
            "gridcolor": "white",
            "gridwidth": 2,
            "linecolor": "white",
            "showbackground": true,
            "ticks": "",
            "zerolinecolor": "white"
           },
           "yaxis": {
            "backgroundcolor": "#E5ECF6",
            "gridcolor": "white",
            "gridwidth": 2,
            "linecolor": "white",
            "showbackground": true,
            "ticks": "",
            "zerolinecolor": "white"
           },
           "zaxis": {
            "backgroundcolor": "#E5ECF6",
            "gridcolor": "white",
            "gridwidth": 2,
            "linecolor": "white",
            "showbackground": true,
            "ticks": "",
            "zerolinecolor": "white"
           }
          },
          "shapedefaults": {
           "line": {
            "color": "#2a3f5f"
           }
          },
          "ternary": {
           "aaxis": {
            "gridcolor": "white",
            "linecolor": "white",
            "ticks": ""
           },
           "baxis": {
            "gridcolor": "white",
            "linecolor": "white",
            "ticks": ""
           },
           "bgcolor": "#E5ECF6",
           "caxis": {
            "gridcolor": "white",
            "linecolor": "white",
            "ticks": ""
           }
          },
          "title": {
           "x": 0.05
          },
          "xaxis": {
           "automargin": true,
           "gridcolor": "white",
           "linecolor": "white",
           "ticks": "",
           "title": {
            "standoff": 15
           },
           "zerolinecolor": "white",
           "zerolinewidth": 2
          },
          "yaxis": {
           "automargin": true,
           "gridcolor": "white",
           "linecolor": "white",
           "ticks": "",
           "title": {
            "standoff": 15
           },
           "zerolinecolor": "white",
           "zerolinewidth": 2
          }
         }
        },
        "title": {
         "text": "Distribution of POPULATION"
        },
        "xaxis": {
         "title": {
          "text": "POPULATION"
         }
        },
        "yaxis": {
         "title": {
          "text": "Frequency"
         }
        }
       }
      }
     },
     "metadata": {},
     "output_type": "display_data"
    }
   ],
   "source": [
    "import plotly.graph_objects as go\n",
    "\n",
    "# Histogram for NEAR_DIST\n",
    "fig1 = go.Figure(go.Histogram(\n",
    "    x=df['NEAR_DIST'],\n",
    "    nbinsx=100,  # Adjust the number of bins as needed\n",
    "    marker_color='blue',  # Use marker_color for bar area color\n",
    "    opacity=0.7,\n",
    "    name='NEAR_DIST'\n",
    "))\n",
    "fig1.update_layout(\n",
    "    title='Distribution of NEAR_DIST',\n",
    "    xaxis_title='NEAR_DIST',\n",
    "    yaxis_title='Frequency'\n",
    ")\n",
    "\n",
    "# Histogram for metric\n",
    "fig2 = go.Figure(go.Histogram(\n",
    "    x=df['metric'],\n",
    "    nbinsx=100,  # Adjust the number of bins as needed\n",
    "    marker_color='green',\n",
    "    opacity=0.7,\n",
    "    name='metric'\n",
    "))\n",
    "fig2.update_layout(\n",
    "    title='Distribution of metric',\n",
    "    xaxis_title='metric',\n",
    "    yaxis_title='Frequency'\n",
    ")\n",
    "\n",
    "# Histogram for POPULATION\n",
    "fig3 = go.Figure(go.Histogram(\n",
    "    x=df['POPULATION'],\n",
    "    nbinsx=100,  # Adjust the number of bins as needed\n",
    "    marker_color='orange',\n",
    "    opacity=0.7,\n",
    "    name='POPULATION'\n",
    "))\n",
    "fig3.update_layout(\n",
    "    title='Distribution of POPULATION',\n",
    "    xaxis_title='POPULATION',\n",
    "    yaxis_title='Frequency'\n",
    ")\n",
    "\n",
    "# Show plots\n",
    "fig1.show()\n",
    "fig2.show()\n",
    "fig3.show()\n"
   ]
  },
  {
   "cell_type": "code",
   "execution_count": 61,
   "metadata": {},
   "outputs": [
    {
     "data": {
      "application/vnd.plotly.v1+json": {
       "config": {
        "plotlyServerURL": "https://plot.ly"
       },
       "data": [
        {
         "alignmentgroup": "True",
         "bingroup": "x",
         "hovertemplate": "Woreda=%{x}<br>count=%{y}<extra></extra>",
         "legendgroup": "",
         "marker": {
          "color": "#636efa",
          "pattern": {
           "shape": ""
          }
         },
         "name": "",
         "offsetgroup": "",
         "orientation": "v",
         "showlegend": false,
         "type": "histogram",
         "x": [
          "Gechi",
          "Gechi",
          "Gechi",
          "Gechi",
          "Gechi",
          "Gechi",
          "Gechi",
          "Gechi",
          "Gechi",
          "Gechi",
          "Gechi",
          "Gechi",
          "Gechi",
          "Gechi",
          "Gechi",
          "Gechi",
          "Gechi",
          "Gechi",
          "Melka Balo",
          "Melka Balo",
          "Melka Balo",
          "Melka Balo",
          "Melka Balo",
          "Melka Balo",
          "Melka Balo",
          "Melka Balo",
          "Sigmo",
          "Sigmo",
          "Sigmo",
          "Sigmo",
          "Sigmo",
          "Sigmo",
          "Sigmo",
          "Sigmo",
          "Sigmo",
          "Sigmo",
          "Seka Chekorsa",
          "Seka Chekorsa",
          "Seka Chekorsa",
          "Seka Chekorsa",
          "Seka Chekorsa",
          "Seka Chekorsa",
          "Seka Chekorsa",
          "Seka Chekorsa",
          "Seka Chekorsa",
          "Seka Chekorsa",
          "Seka Chekorsa",
          "Seka Chekorsa",
          "Seka Chekorsa",
          "Seka Chekorsa",
          "Seka Chekorsa",
          "Seka Chekorsa",
          "Seka Chekorsa",
          "Seka Chekorsa",
          "Seka Chekorsa",
          "Seka Chekorsa",
          "Shebe Sambo",
          "Shebe Sambo",
          "Shebe Sambo",
          "Shebe Sambo",
          "Shebe Sambo",
          "Shebe Sambo",
          "Shebe Sambo",
          "Shebe Sambo",
          "Shebe Sambo",
          "Shebe Sambo",
          "Shebe Sambo",
          "Shebe Sambo",
          "Shebe Sambo",
          "Shebe Sambo",
          "Limu Seka",
          "Limu Seka",
          "Limu Seka",
          "Limu Seka",
          "Limu Seka",
          "Limu Seka",
          "Limu Seka",
          "Limu Seka",
          "Limu Seka",
          "Limu Seka",
          "Limu Seka",
          "Limu Seka",
          "Limu Seka",
          "Limu Seka",
          "Limu Seka",
          "Limu Seka",
          "Limu Seka",
          "Limu Seka",
          "Limu Seka",
          "Limu Seka",
          "Limu Seka",
          "Limu Seka",
          "Limu Seka",
          "Limu Seka",
          "Limu Seka",
          "Limu Seka",
          "Limu Seka",
          "Limu Seka",
          "Limu Seka",
          "Mieso",
          "Mieso",
          "Mieso",
          "Mieso",
          "Mieso",
          "Mieso",
          "Mieso",
          "Mieso",
          "Mieso",
          "Mieso",
          "Mieso",
          "Mieso",
          "Mieso",
          "Mieso",
          "Mieso",
          "Mieso",
          "Mieso",
          "Mieso",
          "Mieso",
          "Mieso",
          "Mieso",
          "Mieso",
          "Mieso",
          "Mieso",
          "Mieso",
          "Mieso",
          "Mieso",
          "Sigmo",
          "Sigmo",
          "Sigmo",
          "Sigmo",
          "Sigmo",
          "Sigmo",
          "Sigmo",
          "Sigmo",
          "Sigmo",
          "Sigmo",
          "Boreda",
          "Boreda",
          "Boreda",
          "Boreda",
          "Boreda",
          "Boreda",
          "Boreda",
          "Boreda",
          "Boreda",
          "Boreda",
          "Boreda",
          "Boreda",
          "Dita",
          "Dita",
          "Dita",
          "Dita",
          "Dita",
          "Dita",
          "Dita",
          "Dita",
          "Dita",
          "Dita",
          "Dita",
          "Dita",
          "Dita",
          "Dita",
          "Dita",
          "Dita",
          "Dita",
          "Chencha Zuriya",
          "Chencha Zuriya",
          "Chencha Zuriya",
          "Chencha Zuriya",
          "Chencha Zuriya",
          "Dita",
          "Dita",
          "Chencha Zuriya",
          "Chencha Zuriya",
          "Chencha Zuriya",
          "Chencha Zuriya",
          "Kucha Alpha",
          "Kucha Alpha",
          "Kucha Alpha",
          "Kucha Alpha",
          "Kucha Alpha",
          "Kucha Alpha",
          "Kucha Alpha",
          "Kucha Alpha",
          "Kucha Alpha",
          "Kucha Alpha",
          "Kucha Alpha",
          "Kucha Alpha",
          "Kochere",
          "Kochere",
          "Kochere",
          "Kochere",
          "Kochere",
          "Kochere",
          "Kochere",
          "Kochere",
          "Kochere",
          "Dila Zuria",
          "Dila Zuria",
          "Dila Zuria",
          "Dila Zuria",
          "Dila Zuria",
          "Dila Zuria",
          "Dila Zuria",
          "Dita",
          "Sodo",
          "Sodo",
          "Sodo",
          "Sodo",
          "Misrak Azenet Berbere",
          "Misrak Azenet Berbere",
          "Misrak Azenet Berbere",
          "Misrak Azenet Berbere",
          "Misrak Azenet Berbere",
          "Misrak Azenet Berbere",
          "Misrak Azenet Berbere",
          "Misrak Azenet Berbere",
          "Misrak Azenet Berbere",
          "Misrak Azenet Berbere",
          "Misrak Azenet Berbere",
          "Misrak Azenet Berbere",
          "Misrak Azenet Berbere",
          "Misrak Azenet Berbere",
          "Misrak Azenet Berbere",
          "Misrak Azenet Berbere",
          "Misrak Azenet Berbere",
          "Misrak Azenet Berbere",
          "Alicho Woriro",
          "Alicho Woriro",
          "Alicho Woriro",
          "Misrak Azenet Berbere",
          "Misrak Azenet Berbere",
          "Misrak Azenet Berbere",
          "Misrak Azenet Berbere",
          "Misrak Azenet Berbere",
          "Misrak Azenet Berbere",
          "Misrak Azenet Berbere",
          "Alicho Woriro",
          "Alicho Woriro",
          "Alicho Woriro",
          "Alicho Woriro",
          "Alicho Woriro",
          "Alicho Woriro",
          "Alicho Woriro",
          "Alicho Woriro",
          "Alicho Woriro",
          "Alicho Woriro",
          "Alicho Woriro",
          "Sigmo",
          "Sigmo"
         ],
         "xaxis": "x",
         "yaxis": "y"
        }
       ],
       "layout": {
        "barmode": "relative",
        "legend": {
         "tracegroupgap": 0
        },
        "template": {
         "data": {
          "bar": [
           {
            "error_x": {
             "color": "#2a3f5f"
            },
            "error_y": {
             "color": "#2a3f5f"
            },
            "marker": {
             "line": {
              "color": "#E5ECF6",
              "width": 0.5
             },
             "pattern": {
              "fillmode": "overlay",
              "size": 10,
              "solidity": 0.2
             }
            },
            "type": "bar"
           }
          ],
          "barpolar": [
           {
            "marker": {
             "line": {
              "color": "#E5ECF6",
              "width": 0.5
             },
             "pattern": {
              "fillmode": "overlay",
              "size": 10,
              "solidity": 0.2
             }
            },
            "type": "barpolar"
           }
          ],
          "carpet": [
           {
            "aaxis": {
             "endlinecolor": "#2a3f5f",
             "gridcolor": "white",
             "linecolor": "white",
             "minorgridcolor": "white",
             "startlinecolor": "#2a3f5f"
            },
            "baxis": {
             "endlinecolor": "#2a3f5f",
             "gridcolor": "white",
             "linecolor": "white",
             "minorgridcolor": "white",
             "startlinecolor": "#2a3f5f"
            },
            "type": "carpet"
           }
          ],
          "choropleth": [
           {
            "colorbar": {
             "outlinewidth": 0,
             "ticks": ""
            },
            "type": "choropleth"
           }
          ],
          "contour": [
           {
            "colorbar": {
             "outlinewidth": 0,
             "ticks": ""
            },
            "colorscale": [
             [
              0,
              "#0d0887"
             ],
             [
              0.1111111111111111,
              "#46039f"
             ],
             [
              0.2222222222222222,
              "#7201a8"
             ],
             [
              0.3333333333333333,
              "#9c179e"
             ],
             [
              0.4444444444444444,
              "#bd3786"
             ],
             [
              0.5555555555555556,
              "#d8576b"
             ],
             [
              0.6666666666666666,
              "#ed7953"
             ],
             [
              0.7777777777777778,
              "#fb9f3a"
             ],
             [
              0.8888888888888888,
              "#fdca26"
             ],
             [
              1,
              "#f0f921"
             ]
            ],
            "type": "contour"
           }
          ],
          "contourcarpet": [
           {
            "colorbar": {
             "outlinewidth": 0,
             "ticks": ""
            },
            "type": "contourcarpet"
           }
          ],
          "heatmap": [
           {
            "colorbar": {
             "outlinewidth": 0,
             "ticks": ""
            },
            "colorscale": [
             [
              0,
              "#0d0887"
             ],
             [
              0.1111111111111111,
              "#46039f"
             ],
             [
              0.2222222222222222,
              "#7201a8"
             ],
             [
              0.3333333333333333,
              "#9c179e"
             ],
             [
              0.4444444444444444,
              "#bd3786"
             ],
             [
              0.5555555555555556,
              "#d8576b"
             ],
             [
              0.6666666666666666,
              "#ed7953"
             ],
             [
              0.7777777777777778,
              "#fb9f3a"
             ],
             [
              0.8888888888888888,
              "#fdca26"
             ],
             [
              1,
              "#f0f921"
             ]
            ],
            "type": "heatmap"
           }
          ],
          "heatmapgl": [
           {
            "colorbar": {
             "outlinewidth": 0,
             "ticks": ""
            },
            "colorscale": [
             [
              0,
              "#0d0887"
             ],
             [
              0.1111111111111111,
              "#46039f"
             ],
             [
              0.2222222222222222,
              "#7201a8"
             ],
             [
              0.3333333333333333,
              "#9c179e"
             ],
             [
              0.4444444444444444,
              "#bd3786"
             ],
             [
              0.5555555555555556,
              "#d8576b"
             ],
             [
              0.6666666666666666,
              "#ed7953"
             ],
             [
              0.7777777777777778,
              "#fb9f3a"
             ],
             [
              0.8888888888888888,
              "#fdca26"
             ],
             [
              1,
              "#f0f921"
             ]
            ],
            "type": "heatmapgl"
           }
          ],
          "histogram": [
           {
            "marker": {
             "pattern": {
              "fillmode": "overlay",
              "size": 10,
              "solidity": 0.2
             }
            },
            "type": "histogram"
           }
          ],
          "histogram2d": [
           {
            "colorbar": {
             "outlinewidth": 0,
             "ticks": ""
            },
            "colorscale": [
             [
              0,
              "#0d0887"
             ],
             [
              0.1111111111111111,
              "#46039f"
             ],
             [
              0.2222222222222222,
              "#7201a8"
             ],
             [
              0.3333333333333333,
              "#9c179e"
             ],
             [
              0.4444444444444444,
              "#bd3786"
             ],
             [
              0.5555555555555556,
              "#d8576b"
             ],
             [
              0.6666666666666666,
              "#ed7953"
             ],
             [
              0.7777777777777778,
              "#fb9f3a"
             ],
             [
              0.8888888888888888,
              "#fdca26"
             ],
             [
              1,
              "#f0f921"
             ]
            ],
            "type": "histogram2d"
           }
          ],
          "histogram2dcontour": [
           {
            "colorbar": {
             "outlinewidth": 0,
             "ticks": ""
            },
            "colorscale": [
             [
              0,
              "#0d0887"
             ],
             [
              0.1111111111111111,
              "#46039f"
             ],
             [
              0.2222222222222222,
              "#7201a8"
             ],
             [
              0.3333333333333333,
              "#9c179e"
             ],
             [
              0.4444444444444444,
              "#bd3786"
             ],
             [
              0.5555555555555556,
              "#d8576b"
             ],
             [
              0.6666666666666666,
              "#ed7953"
             ],
             [
              0.7777777777777778,
              "#fb9f3a"
             ],
             [
              0.8888888888888888,
              "#fdca26"
             ],
             [
              1,
              "#f0f921"
             ]
            ],
            "type": "histogram2dcontour"
           }
          ],
          "mesh3d": [
           {
            "colorbar": {
             "outlinewidth": 0,
             "ticks": ""
            },
            "type": "mesh3d"
           }
          ],
          "parcoords": [
           {
            "line": {
             "colorbar": {
              "outlinewidth": 0,
              "ticks": ""
             }
            },
            "type": "parcoords"
           }
          ],
          "pie": [
           {
            "automargin": true,
            "type": "pie"
           }
          ],
          "scatter": [
           {
            "fillpattern": {
             "fillmode": "overlay",
             "size": 10,
             "solidity": 0.2
            },
            "type": "scatter"
           }
          ],
          "scatter3d": [
           {
            "line": {
             "colorbar": {
              "outlinewidth": 0,
              "ticks": ""
             }
            },
            "marker": {
             "colorbar": {
              "outlinewidth": 0,
              "ticks": ""
             }
            },
            "type": "scatter3d"
           }
          ],
          "scattercarpet": [
           {
            "marker": {
             "colorbar": {
              "outlinewidth": 0,
              "ticks": ""
             }
            },
            "type": "scattercarpet"
           }
          ],
          "scattergeo": [
           {
            "marker": {
             "colorbar": {
              "outlinewidth": 0,
              "ticks": ""
             }
            },
            "type": "scattergeo"
           }
          ],
          "scattergl": [
           {
            "marker": {
             "colorbar": {
              "outlinewidth": 0,
              "ticks": ""
             }
            },
            "type": "scattergl"
           }
          ],
          "scattermapbox": [
           {
            "marker": {
             "colorbar": {
              "outlinewidth": 0,
              "ticks": ""
             }
            },
            "type": "scattermapbox"
           }
          ],
          "scatterpolar": [
           {
            "marker": {
             "colorbar": {
              "outlinewidth": 0,
              "ticks": ""
             }
            },
            "type": "scatterpolar"
           }
          ],
          "scatterpolargl": [
           {
            "marker": {
             "colorbar": {
              "outlinewidth": 0,
              "ticks": ""
             }
            },
            "type": "scatterpolargl"
           }
          ],
          "scatterternary": [
           {
            "marker": {
             "colorbar": {
              "outlinewidth": 0,
              "ticks": ""
             }
            },
            "type": "scatterternary"
           }
          ],
          "surface": [
           {
            "colorbar": {
             "outlinewidth": 0,
             "ticks": ""
            },
            "colorscale": [
             [
              0,
              "#0d0887"
             ],
             [
              0.1111111111111111,
              "#46039f"
             ],
             [
              0.2222222222222222,
              "#7201a8"
             ],
             [
              0.3333333333333333,
              "#9c179e"
             ],
             [
              0.4444444444444444,
              "#bd3786"
             ],
             [
              0.5555555555555556,
              "#d8576b"
             ],
             [
              0.6666666666666666,
              "#ed7953"
             ],
             [
              0.7777777777777778,
              "#fb9f3a"
             ],
             [
              0.8888888888888888,
              "#fdca26"
             ],
             [
              1,
              "#f0f921"
             ]
            ],
            "type": "surface"
           }
          ],
          "table": [
           {
            "cells": {
             "fill": {
              "color": "#EBF0F8"
             },
             "line": {
              "color": "white"
             }
            },
            "header": {
             "fill": {
              "color": "#C8D4E3"
             },
             "line": {
              "color": "white"
             }
            },
            "type": "table"
           }
          ]
         },
         "layout": {
          "annotationdefaults": {
           "arrowcolor": "#2a3f5f",
           "arrowhead": 0,
           "arrowwidth": 1
          },
          "autotypenumbers": "strict",
          "coloraxis": {
           "colorbar": {
            "outlinewidth": 0,
            "ticks": ""
           }
          },
          "colorscale": {
           "diverging": [
            [
             0,
             "#8e0152"
            ],
            [
             0.1,
             "#c51b7d"
            ],
            [
             0.2,
             "#de77ae"
            ],
            [
             0.3,
             "#f1b6da"
            ],
            [
             0.4,
             "#fde0ef"
            ],
            [
             0.5,
             "#f7f7f7"
            ],
            [
             0.6,
             "#e6f5d0"
            ],
            [
             0.7,
             "#b8e186"
            ],
            [
             0.8,
             "#7fbc41"
            ],
            [
             0.9,
             "#4d9221"
            ],
            [
             1,
             "#276419"
            ]
           ],
           "sequential": [
            [
             0,
             "#0d0887"
            ],
            [
             0.1111111111111111,
             "#46039f"
            ],
            [
             0.2222222222222222,
             "#7201a8"
            ],
            [
             0.3333333333333333,
             "#9c179e"
            ],
            [
             0.4444444444444444,
             "#bd3786"
            ],
            [
             0.5555555555555556,
             "#d8576b"
            ],
            [
             0.6666666666666666,
             "#ed7953"
            ],
            [
             0.7777777777777778,
             "#fb9f3a"
            ],
            [
             0.8888888888888888,
             "#fdca26"
            ],
            [
             1,
             "#f0f921"
            ]
           ],
           "sequentialminus": [
            [
             0,
             "#0d0887"
            ],
            [
             0.1111111111111111,
             "#46039f"
            ],
            [
             0.2222222222222222,
             "#7201a8"
            ],
            [
             0.3333333333333333,
             "#9c179e"
            ],
            [
             0.4444444444444444,
             "#bd3786"
            ],
            [
             0.5555555555555556,
             "#d8576b"
            ],
            [
             0.6666666666666666,
             "#ed7953"
            ],
            [
             0.7777777777777778,
             "#fb9f3a"
            ],
            [
             0.8888888888888888,
             "#fdca26"
            ],
            [
             1,
             "#f0f921"
            ]
           ]
          },
          "colorway": [
           "#636efa",
           "#EF553B",
           "#00cc96",
           "#ab63fa",
           "#FFA15A",
           "#19d3f3",
           "#FF6692",
           "#B6E880",
           "#FF97FF",
           "#FECB52"
          ],
          "font": {
           "color": "#2a3f5f"
          },
          "geo": {
           "bgcolor": "white",
           "lakecolor": "white",
           "landcolor": "#E5ECF6",
           "showlakes": true,
           "showland": true,
           "subunitcolor": "white"
          },
          "hoverlabel": {
           "align": "left"
          },
          "hovermode": "closest",
          "mapbox": {
           "style": "light"
          },
          "paper_bgcolor": "white",
          "plot_bgcolor": "#E5ECF6",
          "polar": {
           "angularaxis": {
            "gridcolor": "white",
            "linecolor": "white",
            "ticks": ""
           },
           "bgcolor": "#E5ECF6",
           "radialaxis": {
            "gridcolor": "white",
            "linecolor": "white",
            "ticks": ""
           }
          },
          "scene": {
           "xaxis": {
            "backgroundcolor": "#E5ECF6",
            "gridcolor": "white",
            "gridwidth": 2,
            "linecolor": "white",
            "showbackground": true,
            "ticks": "",
            "zerolinecolor": "white"
           },
           "yaxis": {
            "backgroundcolor": "#E5ECF6",
            "gridcolor": "white",
            "gridwidth": 2,
            "linecolor": "white",
            "showbackground": true,
            "ticks": "",
            "zerolinecolor": "white"
           },
           "zaxis": {
            "backgroundcolor": "#E5ECF6",
            "gridcolor": "white",
            "gridwidth": 2,
            "linecolor": "white",
            "showbackground": true,
            "ticks": "",
            "zerolinecolor": "white"
           }
          },
          "shapedefaults": {
           "line": {
            "color": "#2a3f5f"
           }
          },
          "ternary": {
           "aaxis": {
            "gridcolor": "white",
            "linecolor": "white",
            "ticks": ""
           },
           "baxis": {
            "gridcolor": "white",
            "linecolor": "white",
            "ticks": ""
           },
           "bgcolor": "#E5ECF6",
           "caxis": {
            "gridcolor": "white",
            "linecolor": "white",
            "ticks": ""
           }
          },
          "title": {
           "x": 0.05
          },
          "xaxis": {
           "automargin": true,
           "gridcolor": "white",
           "linecolor": "white",
           "ticks": "",
           "title": {
            "standoff": 15
           },
           "zerolinecolor": "white",
           "zerolinewidth": 2
          },
          "yaxis": {
           "automargin": true,
           "gridcolor": "white",
           "linecolor": "white",
           "ticks": "",
           "title": {
            "standoff": 15
           },
           "zerolinecolor": "white",
           "zerolinewidth": 2
          }
         }
        },
        "title": {
         "text": "Histogram of Woreda"
        },
        "xaxis": {
         "anchor": "y",
         "domain": [
          0,
          1
         ],
         "title": {
          "text": "Woreda"
         }
        },
        "yaxis": {
         "anchor": "x",
         "domain": [
          0,
          1
         ],
         "title": {
          "text": "count"
         }
        }
       }
      }
     },
     "metadata": {},
     "output_type": "display_data"
    }
   ],
   "source": [
    "import plotly.express as px\n",
    "\n",
    "# Assuming you already have the 'df' DataFrame loaded with data\n",
    "\n",
    "# Plot histogram for 'Woreda' column\n",
    "fig = px.histogram(df, x='Woreda', title='Histogram of Woreda')\n",
    "fig.show()\n"
   ]
  },
  {
   "cell_type": "code",
   "execution_count": 25,
   "metadata": {},
   "outputs": [
    {
     "data": {
      "application/vnd.plotly.v1+json": {
       "config": {
        "plotlyServerURL": "https://plot.ly"
       },
       "data": [
        {
         "marker": {
          "color": "blue"
         },
         "name": "NEAR_DIST",
         "type": "box",
         "xaxis": "x",
         "y": [
          96.6364711996908,
          691.6080460061805,
          217.5624452111222,
          30.31815013732375,
          214.9083855619479,
          407.1712998866964,
          190.6093974077847,
          239.7337404076441,
          384.8979519594878,
          144.0963824630916,
          99.62562722979757,
          133.6664798570734,
          69.06262882673367,
          96.72690019371522,
          234.5811109770887,
          213.0279733438463,
          511.7249984860369,
          222.7814638500137,
          217.1022146891997,
          144.5358135198661,
          680.3134537490841,
          2768.213029057296,
          255.391322843,
          122.8178623014452,
          168.2350362957125,
          368.7510531969474,
          584.154972822244,
          301.3171939226759,
          96.86020882694478,
          95.73111173014638,
          487.0029760558285,
          140.3187978133963,
          368.4355553936638,
          190.6319228925702,
          316.3668726462074,
          518.7867699632558,
          549.4427943450024,
          524.1010297994412,
          124.6880180503151,
          302.3711455369079,
          148.0562282257207,
          211.9527033610068,
          98.1289884254169,
          35.21595078280613,
          380.4505049065675,
          427.1714691031522,
          340.3285850554885,
          69.09157509036464,
          43.5314248549879,
          375.3390052705766,
          262.7382252474069,
          546.5449612319354,
          223.8100338999277,
          25.98248751290167,
          150.7388730208542,
          221.0615559786605,
          66.11723121113083,
          530.7463401366588,
          356.1052055388527,
          78.07499692436376,
          147.577602546939,
          148.7447955377434,
          187.1203106569498,
          578.8357575207781,
          99.00434943023012,
          180.0171812635606,
          55.10372243498431,
          72.66565433500924,
          162.5529629661786,
          376.6872388125238,
          115.0152016215659,
          6231.434242806816,
          11942.9203843918,
          6212.833355139387,
          12855.44513761542,
          697.8563786815188,
          1468.442514613447,
          78.27409814145099,
          154.8731831016665,
          251.3712883205834,
          25.63318411878297,
          661.7969292596853,
          213.8977166877399,
          233.2823953302837,
          322.5892505056374,
          50.56109541789919,
          94.6886596240826,
          245.3342597310527,
          260.9205717362716,
          232.9090720909558,
          82.772652482312,
          667.4882498929079,
          5132.034931176965,
          3606.0806784477,
          3744.614054371114,
          2552.955481812132,
          2506.789029332755,
          62.44238344710466,
          682.7652453657481,
          493.6425411743609,
          69.91059740480989,
          70.92638790772912,
          438.0472407570808,
          244.3965413398754,
          176.9188346130479,
          575.7782513298852,
          365.3623507521214,
          180.2324078416707,
          518.6238288911629,
          343.1552484216651,
          989.0288719929009,
          23.64036535044536,
          262.1304136670018,
          338.640348994911,
          83.61522260347934,
          1283.119222685208,
          456.764141762861,
          151.7190482404595,
          280.7864226138439,
          306.5478283066388,
          412.9312298524693,
          34.90540700023296,
          177.9739551368149,
          641.6313402562852,
          51.7996471140418,
          17.61358252085036,
          380.263605619967,
          188.2612627700436,
          389.8786904168682,
          819.1690640166546,
          222.9952122632666,
          411.1236233559893,
          99.785758056664,
          163.7594897875299,
          175.1056498994815,
          300.5924493362834,
          525.3256633792304,
          88.51271078094871,
          697.070520684291,
          599.1856411093872,
          183.5594170781139,
          57.73763704377923,
          378.3352752609563,
          506.8678465895598,
          288.3560866617192,
          652.7672805998242,
          420.0578369285219,
          435.8291850851415,
          168.9791607469459,
          281.8504325100893,
          105.4923239556618,
          364.5652963341974,
          220.9409800830365,
          89.80400370136945,
          159.3846819289145,
          59.30366181526508,
          85.06807961122112,
          288.3659981429664,
          408.1832991003972,
          110.5830939481948,
          88.11192719563033,
          111.5614754311424,
          195.2759570192341,
          81.23554880710041,
          182.060082217908,
          173.4290449970584,
          71.67315451682659,
          497.9386815809781,
          382.7528920654103,
          97.62260904901582,
          138.9375905164123,
          277.0544687534854,
          136.1288666260096,
          64.42291595685383,
          415.8036934656366,
          216.7985578578309,
          76.3589992869933,
          102.559842273395,
          139.1539571512548,
          956.2769940599125,
          182.3170999715223,
          128.4143923530311,
          114.7462886589296,
          262.317960584757,
          311.75781297254,
          99.92385295724705,
          348.2540496691199,
          145.2303503937714,
          113.255634297336,
          1136.949229041895,
          372.6157325133458,
          143.0239727667421,
          307.4113138291668,
          30.97843434445082,
          149.3006712326299,
          53.46827427640647,
          116.0899066919954,
          84.9171737514323,
          67.12796208871917,
          634.2533094837212,
          435.8665273126907,
          78.0458353808306,
          283.7469506954308,
          279.7141358564378,
          112.5662157373418,
          40.24350395743875,
          173.2474136845616,
          256.2346686789497,
          217.5286177679791,
          29.4655925047869,
          892.1186709020677,
          590.3628373146371,
          24.98969093188842,
          20.27511455527184,
          175.0990767232319,
          199.269870449408,
          224.8993880068798,
          289.1978061690883,
          193.4291233927096,
          17.00478584659074,
          582.9182450415221,
          72.71664626390732,
          282.0556716335109,
          149.4818831480676,
          119.2317099566132,
          211.9802059891022,
          623.8838134495394,
          495.5040797969492,
          457.8214732136171,
          540.0919697974348,
          324.1127416804562,
          181.2861416964842,
          147.3143250986141,
          395.6796663403875,
          234.4537248828452,
          355.1859583746206,
          217.5156876540991,
          744.1909509296347,
          41.00834108081504,
          804.2706112483811,
          478.5349105261671,
          752.9343152133041,
          544.1854585342966,
          589.840734067794,
          661.8188926198732,
          48.53524702671245,
          30.65111798326597,
          488.7673603364822,
          363.0227134818449,
          360.3477553671657
         ],
         "yaxis": "y"
        },
        {
         "marker": {
          "color": "green"
         },
         "name": "metric",
         "type": "box",
         "xaxis": "x2",
         "y": [
          253459.2367191068,
          160009.5773832461,
          217699.9260567665,
          136891.5212719888,
          124815.2253852123,
          174303.1448813489,
          115832.1782980477,
          229518.8521152658,
          153249.0705687592,
          243165.5181425172,
          138693.8811669254,
          596207.8614474408,
          124794.1821786945,
          1964852.787238381,
          132644.5805802886,
          132644.5805802886,
          194506.2450912247,
          150639.7824318229,
          41127.51771477913,
          14938.49498632483,
          712.0342280091082,
          615.5843993315029,
          61818.6864368047,
          14153.73737654201,
          4.766521897780413,
          8428.260527806475,
          60744.99895864137,
          5498.137235730458,
          124815.2253852123,
          249448.558306867,
          11383.00087668015,
          4329.795227499982,
          13419.05211834962,
          392.6628273210162,
          11285.85512078554,
          1505.496964277816,
          28351.71241733541,
          835.5197320220348,
          18534.30957750812,
          130811.6950053391,
          10905.38587452429,
          57438.72964018219,
          396649.7916304982,
          311846.0105423033,
          7398.73524961673,
          3665.723630195513,
          2438.71750765925,
          64.55664578758791,
          38761.75589349315,
          292.6218226979391,
          34451.29790757748,
          93839.26613245485,
          7223.882633274887,
          54660.47648414843,
          748.3382453440825,
          9582.583364997421,
          79247.76511027016,
          170140.5980844286,
          89632.86339614223,
          195055.0128322576,
          846185.8131461248,
          906946.7774300497,
          966355.6421902915,
          823438.3480156994,
          941053.1393092148,
          102631.0474842084,
          164715.1016283477,
          212596.9347936639,
          430849.3932161929,
          542336.8971512103,
          2724.148406670335,
          10292.36782252949,
          2351.395344203186,
          10292.36782252949,
          2351.395344203186,
          39536.49764192609,
          1294.441805014963,
          15873.30231915356,
          798.6018087340258,
          17662.0090558104,
          59234.38922603314,
          356.0976672322179,
          189529.4311089741,
          423862.6061676692,
          91551.94898194922,
          91551.94898194922,
          120900.2600367395,
          1047.737619772475,
          21801.80134880209,
          17694.35819122706,
          53130.22404481468,
          154604.1304892287,
          34943.8377932012,
          53130.22404481468,
          53130.22404481468,
          34943.8377932012,
          34943.8377932012,
          990.8302829138372,
          6775.748711676592,
          127379.8138911427,
          174303.1448813489,
          212.6945352551237,
          16217.94167978457,
          253468.5456471947,
          253468.5456471947,
          253468.5456471947,
          711.4155440105221,
          2795.146450690694,
          136427.1782104547,
          5901.981616498222,
          703.8622998971884,
          3024.525568511844,
          2389.153914727225,
          1137.112970543824,
          1619.786059042484,
          124108.850526243,
          3046.223669395361,
          8495.377790603916,
          29769.26274137877,
          31749.99275003482,
          29769.26274137877,
          12792.77161627986,
          255296.3555152184,
          1763.422687979069,
          6349.609947104457,
          140601.8913247921,
          2142.9098654003,
          621.5128946852003,
          8963.77733238255,
          8021.820355392348,
          11285.85512078554,
          2173.584765102344,
          98.09701813950113,
          12103.55593359559,
          17394.63224658562,
          449.5149862821535,
          1990.07226168887,
          32757.47106408048,
          1417.329944083856,
          1417.329944083856,
          2021.352902975851,
          16204.55110468365,
          63.7312476086514,
          63.7312476086514,
          10248.45816967383,
          10248.45816967383,
          90266.17460208845,
          69.69013280450275,
          424265.5386448323,
          424265.5386448323,
          887338.3911766936,
          42159.26860146575,
          13705.8352823509,
          10482.86305501483,
          19775.89534533698,
          56374.22099908721,
          2793.818116755554,
          230535.4250949211,
          206793.8606694331,
          224404.7390356766,
          206793.8606694331,
          13388.569599563,
          970585.9530976611,
          135946.2350363095,
          8442.746512292857,
          200970.346095831,
          21744.83513710526,
          428161.5564425463,
          428161.5564425463,
          14443.14628932435,
          13580.44178026544,
          3329.425198548387,
          23171.53354166426,
          30908.68563210395,
          41842.81299500816,
          13278.7483964727,
          825.6264312168398,
          30806.14245380143,
          2.898498606757737,
          739.1852186072076,
          664.3192849099141,
          354.8850201166062,
          86.10839652862862,
          2180.238465821686,
          1602.473640548658,
          79.21137820806686,
          94.60730459821568,
          821.506325670822,
          6362.548316208827,
          44393.88091015633,
          18336.31048293318,
          238.6415460327767,
          8442.486116521526,
          1760.254920592202,
          18003.65054652771,
          5005.726484872852,
          3223.868144052682,
          261902.1375221267,
          555.8053641087342,
          46095.00080038904,
          291731.4160607171,
          330929.8020788722,
          291731.4160607171,
          2606.863200731415,
          1259743.774054053,
          280717.0647631518,
          51417.82957871904,
          15314.5562069875,
          432005.7398352941,
          3292.414382400093,
          41594.65376584117,
          9409.285245935806,
          14397.39288980864,
          3435.410088567155,
          3435.410088567155,
          3292.414382400093,
          3292.414382400093,
          5396.841393202199,
          954.1250655622563,
          59273.69052373531,
          55786.36365230708,
          22547.49284436076,
          22851.20205293391,
          6925.905135715047,
          6925.905135715047,
          121557.6039934788,
          142775.5572366602,
          596207.8614474408,
          778740.7658694367,
          2585.752811907388,
          12140.63781181748,
          4051.6671443168,
          15777.09967871947,
          15777.09967871947,
          15777.09967871947,
          263435.0448848447,
          15777.09967871947,
          40718.28250016102,
          40718.28250016102,
          40718.28250016102,
          12470.04505305689,
          12470.04505305689,
          280.0081046396362,
          11255.6131643065,
          130046.0839573793,
          6835.449429454501,
          5588.690404281914,
          11255.6131643065,
          5498.137235730458,
          1505.496964277816
         ],
         "yaxis": "y2"
        },
        {
         "marker": {
          "color": "orange"
         },
         "name": "POPULATION",
         "type": "box",
         "xaxis": "x3",
         "y": [
          485.7903242111206,
          4963.21462869644,
          611.3215298652649,
          6052.921845912932,
          474.057478427887,
          480.5225591659546,
          695.1304211616515,
          335.3945145606995,
          448.6251516342163,
          398.4211072921753,
          409.2163324356079,
          343.1260981559754,
          562.4077305793762,
          636.0832600593566,
          467.7078704833984,
          450.0966968536377,
          675.1072287559509,
          373.7020545005798,
          2138.246538162232,
          1697.372858047485,
          460.8640689849854,
          661.5621728897096,
          2890.392656326294,
          1060.501466751099,
          1676.365303993225,
          2748.72342300415,
          2871.870477676393,
          1313.135081291199,
          1289.718379020691,
          1634.991061210632,
          998.3770208358766,
          1114.540257930756,
          638.8274846076965,
          1105.04391002655,
          870.444784641266,
          1108.687779426574,
          818.8598995208741,
          1737.31551837921,
          1227.750956535339,
          2683.511394023897,
          2108.257166862488,
          487.9302520751954,
          1639.913969039917,
          4878.14495277405,
          756.6890282630922,
          779.6819820404054,
          965.3607244491578,
          822.109877586365,
          700.2477622032168,
          718.4266738891603,
          729.0365900993347,
          1036.954199790955,
          996.6135168075559,
          1445.193375587464,
          906.2434320449825,
          954.1546573638914,
          823.1592626571655,
          1074.565496444703,
          830.0277528762814,
          580.0167031288149,
          755.3168234825134,
          794.8935718536375,
          1670.13202571869,
          760.7850241661074,
          566.6802854537964,
          110.9256820678711,
          531.2118434906004,
          1234.744259357452,
          374.1882262229919,
          1393.364026546478,
          105.8876399993896,
          505.8713569641114,
          587.0996313095092,
          450.3816280364991,
          467.4373130798341,
          258.0381212234497,
          500.3495216369628,
          null,
          217.4494433403015,
          1153.267485141754,
          855.1442260742186,
          667.8147897720341,
          146.3232026100159,
          1526.047327041625,
          636.9780249595641,
          560.0606784820556,
          396.0546035766602,
          495.2339162826538,
          952.9534082412719,
          228.1181383132935,
          1183.916589260101,
          364.5823931694031,
          245.9013862609864,
          170.463327884674,
          190.3482794761658,
          567.9864301681519,
          415.4794325828553,
          634.6029229164124,
          494.1257576942445,
          708.8463258743285,
          8654.280290603638,
          10604.60922431946,
          10742.38714122772,
          9142.196159362795,
          7378.768060684204,
          10462.58671760559,
          675.5356760025023,
          1185.155321121216,
          628.139814376831,
          464.2076501846312,
          919.6422233581543,
          614.4826612472534,
          367.8011951446533,
          838.2989015579224,
          429.6840801239013,
          133.949330329895,
          775.7319097518921,
          913.8292388916018,
          779.9254646301268,
          697.8458881378174,
          417.8224687576295,
          369.8535223007203,
          480.9928493499755,
          449.4519395828247,
          238.9556264877319,
          830.8575105667113,
          1012.349052906036,
          774.1953325271609,
          1071.314752578735,
          553.9305324554442,
          829.6087646484375,
          1746.691420078278,
          588.8627924919128,
          1260.697084426881,
          742.2206859588623,
          690.7371459007263,
          695.4274964332584,
          1538.006453037262,
          61.93323945999145,
          45.71916627883911,
          57.30819272994995,
          3251.415415287018,
          93.135338306427,
          55.8963327407837,
          1446.063897132874,
          989.8787188529967,
          459.5554890632632,
          425.7861990928651,
          995.2102708816527,
          1056.212489128113,
          1946.910461425781,
          1091.663955688477,
          1564.028968811035,
          1113.01652431488,
          2047.831129550934,
          2649.126378536225,
          2623.192077159883,
          1947.107361793518,
          1505.134767055511,
          1408.253712654114,
          1533.252717018127,
          919.359627723694,
          1093.722822666168,
          1748.075991630554,
          980.5616955757142,
          3269.837214469908,
          2242.469892501831,
          5072.468629837037,
          5211.644974708559,
          1697.720404148103,
          733.0596251487732,
          1122.750061035156,
          774.324213027954,
          1158.736248970032,
          937.7541208267213,
          2679.881488323213,
          802.1956663131715,
          1667.447139263153,
          1042.175849914551,
          1154.037437915803,
          234.4420909881592,
          1123.32569026947,
          819.5507969856262,
          783.0693759918212,
          962.5910873413084,
          1102.895404338836,
          474.9744777679442,
          149.8866648674011,
          2355.611297130586,
          4658.511507987973,
          16466.43640995025,
          362.3879690170288,
          2354.287754058838,
          827.5675535202025,
          1325.342555046082,
          2717.382323265076,
          1231.648017883301,
          4373.319407463073,
          4838.61888217926,
          5801.966189384461,
          3858.888503074647,
          3551.201108932494,
          3734.57018184662,
          3249.950499534607,
          3218.430734634399,
          430.7300033569337,
          821.920603275299,
          530.162392616272,
          399.7412099838257,
          892.8180222511295,
          2231.339382171631,
          2421.72027015686,
          1078.938637733459,
          1483.402146339416,
          1512.558029174804,
          984.5629835128785,
          837.462624549866,
          722.6413507461547,
          895.3347568511964,
          2159.492692947387,
          1207.917956352234,
          1688.269916534424,
          2291.76556110382,
          2253.904487609863,
          2230.518634796142,
          1621.033840179443,
          1664.03325176239,
          3448.802480697631,
          2301.584243774414,
          2330.471534729004,
          2052.22681427002,
          2006.994565963746,
          1576.694771766663,
          1976.444081306457,
          1679.759503364563,
          2099.685497283936,
          1636.43541431427,
          1634.012313842774,
          1603.079982757569,
          1669.278028488159,
          830.5925130844115,
          863.9708614349363,
          877.603680610657,
          924.6308441162107,
          1389.306383132934,
          1254.948216438293,
          1103.071758270264,
          1498.025373458862,
          1298.270575523377,
          1175.95246219635
         ],
         "yaxis": "y3"
        }
       ],
       "layout": {
        "template": {
         "data": {
          "bar": [
           {
            "error_x": {
             "color": "#2a3f5f"
            },
            "error_y": {
             "color": "#2a3f5f"
            },
            "marker": {
             "line": {
              "color": "#E5ECF6",
              "width": 0.5
             },
             "pattern": {
              "fillmode": "overlay",
              "size": 10,
              "solidity": 0.2
             }
            },
            "type": "bar"
           }
          ],
          "barpolar": [
           {
            "marker": {
             "line": {
              "color": "#E5ECF6",
              "width": 0.5
             },
             "pattern": {
              "fillmode": "overlay",
              "size": 10,
              "solidity": 0.2
             }
            },
            "type": "barpolar"
           }
          ],
          "carpet": [
           {
            "aaxis": {
             "endlinecolor": "#2a3f5f",
             "gridcolor": "white",
             "linecolor": "white",
             "minorgridcolor": "white",
             "startlinecolor": "#2a3f5f"
            },
            "baxis": {
             "endlinecolor": "#2a3f5f",
             "gridcolor": "white",
             "linecolor": "white",
             "minorgridcolor": "white",
             "startlinecolor": "#2a3f5f"
            },
            "type": "carpet"
           }
          ],
          "choropleth": [
           {
            "colorbar": {
             "outlinewidth": 0,
             "ticks": ""
            },
            "type": "choropleth"
           }
          ],
          "contour": [
           {
            "colorbar": {
             "outlinewidth": 0,
             "ticks": ""
            },
            "colorscale": [
             [
              0,
              "#0d0887"
             ],
             [
              0.1111111111111111,
              "#46039f"
             ],
             [
              0.2222222222222222,
              "#7201a8"
             ],
             [
              0.3333333333333333,
              "#9c179e"
             ],
             [
              0.4444444444444444,
              "#bd3786"
             ],
             [
              0.5555555555555556,
              "#d8576b"
             ],
             [
              0.6666666666666666,
              "#ed7953"
             ],
             [
              0.7777777777777778,
              "#fb9f3a"
             ],
             [
              0.8888888888888888,
              "#fdca26"
             ],
             [
              1,
              "#f0f921"
             ]
            ],
            "type": "contour"
           }
          ],
          "contourcarpet": [
           {
            "colorbar": {
             "outlinewidth": 0,
             "ticks": ""
            },
            "type": "contourcarpet"
           }
          ],
          "heatmap": [
           {
            "colorbar": {
             "outlinewidth": 0,
             "ticks": ""
            },
            "colorscale": [
             [
              0,
              "#0d0887"
             ],
             [
              0.1111111111111111,
              "#46039f"
             ],
             [
              0.2222222222222222,
              "#7201a8"
             ],
             [
              0.3333333333333333,
              "#9c179e"
             ],
             [
              0.4444444444444444,
              "#bd3786"
             ],
             [
              0.5555555555555556,
              "#d8576b"
             ],
             [
              0.6666666666666666,
              "#ed7953"
             ],
             [
              0.7777777777777778,
              "#fb9f3a"
             ],
             [
              0.8888888888888888,
              "#fdca26"
             ],
             [
              1,
              "#f0f921"
             ]
            ],
            "type": "heatmap"
           }
          ],
          "heatmapgl": [
           {
            "colorbar": {
             "outlinewidth": 0,
             "ticks": ""
            },
            "colorscale": [
             [
              0,
              "#0d0887"
             ],
             [
              0.1111111111111111,
              "#46039f"
             ],
             [
              0.2222222222222222,
              "#7201a8"
             ],
             [
              0.3333333333333333,
              "#9c179e"
             ],
             [
              0.4444444444444444,
              "#bd3786"
             ],
             [
              0.5555555555555556,
              "#d8576b"
             ],
             [
              0.6666666666666666,
              "#ed7953"
             ],
             [
              0.7777777777777778,
              "#fb9f3a"
             ],
             [
              0.8888888888888888,
              "#fdca26"
             ],
             [
              1,
              "#f0f921"
             ]
            ],
            "type": "heatmapgl"
           }
          ],
          "histogram": [
           {
            "marker": {
             "pattern": {
              "fillmode": "overlay",
              "size": 10,
              "solidity": 0.2
             }
            },
            "type": "histogram"
           }
          ],
          "histogram2d": [
           {
            "colorbar": {
             "outlinewidth": 0,
             "ticks": ""
            },
            "colorscale": [
             [
              0,
              "#0d0887"
             ],
             [
              0.1111111111111111,
              "#46039f"
             ],
             [
              0.2222222222222222,
              "#7201a8"
             ],
             [
              0.3333333333333333,
              "#9c179e"
             ],
             [
              0.4444444444444444,
              "#bd3786"
             ],
             [
              0.5555555555555556,
              "#d8576b"
             ],
             [
              0.6666666666666666,
              "#ed7953"
             ],
             [
              0.7777777777777778,
              "#fb9f3a"
             ],
             [
              0.8888888888888888,
              "#fdca26"
             ],
             [
              1,
              "#f0f921"
             ]
            ],
            "type": "histogram2d"
           }
          ],
          "histogram2dcontour": [
           {
            "colorbar": {
             "outlinewidth": 0,
             "ticks": ""
            },
            "colorscale": [
             [
              0,
              "#0d0887"
             ],
             [
              0.1111111111111111,
              "#46039f"
             ],
             [
              0.2222222222222222,
              "#7201a8"
             ],
             [
              0.3333333333333333,
              "#9c179e"
             ],
             [
              0.4444444444444444,
              "#bd3786"
             ],
             [
              0.5555555555555556,
              "#d8576b"
             ],
             [
              0.6666666666666666,
              "#ed7953"
             ],
             [
              0.7777777777777778,
              "#fb9f3a"
             ],
             [
              0.8888888888888888,
              "#fdca26"
             ],
             [
              1,
              "#f0f921"
             ]
            ],
            "type": "histogram2dcontour"
           }
          ],
          "mesh3d": [
           {
            "colorbar": {
             "outlinewidth": 0,
             "ticks": ""
            },
            "type": "mesh3d"
           }
          ],
          "parcoords": [
           {
            "line": {
             "colorbar": {
              "outlinewidth": 0,
              "ticks": ""
             }
            },
            "type": "parcoords"
           }
          ],
          "pie": [
           {
            "automargin": true,
            "type": "pie"
           }
          ],
          "scatter": [
           {
            "fillpattern": {
             "fillmode": "overlay",
             "size": 10,
             "solidity": 0.2
            },
            "type": "scatter"
           }
          ],
          "scatter3d": [
           {
            "line": {
             "colorbar": {
              "outlinewidth": 0,
              "ticks": ""
             }
            },
            "marker": {
             "colorbar": {
              "outlinewidth": 0,
              "ticks": ""
             }
            },
            "type": "scatter3d"
           }
          ],
          "scattercarpet": [
           {
            "marker": {
             "colorbar": {
              "outlinewidth": 0,
              "ticks": ""
             }
            },
            "type": "scattercarpet"
           }
          ],
          "scattergeo": [
           {
            "marker": {
             "colorbar": {
              "outlinewidth": 0,
              "ticks": ""
             }
            },
            "type": "scattergeo"
           }
          ],
          "scattergl": [
           {
            "marker": {
             "colorbar": {
              "outlinewidth": 0,
              "ticks": ""
             }
            },
            "type": "scattergl"
           }
          ],
          "scattermapbox": [
           {
            "marker": {
             "colorbar": {
              "outlinewidth": 0,
              "ticks": ""
             }
            },
            "type": "scattermapbox"
           }
          ],
          "scatterpolar": [
           {
            "marker": {
             "colorbar": {
              "outlinewidth": 0,
              "ticks": ""
             }
            },
            "type": "scatterpolar"
           }
          ],
          "scatterpolargl": [
           {
            "marker": {
             "colorbar": {
              "outlinewidth": 0,
              "ticks": ""
             }
            },
            "type": "scatterpolargl"
           }
          ],
          "scatterternary": [
           {
            "marker": {
             "colorbar": {
              "outlinewidth": 0,
              "ticks": ""
             }
            },
            "type": "scatterternary"
           }
          ],
          "surface": [
           {
            "colorbar": {
             "outlinewidth": 0,
             "ticks": ""
            },
            "colorscale": [
             [
              0,
              "#0d0887"
             ],
             [
              0.1111111111111111,
              "#46039f"
             ],
             [
              0.2222222222222222,
              "#7201a8"
             ],
             [
              0.3333333333333333,
              "#9c179e"
             ],
             [
              0.4444444444444444,
              "#bd3786"
             ],
             [
              0.5555555555555556,
              "#d8576b"
             ],
             [
              0.6666666666666666,
              "#ed7953"
             ],
             [
              0.7777777777777778,
              "#fb9f3a"
             ],
             [
              0.8888888888888888,
              "#fdca26"
             ],
             [
              1,
              "#f0f921"
             ]
            ],
            "type": "surface"
           }
          ],
          "table": [
           {
            "cells": {
             "fill": {
              "color": "#EBF0F8"
             },
             "line": {
              "color": "white"
             }
            },
            "header": {
             "fill": {
              "color": "#C8D4E3"
             },
             "line": {
              "color": "white"
             }
            },
            "type": "table"
           }
          ]
         },
         "layout": {
          "annotationdefaults": {
           "arrowcolor": "#2a3f5f",
           "arrowhead": 0,
           "arrowwidth": 1
          },
          "autotypenumbers": "strict",
          "coloraxis": {
           "colorbar": {
            "outlinewidth": 0,
            "ticks": ""
           }
          },
          "colorscale": {
           "diverging": [
            [
             0,
             "#8e0152"
            ],
            [
             0.1,
             "#c51b7d"
            ],
            [
             0.2,
             "#de77ae"
            ],
            [
             0.3,
             "#f1b6da"
            ],
            [
             0.4,
             "#fde0ef"
            ],
            [
             0.5,
             "#f7f7f7"
            ],
            [
             0.6,
             "#e6f5d0"
            ],
            [
             0.7,
             "#b8e186"
            ],
            [
             0.8,
             "#7fbc41"
            ],
            [
             0.9,
             "#4d9221"
            ],
            [
             1,
             "#276419"
            ]
           ],
           "sequential": [
            [
             0,
             "#0d0887"
            ],
            [
             0.1111111111111111,
             "#46039f"
            ],
            [
             0.2222222222222222,
             "#7201a8"
            ],
            [
             0.3333333333333333,
             "#9c179e"
            ],
            [
             0.4444444444444444,
             "#bd3786"
            ],
            [
             0.5555555555555556,
             "#d8576b"
            ],
            [
             0.6666666666666666,
             "#ed7953"
            ],
            [
             0.7777777777777778,
             "#fb9f3a"
            ],
            [
             0.8888888888888888,
             "#fdca26"
            ],
            [
             1,
             "#f0f921"
            ]
           ],
           "sequentialminus": [
            [
             0,
             "#0d0887"
            ],
            [
             0.1111111111111111,
             "#46039f"
            ],
            [
             0.2222222222222222,
             "#7201a8"
            ],
            [
             0.3333333333333333,
             "#9c179e"
            ],
            [
             0.4444444444444444,
             "#bd3786"
            ],
            [
             0.5555555555555556,
             "#d8576b"
            ],
            [
             0.6666666666666666,
             "#ed7953"
            ],
            [
             0.7777777777777778,
             "#fb9f3a"
            ],
            [
             0.8888888888888888,
             "#fdca26"
            ],
            [
             1,
             "#f0f921"
            ]
           ]
          },
          "colorway": [
           "#636efa",
           "#EF553B",
           "#00cc96",
           "#ab63fa",
           "#FFA15A",
           "#19d3f3",
           "#FF6692",
           "#B6E880",
           "#FF97FF",
           "#FECB52"
          ],
          "font": {
           "color": "#2a3f5f"
          },
          "geo": {
           "bgcolor": "white",
           "lakecolor": "white",
           "landcolor": "#E5ECF6",
           "showlakes": true,
           "showland": true,
           "subunitcolor": "white"
          },
          "hoverlabel": {
           "align": "left"
          },
          "hovermode": "closest",
          "mapbox": {
           "style": "light"
          },
          "paper_bgcolor": "white",
          "plot_bgcolor": "#E5ECF6",
          "polar": {
           "angularaxis": {
            "gridcolor": "white",
            "linecolor": "white",
            "ticks": ""
           },
           "bgcolor": "#E5ECF6",
           "radialaxis": {
            "gridcolor": "white",
            "linecolor": "white",
            "ticks": ""
           }
          },
          "scene": {
           "xaxis": {
            "backgroundcolor": "#E5ECF6",
            "gridcolor": "white",
            "gridwidth": 2,
            "linecolor": "white",
            "showbackground": true,
            "ticks": "",
            "zerolinecolor": "white"
           },
           "yaxis": {
            "backgroundcolor": "#E5ECF6",
            "gridcolor": "white",
            "gridwidth": 2,
            "linecolor": "white",
            "showbackground": true,
            "ticks": "",
            "zerolinecolor": "white"
           },
           "zaxis": {
            "backgroundcolor": "#E5ECF6",
            "gridcolor": "white",
            "gridwidth": 2,
            "linecolor": "white",
            "showbackground": true,
            "ticks": "",
            "zerolinecolor": "white"
           }
          },
          "shapedefaults": {
           "line": {
            "color": "#2a3f5f"
           }
          },
          "ternary": {
           "aaxis": {
            "gridcolor": "white",
            "linecolor": "white",
            "ticks": ""
           },
           "baxis": {
            "gridcolor": "white",
            "linecolor": "white",
            "ticks": ""
           },
           "bgcolor": "#E5ECF6",
           "caxis": {
            "gridcolor": "white",
            "linecolor": "white",
            "ticks": ""
           }
          },
          "title": {
           "x": 0.05
          },
          "xaxis": {
           "automargin": true,
           "gridcolor": "white",
           "linecolor": "white",
           "ticks": "",
           "title": {
            "standoff": 15
           },
           "zerolinecolor": "white",
           "zerolinewidth": 2
          },
          "yaxis": {
           "automargin": true,
           "gridcolor": "white",
           "linecolor": "white",
           "ticks": "",
           "title": {
            "standoff": 15
           },
           "zerolinecolor": "white",
           "zerolinewidth": 2
          }
         }
        },
        "title": {
         "text": "Box Plot of Numeric Variables"
        },
        "xaxis": {
         "anchor": "y",
         "domain": [
          0,
          0.2888888888888889
         ]
        },
        "xaxis2": {
         "anchor": "y2",
         "domain": [
          0.35555555555555557,
          0.6444444444444445
         ]
        },
        "xaxis3": {
         "anchor": "y3",
         "domain": [
          0.7111111111111111,
          1
         ]
        },
        "yaxis": {
         "anchor": "x",
         "domain": [
          0,
          1
         ],
         "title": {
          "text": "Value"
         }
        },
        "yaxis2": {
         "anchor": "x2",
         "domain": [
          0,
          1
         ]
        },
        "yaxis3": {
         "anchor": "x3",
         "domain": [
          0,
          1
         ]
        }
       }
      }
     },
     "metadata": {},
     "output_type": "display_data"
    }
   ],
   "source": [
    "from plotly.subplots import make_subplots\n",
    "import plotly.graph_objects as go\n",
    "\n",
    "# Create subplots\n",
    "fig = make_subplots(rows=1, cols=3)\n",
    "\n",
    "# Add box plots for NEAR_DIST\n",
    "fig.add_trace(go.Box(y=df['NEAR_DIST'], name='NEAR_DIST', marker_color='blue'), row=1, col=1)\n",
    "\n",
    "# Add box plots for metric\n",
    "fig.add_trace(go.Box(y=df['metric'], name='metric', marker_color='green'), row=1, col=2)\n",
    "\n",
    "# Add box plots for POPULATION\n",
    "fig.add_trace(go.Box(y=df['POPULATION'], name='POPULATION', marker_color='orange'), row=1, col=3)\n",
    "\n",
    "# Update layout\n",
    "fig.update_layout(\n",
    "    title='Box Plot of Numeric Variables',\n",
    "    yaxis_title='Value',\n",
    ")\n",
    "\n",
    "# Show plot\n",
    "fig.show()\n"
   ]
  },
  {
   "cell_type": "code",
   "execution_count": 30,
   "metadata": {},
   "outputs": [
    {
     "data": {
      "image/png": "[encoded data removed]",
      "text/plain": [
       "<Figure size 800x600 with 2 Axes>"
      ]
     },
     "metadata": {},
     "output_type": "display_data"
    }
   ],
   "source": [
    "# Calculate correlation matrix\n",
    "correlation_matrix = df[['NEAR_DIST', 'metric', 'POPULATION']].corr()\n",
    "\n",
    "# Create heatmap\n",
    "plt.figure(figsize=(8, 6))\n",
    "sns.heatmap(correlation_matrix, annot=True, cmap='coolwarm', fmt=\".2f\", annot_kws={\"size\": 10})\n",
    "plt.title('Correlation Matrix of NEAR_DIST, metric, and POPULATION')\n",
    "plt.show()\n"
   ]
  },
  {
   "cell_type": "code",
   "execution_count": 60,
   "metadata": {},
   "outputs": [
    {
     "data": {
      "application/vnd.plotly.v1+json": {
       "config": {
        "plotlyServerURL": "https://plot.ly"
       },
       "data": [
        {
         "hoverinfo": "text",
         "marker": {
          "color": "blue"
         },
         "mode": "markers",
         "name": "Data Points",
         "text": [
          "- Dangawaj - 1049769",
          "- Leencha - 1049728",
          "- Marti - 1049727",
          "- Dangawaj Qalaa - 1049726",
          "- Beeroo - 1049725",
          "- Golli - 1049724",
          "- Amiinoo - 1049723",
          "- Kobbaa - 1049722",
          "- Kobbaa - 1049721",
          "- Chancho - 1049720",
          "Ethiopia - Amoomaa - 1049718",
          "- Dangawaj - 1049717",
          "- Jijo - 1049716",
          "- Anaba - 1049715",
          "- Muuchaa 2 - 1049714",
          "Ethiopia - Muchaa 1 - 1049713",
          "- Inboro - 1049712",
          "- Ooloo - 1049711",
          "- Gooro - 1050398",
          "- Adam Abdi - 1050397",
          "- Abdi Boru - 1050396",
          "- Walda - 1050395",
          "- Dirre Baloo - 1050393",
          "- Ali Ahmed - 1050386",
          "- Ali Uree - 1050385",
          "- Ambo - 1050382",
          "- Dorine - 1049779",
          "- Yemito - 1049778",
          "- Waakkaa - 1049777",
          "- Inabro - 1049776",
          "- Babayu - 1049775",
          "- Angaro - 1049774",
          "- Seemmee - 1049773",
          "- Sadacha - 1049772",
          "- Dogaja - 1049771",
          "- Maammee - 1049770",
          "- Arabu - 1049615",
          "- Sapeeraa - 1049614",
          "- Dagaboso - 1049613",
          "- Usmani - 1049599",
          "- Yaacino - 1049598",
          "- Olme Dha'e - 1049597",
          "- Ilkee - 1049596",
          "- Aniya - 1049595",
          "- Shewa Bar - 1049593",
          "- Burkitu - 1049592",
          "- Yabboo - 1049591",
          "- Misira - 1049578",
          "- Jalalle - 1049576",
          "- Kombolcha - 1049575",
          "- Kobaa Warke - 1049574",
          "- Heeraa - 1049573",
          "- Wannib - 1049563",
          "- Duuke - 1049562",
          "- Xabala - 1049561",
          "- Tuuli - 1049560",
          "- Chagge - 1049544",
          "- Kambo - 1049543",
          "- Gocho - 1049542",
          "- Gaaro - 1049541",
          "- Ambalta - 1049516",
          "- Raammee - 1049515",
          "- Ginabe - 1049514",
          "- Nagade - 1049512",
          "- Ambalta - 1049511",
          "- Basiro - 1049510",
          "- Qaqa - 1049498",
          "- Laftani - 1049496",
          "- Urgesa - 1049495",
          "- Buluke Doose - 1049494",
          "- Soloka - 1049414",
          "- Sarde - 1049413",
          "- Alga - 1049412",
          "- Bakke Reettii - 1049410",
          "- Iyasi - 1049409",
          "- Mayyee - 1049408",
          "- Ooso - 1049407",
          "- Madoo - 1049406",
          "- Allabero - 1049405",
          "- Sadacha - 1049084",
          "- Buko - 1049083",
          "- Utee - 1049082",
          "- Kobo - 1049080",
          "- Darita 1st - 1049076",
          "- Tabote - 1049074",
          "- Iyaru - 1049069",
          "- Madda Jaalala - 1049067",
          "- Akuku - 1049065",
          "- Agilo - 1049035",
          "Ethiopia - Adami - 1049034",
          "Ethiopia - Lalisa - 1049033",
          "- Soobo - 1049031",
          "- Miiloo Second - 1049030",
          "- Inayyo - 1049024",
          "- Inayyoo - 1049023",
          "- Gondore - 1049022",
          "- Caffe Third - 1049021",
          "- Dayidi - 1049020",
          "- Dunga - 1049019",
          "- Bukatota - 1050264",
          "- Muzika Racha - 1050355",
          "- Federal Camp - 1050353",
          "- Kubaniya - 1050352",
          "- Bunoo 4 - 1050351",
          "- Bunoo - 1050350",
          "- Bunoo 2 - 1050349",
          "- Morfo 1 - 1050345",
          "- Ahmed yesuf - 1050344",
          "- Morfo - 1050343",
          "- Galmo - 1050342",
          "- She Ahmed - 1050341",
          "- Challe - 1050322",
          "- Challe - 1050321",
          "- Gulfate - 1050320",
          "- Tutuftu - 1050317",
          "- Dabala - 1050312",
          "- Gaara Ale - 1050311",
          "- Torboyo - 1050290",
          "- Jilbo - 1050289",
          "- Baala Adii - 1050288",
          "- Tuka - 1050287",
          "- Seifi Abrahim - 1050285",
          "- Aamade - 1050284",
          "- Noolee - 1050266",
          "- Burii - 1050265",
          "- Cabaka - 1050263",
          "Ethiopia - Sisimo - 1039546",
          "Ethiopia - Sagito - 1039544",
          "Ethiopia - Kotito - 1039542",
          "Ethiopia - Kuba - 1039540",
          "Ethiopia - Dogaja - 1039539",
          "Ethiopia - Yamito - 1039538",
          "Ethiopia - Ulmaye - 1039451",
          "Ethiopia - Birbo - 1039446",
          "Ethiopia - Qoqomo - 1039445",
          "Ethiopia - Gojo - 1039437",
          "- Mesa Market village - 1049626",
          "- Denba Kelo - 1049625",
          "- Wacha 2 - 1049623",
          "- Wacha - 1049622",
          "- Boriqo - 1049621",
          "- Subo - 1049610",
          "- Qerqe - 1049609",
          "- Qelataya - 1049608",
          "- Elela - 1049607",
          "- Elela 01 - 1049606",
          "- Koyiso 1 - 1049604",
          "- Koyiso - 1049603",
          "- Zuriko - 1049572",
          "- Giyale - 1049571",
          "- Shupate - 1049570",
          "- Giyale 01 - 1049568",
          "- Keloso - 1049558",
          "- Dola - 1049557",
          "- Maira - 1049556",
          "- Giyassa - 1049555",
          "- Tsilelo - 1049554",
          "- Hiramo - 1049549",
          "- Adinche - 1049547",
          "- Gero_Gendela - 1049546",
          "- Gero - 1049545",
          "- Elese-Deme 3 - 1049523",
          "- Elese - 1049522",
          "- Tale - 1049521",
          "- Elese-Kentso Meshagera - 1049520",
          "- Boa - 1049508",
          "- Zala Kare - 1049507",
          "- Gara Gitora 2 - 1049506",
          "- Geressa Gitora - 1049505",
          "- Fintha - 1049504",
          "- Zela - 1049501",
          "- Dogile - 1049500",
          "Ethiopia - Wallo - 1049491",
          "Ethiopia - Gema Gara - 1049488",
          "Ethiopia - Karba - 1049487",
          "Ethiopia - Matso Gara - 1049486",
          "Ethiopia - Lalimea - 1049485",
          "Ethiopia - Chosho 1 - 1049484",
          "Ethiopia - Chosho - 1049483",
          "Ethiopia - Cheniga - 1049482",
          "Ethiopia - Aba Tuba - 1049480",
          "Ethiopia - Menaria - 1049479",
          "Ethiopia - Kaske Genize-Bubina - 1049478",
          "Ethiopia - Dambiya - 1049477",
          "- Dambiya 1 - 1049052",
          "Ethiopia - Toko Dambiya - 1049048",
          "- Chaba Wonibe - 1049047",
          "Ethiopia - Woyide Gonita - 1049046",
          "- Tinbitu - 1049750",
          "- Arere Minche - 1049747",
          "- Hamusi Gebeya - 1049708",
          "- Lebu 01 - 1049707",
          "- Danchese - 1049704",
          "- Hokokenso - 1049688",
          "- Hanijesso - 1049687",
          "- Bedesa - 1049686",
          "- Kembata - 1049685",
          "- Awala seferi - 1049659",
          "- Birebirta - 1049655",
          "- Piyayou - 1049654",
          "- Ginda 01 - 1049638",
          "- Baloa - 1049637",
          "- Goro 01 - 1049636",
          "- Aniba-Ogona - 1049635",
          "- Gawiga - 1049569",
          "- Fato - 1050356",
          "- 95 - 1050336",
          "- Dire 1 - 1050335",
          "- Gortti - 1050334",
          "- Meser - 1050414",
          "- Kember - 1050413",
          "- Shomo school - 1050406",
          "- Kobo - 1050405",
          "- Kombole - 1050404",
          "- Kombole - 1050403",
          "- Mesere 2 - 1050402",
          "- Azere - 1050401",
          "- Laye Gerena - 1050392",
          "- Elmora - 1050391",
          "- Fanano - 1050388",
          "- Laye yemene - 1050387",
          "- Gabete - 1050383",
          "- Shado - 1050379",
          "- Zenuta - 1050378",
          "- Sohe - 1050377",
          "- Tache senen - 1050376",
          "- Ayigeba school - 1050375",
          "- Loke - 1050374",
          "- Gishesha - 1050373",
          "- Uge - 1050372",
          "- Ateta - 1050363",
          "- Dino - 1050362",
          "- Tach drawit 1 - 1050361",
          "- Kechira - 1050360",
          "- Kilito - 1050359",
          "- Tatebar - 1050358",
          "- Tache Derawit - 1050357",
          "- Chakife 2 - 1050295",
          "- Chakife 1 - 1050294",
          "- Widade Chakife - 1050293",
          "- Amaredi - 1050291",
          "- Selame - 1050282",
          "- Abero village - 1050281",
          "- Zogo 2 - 1050279",
          "- Zogo - 1050278",
          "- Kecha Beri - 1050277",
          "- Wuribe - 1050276",
          "- Enisilasi - 1050267",
          "Ethiopia - Cole - 1047794",
          "Ethiopia - Suba - 1047796"
         ],
         "type": "scatter",
         "x": [
          36.389334,
          36.412284,
          36.426262,
          36.417575,
          36.415112,
          36.398634,
          36.503403,
          36.475083,
          36.470689,
          36.475644,
          36.373032,
          36.401795,
          36.434837,
          36.487845,
          36.484775,
          36.485102,
          36.49838,
          36.517198,
          41.389227,
          41.396938,
          41.399728,
          41.422351,
          41.39412,
          41.424309,
          41.418802,
          41.3947,
          36.091719,
          36.086346,
          36.109796,
          36.113808,
          36.122748,
          36.146658,
          35.991451,
          36.012747,
          36.007346,
          36.022226,
          36.644748,
          36.777024,
          36.696005,
          36.684456,
          36.710922,
          36.674801,
          36.617442,
          36.721531,
          36.465332,
          36.480439,
          36.746934,
          36.690476,
          36.742303,
          36.694504,
          36.69125,
          36.70333,
          36.744423,
          36.727149,
          36.7248,
          36.731698,
          36.520719,
          36.532105,
          36.475563,
          36.469203,
          36.547313,
          36.610335,
          36.618377,
          36.549537,
          36.545193,
          36.548553,
          36.511997,
          36.484849,
          36.483975,
          36.479429,
          36.90888,
          36.758597,
          36.86001,
          36.7601,
          36.871888,
          36.987376,
          37.066261,
          37.020322,
          37.072112,
          36.903181,
          36.912603,
          36.929117,
          36.967942,
          36.945781,
          36.905126,
          36.9043,
          36.83924,
          36.840852,
          36.840309,
          37.05387,
          37.047108,
          36.981789,
          36.972048,
          37.079194,
          37.08036,
          36.981211,
          36.988372,
          36.943389,
          36.931354,
          40.874842,
          40.750695,
          40.760722,
          40.758103,
          40.752199,
          40.752426,
          40.755094,
          40.680851,
          40.696235,
          40.683978,
          40.588837,
          40.600095,
          40.650093,
          40.648908,
          40.662378,
          40.693425,
          40.750226,
          40.767674,
          40.7858,
          40.795817,
          40.794098,
          40.796897,
          40.830823,
          40.815189,
          40.849596,
          40.831311,
          40.877005,
          36.149367,
          36.087689,
          36.15128,
          35.942297,
          36.005979,
          36.038445,
          36.009737,
          36.041402,
          36.070784,
          36.078492,
          37.670539,
          37.581724,
          37.559479,
          37.55879,
          37.559905,
          37.639973,
          37.650636,
          37.650497,
          37.644974,
          37.645231,
          37.603863,
          37.602115,
          37.513921,
          37.51057,
          37.47959,
          37.508752,
          37.442459,
          37.427975,
          37.47716,
          37.442249,
          37.443329,
          37.499664,
          37.48509,
          37.481792,
          37.483,
          37.468325,
          37.480076,
          37.472278,
          37.469704,
          37.56567,
          37.553152,
          37.5622,
          37.561917,
          37.536187,
          37.46705,
          37.457002,
          37.648557,
          37.657961,
          37.591721,
          37.564116,
          37.329421,
          37.224911,
          37.2304,
          37.25285,
          37.288386,
          37.275886,
          37.256389,
          37.273359,
          37.271592,
          37.282986,
          37.287578,
          37.285021,
          38.193009,
          38.200148,
          38.149247,
          38.141797,
          38.158412,
          38.22602,
          38.212964,
          38.20572,
          38.197884,
          38.334483,
          38.331656,
          38.33593,
          38.336684,
          38.331686,
          38.337901,
          38.343588,
          37.482625,
          38.50691,
          38.598595,
          38.58745,
          38.552304,
          38.04151,
          38.018044,
          38.02386,
          37.997901,
          37.998117,
          37.998915,
          38.043497,
          38.039783,
          38.022964,
          37.990725,
          37.989877,
          38.038795,
          37.990581,
          38.057998,
          38.059516,
          38.061772,
          38.03935,
          38.045344,
          38.082758,
          38.106189,
          38.106455,
          38.001678,
          38.003449,
          38.009746,
          38.011077,
          38.010528,
          38.001592,
          38.010338,
          38.184475,
          38.178478,
          38.171656,
          38.198606,
          38.20295,
          38.187718,
          38.25866,
          38.256968,
          38.248356,
          38.247823,
          38.257906,
          36.08574,
          36.021404
         ],
         "y": [
          8.370314,
          8.337878,
          8.4057,
          8.329205,
          8.299745,
          8.242359,
          8.271911,
          8.305088,
          8.306237,
          8.318252,
          8.296139,
          8.328884,
          8.388397,
          8.413723,
          8.422213,
          8.422006,
          8.402849,
          8.38517,
          9.037874,
          8.996712,
          8.965392,
          8.940553,
          9.136069,
          9.078347,
          9.094551,
          9.132473,
          7.917803,
          7.923936,
          7.890775,
          7.89797,
          7.888161,
          7.853663,
          7.874723,
          7.882061,
          7.883767,
          7.853217,
          7.48689,
          7.604991,
          7.606262,
          7.569767,
          7.570638,
          7.59841,
          7.620003,
          7.613942,
          7.652947,
          7.658479,
          7.585258,
          7.483707,
          7.436841,
          7.478043,
          7.464701,
          7.631397,
          7.525217,
          7.567152,
          7.502149,
          7.516494,
          7.495905,
          7.486666,
          7.505188,
          7.467937,
          7.539127,
          7.539359,
          7.550072,
          7.53381,
          7.545292,
          7.514817,
          7.521818,
          7.518118,
          7.532926,
          7.546039,
          8.299201,
          8.487627,
          8.579322,
          8.487813,
          8.585926,
          8.199124,
          8.395486,
          8.30071,
          8.375259,
          8.11599,
          8.125031,
          8.106268,
          8.191909,
          8.199446,
          8.230757,
          8.227497,
          8.224883,
          8.211138,
          8.202563,
          8.416127,
          8.428564,
          8.23687,
          8.52944,
          8.438142,
          8.43863,
          8.507821,
          8.508014,
          8.449428,
          8.459606,
          9.263297,
          9.229973,
          9.235204,
          9.238329,
          9.241594,
          9.24275,
          9.240223,
          9.21248,
          9.210234,
          9.200692,
          9.245963,
          9.215683,
          9.108258,
          9.105219,
          9.138561,
          9.13293,
          9.160612,
          9.114975,
          9.178255,
          9.157338,
          9.158333,
          9.151211,
          9.193293,
          9.243241,
          9.222528,
          9.245739,
          9.259084,
          7.927243,
          7.87857,
          7.857149,
          7.824921,
          7.884469,
          7.857008,
          7.903356,
          7.906986,
          7.927423,
          7.950219,
          6.547823,
          6.481632,
          6.482718,
          6.481424,
          6.476945,
          6.484908,
          6.520869,
          6.519368,
          6.502212,
          6.505614,
          6.412293,
          6.412849,
          6.320509,
          6.322828,
          6.314518,
          6.323633,
          6.204522,
          6.205822,
          6.311004,
          6.241223,
          6.23984,
          6.322082,
          6.32309,
          6.322898,
          6.320981,
          6.367992,
          6.361071,
          6.357456,
          6.367205,
          6.238999,
          6.272652,
          6.262588,
          6.261211,
          6.249709,
          6.198674,
          6.194073,
          6.276039,
          6.274838,
          6.227843,
          6.199407,
          6.640566,
          6.575423,
          6.585868,
          6.539911,
          6.550898,
          6.590993,
          6.606393,
          6.603715,
          6.596942,
          6.598847,
          6.634233,
          6.622232,
          5.940728,
          5.96205,
          6.008119,
          6.063629,
          6.114815,
          5.999309,
          6.004182,
          6.061285,
          6.037918,
          6.353263,
          6.360794,
          6.386754,
          6.301294,
          6.287308,
          6.300324,
          6.347873,
          6.313455,
          8.391224,
          8.374047,
          8.35767,
          8.360863,
          7.762899,
          7.805956,
          7.787178,
          7.760489,
          7.730751,
          7.732328,
          7.763486,
          7.763503,
          7.727389,
          7.700901,
          7.773903,
          7.747002,
          7.778839,
          7.886564,
          7.889988,
          7.890639,
          7.818718,
          7.816558,
          7.916947,
          7.913393,
          7.921563,
          7.794029,
          7.798792,
          7.787415,
          7.790217,
          7.788257,
          7.792856,
          7.787174,
          8.04173,
          8.045447,
          8.044238,
          8.08634,
          8.086601,
          8.075247,
          8.091681,
          8.091725,
          8.073649,
          8.070927,
          8.08712,
          7.922073,
          7.851399
         ]
        },
        {
         "hoverinfo": "text",
         "marker": {
          "color": "red"
         },
         "mode": "markers",
         "name": "Outliers (NEAR_DIST)",
         "text": [
          "- Walda - 1050395",
          "- Sarde - 1049413",
          "- Alga - 1049412",
          "- Bakke Reettii - 1049410",
          "- Iyasi - 1049409",
          "- Ooso - 1049407",
          "- Miiloo Second - 1049030",
          "- Inayyo - 1049024",
          "- Inayyoo - 1049023",
          "- Gondore - 1049022",
          "- Caffe Third - 1049021",
          "- She Ahmed - 1050341",
          "- Dabala - 1050312",
          "Ethiopia - Cheniga - 1049482",
          "- Arere Minche - 1049747",
          "- Kember - 1050413"
         ],
         "type": "scatter",
         "x": [
          41.422351,
          36.758597,
          36.86001,
          36.7601,
          36.871888,
          37.066261,
          36.972048,
          37.079194,
          37.08036,
          36.981211,
          36.988372,
          40.600095,
          40.750226,
          37.25285,
          38.200148,
          38.018044
         ],
         "y": [
          8.940553,
          8.487627,
          8.579322,
          8.487813,
          8.585926,
          8.395486,
          8.52944,
          8.438142,
          8.43863,
          8.507821,
          8.508014,
          9.215683,
          9.160612,
          6.539911,
          5.96205,
          7.805956
         ]
        },
        {
         "hoverinfo": "text",
         "marker": {
          "color": "green"
         },
         "mode": "markers",
         "name": "Outliers (metric)",
         "text": [
          "- Dangawaj - 1049717",
          "- Anaba - 1049715",
          "- Ilkee - 1049596",
          "- Ambalta - 1049516",
          "- Raammee - 1049515",
          "- Ginabe - 1049514",
          "- Nagade - 1049512",
          "- Ambalta - 1049511",
          "- Urgesa - 1049495",
          "- Buluke Doose - 1049494",
          "- Darita 1st - 1049076",
          "- Zuriko - 1049572",
          "- Giyale - 1049571",
          "- Shupate - 1049570",
          "- Elese - 1049522",
          "- Gara Gitora 2 - 1049506",
          "- Geressa Gitora - 1049505",
          "- Baloa - 1049637",
          "- Gawiga - 1049569",
          "- Gortti - 1050334",
          "- Loke - 1050374",
          "- Gishesha - 1050373"
         ],
         "type": "scatter",
         "x": [
          36.401795,
          36.487845,
          36.617442,
          36.547313,
          36.610335,
          36.618377,
          36.549537,
          36.545193,
          36.483975,
          36.479429,
          36.945781,
          37.513921,
          37.51057,
          37.47959,
          37.480076,
          37.5622,
          37.561917,
          38.331686,
          37.482625,
          38.552304,
          38.082758,
          38.106189
         ],
         "y": [
          8.328884,
          8.413723,
          7.620003,
          7.539127,
          7.539359,
          7.550072,
          7.53381,
          7.545292,
          7.532926,
          7.546039,
          8.199446,
          6.320509,
          6.322828,
          6.314518,
          6.361071,
          6.262588,
          6.261211,
          6.287308,
          6.313455,
          8.360863,
          7.916947,
          7.913393
         ]
        },
        {
         "hoverinfo": "text",
         "marker": {
          "color": "orange"
         },
         "mode": "markers",
         "name": "Outliers (POPULATION)",
         "text": [
          "- Leencha - 1049728",
          "- Dangawaj Qalaa - 1049726",
          "- Aniya - 1049595",
          "- Muzika Racha - 1050355",
          "- Federal Camp - 1050353",
          "- Kubaniya - 1050352",
          "- Bunoo 4 - 1050351",
          "- Bunoo - 1050350",
          "- Bunoo 2 - 1050349",
          "- Gara Gitora 2 - 1049506",
          "- Geressa Gitora - 1049505",
          "- Arere Minche - 1049747",
          "- Hamusi Gebeya - 1049708",
          "- Awala seferi - 1049659",
          "- Birebirta - 1049655",
          "- Piyayou - 1049654",
          "- Ginda 01 - 1049638",
          "- Baloa - 1049637",
          "- Goro 01 - 1049636",
          "- Loke - 1050374"
         ],
         "type": "scatter",
         "x": [
          36.412284,
          36.417575,
          36.721531,
          40.750695,
          40.760722,
          40.758103,
          40.752199,
          40.752426,
          40.755094,
          37.5622,
          37.561917,
          38.200148,
          38.149247,
          38.334483,
          38.331656,
          38.33593,
          38.336684,
          38.331686,
          38.337901,
          38.082758
         ],
         "y": [
          8.337878,
          8.329205,
          7.613942,
          9.229973,
          9.235204,
          9.238329,
          9.241594,
          9.24275,
          9.240223,
          6.262588,
          6.261211,
          5.96205,
          6.008119,
          6.353263,
          6.360794,
          6.386754,
          6.301294,
          6.287308,
          6.300324,
          7.916947
         ]
        }
       ],
       "layout": {
        "template": {
         "data": {
          "bar": [
           {
            "error_x": {
             "color": "#2a3f5f"
            },
            "error_y": {
             "color": "#2a3f5f"
            },
            "marker": {
             "line": {
              "color": "#E5ECF6",
              "width": 0.5
             },
             "pattern": {
              "fillmode": "overlay",
              "size": 10,
              "solidity": 0.2
             }
            },
            "type": "bar"
           }
          ],
          "barpolar": [
           {
            "marker": {
             "line": {
              "color": "#E5ECF6",
              "width": 0.5
             },
             "pattern": {
              "fillmode": "overlay",
              "size": 10,
              "solidity": 0.2
             }
            },
            "type": "barpolar"
           }
          ],
          "carpet": [
           {
            "aaxis": {
             "endlinecolor": "#2a3f5f",
             "gridcolor": "white",
             "linecolor": "white",
             "minorgridcolor": "white",
             "startlinecolor": "#2a3f5f"
            },
            "baxis": {
             "endlinecolor": "#2a3f5f",
             "gridcolor": "white",
             "linecolor": "white",
             "minorgridcolor": "white",
             "startlinecolor": "#2a3f5f"
            },
            "type": "carpet"
           }
          ],
          "choropleth": [
           {
            "colorbar": {
             "outlinewidth": 0,
             "ticks": ""
            },
            "type": "choropleth"
           }
          ],
          "contour": [
           {
            "colorbar": {
             "outlinewidth": 0,
             "ticks": ""
            },
            "colorscale": [
             [
              0,
              "#0d0887"
             ],
             [
              0.1111111111111111,
              "#46039f"
             ],
             [
              0.2222222222222222,
              "#7201a8"
             ],
             [
              0.3333333333333333,
              "#9c179e"
             ],
             [
              0.4444444444444444,
              "#bd3786"
             ],
             [
              0.5555555555555556,
              "#d8576b"
             ],
             [
              0.6666666666666666,
              "#ed7953"
             ],
             [
              0.7777777777777778,
              "#fb9f3a"
             ],
             [
              0.8888888888888888,
              "#fdca26"
             ],
             [
              1,
              "#f0f921"
             ]
            ],
            "type": "contour"
           }
          ],
          "contourcarpet": [
           {
            "colorbar": {
             "outlinewidth": 0,
             "ticks": ""
            },
            "type": "contourcarpet"
           }
          ],
          "heatmap": [
           {
            "colorbar": {
             "outlinewidth": 0,
             "ticks": ""
            },
            "colorscale": [
             [
              0,
              "#0d0887"
             ],
             [
              0.1111111111111111,
              "#46039f"
             ],
             [
              0.2222222222222222,
              "#7201a8"
             ],
             [
              0.3333333333333333,
              "#9c179e"
             ],
             [
              0.4444444444444444,
              "#bd3786"
             ],
             [
              0.5555555555555556,
              "#d8576b"
             ],
             [
              0.6666666666666666,
              "#ed7953"
             ],
             [
              0.7777777777777778,
              "#fb9f3a"
             ],
             [
              0.8888888888888888,
              "#fdca26"
             ],
             [
              1,
              "#f0f921"
             ]
            ],
            "type": "heatmap"
           }
          ],
          "heatmapgl": [
           {
            "colorbar": {
             "outlinewidth": 0,
             "ticks": ""
            },
            "colorscale": [
             [
              0,
              "#0d0887"
             ],
             [
              0.1111111111111111,
              "#46039f"
             ],
             [
              0.2222222222222222,
              "#7201a8"
             ],
             [
              0.3333333333333333,
              "#9c179e"
             ],
             [
              0.4444444444444444,
              "#bd3786"
             ],
             [
              0.5555555555555556,
              "#d8576b"
             ],
             [
              0.6666666666666666,
              "#ed7953"
             ],
             [
              0.7777777777777778,
              "#fb9f3a"
             ],
             [
              0.8888888888888888,
              "#fdca26"
             ],
             [
              1,
              "#f0f921"
             ]
            ],
            "type": "heatmapgl"
           }
          ],
          "histogram": [
           {
            "marker": {
             "pattern": {
              "fillmode": "overlay",
              "size": 10,
              "solidity": 0.2
             }
            },
            "type": "histogram"
           }
          ],
          "histogram2d": [
           {
            "colorbar": {
             "outlinewidth": 0,
             "ticks": ""
            },
            "colorscale": [
             [
              0,
              "#0d0887"
             ],
             [
              0.1111111111111111,
              "#46039f"
             ],
             [
              0.2222222222222222,
              "#7201a8"
             ],
             [
              0.3333333333333333,
              "#9c179e"
             ],
             [
              0.4444444444444444,
              "#bd3786"
             ],
             [
              0.5555555555555556,
              "#d8576b"
             ],
             [
              0.6666666666666666,
              "#ed7953"
             ],
             [
              0.7777777777777778,
              "#fb9f3a"
             ],
             [
              0.8888888888888888,
              "#fdca26"
             ],
             [
              1,
              "#f0f921"
             ]
            ],
            "type": "histogram2d"
           }
          ],
          "histogram2dcontour": [
           {
            "colorbar": {
             "outlinewidth": 0,
             "ticks": ""
            },
            "colorscale": [
             [
              0,
              "#0d0887"
             ],
             [
              0.1111111111111111,
              "#46039f"
             ],
             [
              0.2222222222222222,
              "#7201a8"
             ],
             [
              0.3333333333333333,
              "#9c179e"
             ],
             [
              0.4444444444444444,
              "#bd3786"
             ],
             [
              0.5555555555555556,
              "#d8576b"
             ],
             [
              0.6666666666666666,
              "#ed7953"
             ],
             [
              0.7777777777777778,
              "#fb9f3a"
             ],
             [
              0.8888888888888888,
              "#fdca26"
             ],
             [
              1,
              "#f0f921"
             ]
            ],
            "type": "histogram2dcontour"
           }
          ],
          "mesh3d": [
           {
            "colorbar": {
             "outlinewidth": 0,
             "ticks": ""
            },
            "type": "mesh3d"
           }
          ],
          "parcoords": [
           {
            "line": {
             "colorbar": {
              "outlinewidth": 0,
              "ticks": ""
             }
            },
            "type": "parcoords"
           }
          ],
          "pie": [
           {
            "automargin": true,
            "type": "pie"
           }
          ],
          "scatter": [
           {
            "fillpattern": {
             "fillmode": "overlay",
             "size": 10,
             "solidity": 0.2
            },
            "type": "scatter"
           }
          ],
          "scatter3d": [
           {
            "line": {
             "colorbar": {
              "outlinewidth": 0,
              "ticks": ""
             }
            },
            "marker": {
             "colorbar": {
              "outlinewidth": 0,
              "ticks": ""
             }
            },
            "type": "scatter3d"
           }
          ],
          "scattercarpet": [
           {
            "marker": {
             "colorbar": {
              "outlinewidth": 0,
              "ticks": ""
             }
            },
            "type": "scattercarpet"
           }
          ],
          "scattergeo": [
           {
            "marker": {
             "colorbar": {
              "outlinewidth": 0,
              "ticks": ""
             }
            },
            "type": "scattergeo"
           }
          ],
          "scattergl": [
           {
            "marker": {
             "colorbar": {
              "outlinewidth": 0,
              "ticks": ""
             }
            },
            "type": "scattergl"
           }
          ],
          "scattermapbox": [
           {
            "marker": {
             "colorbar": {
              "outlinewidth": 0,
              "ticks": ""
             }
            },
            "type": "scattermapbox"
           }
          ],
          "scatterpolar": [
           {
            "marker": {
             "colorbar": {
              "outlinewidth": 0,
              "ticks": ""
             }
            },
            "type": "scatterpolar"
           }
          ],
          "scatterpolargl": [
           {
            "marker": {
             "colorbar": {
              "outlinewidth": 0,
              "ticks": ""
             }
            },
            "type": "scatterpolargl"
           }
          ],
          "scatterternary": [
           {
            "marker": {
             "colorbar": {
              "outlinewidth": 0,
              "ticks": ""
             }
            },
            "type": "scatterternary"
           }
          ],
          "surface": [
           {
            "colorbar": {
             "outlinewidth": 0,
             "ticks": ""
            },
            "colorscale": [
             [
              0,
              "#0d0887"
             ],
             [
              0.1111111111111111,
              "#46039f"
             ],
             [
              0.2222222222222222,
              "#7201a8"
             ],
             [
              0.3333333333333333,
              "#9c179e"
             ],
             [
              0.4444444444444444,
              "#bd3786"
             ],
             [
              0.5555555555555556,
              "#d8576b"
             ],
             [
              0.6666666666666666,
              "#ed7953"
             ],
             [
              0.7777777777777778,
              "#fb9f3a"
             ],
             [
              0.8888888888888888,
              "#fdca26"
             ],
             [
              1,
              "#f0f921"
             ]
            ],
            "type": "surface"
           }
          ],
          "table": [
           {
            "cells": {
             "fill": {
              "color": "#EBF0F8"
             },
             "line": {
              "color": "white"
             }
            },
            "header": {
             "fill": {
              "color": "#C8D4E3"
             },
             "line": {
              "color": "white"
             }
            },
            "type": "table"
           }
          ]
         },
         "layout": {
          "annotationdefaults": {
           "arrowcolor": "#2a3f5f",
           "arrowhead": 0,
           "arrowwidth": 1
          },
          "autotypenumbers": "strict",
          "coloraxis": {
           "colorbar": {
            "outlinewidth": 0,
            "ticks": ""
           }
          },
          "colorscale": {
           "diverging": [
            [
             0,
             "#8e0152"
            ],
            [
             0.1,
             "#c51b7d"
            ],
            [
             0.2,
             "#de77ae"
            ],
            [
             0.3,
             "#f1b6da"
            ],
            [
             0.4,
             "#fde0ef"
            ],
            [
             0.5,
             "#f7f7f7"
            ],
            [
             0.6,
             "#e6f5d0"
            ],
            [
             0.7,
             "#b8e186"
            ],
            [
             0.8,
             "#7fbc41"
            ],
            [
             0.9,
             "#4d9221"
            ],
            [
             1,
             "#276419"
            ]
           ],
           "sequential": [
            [
             0,
             "#0d0887"
            ],
            [
             0.1111111111111111,
             "#46039f"
            ],
            [
             0.2222222222222222,
             "#7201a8"
            ],
            [
             0.3333333333333333,
             "#9c179e"
            ],
            [
             0.4444444444444444,
             "#bd3786"
            ],
            [
             0.5555555555555556,
             "#d8576b"
            ],
            [
             0.6666666666666666,
             "#ed7953"
            ],
            [
             0.7777777777777778,
             "#fb9f3a"
            ],
            [
             0.8888888888888888,
             "#fdca26"
            ],
            [
             1,
             "#f0f921"
            ]
           ],
           "sequentialminus": [
            [
             0,
             "#0d0887"
            ],
            [
             0.1111111111111111,
             "#46039f"
            ],
            [
             0.2222222222222222,
             "#7201a8"
            ],
            [
             0.3333333333333333,
             "#9c179e"
            ],
            [
             0.4444444444444444,
             "#bd3786"
            ],
            [
             0.5555555555555556,
             "#d8576b"
            ],
            [
             0.6666666666666666,
             "#ed7953"
            ],
            [
             0.7777777777777778,
             "#fb9f3a"
            ],
            [
             0.8888888888888888,
             "#fdca26"
            ],
            [
             1,
             "#f0f921"
            ]
           ]
          },
          "colorway": [
           "#636efa",
           "#EF553B",
           "#00cc96",
           "#ab63fa",
           "#FFA15A",
           "#19d3f3",
           "#FF6692",
           "#B6E880",
           "#FF97FF",
           "#FECB52"
          ],
          "font": {
           "color": "#2a3f5f"
          },
          "geo": {
           "bgcolor": "white",
           "lakecolor": "white",
           "landcolor": "#E5ECF6",
           "showlakes": true,
           "showland": true,
           "subunitcolor": "white"
          },
          "hoverlabel": {
           "align": "left"
          },
          "hovermode": "closest",
          "mapbox": {
           "style": "light"
          },
          "paper_bgcolor": "white",
          "plot_bgcolor": "#E5ECF6",
          "polar": {
           "angularaxis": {
            "gridcolor": "white",
            "linecolor": "white",
            "ticks": ""
           },
           "bgcolor": "#E5ECF6",
           "radialaxis": {
            "gridcolor": "white",
            "linecolor": "white",
            "ticks": ""
           }
          },
          "scene": {
           "xaxis": {
            "backgroundcolor": "#E5ECF6",
            "gridcolor": "white",
            "gridwidth": 2,
            "linecolor": "white",
            "showbackground": true,
            "ticks": "",
            "zerolinecolor": "white"
           },
           "yaxis": {
            "backgroundcolor": "#E5ECF6",
            "gridcolor": "white",
            "gridwidth": 2,
            "linecolor": "white",
            "showbackground": true,
            "ticks": "",
            "zerolinecolor": "white"
           },
           "zaxis": {
            "backgroundcolor": "#E5ECF6",
            "gridcolor": "white",
            "gridwidth": 2,
            "linecolor": "white",
            "showbackground": true,
            "ticks": "",
            "zerolinecolor": "white"
           }
          },
          "shapedefaults": {
           "line": {
            "color": "#2a3f5f"
           }
          },
          "ternary": {
           "aaxis": {
            "gridcolor": "white",
            "linecolor": "white",
            "ticks": ""
           },
           "baxis": {
            "gridcolor": "white",
            "linecolor": "white",
            "ticks": ""
           },
           "bgcolor": "#E5ECF6",
           "caxis": {
            "gridcolor": "white",
            "linecolor": "white",
            "ticks": ""
           }
          },
          "title": {
           "x": 0.05
          },
          "xaxis": {
           "automargin": true,
           "gridcolor": "white",
           "linecolor": "white",
           "ticks": "",
           "title": {
            "standoff": 15
           },
           "zerolinecolor": "white",
           "zerolinewidth": 2
          },
          "yaxis": {
           "automargin": true,
           "gridcolor": "white",
           "linecolor": "white",
           "ticks": "",
           "title": {
            "standoff": 15
           },
           "zerolinecolor": "white",
           "zerolinewidth": 2
          }
         }
        },
        "title": {
         "text": "Locations of Outliers with Names"
        },
        "xaxis": {
         "title": {
          "text": "Longitude"
         }
        },
        "yaxis": {
         "title": {
          "text": "Latitude"
         }
        }
       }
      }
     },
     "metadata": {},
     "output_type": "display_data"
    }
   ],
   "source": [
    "import plotly.graph_objects as go\n",
    "import pandas as pd\n",
    "import seaborn as sns\n",
    "import matplotlib.pyplot as plt\n",
    "\n",
    "Q1 = df[['NEAR_DIST', 'metric', 'POPULATION']].quantile(0.25)\n",
    "Q3 = df[['NEAR_DIST', 'metric', 'POPULATION']].quantile(0.75)\n",
    "IQR = Q3 - Q1\n",
    "\n",
    "# Define upper and lower bounds for outliers\n",
    "lower_bound = Q1 - 1.5 * IQR\n",
    "upper_bound = Q3 + 1.5 * IQR\n",
    "\n",
    "# Identify outliers for each variable\n",
    "outliers_near_dist = df[(df['NEAR_DIST'] < lower_bound['NEAR_DIST']) | (df['NEAR_DIST'] > upper_bound['NEAR_DIST'])]\n",
    "outliers_metric = df[(df['metric'] < lower_bound['metric']) | (df['metric'] > upper_bound['metric'])]\n",
    "outliers_population = df[(df['POPULATION'] < lower_bound['POPULATION']) | (df['POPULATION'] > upper_bound['POPULATION'])]\n",
    "\n",
    "# Create the scatter plot with outliers\n",
    "fig_map_outliers_names = go.Figure()\n",
    "\n",
    "# Add scatter plot traces for data points and outliers\n",
    "fig_map_outliers_names.add_trace(go.Scatter(\n",
    "    x=df['GPS__Longi'],\n",
    "    y=df['GPS__Latit'],\n",
    "    mode='markers',\n",
    "    marker=dict(color='blue'),\n",
    "    name='Data Points',\n",
    "    text=df['Opportunit'],  # Use the 'Name' column for text annotations\n",
    "    hoverinfo='text'  # Show text on hover\n",
    "))\n",
    "\n",
    "fig_map_outliers_names.add_trace(go.Scatter(\n",
    "    x=outliers_near_dist['GPS__Longi'],\n",
    "    y=outliers_near_dist['GPS__Latit'],\n",
    "    mode='markers',\n",
    "    marker=dict(color='red'),\n",
    "    name='Outliers (NEAR_DIST)',\n",
    "    text=outliers_near_dist['Opportunit'],  # Use the 'Name' column for text annotations\n",
    "    hoverinfo='text'  # Show text on hover\n",
    "))\n",
    "\n",
    "fig_map_outliers_names.add_trace(go.Scatter(\n",
    "    x=outliers_metric['GPS__Longi'],\n",
    "    y=outliers_metric['GPS__Latit'],\n",
    "    mode='markers',\n",
    "    marker=dict(color='green'),\n",
    "    name='Outliers (metric)',\n",
    "    text=outliers_metric['Opportunit'],  # Use the 'Name' column for text annotations\n",
    "    hoverinfo='text'  # Show text on hover\n",
    "))\n",
    "\n",
    "fig_map_outliers_names.add_trace(go.Scatter(\n",
    "    x=outliers_population['GPS__Longi'],\n",
    "    y=outliers_population['GPS__Latit'],\n",
    "    mode='markers',\n",
    "    marker=dict(color='orange'),\n",
    "    name='Outliers (POPULATION)',\n",
    "    text=outliers_population['Opportunit'],  # Use the 'Name' column for text annotations\n",
    "    hoverinfo='text'  # Show text on hover\n",
    "))\n",
    "\n",
    "# Layout for scatter plot\n",
    "fig_map_outliers_names.update_layout(\n",
    "    title='Locations of Outliers with Names',\n",
    "    xaxis_title='Longitude',\n",
    "    yaxis_title='Latitude'\n",
    ")\n",
    "\n",
    "# Define the outlier data as a table\n",
    "outlier_table = pd.concat([outliers_near_dist, outliers_metric, outliers_population])\n",
    "\n",
    "# Create a table trace\n",
    "table_trace = go.Table(\n",
    "    header=dict(values=['Opportunit', 'NEAR_DIST', 'metric', 'POPULATION'],\n",
    "                fill_color='paleturquoise',\n",
    "                align='left'),\n",
    "    cells=dict(values=[outlier_table['Opportunit'], outlier_table['NEAR_DIST'], outlier_table['metric'], outlier_table['POPULATION']],\n",
    "               fill=dict(color=[outlier_table['metric'].apply(lambda x: 'green' if x in outliers_metric['metric'].values else 'orange' if x in outliers_population['metric'].values else 'red')]),\n",
    "               align='left')\n",
    ")\n",
    "\n",
    "# Layout for the table\n",
    "table_layout = go.Layout(\n",
    "    title='Outlier Data Table'\n",
    ")\n",
    "\n",
    "# Add the table trace to the figure\n",
    "fig_with_table = go.Figure(data=[table_trace], layout=table_layout)\n",
    "\n",
    "# Display the scatter plot and table together\n",
    "fig_map_outliers_names.show()\n",
    "\n"
   ]
  },
  {
   "cell_type": "code",
   "execution_count": 59,
   "metadata": {},
   "outputs": [
    {
     "data": {
      "application/vnd.plotly.v1+json": {
       "config": {
        "plotlyServerURL": "https://plot.ly"
       },
       "data": [
        {
         "cells": {
          "align": "left",
          "fill": {
           "color": [
            [
             "red",
             "red",
             "red",
             "red",
             "red",
             "red",
             "red",
             "red",
             "red",
             "red",
             "red",
             "red",
             "red",
             "red",
             "orange",
             "red",
             "green",
             "green",
             "green",
             "green",
             "green",
             "green",
             "green",
             "green",
             "green",
             "green",
             "green",
             "green",
             "green",
             "green",
             "green",
             "green",
             "green",
             "green",
             "green",
             "green",
             "green",
             "green",
             "orange",
             "orange",
             "orange",
             "orange",
             "orange",
             "orange",
             "orange",
             "orange",
             "orange",
             "green",
             "green",
             "orange",
             "orange",
             "orange",
             "orange",
             "orange",
             "orange",
             "green",
             "orange",
             "green"
            ]
           ]
          },
          "values": [
           [
            "Melka Balo",
            "Limu Seka",
            "Limu Seka",
            "Limu Seka",
            "Limu Seka",
            "Limu Seka",
            "Limu Seka",
            "Limu Seka",
            "Limu Seka",
            "Limu Seka",
            "Limu Seka",
            "Mieso",
            "Mieso",
            "Kucha Alpha",
            "Kochere",
            "Misrak Azenet Berbere",
            "Gechi",
            "Gechi",
            "Seka Chekorsa",
            "Shebe Sambo",
            "Shebe Sambo",
            "Shebe Sambo",
            "Shebe Sambo",
            "Shebe Sambo",
            "Shebe Sambo",
            "Shebe Sambo",
            "Limu Seka",
            "Dita",
            "Dita",
            "Dita",
            "Dita",
            "Chencha Zuriya",
            "Chencha Zuriya",
            "Dila Zuria",
            "Dita",
            "Sodo",
            "Alicho Woriro",
            "Alicho Woriro",
            "Gechi",
            "Gechi",
            "Seka Chekorsa",
            "Mieso",
            "Mieso",
            "Mieso",
            "Mieso",
            "Mieso",
            "Mieso",
            "Chencha Zuriya",
            "Chencha Zuriya",
            "Kochere",
            "Kochere",
            "Dila Zuria",
            "Dila Zuria",
            "Dila Zuria",
            "Dila Zuria",
            "Dila Zuria",
            "Dila Zuria",
            "Alicho Woriro"
           ],
           [
            "- Walda - 1050395",
            "- Sarde - 1049413",
            "- Alga - 1049412",
            "- Bakke Reettii - 1049410",
            "- Iyasi - 1049409",
            "- Ooso - 1049407",
            "- Miiloo Second - 1049030",
            "- Inayyo - 1049024",
            "- Inayyoo - 1049023",
            "- Gondore - 1049022",
            "- Caffe Third - 1049021",
            "- She Ahmed - 1050341",
            "- Dabala - 1050312",
            "Ethiopia - Cheniga - 1049482",
            "- Arere Minche - 1049747",
            "- Kember - 1050413",
            "- Dangawaj - 1049717",
            "- Anaba - 1049715",
            "- Ilkee - 1049596",
            "- Ambalta - 1049516",
            "- Raammee - 1049515",
            "- Ginabe - 1049514",
            "- Nagade - 1049512",
            "- Ambalta - 1049511",
            "- Urgesa - 1049495",
            "- Buluke Doose - 1049494",
            "- Darita 1st - 1049076",
            "- Zuriko - 1049572",
            "- Giyale - 1049571",
            "- Shupate - 1049570",
            "- Elese - 1049522",
            "- Gara Gitora 2 - 1049506",
            "- Geressa Gitora - 1049505",
            "- Baloa - 1049637",
            "- Gawiga - 1049569",
            "- Gortti - 1050334",
            "- Loke - 1050374",
            "- Gishesha - 1050373",
            "- Leencha - 1049728",
            "- Dangawaj Qalaa - 1049726",
            "- Aniya - 1049595",
            "- Muzika Racha - 1050355",
            "- Federal Camp - 1050353",
            "- Kubaniya - 1050352",
            "- Bunoo 4 - 1050351",
            "- Bunoo - 1050350",
            "- Bunoo 2 - 1050349",
            "- Gara Gitora 2 - 1049506",
            "- Geressa Gitora - 1049505",
            "- Arere Minche - 1049747",
            "- Hamusi Gebeya - 1049708",
            "- Awala seferi - 1049659",
            "- Birebirta - 1049655",
            "- Piyayou - 1049654",
            "- Ginda 01 - 1049638",
            "- Baloa - 1049637",
            "- Goro 01 - 1049636",
            "- Loke - 1050374"
           ],
           [
            2768.213029057296,
            6231.434242806816,
            11942.9203843918,
            6212.833355139387,
            12855.44513761542,
            1468.442514613447,
            5132.034931176965,
            3606.0806784477,
            3744.614054371114,
            2552.955481812132,
            2506.789029332755,
            989.0288719929009,
            1283.119222685208,
            956.2769940599125,
            1136.949229041895,
            892.1186709020677,
            133.6664798570734,
            96.72690019371522,
            98.1289884254169,
            147.577602546939,
            148.7447955377434,
            187.1203106569498,
            578.8357575207781,
            99.00434943023012,
            162.5529629661786,
            376.6872388125238,
            233.2823953302837,
            168.9791607469459,
            281.8504325100893,
            105.4923239556618,
            195.2759570192341,
            497.9386815809781,
            382.7528920654103,
            78.0458353808306,
            112.5662157373418,
            217.5286177679791,
            495.5040797969492,
            457.8214732136171,
            691.6080460061805,
            30.31815013732375,
            35.21595078280613,
            69.91059740480989,
            70.92638790772912,
            438.0472407570808,
            244.3965413398754,
            176.9188346130479,
            575.7782513298852,
            497.9386815809781,
            382.7528920654103,
            1136.949229041895,
            372.6157325133458,
            84.9171737514323,
            67.12796208871917,
            634.2533094837212,
            435.8665273126907,
            78.0458353808306,
            283.7469506954308,
            495.5040797969492
           ],
           [
            615.5843993315029,
            10292.36782252949,
            2351.395344203186,
            10292.36782252949,
            2351.395344203186,
            1294.441805014963,
            34943.8377932012,
            53130.22404481468,
            53130.22404481468,
            34943.8377932012,
            34943.8377932012,
            703.8622998971884,
            124108.850526243,
            739.1852186072076,
            44393.88091015633,
            41594.65376584117,
            596207.8614474408,
            1964852.787238381,
            396649.7916304982,
            846185.8131461248,
            906946.7774300497,
            966355.6421902915,
            823438.3480156994,
            941053.1393092148,
            430849.3932161929,
            542336.8971512103,
            423862.6061676692,
            424265.5386448323,
            424265.5386448323,
            887338.3911766936,
            970585.9530976611,
            428161.5564425463,
            428161.5564425463,
            330929.8020788722,
            1259743.774054053,
            432005.7398352941,
            596207.8614474408,
            778740.7658694367,
            160009.5773832461,
            136891.5212719888,
            311846.0105423033,
            174303.1448813489,
            212.6945352551237,
            16217.94167978457,
            253468.5456471947,
            253468.5456471947,
            253468.5456471947,
            428161.5564425463,
            428161.5564425463,
            44393.88091015633,
            18336.31048293318,
            261902.1375221267,
            555.8053641087342,
            46095.00080038904,
            291731.4160607171,
            330929.8020788722,
            291731.4160607171,
            596207.8614474408
           ],
           [
            661.5621728897096,
            505.8713569641114,
            587.0996313095092,
            450.3816280364991,
            467.4373130798341,
            500.3495216369628,
            245.9013862609864,
            170.463327884674,
            190.3482794761658,
            567.9864301681519,
            415.4794325828553,
            919.6422233581543,
            133.949330329895,
            1154.037437915803,
            4658.511507987973,
            2231.339382171631,
            343.1260981559754,
            636.0832600593566,
            1639.913969039917,
            755.3168234825134,
            794.8935718536375,
            1670.13202571869,
            760.7850241661074,
            566.6802854537964,
            374.1882262229919,
            1393.364026546478,
            1526.047327041625,
            995.2102708816527,
            1056.212489128113,
            1946.910461425781,
            1093.722822666168,
            5072.468629837037,
            5211.644974708559,
            3551.201108932494,
            3218.430734634399,
            399.7412099838257,
            3448.802480697631,
            2301.584243774414,
            4963.21462869644,
            6052.921845912932,
            4878.14495277405,
            8654.280290603638,
            10604.60922431946,
            10742.38714122772,
            9142.196159362795,
            7378.768060684204,
            10462.58671760559,
            5072.468629837037,
            5211.644974708559,
            4658.511507987973,
            16466.43640995025,
            4373.319407463073,
            4838.61888217926,
            5801.966189384461,
            3858.888503074647,
            3551.201108932494,
            3734.57018184662,
            3448.802480697631
           ]
          ]
         },
         "header": {
          "align": "left",
          "fill": {
           "color": "paleturquoise"
          },
          "values": [
           "Woreda",
           "Opportunit",
           "NEAR_DIST",
           "metric",
           "POPULATION"
          ]
         },
         "type": "table"
        }
       ],
       "layout": {
        "template": {
         "data": {
          "bar": [
           {
            "error_x": {
             "color": "#2a3f5f"
            },
            "error_y": {
             "color": "#2a3f5f"
            },
            "marker": {
             "line": {
              "color": "#E5ECF6",
              "width": 0.5
             },
             "pattern": {
              "fillmode": "overlay",
              "size": 10,
              "solidity": 0.2
             }
            },
            "type": "bar"
           }
          ],
          "barpolar": [
           {
            "marker": {
             "line": {
              "color": "#E5ECF6",
              "width": 0.5
             },
             "pattern": {
              "fillmode": "overlay",
              "size": 10,
              "solidity": 0.2
             }
            },
            "type": "barpolar"
           }
          ],
          "carpet": [
           {
            "aaxis": {
             "endlinecolor": "#2a3f5f",
             "gridcolor": "white",
             "linecolor": "white",
             "minorgridcolor": "white",
             "startlinecolor": "#2a3f5f"
            },
            "baxis": {
             "endlinecolor": "#2a3f5f",
             "gridcolor": "white",
             "linecolor": "white",
             "minorgridcolor": "white",
             "startlinecolor": "#2a3f5f"
            },
            "type": "carpet"
           }
          ],
          "choropleth": [
           {
            "colorbar": {
             "outlinewidth": 0,
             "ticks": ""
            },
            "type": "choropleth"
           }
          ],
          "contour": [
           {
            "colorbar": {
             "outlinewidth": 0,
             "ticks": ""
            },
            "colorscale": [
             [
              0,
              "#0d0887"
             ],
             [
              0.1111111111111111,
              "#46039f"
             ],
             [
              0.2222222222222222,
              "#7201a8"
             ],
             [
              0.3333333333333333,
              "#9c179e"
             ],
             [
              0.4444444444444444,
              "#bd3786"
             ],
             [
              0.5555555555555556,
              "#d8576b"
             ],
             [
              0.6666666666666666,
              "#ed7953"
             ],
             [
              0.7777777777777778,
              "#fb9f3a"
             ],
             [
              0.8888888888888888,
              "#fdca26"
             ],
             [
              1,
              "#f0f921"
             ]
            ],
            "type": "contour"
           }
          ],
          "contourcarpet": [
           {
            "colorbar": {
             "outlinewidth": 0,
             "ticks": ""
            },
            "type": "contourcarpet"
           }
          ],
          "heatmap": [
           {
            "colorbar": {
             "outlinewidth": 0,
             "ticks": ""
            },
            "colorscale": [
             [
              0,
              "#0d0887"
             ],
             [
              0.1111111111111111,
              "#46039f"
             ],
             [
              0.2222222222222222,
              "#7201a8"
             ],
             [
              0.3333333333333333,
              "#9c179e"
             ],
             [
              0.4444444444444444,
              "#bd3786"
             ],
             [
              0.5555555555555556,
              "#d8576b"
             ],
             [
              0.6666666666666666,
              "#ed7953"
             ],
             [
              0.7777777777777778,
              "#fb9f3a"
             ],
             [
              0.8888888888888888,
              "#fdca26"
             ],
             [
              1,
              "#f0f921"
             ]
            ],
            "type": "heatmap"
           }
          ],
          "heatmapgl": [
           {
            "colorbar": {
             "outlinewidth": 0,
             "ticks": ""
            },
            "colorscale": [
             [
              0,
              "#0d0887"
             ],
             [
              0.1111111111111111,
              "#46039f"
             ],
             [
              0.2222222222222222,
              "#7201a8"
             ],
             [
              0.3333333333333333,
              "#9c179e"
             ],
             [
              0.4444444444444444,
              "#bd3786"
             ],
             [
              0.5555555555555556,
              "#d8576b"
             ],
             [
              0.6666666666666666,
              "#ed7953"
             ],
             [
              0.7777777777777778,
              "#fb9f3a"
             ],
             [
              0.8888888888888888,
              "#fdca26"
             ],
             [
              1,
              "#f0f921"
             ]
            ],
            "type": "heatmapgl"
           }
          ],
          "histogram": [
           {
            "marker": {
             "pattern": {
              "fillmode": "overlay",
              "size": 10,
              "solidity": 0.2
             }
            },
            "type": "histogram"
           }
          ],
          "histogram2d": [
           {
            "colorbar": {
             "outlinewidth": 0,
             "ticks": ""
            },
            "colorscale": [
             [
              0,
              "#0d0887"
             ],
             [
              0.1111111111111111,
              "#46039f"
             ],
             [
              0.2222222222222222,
              "#7201a8"
             ],
             [
              0.3333333333333333,
              "#9c179e"
             ],
             [
              0.4444444444444444,
              "#bd3786"
             ],
             [
              0.5555555555555556,
              "#d8576b"
             ],
             [
              0.6666666666666666,
              "#ed7953"
             ],
             [
              0.7777777777777778,
              "#fb9f3a"
             ],
             [
              0.8888888888888888,
              "#fdca26"
             ],
             [
              1,
              "#f0f921"
             ]
            ],
            "type": "histogram2d"
           }
          ],
          "histogram2dcontour": [
           {
            "colorbar": {
             "outlinewidth": 0,
             "ticks": ""
            },
            "colorscale": [
             [
              0,
              "#0d0887"
             ],
             [
              0.1111111111111111,
              "#46039f"
             ],
             [
              0.2222222222222222,
              "#7201a8"
             ],
             [
              0.3333333333333333,
              "#9c179e"
             ],
             [
              0.4444444444444444,
              "#bd3786"
             ],
             [
              0.5555555555555556,
              "#d8576b"
             ],
             [
              0.6666666666666666,
              "#ed7953"
             ],
             [
              0.7777777777777778,
              "#fb9f3a"
             ],
             [
              0.8888888888888888,
              "#fdca26"
             ],
             [
              1,
              "#f0f921"
             ]
            ],
            "type": "histogram2dcontour"
           }
          ],
          "mesh3d": [
           {
            "colorbar": {
             "outlinewidth": 0,
             "ticks": ""
            },
            "type": "mesh3d"
           }
          ],
          "parcoords": [
           {
            "line": {
             "colorbar": {
              "outlinewidth": 0,
              "ticks": ""
             }
            },
            "type": "parcoords"
           }
          ],
          "pie": [
           {
            "automargin": true,
            "type": "pie"
           }
          ],
          "scatter": [
           {
            "fillpattern": {
             "fillmode": "overlay",
             "size": 10,
             "solidity": 0.2
            },
            "type": "scatter"
           }
          ],
          "scatter3d": [
           {
            "line": {
             "colorbar": {
              "outlinewidth": 0,
              "ticks": ""
             }
            },
            "marker": {
             "colorbar": {
              "outlinewidth": 0,
              "ticks": ""
             }
            },
            "type": "scatter3d"
           }
          ],
          "scattercarpet": [
           {
            "marker": {
             "colorbar": {
              "outlinewidth": 0,
              "ticks": ""
             }
            },
            "type": "scattercarpet"
           }
          ],
          "scattergeo": [
           {
            "marker": {
             "colorbar": {
              "outlinewidth": 0,
              "ticks": ""
             }
            },
            "type": "scattergeo"
           }
          ],
          "scattergl": [
           {
            "marker": {
             "colorbar": {
              "outlinewidth": 0,
              "ticks": ""
             }
            },
            "type": "scattergl"
           }
          ],
          "scattermapbox": [
           {
            "marker": {
             "colorbar": {
              "outlinewidth": 0,
              "ticks": ""
             }
            },
            "type": "scattermapbox"
           }
          ],
          "scatterpolar": [
           {
            "marker": {
             "colorbar": {
              "outlinewidth": 0,
              "ticks": ""
             }
            },
            "type": "scatterpolar"
           }
          ],
          "scatterpolargl": [
           {
            "marker": {
             "colorbar": {
              "outlinewidth": 0,
              "ticks": ""
             }
            },
            "type": "scatterpolargl"
           }
          ],
          "scatterternary": [
           {
            "marker": {
             "colorbar": {
              "outlinewidth": 0,
              "ticks": ""
             }
            },
            "type": "scatterternary"
           }
          ],
          "surface": [
           {
            "colorbar": {
             "outlinewidth": 0,
             "ticks": ""
            },
            "colorscale": [
             [
              0,
              "#0d0887"
             ],
             [
              0.1111111111111111,
              "#46039f"
             ],
             [
              0.2222222222222222,
              "#7201a8"
             ],
             [
              0.3333333333333333,
              "#9c179e"
             ],
             [
              0.4444444444444444,
              "#bd3786"
             ],
             [
              0.5555555555555556,
              "#d8576b"
             ],
             [
              0.6666666666666666,
              "#ed7953"
             ],
             [
              0.7777777777777778,
              "#fb9f3a"
             ],
             [
              0.8888888888888888,
              "#fdca26"
             ],
             [
              1,
              "#f0f921"
             ]
            ],
            "type": "surface"
           }
          ],
          "table": [
           {
            "cells": {
             "fill": {
              "color": "#EBF0F8"
             },
             "line": {
              "color": "white"
             }
            },
            "header": {
             "fill": {
              "color": "#C8D4E3"
             },
             "line": {
              "color": "white"
             }
            },
            "type": "table"
           }
          ]
         },
         "layout": {
          "annotationdefaults": {
           "arrowcolor": "#2a3f5f",
           "arrowhead": 0,
           "arrowwidth": 1
          },
          "autotypenumbers": "strict",
          "coloraxis": {
           "colorbar": {
            "outlinewidth": 0,
            "ticks": ""
           }
          },
          "colorscale": {
           "diverging": [
            [
             0,
             "#8e0152"
            ],
            [
             0.1,
             "#c51b7d"
            ],
            [
             0.2,
             "#de77ae"
            ],
            [
             0.3,
             "#f1b6da"
            ],
            [
             0.4,
             "#fde0ef"
            ],
            [
             0.5,
             "#f7f7f7"
            ],
            [
             0.6,
             "#e6f5d0"
            ],
            [
             0.7,
             "#b8e186"
            ],
            [
             0.8,
             "#7fbc41"
            ],
            [
             0.9,
             "#4d9221"
            ],
            [
             1,
             "#276419"
            ]
           ],
           "sequential": [
            [
             0,
             "#0d0887"
            ],
            [
             0.1111111111111111,
             "#46039f"
            ],
            [
             0.2222222222222222,
             "#7201a8"
            ],
            [
             0.3333333333333333,
             "#9c179e"
            ],
            [
             0.4444444444444444,
             "#bd3786"
            ],
            [
             0.5555555555555556,
             "#d8576b"
            ],
            [
             0.6666666666666666,
             "#ed7953"
            ],
            [
             0.7777777777777778,
             "#fb9f3a"
            ],
            [
             0.8888888888888888,
             "#fdca26"
            ],
            [
             1,
             "#f0f921"
            ]
           ],
           "sequentialminus": [
            [
             0,
             "#0d0887"
            ],
            [
             0.1111111111111111,
             "#46039f"
            ],
            [
             0.2222222222222222,
             "#7201a8"
            ],
            [
             0.3333333333333333,
             "#9c179e"
            ],
            [
             0.4444444444444444,
             "#bd3786"
            ],
            [
             0.5555555555555556,
             "#d8576b"
            ],
            [
             0.6666666666666666,
             "#ed7953"
            ],
            [
             0.7777777777777778,
             "#fb9f3a"
            ],
            [
             0.8888888888888888,
             "#fdca26"
            ],
            [
             1,
             "#f0f921"
            ]
           ]
          },
          "colorway": [
           "#636efa",
           "#EF553B",
           "#00cc96",
           "#ab63fa",
           "#FFA15A",
           "#19d3f3",
           "#FF6692",
           "#B6E880",
           "#FF97FF",
           "#FECB52"
          ],
          "font": {
           "color": "#2a3f5f"
          },
          "geo": {
           "bgcolor": "white",
           "lakecolor": "white",
           "landcolor": "#E5ECF6",
           "showlakes": true,
           "showland": true,
           "subunitcolor": "white"
          },
          "hoverlabel": {
           "align": "left"
          },
          "hovermode": "closest",
          "mapbox": {
           "style": "light"
          },
          "paper_bgcolor": "white",
          "plot_bgcolor": "#E5ECF6",
          "polar": {
           "angularaxis": {
            "gridcolor": "white",
            "linecolor": "white",
            "ticks": ""
           },
           "bgcolor": "#E5ECF6",
           "radialaxis": {
            "gridcolor": "white",
            "linecolor": "white",
            "ticks": ""
           }
          },
          "scene": {
           "xaxis": {
            "backgroundcolor": "#E5ECF6",
            "gridcolor": "white",
            "gridwidth": 2,
            "linecolor": "white",
            "showbackground": true,
            "ticks": "",
            "zerolinecolor": "white"
           },
           "yaxis": {
            "backgroundcolor": "#E5ECF6",
            "gridcolor": "white",
            "gridwidth": 2,
            "linecolor": "white",
            "showbackground": true,
            "ticks": "",
            "zerolinecolor": "white"
           },
           "zaxis": {
            "backgroundcolor": "#E5ECF6",
            "gridcolor": "white",
            "gridwidth": 2,
            "linecolor": "white",
            "showbackground": true,
            "ticks": "",
            "zerolinecolor": "white"
           }
          },
          "shapedefaults": {
           "line": {
            "color": "#2a3f5f"
           }
          },
          "ternary": {
           "aaxis": {
            "gridcolor": "white",
            "linecolor": "white",
            "ticks": ""
           },
           "baxis": {
            "gridcolor": "white",
            "linecolor": "white",
            "ticks": ""
           },
           "bgcolor": "#E5ECF6",
           "caxis": {
            "gridcolor": "white",
            "linecolor": "white",
            "ticks": ""
           }
          },
          "title": {
           "x": 0.05
          },
          "xaxis": {
           "automargin": true,
           "gridcolor": "white",
           "linecolor": "white",
           "ticks": "",
           "title": {
            "standoff": 15
           },
           "zerolinecolor": "white",
           "zerolinewidth": 2
          },
          "yaxis": {
           "automargin": true,
           "gridcolor": "white",
           "linecolor": "white",
           "ticks": "",
           "title": {
            "standoff": 15
           },
           "zerolinecolor": "white",
           "zerolinewidth": 2
          }
         }
        },
        "title": {
         "text": "Outlier Data Table"
        }
       }
      }
     },
     "metadata": {},
     "output_type": "display_data"
    }
   ],
   "source": [
    "import plotly.graph_objects as go\n",
    "import pandas as pd\n",
    "\n",
    "# Assuming you already defined the DataFrame 'df' and calculated outliers\n",
    "\n",
    "# Concatenate outliers from different variables into one DataFrame\n",
    "outlier_table = pd.concat([outliers_near_dist, outliers_metric, outliers_population])\n",
    "\n",
    "# Add the 'Woreda' column from the original DataFrame 'df' to the outlier table\n",
    "outlier_table['Woreda'] = df.loc[outlier_table.index, 'Woreda']\n",
    "\n",
    "# Create a table trace\n",
    "table_trace = go.Table(\n",
    "    header=dict(values=['Woreda', 'Opportunit', 'NEAR_DIST', 'metric', 'POPULATION'],\n",
    "                fill_color='paleturquoise',\n",
    "                align='left'),\n",
    "    cells=dict(values=[outlier_table['Woreda'], outlier_table['Opportunit'], outlier_table['NEAR_DIST'], outlier_table['metric'], outlier_table['POPULATION']],\n",
    "               fill=dict(color=[outlier_table['metric'].apply(lambda x: 'green' if x in outliers_metric['metric'].values else 'orange' if x in outliers_population['metric'].values else 'red')]),\n",
    "               align='left')\n",
    ")\n",
    "\n",
    "# Layout for the table\n",
    "table_layout = go.Layout(\n",
    "    title='Outlier Data Table'\n",
    ")\n",
    "\n",
    "# Add the table trace to the figure\n",
    "fig_with_table = go.Figure(data=[table_trace], layout=table_layout)\n",
    "\n",
    "# Display the table\n",
    "fig_with_table.show()\n"
   ]
  }
 ],
 "metadata": {
  "kernelspec": {
   "display_name": "myenv",
   "language": "python",
   "name": "python3"
  },
  "language_info": {
   "codemirror_mode": {
    "name": "ipython",
    "version": 3
   },
   "file_extension": ".py",
   "mimetype": "text/x-python",
   "name": "python",
   "nbconvert_exporter": "python",
   "pygments_lexer": "ipython3",
   "version": "3.11.9"
  }
 },
 "nbformat": 4,
 "nbformat_minor": 2
}
